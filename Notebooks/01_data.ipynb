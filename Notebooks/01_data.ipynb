{
 "cells": [
  {
   "cell_type": "markdown",
   "id": "548eabe6",
   "metadata": {},
   "source": [
    "# Stablecoin Health Monitor"
   ]
  },
  {
   "cell_type": "markdown",
   "id": "0031ff47",
   "metadata": {},
   "source": [
    "### 1. _Fetching Stablecoin Data from CoinGecko (using Pro API Key) and saving it on a joblib file_"
   ]
  },
  {
   "cell_type": "code",
   "execution_count": 120,
   "id": "609aaf4f",
   "metadata": {},
   "outputs": [
    {
     "data": {
      "text/html": [
       "<div>\n",
       "<style scoped>\n",
       "    .dataframe tbody tr th:only-of-type {\n",
       "        vertical-align: middle;\n",
       "    }\n",
       "\n",
       "    .dataframe tbody tr th {\n",
       "        vertical-align: top;\n",
       "    }\n",
       "\n",
       "    .dataframe thead th {\n",
       "        text-align: right;\n",
       "    }\n",
       "</style>\n",
       "<table border=\"1\" class=\"dataframe\">\n",
       "  <thead>\n",
       "    <tr style=\"text-align: right;\">\n",
       "      <th></th>\n",
       "      <th>id</th>\n",
       "      <th>symbol</th>\n",
       "      <th>name</th>\n",
       "      <th>image</th>\n",
       "      <th>current_price</th>\n",
       "      <th>market_cap</th>\n",
       "      <th>market_cap_rank</th>\n",
       "      <th>fully_diluted_valuation</th>\n",
       "      <th>total_volume</th>\n",
       "      <th>high_24h</th>\n",
       "      <th>...</th>\n",
       "      <th>total_supply</th>\n",
       "      <th>max_supply</th>\n",
       "      <th>ath</th>\n",
       "      <th>ath_change_percentage</th>\n",
       "      <th>ath_date</th>\n",
       "      <th>atl</th>\n",
       "      <th>atl_change_percentage</th>\n",
       "      <th>atl_date</th>\n",
       "      <th>roi</th>\n",
       "      <th>last_updated</th>\n",
       "    </tr>\n",
       "  </thead>\n",
       "  <tbody>\n",
       "    <tr>\n",
       "      <th>0</th>\n",
       "      <td>tether</td>\n",
       "      <td>usdt</td>\n",
       "      <td>Tether</td>\n",
       "      <td>https://coin-images.coingecko.com/coins/images...</td>\n",
       "      <td>1.000000</td>\n",
       "      <td>168025023311</td>\n",
       "      <td>3</td>\n",
       "      <td>168025023311</td>\n",
       "      <td>7.591407e+10</td>\n",
       "      <td>1.00000</td>\n",
       "      <td>...</td>\n",
       "      <td>1.680075e+11</td>\n",
       "      <td>NaN</td>\n",
       "      <td>1.320</td>\n",
       "      <td>-24.41286</td>\n",
       "      <td>2018-07-24T00:00:00.000Z</td>\n",
       "      <td>0.572521</td>\n",
       "      <td>74.68178</td>\n",
       "      <td>2015-03-02T00:00:00.000Z</td>\n",
       "      <td>None</td>\n",
       "      <td>2025-09-01T13:54:24.311Z</td>\n",
       "    </tr>\n",
       "    <tr>\n",
       "      <th>1</th>\n",
       "      <td>usd-coin</td>\n",
       "      <td>usdc</td>\n",
       "      <td>USDC</td>\n",
       "      <td>https://coin-images.coingecko.com/coins/images...</td>\n",
       "      <td>0.999812</td>\n",
       "      <td>71586954052</td>\n",
       "      <td>7</td>\n",
       "      <td>71581911569</td>\n",
       "      <td>8.392671e+09</td>\n",
       "      <td>0.99993</td>\n",
       "      <td>...</td>\n",
       "      <td>7.159527e+10</td>\n",
       "      <td>NaN</td>\n",
       "      <td>1.170</td>\n",
       "      <td>-14.74283</td>\n",
       "      <td>2019-05-08T00:40:28.300Z</td>\n",
       "      <td>0.877647</td>\n",
       "      <td>13.92011</td>\n",
       "      <td>2023-03-11T08:02:13.981Z</td>\n",
       "      <td>None</td>\n",
       "      <td>2025-09-01T13:54:26.514Z</td>\n",
       "    </tr>\n",
       "    <tr>\n",
       "      <th>2</th>\n",
       "      <td>ethena-usde</td>\n",
       "      <td>usde</td>\n",
       "      <td>Ethena USDe</td>\n",
       "      <td>https://coin-images.coingecko.com/coins/images...</td>\n",
       "      <td>1.001000</td>\n",
       "      <td>12408026344</td>\n",
       "      <td>16</td>\n",
       "      <td>12408026344</td>\n",
       "      <td>2.172225e+08</td>\n",
       "      <td>1.00100</td>\n",
       "      <td>...</td>\n",
       "      <td>1.240057e+10</td>\n",
       "      <td>NaN</td>\n",
       "      <td>1.032</td>\n",
       "      <td>-3.05841</td>\n",
       "      <td>2023-12-20T15:38:34.596Z</td>\n",
       "      <td>0.929486</td>\n",
       "      <td>7.64194</td>\n",
       "      <td>2024-10-04T07:57:15.809Z</td>\n",
       "      <td>None</td>\n",
       "      <td>2025-09-01T13:54:23.944Z</td>\n",
       "    </tr>\n",
       "    <tr>\n",
       "      <th>3</th>\n",
       "      <td>usds</td>\n",
       "      <td>usds</td>\n",
       "      <td>USDS</td>\n",
       "      <td>https://coin-images.coingecko.com/coins/images...</td>\n",
       "      <td>0.999682</td>\n",
       "      <td>7997126166</td>\n",
       "      <td>30</td>\n",
       "      <td>8011015411</td>\n",
       "      <td>4.357874e+06</td>\n",
       "      <td>1.00000</td>\n",
       "      <td>...</td>\n",
       "      <td>8.011786e+09</td>\n",
       "      <td>NaN</td>\n",
       "      <td>1.057</td>\n",
       "      <td>-5.43797</td>\n",
       "      <td>2024-10-29T05:40:51.197Z</td>\n",
       "      <td>0.948265</td>\n",
       "      <td>5.43731</td>\n",
       "      <td>2024-10-03T13:19:28.826Z</td>\n",
       "      <td>None</td>\n",
       "      <td>2025-09-01T13:54:26.029Z</td>\n",
       "    </tr>\n",
       "    <tr>\n",
       "      <th>4</th>\n",
       "      <td>dai</td>\n",
       "      <td>dai</td>\n",
       "      <td>Dai</td>\n",
       "      <td>https://coin-images.coingecko.com/coins/images...</td>\n",
       "      <td>0.999878</td>\n",
       "      <td>4582195396</td>\n",
       "      <td>41</td>\n",
       "      <td>4582195396</td>\n",
       "      <td>1.224708e+08</td>\n",
       "      <td>1.00000</td>\n",
       "      <td>...</td>\n",
       "      <td>4.582761e+09</td>\n",
       "      <td>NaN</td>\n",
       "      <td>1.220</td>\n",
       "      <td>-17.97068</td>\n",
       "      <td>2020-03-13T03:02:50.373Z</td>\n",
       "      <td>0.881960</td>\n",
       "      <td>13.37028</td>\n",
       "      <td>2023-03-11T07:50:50.514Z</td>\n",
       "      <td>None</td>\n",
       "      <td>2025-09-01T13:54:22.321Z</td>\n",
       "    </tr>\n",
       "  </tbody>\n",
       "</table>\n",
       "<p>5 rows × 26 columns</p>\n",
       "</div>"
      ],
      "text/plain": [
       "            id symbol         name  \\\n",
       "0       tether   usdt       Tether   \n",
       "1     usd-coin   usdc         USDC   \n",
       "2  ethena-usde   usde  Ethena USDe   \n",
       "3         usds   usds         USDS   \n",
       "4          dai    dai          Dai   \n",
       "\n",
       "                                               image  current_price  \\\n",
       "0  https://coin-images.coingecko.com/coins/images...       1.000000   \n",
       "1  https://coin-images.coingecko.com/coins/images...       0.999812   \n",
       "2  https://coin-images.coingecko.com/coins/images...       1.001000   \n",
       "3  https://coin-images.coingecko.com/coins/images...       0.999682   \n",
       "4  https://coin-images.coingecko.com/coins/images...       0.999878   \n",
       "\n",
       "     market_cap  market_cap_rank  fully_diluted_valuation  total_volume  \\\n",
       "0  168025023311                3             168025023311  7.591407e+10   \n",
       "1   71586954052                7              71581911569  8.392671e+09   \n",
       "2   12408026344               16              12408026344  2.172225e+08   \n",
       "3    7997126166               30               8011015411  4.357874e+06   \n",
       "4    4582195396               41               4582195396  1.224708e+08   \n",
       "\n",
       "   high_24h  ...  total_supply  max_supply    ath  ath_change_percentage  \\\n",
       "0   1.00000  ...  1.680075e+11         NaN  1.320              -24.41286   \n",
       "1   0.99993  ...  7.159527e+10         NaN  1.170              -14.74283   \n",
       "2   1.00100  ...  1.240057e+10         NaN  1.032               -3.05841   \n",
       "3   1.00000  ...  8.011786e+09         NaN  1.057               -5.43797   \n",
       "4   1.00000  ...  4.582761e+09         NaN  1.220              -17.97068   \n",
       "\n",
       "                   ath_date       atl  atl_change_percentage  \\\n",
       "0  2018-07-24T00:00:00.000Z  0.572521               74.68178   \n",
       "1  2019-05-08T00:40:28.300Z  0.877647               13.92011   \n",
       "2  2023-12-20T15:38:34.596Z  0.929486                7.64194   \n",
       "3  2024-10-29T05:40:51.197Z  0.948265                5.43731   \n",
       "4  2020-03-13T03:02:50.373Z  0.881960               13.37028   \n",
       "\n",
       "                   atl_date   roi              last_updated  \n",
       "0  2015-03-02T00:00:00.000Z  None  2025-09-01T13:54:24.311Z  \n",
       "1  2023-03-11T08:02:13.981Z  None  2025-09-01T13:54:26.514Z  \n",
       "2  2024-10-04T07:57:15.809Z  None  2025-09-01T13:54:23.944Z  \n",
       "3  2024-10-03T13:19:28.826Z  None  2025-09-01T13:54:26.029Z  \n",
       "4  2023-03-11T07:50:50.514Z  None  2025-09-01T13:54:22.321Z  \n",
       "\n",
       "[5 rows x 26 columns]"
      ]
     },
     "execution_count": 120,
     "metadata": {},
     "output_type": "execute_result"
    }
   ],
   "source": [
    "import os\n",
    "import requests\n",
    "import pandas as pd\n",
    "from dotenv import load_dotenv\n",
    "\n",
    "# Load your API key from .env file\n",
    "load_dotenv()\n",
    "COINGECKO_PRO_API_KEY = os.getenv(\"COINGECKO_PRO_API_KEY\")\n",
    "\n",
    "# Set up API endpoint and parameters\n",
    "url = \"https://pro-api.coingecko.com/api/v3/coins/markets\"\n",
    "params = {\n",
    "    \"vs_currency\": \"usd\",\n",
    "    \"category\": \"stablecoins\",\n",
    "    \"order\": \"market_cap_desc\",\n",
    "    \"per_page\": 50,\n",
    "    \"page\": 1,\n",
    "    \"sparkline\": False\n",
    "}\n",
    "headers = {\n",
    "    \"x-cg-pro-api-key\": COINGECKO_PRO_API_KEY\n",
    "}\n",
    "\n",
    "# Make the request\n",
    "response = requests.get(url, params=params, headers=headers)\n",
    "data = response.json()\n",
    "\n",
    "# Convert to DataFrame\n",
    "df = pd.DataFrame(data)\n",
    "df.head()"
   ]
  },
  {
   "cell_type": "code",
   "execution_count": 121,
   "id": "9ba3cd41",
   "metadata": {},
   "outputs": [
    {
     "data": {
      "text/plain": [
       "(50, 26)"
      ]
     },
     "execution_count": 121,
     "metadata": {},
     "output_type": "execute_result"
    }
   ],
   "source": [
    "df['symbol'].value_counts().sum()\n",
    "df.shape"
   ]
  },
  {
   "cell_type": "code",
   "execution_count": 122,
   "id": "aa050bb4",
   "metadata": {},
   "outputs": [
    {
     "data": {
      "text/plain": [
       "['../data/stablecoins_raw.joblib']"
      ]
     },
     "execution_count": 122,
     "metadata": {},
     "output_type": "execute_result"
    }
   ],
   "source": [
    "import joblib\n",
    "\n",
    "# Save raw data (list of dicts) to a joblib file\n",
    "joblib.dump(data, \"../data/stablecoins_raw.joblib\")"
   ]
  },
  {
   "cell_type": "markdown",
   "id": "d4a391bc",
   "metadata": {},
   "source": [
    "### 2. _Fetching global market data to get stablecoin dominance_"
   ]
  },
  {
   "cell_type": "code",
   "execution_count": 123,
   "id": "c8f112c4",
   "metadata": {},
   "outputs": [
    {
     "name": "stdout",
     "output_type": "stream",
     "text": [
      "Total Stablecoin Dominance (%) of USDT and USDC alone: 6.238504966984056 %\n"
     ]
    }
   ],
   "source": [
    "# Usdt and usdc alone\n",
    "\n",
    "market_caps = global_data['data']['market_cap_percentage']\n",
    "stablecoin_dominance = market_caps.get('usdt', 0) + market_caps.get('usdc', 0)\n",
    "print(\"Total Stablecoin Dominance (%) of USDT and USDC alone:\", stablecoin_dominance, \"%\")"
   ]
  },
  {
   "cell_type": "code",
   "execution_count": 124,
   "id": "4021ab02",
   "metadata": {},
   "outputs": [
    {
     "name": "stdout",
     "output_type": "stream",
     "text": [
      "Major Stablecoins with Non-Zero Dominance (%): {'usdt': np.float64(4.378290452763172), 'usdc': np.float64(1.865367855882621), 'dai': np.float64(0.11939996769331657), 'busd': np.float64(0.008137443124427265), 'tusd': np.float64(0.01286256432339631), 'frax': np.float64(0.00771828502829014)}\n",
      "Total Stablecoin Dominance (%): 6.391776568815223\n"
     ]
    }
   ],
   "source": [
    "# Calculate individual dominance for all major stablecoins using /coins/markets data\n",
    "# Get total market cap from global data\n",
    "total_market_cap = global_data['data']['total_market_cap']['usd']\n",
    "\n",
    "# List of major stablecoins (update as needed)\n",
    "stablecoins = ['usdt', 'usdc', 'dai', 'busd', 'tusd', 'gusd', 'frax', 'eurt', 'alusd']\n",
    "\n",
    "# Use the original CoinGecko markets DataFrame for market cap calculations\n",
    "\n",
    "df_markets = pd.DataFrame(data)\n",
    "\n",
    "# Calculate dominance for each stablecoin\n",
    "dominance_dict = {}\n",
    "for coin in stablecoins:\n",
    "    coin_data = df_markets[df_markets['symbol'] == coin]\n",
    "    if not coin_data.empty and 'market_cap' in coin_data.columns:\n",
    "        market_cap = coin_data.iloc[0]['market_cap']\n",
    "        dominance = (market_cap / total_market_cap) * 100\n",
    "        dominance_dict[coin] = dominance\n",
    "    else:\n",
    "        dominance_dict[coin] = 0\n",
    "\n",
    "# Filter out stablecoins with zero dominance\n",
    "filtered_dominance = {coin: dom for coin, dom in dominance_dict.items() if dom > 0}\n",
    "\n",
    "print(\"Major Stablecoins with Non-Zero Dominance (%):\", filtered_dominance)\n",
    "print(\"Total Stablecoin Dominance (%):\", sum(filtered_dominance.values()))"
   ]
  },
  {
   "cell_type": "code",
   "execution_count": 125,
   "id": "364c1e16",
   "metadata": {},
   "outputs": [
    {
     "data": {
      "text/html": [
       "<div>\n",
       "<style scoped>\n",
       "    .dataframe tbody tr th:only-of-type {\n",
       "        vertical-align: middle;\n",
       "    }\n",
       "\n",
       "    .dataframe tbody tr th {\n",
       "        vertical-align: top;\n",
       "    }\n",
       "\n",
       "    .dataframe thead th {\n",
       "        text-align: right;\n",
       "    }\n",
       "</style>\n",
       "<table border=\"1\" class=\"dataframe\">\n",
       "  <thead>\n",
       "    <tr style=\"text-align: right;\">\n",
       "      <th></th>\n",
       "      <th>Stablecoin</th>\n",
       "      <th>Dominance (%)</th>\n",
       "    </tr>\n",
       "  </thead>\n",
       "  <tbody>\n",
       "    <tr>\n",
       "      <th>0</th>\n",
       "      <td>usdt</td>\n",
       "      <td>4.378290</td>\n",
       "    </tr>\n",
       "    <tr>\n",
       "      <th>1</th>\n",
       "      <td>usdc</td>\n",
       "      <td>1.865368</td>\n",
       "    </tr>\n",
       "    <tr>\n",
       "      <th>2</th>\n",
       "      <td>dai</td>\n",
       "      <td>0.119400</td>\n",
       "    </tr>\n",
       "    <tr>\n",
       "      <th>3</th>\n",
       "      <td>busd</td>\n",
       "      <td>0.008137</td>\n",
       "    </tr>\n",
       "    <tr>\n",
       "      <th>4</th>\n",
       "      <td>tusd</td>\n",
       "      <td>0.012863</td>\n",
       "    </tr>\n",
       "    <tr>\n",
       "      <th>5</th>\n",
       "      <td>frax</td>\n",
       "      <td>0.007718</td>\n",
       "    </tr>\n",
       "  </tbody>\n",
       "</table>\n",
       "</div>"
      ],
      "text/plain": [
       "  Stablecoin  Dominance (%)\n",
       "0       usdt       4.378290\n",
       "1       usdc       1.865368\n",
       "2        dai       0.119400\n",
       "3       busd       0.008137\n",
       "4       tusd       0.012863\n",
       "5       frax       0.007718"
      ]
     },
     "execution_count": 125,
     "metadata": {},
     "output_type": "execute_result"
    }
   ],
   "source": [
    "# Put filtered dominance results in a DataFrame\n",
    "import pandas as pd\n",
    "\n",
    "filtered_dominance = {coin: dom for coin, dom in dominance_dict.items() if dom > 0}\n",
    "dominance_df = pd.DataFrame(list(filtered_dominance.items()), columns=['Stablecoin', 'Dominance (%)'])\n",
    "dominance_df"
   ]
  },
  {
   "cell_type": "code",
   "execution_count": 126,
   "id": "c23b9543",
   "metadata": {},
   "outputs": [
    {
     "data": {
      "application/vnd.plotly.v1+json": {
       "config": {
        "plotlyServerURL": "https://plot.ly"
       },
       "data": [
        {
         "hovertemplate": "Stablecoin=%{x}<br>Dominance (%)=%{text}<extra></extra>",
         "legendgroup": "",
         "marker": {
          "color": "#636efa",
          "pattern": {
           "shape": ""
          }
         },
         "name": "",
         "orientation": "v",
         "showlegend": false,
         "text": {
          "bdata": "BQeMkl6DEUBxaAD3i9j9P1zhYgz/kL4/nmO9IF2qgD9UuuQosFeKP8GCcVw1nX8/",
          "dtype": "f8"
         },
         "textposition": "outside",
         "texttemplate": "%{text:.2f}%",
         "type": "bar",
         "x": [
          "usdt",
          "usdc",
          "dai",
          "busd",
          "tusd",
          "frax"
         ],
         "xaxis": "x",
         "y": {
          "bdata": "BQeMkl6DEUBxaAD3i9j9P1zhYgz/kL4/nmO9IF2qgD9UuuQosFeKP8GCcVw1nX8/",
          "dtype": "f8"
         },
         "yaxis": "y"
        }
       ],
       "layout": {
        "barmode": "relative",
        "height": 600,
        "legend": {
         "tracegroupgap": 0
        },
        "template": {
         "data": {
          "bar": [
           {
            "error_x": {
             "color": "#2a3f5f"
            },
            "error_y": {
             "color": "#2a3f5f"
            },
            "marker": {
             "line": {
              "color": "white",
              "width": 0.5
             },
             "pattern": {
              "fillmode": "overlay",
              "size": 10,
              "solidity": 0.2
             }
            },
            "type": "bar"
           }
          ],
          "barpolar": [
           {
            "marker": {
             "line": {
              "color": "white",
              "width": 0.5
             },
             "pattern": {
              "fillmode": "overlay",
              "size": 10,
              "solidity": 0.2
             }
            },
            "type": "barpolar"
           }
          ],
          "carpet": [
           {
            "aaxis": {
             "endlinecolor": "#2a3f5f",
             "gridcolor": "#C8D4E3",
             "linecolor": "#C8D4E3",
             "minorgridcolor": "#C8D4E3",
             "startlinecolor": "#2a3f5f"
            },
            "baxis": {
             "endlinecolor": "#2a3f5f",
             "gridcolor": "#C8D4E3",
             "linecolor": "#C8D4E3",
             "minorgridcolor": "#C8D4E3",
             "startlinecolor": "#2a3f5f"
            },
            "type": "carpet"
           }
          ],
          "choropleth": [
           {
            "colorbar": {
             "outlinewidth": 0,
             "ticks": ""
            },
            "type": "choropleth"
           }
          ],
          "contour": [
           {
            "colorbar": {
             "outlinewidth": 0,
             "ticks": ""
            },
            "colorscale": [
             [
              0,
              "#0d0887"
             ],
             [
              0.1111111111111111,
              "#46039f"
             ],
             [
              0.2222222222222222,
              "#7201a8"
             ],
             [
              0.3333333333333333,
              "#9c179e"
             ],
             [
              0.4444444444444444,
              "#bd3786"
             ],
             [
              0.5555555555555556,
              "#d8576b"
             ],
             [
              0.6666666666666666,
              "#ed7953"
             ],
             [
              0.7777777777777778,
              "#fb9f3a"
             ],
             [
              0.8888888888888888,
              "#fdca26"
             ],
             [
              1,
              "#f0f921"
             ]
            ],
            "type": "contour"
           }
          ],
          "contourcarpet": [
           {
            "colorbar": {
             "outlinewidth": 0,
             "ticks": ""
            },
            "type": "contourcarpet"
           }
          ],
          "heatmap": [
           {
            "colorbar": {
             "outlinewidth": 0,
             "ticks": ""
            },
            "colorscale": [
             [
              0,
              "#0d0887"
             ],
             [
              0.1111111111111111,
              "#46039f"
             ],
             [
              0.2222222222222222,
              "#7201a8"
             ],
             [
              0.3333333333333333,
              "#9c179e"
             ],
             [
              0.4444444444444444,
              "#bd3786"
             ],
             [
              0.5555555555555556,
              "#d8576b"
             ],
             [
              0.6666666666666666,
              "#ed7953"
             ],
             [
              0.7777777777777778,
              "#fb9f3a"
             ],
             [
              0.8888888888888888,
              "#fdca26"
             ],
             [
              1,
              "#f0f921"
             ]
            ],
            "type": "heatmap"
           }
          ],
          "histogram": [
           {
            "marker": {
             "pattern": {
              "fillmode": "overlay",
              "size": 10,
              "solidity": 0.2
             }
            },
            "type": "histogram"
           }
          ],
          "histogram2d": [
           {
            "colorbar": {
             "outlinewidth": 0,
             "ticks": ""
            },
            "colorscale": [
             [
              0,
              "#0d0887"
             ],
             [
              0.1111111111111111,
              "#46039f"
             ],
             [
              0.2222222222222222,
              "#7201a8"
             ],
             [
              0.3333333333333333,
              "#9c179e"
             ],
             [
              0.4444444444444444,
              "#bd3786"
             ],
             [
              0.5555555555555556,
              "#d8576b"
             ],
             [
              0.6666666666666666,
              "#ed7953"
             ],
             [
              0.7777777777777778,
              "#fb9f3a"
             ],
             [
              0.8888888888888888,
              "#fdca26"
             ],
             [
              1,
              "#f0f921"
             ]
            ],
            "type": "histogram2d"
           }
          ],
          "histogram2dcontour": [
           {
            "colorbar": {
             "outlinewidth": 0,
             "ticks": ""
            },
            "colorscale": [
             [
              0,
              "#0d0887"
             ],
             [
              0.1111111111111111,
              "#46039f"
             ],
             [
              0.2222222222222222,
              "#7201a8"
             ],
             [
              0.3333333333333333,
              "#9c179e"
             ],
             [
              0.4444444444444444,
              "#bd3786"
             ],
             [
              0.5555555555555556,
              "#d8576b"
             ],
             [
              0.6666666666666666,
              "#ed7953"
             ],
             [
              0.7777777777777778,
              "#fb9f3a"
             ],
             [
              0.8888888888888888,
              "#fdca26"
             ],
             [
              1,
              "#f0f921"
             ]
            ],
            "type": "histogram2dcontour"
           }
          ],
          "mesh3d": [
           {
            "colorbar": {
             "outlinewidth": 0,
             "ticks": ""
            },
            "type": "mesh3d"
           }
          ],
          "parcoords": [
           {
            "line": {
             "colorbar": {
              "outlinewidth": 0,
              "ticks": ""
             }
            },
            "type": "parcoords"
           }
          ],
          "pie": [
           {
            "automargin": true,
            "type": "pie"
           }
          ],
          "scatter": [
           {
            "fillpattern": {
             "fillmode": "overlay",
             "size": 10,
             "solidity": 0.2
            },
            "type": "scatter"
           }
          ],
          "scatter3d": [
           {
            "line": {
             "colorbar": {
              "outlinewidth": 0,
              "ticks": ""
             }
            },
            "marker": {
             "colorbar": {
              "outlinewidth": 0,
              "ticks": ""
             }
            },
            "type": "scatter3d"
           }
          ],
          "scattercarpet": [
           {
            "marker": {
             "colorbar": {
              "outlinewidth": 0,
              "ticks": ""
             }
            },
            "type": "scattercarpet"
           }
          ],
          "scattergeo": [
           {
            "marker": {
             "colorbar": {
              "outlinewidth": 0,
              "ticks": ""
             }
            },
            "type": "scattergeo"
           }
          ],
          "scattergl": [
           {
            "marker": {
             "colorbar": {
              "outlinewidth": 0,
              "ticks": ""
             }
            },
            "type": "scattergl"
           }
          ],
          "scattermap": [
           {
            "marker": {
             "colorbar": {
              "outlinewidth": 0,
              "ticks": ""
             }
            },
            "type": "scattermap"
           }
          ],
          "scattermapbox": [
           {
            "marker": {
             "colorbar": {
              "outlinewidth": 0,
              "ticks": ""
             }
            },
            "type": "scattermapbox"
           }
          ],
          "scatterpolar": [
           {
            "marker": {
             "colorbar": {
              "outlinewidth": 0,
              "ticks": ""
             }
            },
            "type": "scatterpolar"
           }
          ],
          "scatterpolargl": [
           {
            "marker": {
             "colorbar": {
              "outlinewidth": 0,
              "ticks": ""
             }
            },
            "type": "scatterpolargl"
           }
          ],
          "scatterternary": [
           {
            "marker": {
             "colorbar": {
              "outlinewidth": 0,
              "ticks": ""
             }
            },
            "type": "scatterternary"
           }
          ],
          "surface": [
           {
            "colorbar": {
             "outlinewidth": 0,
             "ticks": ""
            },
            "colorscale": [
             [
              0,
              "#0d0887"
             ],
             [
              0.1111111111111111,
              "#46039f"
             ],
             [
              0.2222222222222222,
              "#7201a8"
             ],
             [
              0.3333333333333333,
              "#9c179e"
             ],
             [
              0.4444444444444444,
              "#bd3786"
             ],
             [
              0.5555555555555556,
              "#d8576b"
             ],
             [
              0.6666666666666666,
              "#ed7953"
             ],
             [
              0.7777777777777778,
              "#fb9f3a"
             ],
             [
              0.8888888888888888,
              "#fdca26"
             ],
             [
              1,
              "#f0f921"
             ]
            ],
            "type": "surface"
           }
          ],
          "table": [
           {
            "cells": {
             "fill": {
              "color": "#EBF0F8"
             },
             "line": {
              "color": "white"
             }
            },
            "header": {
             "fill": {
              "color": "#C8D4E3"
             },
             "line": {
              "color": "white"
             }
            },
            "type": "table"
           }
          ]
         },
         "layout": {
          "annotationdefaults": {
           "arrowcolor": "#2a3f5f",
           "arrowhead": 0,
           "arrowwidth": 1
          },
          "autotypenumbers": "strict",
          "coloraxis": {
           "colorbar": {
            "outlinewidth": 0,
            "ticks": ""
           }
          },
          "colorscale": {
           "diverging": [
            [
             0,
             "#8e0152"
            ],
            [
             0.1,
             "#c51b7d"
            ],
            [
             0.2,
             "#de77ae"
            ],
            [
             0.3,
             "#f1b6da"
            ],
            [
             0.4,
             "#fde0ef"
            ],
            [
             0.5,
             "#f7f7f7"
            ],
            [
             0.6,
             "#e6f5d0"
            ],
            [
             0.7,
             "#b8e186"
            ],
            [
             0.8,
             "#7fbc41"
            ],
            [
             0.9,
             "#4d9221"
            ],
            [
             1,
             "#276419"
            ]
           ],
           "sequential": [
            [
             0,
             "#0d0887"
            ],
            [
             0.1111111111111111,
             "#46039f"
            ],
            [
             0.2222222222222222,
             "#7201a8"
            ],
            [
             0.3333333333333333,
             "#9c179e"
            ],
            [
             0.4444444444444444,
             "#bd3786"
            ],
            [
             0.5555555555555556,
             "#d8576b"
            ],
            [
             0.6666666666666666,
             "#ed7953"
            ],
            [
             0.7777777777777778,
             "#fb9f3a"
            ],
            [
             0.8888888888888888,
             "#fdca26"
            ],
            [
             1,
             "#f0f921"
            ]
           ],
           "sequentialminus": [
            [
             0,
             "#0d0887"
            ],
            [
             0.1111111111111111,
             "#46039f"
            ],
            [
             0.2222222222222222,
             "#7201a8"
            ],
            [
             0.3333333333333333,
             "#9c179e"
            ],
            [
             0.4444444444444444,
             "#bd3786"
            ],
            [
             0.5555555555555556,
             "#d8576b"
            ],
            [
             0.6666666666666666,
             "#ed7953"
            ],
            [
             0.7777777777777778,
             "#fb9f3a"
            ],
            [
             0.8888888888888888,
             "#fdca26"
            ],
            [
             1,
             "#f0f921"
            ]
           ]
          },
          "colorway": [
           "#636efa",
           "#EF553B",
           "#00cc96",
           "#ab63fa",
           "#FFA15A",
           "#19d3f3",
           "#FF6692",
           "#B6E880",
           "#FF97FF",
           "#FECB52"
          ],
          "font": {
           "color": "#2a3f5f"
          },
          "geo": {
           "bgcolor": "white",
           "lakecolor": "white",
           "landcolor": "white",
           "showlakes": true,
           "showland": true,
           "subunitcolor": "#C8D4E3"
          },
          "hoverlabel": {
           "align": "left"
          },
          "hovermode": "closest",
          "mapbox": {
           "style": "light"
          },
          "paper_bgcolor": "white",
          "plot_bgcolor": "white",
          "polar": {
           "angularaxis": {
            "gridcolor": "#EBF0F8",
            "linecolor": "#EBF0F8",
            "ticks": ""
           },
           "bgcolor": "white",
           "radialaxis": {
            "gridcolor": "#EBF0F8",
            "linecolor": "#EBF0F8",
            "ticks": ""
           }
          },
          "scene": {
           "xaxis": {
            "backgroundcolor": "white",
            "gridcolor": "#DFE8F3",
            "gridwidth": 2,
            "linecolor": "#EBF0F8",
            "showbackground": true,
            "ticks": "",
            "zerolinecolor": "#EBF0F8"
           },
           "yaxis": {
            "backgroundcolor": "white",
            "gridcolor": "#DFE8F3",
            "gridwidth": 2,
            "linecolor": "#EBF0F8",
            "showbackground": true,
            "ticks": "",
            "zerolinecolor": "#EBF0F8"
           },
           "zaxis": {
            "backgroundcolor": "white",
            "gridcolor": "#DFE8F3",
            "gridwidth": 2,
            "linecolor": "#EBF0F8",
            "showbackground": true,
            "ticks": "",
            "zerolinecolor": "#EBF0F8"
           }
          },
          "shapedefaults": {
           "line": {
            "color": "#2a3f5f"
           }
          },
          "ternary": {
           "aaxis": {
            "gridcolor": "#DFE8F3",
            "linecolor": "#A2B1C6",
            "ticks": ""
           },
           "baxis": {
            "gridcolor": "#DFE8F3",
            "linecolor": "#A2B1C6",
            "ticks": ""
           },
           "bgcolor": "white",
           "caxis": {
            "gridcolor": "#DFE8F3",
            "linecolor": "#A2B1C6",
            "ticks": ""
           }
          },
          "title": {
           "x": 0.05
          },
          "xaxis": {
           "automargin": true,
           "gridcolor": "#EBF0F8",
           "linecolor": "#EBF0F8",
           "ticks": "",
           "title": {
            "standoff": 15
           },
           "zerolinecolor": "#EBF0F8",
           "zerolinewidth": 2
          },
          "yaxis": {
           "automargin": true,
           "gridcolor": "#EBF0F8",
           "linecolor": "#EBF0F8",
           "ticks": "",
           "title": {
            "standoff": 15
           },
           "zerolinecolor": "#EBF0F8",
           "zerolinewidth": 2
          }
         }
        },
        "title": {
         "text": "Stablecoin Dominance (%)"
        },
        "width": 800,
        "xaxis": {
         "anchor": "y",
         "domain": [
          0,
          1
         ],
         "title": {
          "text": "Stablecoin"
         }
        },
        "yaxis": {
         "anchor": "x",
         "domain": [
          0,
          1
         ],
         "title": {
          "text": "Dominance (%)"
         }
        }
       }
      }
     },
     "metadata": {},
     "output_type": "display_data"
    }
   ],
   "source": [
    "import plotly.express as px\n",
    "\n",
    "# Interactive bar chart\n",
    "fig = px.bar(\n",
    "    dominance_df,\n",
    "    x=\"Stablecoin\",\n",
    "    y=\"Dominance (%)\",\n",
    "    text=\"Dominance (%)\",\n",
    "    title=\"Stablecoin Dominance (%)\",\n",
    "    labels={\"Stablecoin\": \"Stablecoin\", \"Dominance (%)\": \"Dominance (%)\"},\n",
    "    template=\"plotly_white\"\n",
    ")\n",
    "\n",
    "# Add text on top of bars\n",
    "fig.update_traces(texttemplate='%{text:.2f}%', textposition='outside')\n",
    "\n",
    "# Adjust layout\n",
    "fig.update_layout(\n",
    "    xaxis_title=\"Stablecoin\",\n",
    "    yaxis_title=\"Dominance (%)\",\n",
    "    height=600,\n",
    "    width=800\n",
    ")\n",
    "\n",
    "fig.show()\n"
   ]
  },
  {
   "cell_type": "code",
   "execution_count": 127,
   "id": "c04f99c9",
   "metadata": {},
   "outputs": [
    {
     "data": {
      "application/vnd.plotly.v1+json": {
       "config": {
        "plotlyServerURL": "https://plot.ly"
       },
       "data": [
        {
         "domain": {
          "x": [
           0,
           1
          ],
          "y": [
           0,
           1
          ]
         },
         "hole": 0.3,
         "hovertemplate": "Stablecoin: %{label}<br>Dominance: %{value:.2f}%",
         "labels": [
          "usdt",
          "usdc",
          "dai",
          "busd",
          "tusd",
          "frax"
         ],
         "legendgroup": "",
         "name": "",
         "showlegend": true,
         "textinfo": "label+percent",
         "type": "pie",
         "values": {
          "bdata": "BQeMkl6DEUBxaAD3i9j9P1zhYgz/kL4/nmO9IF2qgD9UuuQosFeKP8GCcVw1nX8/",
          "dtype": "f8"
         }
        }
       ],
       "layout": {
        "legend": {
         "tracegroupgap": 0
        },
        "template": {
         "data": {
          "bar": [
           {
            "error_x": {
             "color": "#2a3f5f"
            },
            "error_y": {
             "color": "#2a3f5f"
            },
            "marker": {
             "line": {
              "color": "white",
              "width": 0.5
             },
             "pattern": {
              "fillmode": "overlay",
              "size": 10,
              "solidity": 0.2
             }
            },
            "type": "bar"
           }
          ],
          "barpolar": [
           {
            "marker": {
             "line": {
              "color": "white",
              "width": 0.5
             },
             "pattern": {
              "fillmode": "overlay",
              "size": 10,
              "solidity": 0.2
             }
            },
            "type": "barpolar"
           }
          ],
          "carpet": [
           {
            "aaxis": {
             "endlinecolor": "#2a3f5f",
             "gridcolor": "#C8D4E3",
             "linecolor": "#C8D4E3",
             "minorgridcolor": "#C8D4E3",
             "startlinecolor": "#2a3f5f"
            },
            "baxis": {
             "endlinecolor": "#2a3f5f",
             "gridcolor": "#C8D4E3",
             "linecolor": "#C8D4E3",
             "minorgridcolor": "#C8D4E3",
             "startlinecolor": "#2a3f5f"
            },
            "type": "carpet"
           }
          ],
          "choropleth": [
           {
            "colorbar": {
             "outlinewidth": 0,
             "ticks": ""
            },
            "type": "choropleth"
           }
          ],
          "contour": [
           {
            "colorbar": {
             "outlinewidth": 0,
             "ticks": ""
            },
            "colorscale": [
             [
              0,
              "#0d0887"
             ],
             [
              0.1111111111111111,
              "#46039f"
             ],
             [
              0.2222222222222222,
              "#7201a8"
             ],
             [
              0.3333333333333333,
              "#9c179e"
             ],
             [
              0.4444444444444444,
              "#bd3786"
             ],
             [
              0.5555555555555556,
              "#d8576b"
             ],
             [
              0.6666666666666666,
              "#ed7953"
             ],
             [
              0.7777777777777778,
              "#fb9f3a"
             ],
             [
              0.8888888888888888,
              "#fdca26"
             ],
             [
              1,
              "#f0f921"
             ]
            ],
            "type": "contour"
           }
          ],
          "contourcarpet": [
           {
            "colorbar": {
             "outlinewidth": 0,
             "ticks": ""
            },
            "type": "contourcarpet"
           }
          ],
          "heatmap": [
           {
            "colorbar": {
             "outlinewidth": 0,
             "ticks": ""
            },
            "colorscale": [
             [
              0,
              "#0d0887"
             ],
             [
              0.1111111111111111,
              "#46039f"
             ],
             [
              0.2222222222222222,
              "#7201a8"
             ],
             [
              0.3333333333333333,
              "#9c179e"
             ],
             [
              0.4444444444444444,
              "#bd3786"
             ],
             [
              0.5555555555555556,
              "#d8576b"
             ],
             [
              0.6666666666666666,
              "#ed7953"
             ],
             [
              0.7777777777777778,
              "#fb9f3a"
             ],
             [
              0.8888888888888888,
              "#fdca26"
             ],
             [
              1,
              "#f0f921"
             ]
            ],
            "type": "heatmap"
           }
          ],
          "histogram": [
           {
            "marker": {
             "pattern": {
              "fillmode": "overlay",
              "size": 10,
              "solidity": 0.2
             }
            },
            "type": "histogram"
           }
          ],
          "histogram2d": [
           {
            "colorbar": {
             "outlinewidth": 0,
             "ticks": ""
            },
            "colorscale": [
             [
              0,
              "#0d0887"
             ],
             [
              0.1111111111111111,
              "#46039f"
             ],
             [
              0.2222222222222222,
              "#7201a8"
             ],
             [
              0.3333333333333333,
              "#9c179e"
             ],
             [
              0.4444444444444444,
              "#bd3786"
             ],
             [
              0.5555555555555556,
              "#d8576b"
             ],
             [
              0.6666666666666666,
              "#ed7953"
             ],
             [
              0.7777777777777778,
              "#fb9f3a"
             ],
             [
              0.8888888888888888,
              "#fdca26"
             ],
             [
              1,
              "#f0f921"
             ]
            ],
            "type": "histogram2d"
           }
          ],
          "histogram2dcontour": [
           {
            "colorbar": {
             "outlinewidth": 0,
             "ticks": ""
            },
            "colorscale": [
             [
              0,
              "#0d0887"
             ],
             [
              0.1111111111111111,
              "#46039f"
             ],
             [
              0.2222222222222222,
              "#7201a8"
             ],
             [
              0.3333333333333333,
              "#9c179e"
             ],
             [
              0.4444444444444444,
              "#bd3786"
             ],
             [
              0.5555555555555556,
              "#d8576b"
             ],
             [
              0.6666666666666666,
              "#ed7953"
             ],
             [
              0.7777777777777778,
              "#fb9f3a"
             ],
             [
              0.8888888888888888,
              "#fdca26"
             ],
             [
              1,
              "#f0f921"
             ]
            ],
            "type": "histogram2dcontour"
           }
          ],
          "mesh3d": [
           {
            "colorbar": {
             "outlinewidth": 0,
             "ticks": ""
            },
            "type": "mesh3d"
           }
          ],
          "parcoords": [
           {
            "line": {
             "colorbar": {
              "outlinewidth": 0,
              "ticks": ""
             }
            },
            "type": "parcoords"
           }
          ],
          "pie": [
           {
            "automargin": true,
            "type": "pie"
           }
          ],
          "scatter": [
           {
            "fillpattern": {
             "fillmode": "overlay",
             "size": 10,
             "solidity": 0.2
            },
            "type": "scatter"
           }
          ],
          "scatter3d": [
           {
            "line": {
             "colorbar": {
              "outlinewidth": 0,
              "ticks": ""
             }
            },
            "marker": {
             "colorbar": {
              "outlinewidth": 0,
              "ticks": ""
             }
            },
            "type": "scatter3d"
           }
          ],
          "scattercarpet": [
           {
            "marker": {
             "colorbar": {
              "outlinewidth": 0,
              "ticks": ""
             }
            },
            "type": "scattercarpet"
           }
          ],
          "scattergeo": [
           {
            "marker": {
             "colorbar": {
              "outlinewidth": 0,
              "ticks": ""
             }
            },
            "type": "scattergeo"
           }
          ],
          "scattergl": [
           {
            "marker": {
             "colorbar": {
              "outlinewidth": 0,
              "ticks": ""
             }
            },
            "type": "scattergl"
           }
          ],
          "scattermap": [
           {
            "marker": {
             "colorbar": {
              "outlinewidth": 0,
              "ticks": ""
             }
            },
            "type": "scattermap"
           }
          ],
          "scattermapbox": [
           {
            "marker": {
             "colorbar": {
              "outlinewidth": 0,
              "ticks": ""
             }
            },
            "type": "scattermapbox"
           }
          ],
          "scatterpolar": [
           {
            "marker": {
             "colorbar": {
              "outlinewidth": 0,
              "ticks": ""
             }
            },
            "type": "scatterpolar"
           }
          ],
          "scatterpolargl": [
           {
            "marker": {
             "colorbar": {
              "outlinewidth": 0,
              "ticks": ""
             }
            },
            "type": "scatterpolargl"
           }
          ],
          "scatterternary": [
           {
            "marker": {
             "colorbar": {
              "outlinewidth": 0,
              "ticks": ""
             }
            },
            "type": "scatterternary"
           }
          ],
          "surface": [
           {
            "colorbar": {
             "outlinewidth": 0,
             "ticks": ""
            },
            "colorscale": [
             [
              0,
              "#0d0887"
             ],
             [
              0.1111111111111111,
              "#46039f"
             ],
             [
              0.2222222222222222,
              "#7201a8"
             ],
             [
              0.3333333333333333,
              "#9c179e"
             ],
             [
              0.4444444444444444,
              "#bd3786"
             ],
             [
              0.5555555555555556,
              "#d8576b"
             ],
             [
              0.6666666666666666,
              "#ed7953"
             ],
             [
              0.7777777777777778,
              "#fb9f3a"
             ],
             [
              0.8888888888888888,
              "#fdca26"
             ],
             [
              1,
              "#f0f921"
             ]
            ],
            "type": "surface"
           }
          ],
          "table": [
           {
            "cells": {
             "fill": {
              "color": "#EBF0F8"
             },
             "line": {
              "color": "white"
             }
            },
            "header": {
             "fill": {
              "color": "#C8D4E3"
             },
             "line": {
              "color": "white"
             }
            },
            "type": "table"
           }
          ]
         },
         "layout": {
          "annotationdefaults": {
           "arrowcolor": "#2a3f5f",
           "arrowhead": 0,
           "arrowwidth": 1
          },
          "autotypenumbers": "strict",
          "coloraxis": {
           "colorbar": {
            "outlinewidth": 0,
            "ticks": ""
           }
          },
          "colorscale": {
           "diverging": [
            [
             0,
             "#8e0152"
            ],
            [
             0.1,
             "#c51b7d"
            ],
            [
             0.2,
             "#de77ae"
            ],
            [
             0.3,
             "#f1b6da"
            ],
            [
             0.4,
             "#fde0ef"
            ],
            [
             0.5,
             "#f7f7f7"
            ],
            [
             0.6,
             "#e6f5d0"
            ],
            [
             0.7,
             "#b8e186"
            ],
            [
             0.8,
             "#7fbc41"
            ],
            [
             0.9,
             "#4d9221"
            ],
            [
             1,
             "#276419"
            ]
           ],
           "sequential": [
            [
             0,
             "#0d0887"
            ],
            [
             0.1111111111111111,
             "#46039f"
            ],
            [
             0.2222222222222222,
             "#7201a8"
            ],
            [
             0.3333333333333333,
             "#9c179e"
            ],
            [
             0.4444444444444444,
             "#bd3786"
            ],
            [
             0.5555555555555556,
             "#d8576b"
            ],
            [
             0.6666666666666666,
             "#ed7953"
            ],
            [
             0.7777777777777778,
             "#fb9f3a"
            ],
            [
             0.8888888888888888,
             "#fdca26"
            ],
            [
             1,
             "#f0f921"
            ]
           ],
           "sequentialminus": [
            [
             0,
             "#0d0887"
            ],
            [
             0.1111111111111111,
             "#46039f"
            ],
            [
             0.2222222222222222,
             "#7201a8"
            ],
            [
             0.3333333333333333,
             "#9c179e"
            ],
            [
             0.4444444444444444,
             "#bd3786"
            ],
            [
             0.5555555555555556,
             "#d8576b"
            ],
            [
             0.6666666666666666,
             "#ed7953"
            ],
            [
             0.7777777777777778,
             "#fb9f3a"
            ],
            [
             0.8888888888888888,
             "#fdca26"
            ],
            [
             1,
             "#f0f921"
            ]
           ]
          },
          "colorway": [
           "#636efa",
           "#EF553B",
           "#00cc96",
           "#ab63fa",
           "#FFA15A",
           "#19d3f3",
           "#FF6692",
           "#B6E880",
           "#FF97FF",
           "#FECB52"
          ],
          "font": {
           "color": "#2a3f5f"
          },
          "geo": {
           "bgcolor": "white",
           "lakecolor": "white",
           "landcolor": "white",
           "showlakes": true,
           "showland": true,
           "subunitcolor": "#C8D4E3"
          },
          "hoverlabel": {
           "align": "left"
          },
          "hovermode": "closest",
          "mapbox": {
           "style": "light"
          },
          "paper_bgcolor": "white",
          "plot_bgcolor": "white",
          "polar": {
           "angularaxis": {
            "gridcolor": "#EBF0F8",
            "linecolor": "#EBF0F8",
            "ticks": ""
           },
           "bgcolor": "white",
           "radialaxis": {
            "gridcolor": "#EBF0F8",
            "linecolor": "#EBF0F8",
            "ticks": ""
           }
          },
          "scene": {
           "xaxis": {
            "backgroundcolor": "white",
            "gridcolor": "#DFE8F3",
            "gridwidth": 2,
            "linecolor": "#EBF0F8",
            "showbackground": true,
            "ticks": "",
            "zerolinecolor": "#EBF0F8"
           },
           "yaxis": {
            "backgroundcolor": "white",
            "gridcolor": "#DFE8F3",
            "gridwidth": 2,
            "linecolor": "#EBF0F8",
            "showbackground": true,
            "ticks": "",
            "zerolinecolor": "#EBF0F8"
           },
           "zaxis": {
            "backgroundcolor": "white",
            "gridcolor": "#DFE8F3",
            "gridwidth": 2,
            "linecolor": "#EBF0F8",
            "showbackground": true,
            "ticks": "",
            "zerolinecolor": "#EBF0F8"
           }
          },
          "shapedefaults": {
           "line": {
            "color": "#2a3f5f"
           }
          },
          "ternary": {
           "aaxis": {
            "gridcolor": "#DFE8F3",
            "linecolor": "#A2B1C6",
            "ticks": ""
           },
           "baxis": {
            "gridcolor": "#DFE8F3",
            "linecolor": "#A2B1C6",
            "ticks": ""
           },
           "bgcolor": "white",
           "caxis": {
            "gridcolor": "#DFE8F3",
            "linecolor": "#A2B1C6",
            "ticks": ""
           }
          },
          "title": {
           "x": 0.05
          },
          "xaxis": {
           "automargin": true,
           "gridcolor": "#EBF0F8",
           "linecolor": "#EBF0F8",
           "ticks": "",
           "title": {
            "standoff": 15
           },
           "zerolinecolor": "#EBF0F8",
           "zerolinewidth": 2
          },
          "yaxis": {
           "automargin": true,
           "gridcolor": "#EBF0F8",
           "linecolor": "#EBF0F8",
           "ticks": "",
           "title": {
            "standoff": 15
           },
           "zerolinecolor": "#EBF0F8",
           "zerolinewidth": 2
          }
         }
        },
        "title": {
         "text": "Stablecoin Dominance (%)"
        }
       }
      }
     },
     "metadata": {},
     "output_type": "display_data"
    }
   ],
   "source": [
    "fig = px.pie(\n",
    "    dominance_df,\n",
    "    names=\"Stablecoin\",\n",
    "    values=\"Dominance (%)\",\n",
    "    title=\"Stablecoin Dominance (%)\",\n",
    "    hole=0.3,  # makes it a donut chart\n",
    "    template=\"plotly_white\"\n",
    ")\n",
    "\n",
    "fig.update_traces(textinfo=\"label+percent\", hovertemplate=\"Stablecoin: %{label}<br>Dominance: %{value:.2f}%\")\n",
    "\n",
    "fig.show()\n",
    "\n"
   ]
  },
  {
   "cell_type": "code",
   "execution_count": 128,
   "id": "ea1bbc5b",
   "metadata": {},
   "outputs": [
    {
     "name": "stdout",
     "output_type": "stream",
     "text": [
      "Total Stablecoin Dominance (%) of these 6 stablecoins: 6.391776568815223 %\n"
     ]
    }
   ],
   "source": [
    "print(\"Total Stablecoin Dominance (%) of these 6 stablecoins:\", sum(filtered_dominance.values()), \"%\")"
   ]
  },
  {
   "cell_type": "markdown",
   "id": "65b41d2c",
   "metadata": {},
   "source": [
    "### 3. _Analyzing Peg Deviation_\n",
    "This calculates how much each stablecoin’s price deviates from $1 (the peg).\n",
    "\n",
    "a. Current peg deviation"
   ]
  },
  {
   "cell_type": "code",
   "execution_count": 129,
   "id": "6f61e08a",
   "metadata": {},
   "outputs": [
    {
     "data": {
      "text/html": [
       "<div>\n",
       "<style scoped>\n",
       "    .dataframe tbody tr th:only-of-type {\n",
       "        vertical-align: middle;\n",
       "    }\n",
       "\n",
       "    .dataframe tbody tr th {\n",
       "        vertical-align: top;\n",
       "    }\n",
       "\n",
       "    .dataframe thead th {\n",
       "        text-align: right;\n",
       "    }\n",
       "</style>\n",
       "<table border=\"1\" class=\"dataframe\">\n",
       "  <thead>\n",
       "    <tr style=\"text-align: right;\">\n",
       "      <th></th>\n",
       "      <th>Stablecoin</th>\n",
       "      <th>Peg Deviation ($)</th>\n",
       "    </tr>\n",
       "  </thead>\n",
       "  <tbody>\n",
       "    <tr>\n",
       "      <th>0</th>\n",
       "      <td>usdt</td>\n",
       "      <td>0.000000</td>\n",
       "    </tr>\n",
       "    <tr>\n",
       "      <th>1</th>\n",
       "      <td>usdc</td>\n",
       "      <td>-0.000188</td>\n",
       "    </tr>\n",
       "    <tr>\n",
       "      <th>2</th>\n",
       "      <td>dai</td>\n",
       "      <td>-0.000122</td>\n",
       "    </tr>\n",
       "    <tr>\n",
       "      <th>3</th>\n",
       "      <td>busd</td>\n",
       "      <td>-0.000349</td>\n",
       "    </tr>\n",
       "    <tr>\n",
       "      <th>4</th>\n",
       "      <td>tusd</td>\n",
       "      <td>-0.001749</td>\n",
       "    </tr>\n",
       "    <tr>\n",
       "      <th>5</th>\n",
       "      <td>frax</td>\n",
       "      <td>-0.002446</td>\n",
       "    </tr>\n",
       "  </tbody>\n",
       "</table>\n",
       "</div>"
      ],
      "text/plain": [
       "  Stablecoin  Peg Deviation ($)\n",
       "0       usdt           0.000000\n",
       "1       usdc          -0.000188\n",
       "2        dai          -0.000122\n",
       "3       busd          -0.000349\n",
       "4       tusd          -0.001749\n",
       "5       frax          -0.002446"
      ]
     },
     "execution_count": 129,
     "metadata": {},
     "output_type": "execute_result"
    }
   ],
   "source": [
    "# Analyze Peg Deviation for Major Stablecoins (6 of them)\n",
    "\n",
    "# Use filtered_dominance keys to focus on major stablecoins with non-zero dominance\n",
    "peg_deviation = {}\n",
    "for coin in filtered_dominance.keys():\n",
    "    coin_data = df[df['symbol'] == coin]\n",
    "    if not coin_data.empty:\n",
    "        price = coin_data.iloc[0]['current_price']\n",
    "        deviation = price - 1  # Difference from $1\n",
    "        peg_deviation[coin] = deviation\n",
    "\n",
    "# Put results in a DataFrame\n",
    "peg_df = pd.DataFrame(list(peg_deviation.items()), columns=['Stablecoin', 'Peg Deviation ($)'])\n",
    "peg_df"
   ]
  },
  {
   "cell_type": "code",
   "execution_count": 130,
   "id": "4ee78e43",
   "metadata": {},
   "outputs": [
    {
     "data": {
      "text/html": [
       "<div>\n",
       "<style scoped>\n",
       "    .dataframe tbody tr th:only-of-type {\n",
       "        vertical-align: middle;\n",
       "    }\n",
       "\n",
       "    .dataframe tbody tr th {\n",
       "        vertical-align: top;\n",
       "    }\n",
       "\n",
       "    .dataframe thead th {\n",
       "        text-align: right;\n",
       "    }\n",
       "</style>\n",
       "<table border=\"1\" class=\"dataframe\">\n",
       "  <thead>\n",
       "    <tr style=\"text-align: right;\">\n",
       "      <th></th>\n",
       "      <th>Stablecoin</th>\n",
       "      <th>Peg Deviation ($)</th>\n",
       "      <th>Peg Deviation (%)</th>\n",
       "    </tr>\n",
       "  </thead>\n",
       "  <tbody>\n",
       "    <tr>\n",
       "      <th>0</th>\n",
       "      <td>usdt</td>\n",
       "      <td>0.000000</td>\n",
       "      <td>0.0000</td>\n",
       "    </tr>\n",
       "    <tr>\n",
       "      <th>1</th>\n",
       "      <td>usdc</td>\n",
       "      <td>-0.000188</td>\n",
       "      <td>-0.0188</td>\n",
       "    </tr>\n",
       "    <tr>\n",
       "      <th>2</th>\n",
       "      <td>dai</td>\n",
       "      <td>-0.000122</td>\n",
       "      <td>-0.0122</td>\n",
       "    </tr>\n",
       "    <tr>\n",
       "      <th>3</th>\n",
       "      <td>busd</td>\n",
       "      <td>-0.000349</td>\n",
       "      <td>-0.0349</td>\n",
       "    </tr>\n",
       "    <tr>\n",
       "      <th>4</th>\n",
       "      <td>tusd</td>\n",
       "      <td>-0.001749</td>\n",
       "      <td>-0.1749</td>\n",
       "    </tr>\n",
       "    <tr>\n",
       "      <th>5</th>\n",
       "      <td>frax</td>\n",
       "      <td>-0.002446</td>\n",
       "      <td>-0.2446</td>\n",
       "    </tr>\n",
       "  </tbody>\n",
       "</table>\n",
       "</div>"
      ],
      "text/plain": [
       "  Stablecoin  Peg Deviation ($)  Peg Deviation (%)\n",
       "0       usdt           0.000000             0.0000\n",
       "1       usdc          -0.000188            -0.0188\n",
       "2        dai          -0.000122            -0.0122\n",
       "3       busd          -0.000349            -0.0349\n",
       "4       tusd          -0.001749            -0.1749\n",
       "5       frax          -0.002446            -0.2446"
      ]
     },
     "execution_count": 130,
     "metadata": {},
     "output_type": "execute_result"
    }
   ],
   "source": [
    "peg_df['Peg Deviation (%)'] = peg_df['Peg Deviation ($)'] * 100\n",
    "peg_df"
   ]
  },
  {
   "cell_type": "markdown",
   "id": "ef031d97",
   "metadata": {},
   "source": [
    "b. Peg deviation overtime for these 6 major stablecoins in the last 365 days"
   ]
  },
  {
   "cell_type": "code",
   "execution_count": 131,
   "id": "b5aa649e",
   "metadata": {},
   "outputs": [
    {
     "data": {
      "text/plain": [
       "['../data/stablecoins_historical_deviation.joblib']"
      ]
     },
     "execution_count": 131,
     "metadata": {},
     "output_type": "execute_result"
    }
   ],
   "source": [
    "import joblib\n",
    "\n",
    "# CoinGecko IDs for the 6 major stablecoins in my case study\n",
    "coingecko_ids = {\n",
    "    'usdt': 'tether',\n",
    "    'usdc': 'usd-coin',\n",
    "    'dai': 'dai',\n",
    "    'busd': 'binance-usd',\n",
    "    'tusd': 'true-usd',\n",
    "    'frax': 'frax'\n",
    "}\n",
    "\n",
    "# Function to fetch historical prices and calculate peg deviation\n",
    "def fetch_historical_deviation(coin_id, days=365):\n",
    "    url = f\"https://pro-api.coingecko.com/api/v3/coins/{coin_id}/market_chart\"\n",
    "    params = {\n",
    "        \"vs_currency\": \"usd\",\n",
    "        \"days\": days\n",
    "    }\n",
    "    headers = {\"x-cg-pro-api-key\": COINGECKO_PRO_API_KEY}\n",
    "    response = requests.get(url, params=params, headers=headers)\n",
    "    data = response.json()\n",
    "    prices = data.get(\"prices\", [])\n",
    "    df = pd.DataFrame(prices, columns=[\"timestamp\", \"price\"])\n",
    "    df[\"date\"] = pd.to_datetime(df[\"timestamp\"], unit=\"ms\")\n",
    "    df[\"peg_deviation (USD)\"] = df[\"price\"] - 1\n",
    "    df[\"peg_deviation (%)\"] = (df[\"price\"] - 1) * 100\n",
    "    return df\n",
    "\n",
    "# Fetch historical peg deviation for each stablecoin (last 365 days)\n",
    "historical_deviation_data = {}\n",
    "for symbol, coin_id in coingecko_ids.items():\n",
    "    df_hist = fetch_historical_deviation(coin_id, days=365)\n",
    "    historical_deviation_data[symbol] = df_hist\n",
    "\n",
    "# Save the historical deviation data to a joblib file\n",
    "joblib.dump(historical_deviation_data, \"../data/stablecoins_historical_deviation.joblib\")\n"
   ]
  },
  {
   "cell_type": "code",
   "execution_count": 132,
   "id": "44ae7ddf",
   "metadata": {},
   "outputs": [
    {
     "data": {
      "text/plain": [
       "(2196, 6)"
      ]
     },
     "execution_count": 132,
     "metadata": {},
     "output_type": "execute_result"
    }
   ],
   "source": [
    "historical_deviation_data = joblib.load(\"../data/stablecoins_historical_deviation.joblib\")\n",
    "\n",
    "# Concatenate all DataFrames, adding a column for the stablecoin symbol\n",
    "df = pd.concat(\n",
    "\t[df_hist.assign(symbol=symbol) for symbol, df_hist in historical_deviation_data.items() if not df_hist.empty],\n",
    "\tignore_index=True\n",
    ")\n",
    "df.shape"
   ]
  },
  {
   "cell_type": "code",
   "execution_count": 133,
   "id": "2b2f0745",
   "metadata": {},
   "outputs": [
    {
     "data": {
      "text/plain": [
       "timestamp               371\n",
       "price                  2196\n",
       "date                    371\n",
       "peg_deviation (USD)    2196\n",
       "peg_deviation (%)      2196\n",
       "symbol                    6\n",
       "dtype: int64"
      ]
     },
     "execution_count": 133,
     "metadata": {},
     "output_type": "execute_result"
    }
   ],
   "source": [
    "df.nunique()"
   ]
  },
  {
   "cell_type": "code",
   "execution_count": 134,
   "id": "894ae2f3",
   "metadata": {},
   "outputs": [
    {
     "data": {
      "text/plain": [
       "symbol\n",
       "usdt    366\n",
       "usdc    366\n",
       "dai     366\n",
       "busd    366\n",
       "tusd    366\n",
       "frax    366\n",
       "Name: count, dtype: int64"
      ]
     },
     "execution_count": 134,
     "metadata": {},
     "output_type": "execute_result"
    }
   ],
   "source": [
    "df['symbol'].value_counts()"
   ]
  },
  {
   "cell_type": "code",
   "execution_count": 135,
   "id": "c34bb1fc",
   "metadata": {},
   "outputs": [
    {
     "name": "stdout",
     "output_type": "stream",
     "text": [
      "usdt (366, 5)\n",
      "usdc (366, 5)\n",
      "dai (366, 5)\n",
      "busd (366, 5)\n",
      "tusd (366, 5)\n",
      "frax (366, 5)\n"
     ]
    }
   ],
   "source": [
    "for symbol, df_hist in historical_deviation_data.items():\n",
    "    print(symbol, df_hist.shape)"
   ]
  },
  {
   "cell_type": "code",
   "execution_count": 136,
   "id": "17aea180",
   "metadata": {},
   "outputs": [
    {
     "data": {
      "text/html": [
       "<div>\n",
       "<style scoped>\n",
       "    .dataframe tbody tr th:only-of-type {\n",
       "        vertical-align: middle;\n",
       "    }\n",
       "\n",
       "    .dataframe tbody tr th {\n",
       "        vertical-align: top;\n",
       "    }\n",
       "\n",
       "    .dataframe thead th {\n",
       "        text-align: right;\n",
       "    }\n",
       "</style>\n",
       "<table border=\"1\" class=\"dataframe\">\n",
       "  <thead>\n",
       "    <tr style=\"text-align: right;\">\n",
       "      <th></th>\n",
       "      <th>timestamp</th>\n",
       "      <th>price</th>\n",
       "      <th>date</th>\n",
       "      <th>peg_deviation (USD)</th>\n",
       "      <th>peg_deviation (%)</th>\n",
       "      <th>symbol</th>\n",
       "    </tr>\n",
       "  </thead>\n",
       "  <tbody>\n",
       "    <tr>\n",
       "      <th>0</th>\n",
       "      <td>1725235200000</td>\n",
       "      <td>1.000525</td>\n",
       "      <td>2024-09-02</td>\n",
       "      <td>0.000525</td>\n",
       "      <td>0.052496</td>\n",
       "      <td>usdt</td>\n",
       "    </tr>\n",
       "    <tr>\n",
       "      <th>1</th>\n",
       "      <td>1725321600000</td>\n",
       "      <td>0.999975</td>\n",
       "      <td>2024-09-03</td>\n",
       "      <td>-0.000025</td>\n",
       "      <td>-0.002535</td>\n",
       "      <td>usdt</td>\n",
       "    </tr>\n",
       "    <tr>\n",
       "      <th>2</th>\n",
       "      <td>1725408000000</td>\n",
       "      <td>0.998101</td>\n",
       "      <td>2024-09-04</td>\n",
       "      <td>-0.001899</td>\n",
       "      <td>-0.189855</td>\n",
       "      <td>usdt</td>\n",
       "    </tr>\n",
       "    <tr>\n",
       "      <th>3</th>\n",
       "      <td>1725494400000</td>\n",
       "      <td>1.000062</td>\n",
       "      <td>2024-09-05</td>\n",
       "      <td>0.000062</td>\n",
       "      <td>0.006182</td>\n",
       "      <td>usdt</td>\n",
       "    </tr>\n",
       "    <tr>\n",
       "      <th>4</th>\n",
       "      <td>1725580800000</td>\n",
       "      <td>0.999541</td>\n",
       "      <td>2024-09-06</td>\n",
       "      <td>-0.000459</td>\n",
       "      <td>-0.045869</td>\n",
       "      <td>usdt</td>\n",
       "    </tr>\n",
       "  </tbody>\n",
       "</table>\n",
       "</div>"
      ],
      "text/plain": [
       "       timestamp     price       date  peg_deviation (USD)  peg_deviation (%)  \\\n",
       "0  1725235200000  1.000525 2024-09-02             0.000525           0.052496   \n",
       "1  1725321600000  0.999975 2024-09-03            -0.000025          -0.002535   \n",
       "2  1725408000000  0.998101 2024-09-04            -0.001899          -0.189855   \n",
       "3  1725494400000  1.000062 2024-09-05             0.000062           0.006182   \n",
       "4  1725580800000  0.999541 2024-09-06            -0.000459          -0.045869   \n",
       "\n",
       "  symbol  \n",
       "0   usdt  \n",
       "1   usdt  \n",
       "2   usdt  \n",
       "3   usdt  \n",
       "4   usdt  "
      ]
     },
     "execution_count": 136,
     "metadata": {},
     "output_type": "execute_result"
    }
   ],
   "source": [
    "df.head()"
   ]
  },
  {
   "cell_type": "code",
   "execution_count": 137,
   "id": "0cc0de70",
   "metadata": {},
   "outputs": [
    {
     "data": {
      "image/png": "[encoded data removed]",
      "text/plain": [
       "<Figure size 1400x700 with 1 Axes>"
      ]
     },
     "metadata": {},
     "output_type": "display_data"
    }
   ],
   "source": [
    "# using matplotlib\n",
    "import matplotlib.pyplot as plt\n",
    "\n",
    "plt.figure(figsize=(14, 7))\n",
    "for symbol, df_hist in historical_deviation_data.items():\n",
    "    if not df_hist.empty:\n",
    "        plt.plot(df_hist[\"date\"], df_hist[\"peg_deviation (USD)\"], label=symbol.upper())\n",
    "\n",
    "plt.axhline(0, color=\"gray\", linestyle=\"--\")\n",
    "plt.title(\"Stablecoin Peg Deviation Over Time (Last 365 Days)\")\n",
    "plt.xlabel(\"Date\")\n",
    "plt.ylabel(\"Deviation from $1 (USD)\")\n",
    "plt.legend()\n",
    "plt.tight_layout()\n",
    "plt.show()"
   ]
  },
  {
   "cell_type": "code",
   "execution_count": 138,
   "id": "6f0dc338",
   "metadata": {},
   "outputs": [
    {
     "data": {
      "application/vnd.plotly.v1+json": {
       "config": {
        "linkText": "Export to plot.ly",
        "plotlyServerURL": "https://plot.ly",
        "showLink": false
       },
       "data": [
        {
         "mode": "lines",
         "name": "USDT",
         "type": "scatter",
         "x": [
          "2024-09-02T00:00:00.000000000",
          "2024-09-03T00:00:00.000000000",
          "2024-09-04T00:00:00.000000000",
          "2024-09-05T00:00:00.000000000",
          "2024-09-06T00:00:00.000000000",
          "2024-09-07T00:00:00.000000000",
          "2024-09-08T00:00:00.000000000",
          "2024-09-09T00:00:00.000000000",
          "2024-09-10T00:00:00.000000000",
          "2024-09-11T00:00:00.000000000",
          "2024-09-12T00:00:00.000000000",
          "2024-09-13T00:00:00.000000000",
          "2024-09-14T00:00:00.000000000",
          "2024-09-15T00:00:00.000000000",
          "2024-09-16T00:00:00.000000000",
          "2024-09-17T00:00:00.000000000",
          "2024-09-18T00:00:00.000000000",
          "2024-09-19T00:00:00.000000000",
          "2024-09-20T00:00:00.000000000",
          "2024-09-21T00:00:00.000000000",
          "2024-09-22T00:00:00.000000000",
          "2024-09-23T00:00:00.000000000",
          "2024-09-24T00:00:00.000000000",
          "2024-09-25T00:00:00.000000000",
          "2024-09-26T00:00:00.000000000",
          "2024-09-27T00:00:00.000000000",
          "2024-09-28T00:00:00.000000000",
          "2024-09-29T00:00:00.000000000",
          "2024-09-30T00:00:00.000000000",
          "2024-10-01T00:00:00.000000000",
          "2024-10-02T00:00:00.000000000",
          "2024-10-03T00:00:00.000000000",
          "2024-10-04T00:00:00.000000000",
          "2024-10-05T00:00:00.000000000",
          "2024-10-06T00:00:00.000000000",
          "2024-10-07T00:00:00.000000000",
          "2024-10-08T00:00:00.000000000",
          "2024-10-09T00:00:00.000000000",
          "2024-10-10T00:00:00.000000000",
          "2024-10-11T00:00:00.000000000",
          "2024-10-12T00:00:00.000000000",
          "2024-10-13T00:00:00.000000000",
          "2024-10-14T00:00:00.000000000",
          "2024-10-15T00:00:00.000000000",
          "2024-10-16T00:00:00.000000000",
          "2024-10-17T00:00:00.000000000",
          "2024-10-18T00:00:00.000000000",
          "2024-10-19T00:00:00.000000000",
          "2024-10-20T00:00:00.000000000",
          "2024-10-21T00:00:00.000000000",
          "2024-10-22T00:00:00.000000000",
          "2024-10-23T00:00:00.000000000",
          "2024-10-24T00:00:00.000000000",
          "2024-10-25T00:00:00.000000000",
          "2024-10-26T00:00:00.000000000",
          "2024-10-27T00:00:00.000000000",
          "2024-10-28T00:00:00.000000000",
          "2024-10-29T00:00:00.000000000",
          "2024-10-30T00:00:00.000000000",
          "2024-10-31T00:00:00.000000000",
          "2024-11-01T00:00:00.000000000",
          "2024-11-02T00:00:00.000000000",
          "2024-11-03T00:00:00.000000000",
          "2024-11-04T00:00:00.000000000",
          "2024-11-05T00:00:00.000000000",
          "2024-11-06T00:00:00.000000000",
          "2024-11-07T00:00:00.000000000",
          "2024-11-08T00:00:00.000000000",
          "2024-11-09T00:00:00.000000000",
          "2024-11-10T00:00:00.000000000",
          "2024-11-11T00:00:00.000000000",
          "2024-11-12T00:00:00.000000000",
          "2024-11-13T00:00:00.000000000",
          "2024-11-14T00:00:00.000000000",
          "2024-11-15T00:00:00.000000000",
          "2024-11-16T00:00:00.000000000",
          "2024-11-17T00:00:00.000000000",
          "2024-11-18T00:00:00.000000000",
          "2024-11-19T00:00:00.000000000",
          "2024-11-20T00:00:00.000000000",
          "2024-11-21T00:00:00.000000000",
          "2024-11-22T00:00:00.000000000",
          "2024-11-23T00:00:00.000000000",
          "2024-11-24T00:00:00.000000000",
          "2024-11-25T00:00:00.000000000",
          "2024-11-26T00:00:00.000000000",
          "2024-11-27T00:00:00.000000000",
          "2024-11-28T00:00:00.000000000",
          "2024-11-29T00:00:00.000000000",
          "2024-11-30T00:00:00.000000000",
          "2024-12-01T00:00:00.000000000",
          "2024-12-02T00:00:00.000000000",
          "2024-12-03T00:00:00.000000000",
          "2024-12-04T00:00:00.000000000",
          "2024-12-05T00:00:00.000000000",
          "2024-12-06T00:00:00.000000000",
          "2024-12-07T00:00:00.000000000",
          "2024-12-08T00:00:00.000000000",
          "2024-12-09T00:00:00.000000000",
          "2024-12-10T00:00:00.000000000",
          "2024-12-11T00:00:00.000000000",
          "2024-12-12T00:00:00.000000000",
          "2024-12-13T00:00:00.000000000",
          "2024-12-14T00:00:00.000000000",
          "2024-12-15T00:00:00.000000000",
          "2024-12-16T00:00:00.000000000",
          "2024-12-17T00:00:00.000000000",
          "2024-12-18T00:00:00.000000000",
          "2024-12-19T00:00:00.000000000",
          "2024-12-20T00:00:00.000000000",
          "2024-12-21T00:00:00.000000000",
          "2024-12-22T00:00:00.000000000",
          "2024-12-23T00:00:00.000000000",
          "2024-12-24T00:00:00.000000000",
          "2024-12-25T00:00:00.000000000",
          "2024-12-26T00:00:00.000000000",
          "2024-12-27T00:00:00.000000000",
          "2024-12-28T00:00:00.000000000",
          "2024-12-29T00:00:00.000000000",
          "2024-12-30T00:00:00.000000000",
          "2024-12-31T00:00:00.000000000",
          "2025-01-01T00:00:00.000000000",
          "2025-01-02T00:00:00.000000000",
          "2025-01-03T00:00:00.000000000",
          "2025-01-04T00:00:00.000000000",
          "2025-01-05T00:00:00.000000000",
          "2025-01-06T00:00:00.000000000",
          "2025-01-07T00:00:00.000000000",
          "2025-01-08T00:00:00.000000000",
          "2025-01-09T00:00:00.000000000",
          "2025-01-10T00:00:00.000000000",
          "2025-01-11T00:00:00.000000000",
          "2025-01-12T00:00:00.000000000",
          "2025-01-13T00:00:00.000000000",
          "2025-01-14T00:00:00.000000000",
          "2025-01-15T00:00:00.000000000",
          "2025-01-16T00:00:00.000000000",
          "2025-01-17T00:00:00.000000000",
          "2025-01-18T00:00:00.000000000",
          "2025-01-19T00:00:00.000000000",
          "2025-01-20T00:00:00.000000000",
          "2025-01-21T00:00:00.000000000",
          "2025-01-22T00:00:00.000000000",
          "2025-01-23T00:00:00.000000000",
          "2025-01-24T00:00:00.000000000",
          "2025-01-25T00:00:00.000000000",
          "2025-01-26T00:00:00.000000000",
          "2025-01-27T00:00:00.000000000",
          "2025-01-28T00:00:00.000000000",
          "2025-01-29T00:00:00.000000000",
          "2025-01-30T00:00:00.000000000",
          "2025-01-31T00:00:00.000000000",
          "2025-02-01T00:00:00.000000000",
          "2025-02-02T00:00:00.000000000",
          "2025-02-03T00:00:00.000000000",
          "2025-02-04T00:00:00.000000000",
          "2025-02-05T00:00:00.000000000",
          "2025-02-06T00:00:00.000000000",
          "2025-02-07T00:00:00.000000000",
          "2025-02-08T00:00:00.000000000",
          "2025-02-09T00:00:00.000000000",
          "2025-02-10T00:00:00.000000000",
          "2025-02-11T00:00:00.000000000",
          "2025-02-12T00:00:00.000000000",
          "2025-02-13T00:00:00.000000000",
          "2025-02-14T00:00:00.000000000",
          "2025-02-15T00:00:00.000000000",
          "2025-02-16T00:00:00.000000000",
          "2025-02-17T00:00:00.000000000",
          "2025-02-18T00:00:00.000000000",
          "2025-02-19T00:00:00.000000000",
          "2025-02-20T00:00:00.000000000",
          "2025-02-21T00:00:00.000000000",
          "2025-02-22T00:00:00.000000000",
          "2025-02-23T00:00:00.000000000",
          "2025-02-24T00:00:00.000000000",
          "2025-02-25T00:00:00.000000000",
          "2025-02-26T00:00:00.000000000",
          "2025-02-27T00:00:00.000000000",
          "2025-02-28T00:00:00.000000000",
          "2025-03-01T00:00:00.000000000",
          "2025-03-02T00:00:00.000000000",
          "2025-03-03T00:00:00.000000000",
          "2025-03-04T00:00:00.000000000",
          "2025-03-05T00:00:00.000000000",
          "2025-03-06T00:00:00.000000000",
          "2025-03-07T00:00:00.000000000",
          "2025-03-08T00:00:00.000000000",
          "2025-03-09T00:00:00.000000000",
          "2025-03-10T00:00:00.000000000",
          "2025-03-11T00:00:00.000000000",
          "2025-03-12T00:00:00.000000000",
          "2025-03-13T00:00:00.000000000",
          "2025-03-14T00:00:00.000000000",
          "2025-03-15T00:00:00.000000000",
          "2025-03-16T00:00:00.000000000",
          "2025-03-17T00:00:00.000000000",
          "2025-03-18T00:00:00.000000000",
          "2025-03-19T00:00:00.000000000",
          "2025-03-20T00:00:00.000000000",
          "2025-03-21T00:00:00.000000000",
          "2025-03-22T00:00:00.000000000",
          "2025-03-23T00:00:00.000000000",
          "2025-03-24T00:00:00.000000000",
          "2025-03-25T00:00:00.000000000",
          "2025-03-26T00:00:00.000000000",
          "2025-03-27T00:00:00.000000000",
          "2025-03-28T00:00:00.000000000",
          "2025-03-29T00:00:00.000000000",
          "2025-03-30T00:00:00.000000000",
          "2025-03-31T00:00:00.000000000",
          "2025-04-01T00:00:00.000000000",
          "2025-04-02T00:00:00.000000000",
          "2025-04-03T00:00:00.000000000",
          "2025-04-04T00:00:00.000000000",
          "2025-04-05T00:00:00.000000000",
          "2025-04-06T00:00:00.000000000",
          "2025-04-07T00:00:00.000000000",
          "2025-04-08T00:00:00.000000000",
          "2025-04-09T00:00:00.000000000",
          "2025-04-10T00:00:00.000000000",
          "2025-04-11T00:00:00.000000000",
          "2025-04-12T00:00:00.000000000",
          "2025-04-13T00:00:00.000000000",
          "2025-04-14T00:00:00.000000000",
          "2025-04-15T00:00:00.000000000",
          "2025-04-16T00:00:00.000000000",
          "2025-04-17T00:00:00.000000000",
          "2025-04-18T00:00:00.000000000",
          "2025-04-19T00:00:00.000000000",
          "2025-04-20T00:00:00.000000000",
          "2025-04-21T00:00:00.000000000",
          "2025-04-22T00:00:00.000000000",
          "2025-04-23T00:00:00.000000000",
          "2025-04-24T00:00:00.000000000",
          "2025-04-25T00:00:00.000000000",
          "2025-04-26T00:00:00.000000000",
          "2025-04-27T00:00:00.000000000",
          "2025-04-28T00:00:00.000000000",
          "2025-04-29T00:00:00.000000000",
          "2025-04-30T00:00:00.000000000",
          "2025-05-01T00:00:00.000000000",
          "2025-05-02T00:00:00.000000000",
          "2025-05-03T00:00:00.000000000",
          "2025-05-04T00:00:00.000000000",
          "2025-05-05T00:00:00.000000000",
          "2025-05-06T00:00:00.000000000",
          "2025-05-07T00:00:00.000000000",
          "2025-05-08T00:00:00.000000000",
          "2025-05-09T00:00:00.000000000",
          "2025-05-10T00:00:00.000000000",
          "2025-05-11T00:00:00.000000000",
          "2025-05-12T00:00:00.000000000",
          "2025-05-13T00:00:00.000000000",
          "2025-05-14T00:00:00.000000000",
          "2025-05-15T00:00:00.000000000",
          "2025-05-16T00:00:00.000000000",
          "2025-05-17T00:00:00.000000000",
          "2025-05-18T00:00:00.000000000",
          "2025-05-19T00:00:00.000000000",
          "2025-05-20T00:00:00.000000000",
          "2025-05-21T00:00:00.000000000",
          "2025-05-22T00:00:00.000000000",
          "2025-05-23T00:00:00.000000000",
          "2025-05-24T00:00:00.000000000",
          "2025-05-25T00:00:00.000000000",
          "2025-05-26T00:00:00.000000000",
          "2025-05-27T00:00:00.000000000",
          "2025-05-28T00:00:00.000000000",
          "2025-05-29T00:00:00.000000000",
          "2025-05-30T00:00:00.000000000",
          "2025-05-31T00:00:00.000000000",
          "2025-06-01T00:00:00.000000000",
          "2025-06-02T00:00:00.000000000",
          "2025-06-03T00:00:00.000000000",
          "2025-06-04T00:00:00.000000000",
          "2025-06-05T00:00:00.000000000",
          "2025-06-06T00:00:00.000000000",
          "2025-06-07T00:00:00.000000000",
          "2025-06-08T00:00:00.000000000",
          "2025-06-09T00:00:00.000000000",
          "2025-06-10T00:00:00.000000000",
          "2025-06-11T00:00:00.000000000",
          "2025-06-12T00:00:00.000000000",
          "2025-06-13T00:00:00.000000000",
          "2025-06-14T00:00:00.000000000",
          "2025-06-15T00:00:00.000000000",
          "2025-06-16T00:00:00.000000000",
          "2025-06-17T00:00:00.000000000",
          "2025-06-18T00:00:00.000000000",
          "2025-06-19T00:00:00.000000000",
          "2025-06-20T00:00:00.000000000",
          "2025-06-21T00:00:00.000000000",
          "2025-06-22T00:00:00.000000000",
          "2025-06-23T00:00:00.000000000",
          "2025-06-24T00:00:00.000000000",
          "2025-06-25T00:00:00.000000000",
          "2025-06-26T00:00:00.000000000",
          "2025-06-27T00:00:00.000000000",
          "2025-06-28T00:00:00.000000000",
          "2025-06-29T00:00:00.000000000",
          "2025-06-30T00:00:00.000000000",
          "2025-07-01T00:00:00.000000000",
          "2025-07-02T00:00:00.000000000",
          "2025-07-03T00:00:00.000000000",
          "2025-07-04T00:00:00.000000000",
          "2025-07-05T00:00:00.000000000",
          "2025-07-06T00:00:00.000000000",
          "2025-07-07T00:00:00.000000000",
          "2025-07-08T00:00:00.000000000",
          "2025-07-09T00:00:00.000000000",
          "2025-07-10T00:00:00.000000000",
          "2025-07-11T00:00:00.000000000",
          "2025-07-12T00:00:00.000000000",
          "2025-07-13T00:00:00.000000000",
          "2025-07-14T00:00:00.000000000",
          "2025-07-15T00:00:00.000000000",
          "2025-07-16T00:00:00.000000000",
          "2025-07-17T00:00:00.000000000",
          "2025-07-18T00:00:00.000000000",
          "2025-07-19T00:00:00.000000000",
          "2025-07-20T00:00:00.000000000",
          "2025-07-21T00:00:00.000000000",
          "2025-07-22T00:00:00.000000000",
          "2025-07-23T00:00:00.000000000",
          "2025-07-24T00:00:00.000000000",
          "2025-07-25T00:00:00.000000000",
          "2025-07-26T00:00:00.000000000",
          "2025-07-27T00:00:00.000000000",
          "2025-07-28T00:00:00.000000000",
          "2025-07-29T00:00:00.000000000",
          "2025-07-30T00:00:00.000000000",
          "2025-07-31T00:00:00.000000000",
          "2025-08-01T00:00:00.000000000",
          "2025-08-02T00:00:00.000000000",
          "2025-08-03T00:00:00.000000000",
          "2025-08-04T00:00:00.000000000",
          "2025-08-05T00:00:00.000000000",
          "2025-08-06T00:00:00.000000000",
          "2025-08-07T00:00:00.000000000",
          "2025-08-08T00:00:00.000000000",
          "2025-08-09T00:00:00.000000000",
          "2025-08-10T00:00:00.000000000",
          "2025-08-11T00:00:00.000000000",
          "2025-08-12T00:00:00.000000000",
          "2025-08-13T00:00:00.000000000",
          "2025-08-14T00:00:00.000000000",
          "2025-08-15T00:00:00.000000000",
          "2025-08-16T00:00:00.000000000",
          "2025-08-17T00:00:00.000000000",
          "2025-08-18T00:00:00.000000000",
          "2025-08-19T00:00:00.000000000",
          "2025-08-20T00:00:00.000000000",
          "2025-08-21T00:00:00.000000000",
          "2025-08-22T00:00:00.000000000",
          "2025-08-23T00:00:00.000000000",
          "2025-08-24T00:00:00.000000000",
          "2025-08-25T00:00:00.000000000",
          "2025-08-26T00:00:00.000000000",
          "2025-08-27T00:00:00.000000000",
          "2025-08-28T00:00:00.000000000",
          "2025-08-29T00:00:00.000000000",
          "2025-08-30T00:00:00.000000000",
          "2025-08-31T00:00:00.000000000",
          "2025-09-01T00:00:00.000000000",
          "2025-09-01T13:54:24.000000000"
         ],
         "y": {
          "bdata": "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",
          "dtype": "f8"
         }
        },
        {
         "mode": "lines",
         "name": "USDC",
         "type": "scatter",
         "x": [
          "2024-09-02T00:00:00.000000000",
          "2024-09-03T00:00:00.000000000",
          "2024-09-04T00:00:00.000000000",
          "2024-09-05T00:00:00.000000000",
          "2024-09-06T00:00:00.000000000",
          "2024-09-07T00:00:00.000000000",
          "2024-09-08T00:00:00.000000000",
          "2024-09-09T00:00:00.000000000",
          "2024-09-10T00:00:00.000000000",
          "2024-09-11T00:00:00.000000000",
          "2024-09-12T00:00:00.000000000",
          "2024-09-13T00:00:00.000000000",
          "2024-09-14T00:00:00.000000000",
          "2024-09-15T00:00:00.000000000",
          "2024-09-16T00:00:00.000000000",
          "2024-09-17T00:00:00.000000000",
          "2024-09-18T00:00:00.000000000",
          "2024-09-19T00:00:00.000000000",
          "2024-09-20T00:00:00.000000000",
          "2024-09-21T00:00:00.000000000",
          "2024-09-22T00:00:00.000000000",
          "2024-09-23T00:00:00.000000000",
          "2024-09-24T00:00:00.000000000",
          "2024-09-25T00:00:00.000000000",
          "2024-09-26T00:00:00.000000000",
          "2024-09-27T00:00:00.000000000",
          "2024-09-28T00:00:00.000000000",
          "2024-09-29T00:00:00.000000000",
          "2024-09-30T00:00:00.000000000",
          "2024-10-01T00:00:00.000000000",
          "2024-10-02T00:00:00.000000000",
          "2024-10-03T00:00:00.000000000",
          "2024-10-04T00:00:00.000000000",
          "2024-10-05T00:00:00.000000000",
          "2024-10-06T00:00:00.000000000",
          "2024-10-07T00:00:00.000000000",
          "2024-10-08T00:00:00.000000000",
          "2024-10-09T00:00:00.000000000",
          "2024-10-10T00:00:00.000000000",
          "2024-10-11T00:00:00.000000000",
          "2024-10-12T00:00:00.000000000",
          "2024-10-13T00:00:00.000000000",
          "2024-10-14T00:00:00.000000000",
          "2024-10-15T00:00:00.000000000",
          "2024-10-16T00:00:00.000000000",
          "2024-10-17T00:00:00.000000000",
          "2024-10-18T00:00:00.000000000",
          "2024-10-19T00:00:00.000000000",
          "2024-10-20T00:00:00.000000000",
          "2024-10-21T00:00:00.000000000",
          "2024-10-22T00:00:00.000000000",
          "2024-10-23T00:00:00.000000000",
          "2024-10-24T00:00:00.000000000",
          "2024-10-25T00:00:00.000000000",
          "2024-10-26T00:00:00.000000000",
          "2024-10-27T00:00:00.000000000",
          "2024-10-28T00:00:00.000000000",
          "2024-10-29T00:00:00.000000000",
          "2024-10-30T00:00:00.000000000",
          "2024-10-31T00:00:00.000000000",
          "2024-11-01T00:00:00.000000000",
          "2024-11-02T00:00:00.000000000",
          "2024-11-03T00:00:00.000000000",
          "2024-11-04T00:00:00.000000000",
          "2024-11-05T00:00:00.000000000",
          "2024-11-06T00:00:00.000000000",
          "2024-11-07T00:00:00.000000000",
          "2024-11-08T00:00:00.000000000",
          "2024-11-09T00:00:00.000000000",
          "2024-11-10T00:00:00.000000000",
          "2024-11-11T00:00:00.000000000",
          "2024-11-12T00:00:00.000000000",
          "2024-11-13T00:00:00.000000000",
          "2024-11-14T00:00:00.000000000",
          "2024-11-15T00:00:00.000000000",
          "2024-11-16T00:00:00.000000000",
          "2024-11-17T00:00:00.000000000",
          "2024-11-18T00:00:00.000000000",
          "2024-11-19T00:00:00.000000000",
          "2024-11-20T00:00:00.000000000",
          "2024-11-21T00:00:00.000000000",
          "2024-11-22T00:00:00.000000000",
          "2024-11-23T00:00:00.000000000",
          "2024-11-24T00:00:00.000000000",
          "2024-11-25T00:00:00.000000000",
          "2024-11-26T00:00:00.000000000",
          "2024-11-27T00:00:00.000000000",
          "2024-11-28T00:00:00.000000000",
          "2024-11-29T00:00:00.000000000",
          "2024-11-30T00:00:00.000000000",
          "2024-12-01T00:00:00.000000000",
          "2024-12-02T00:00:00.000000000",
          "2024-12-03T00:00:00.000000000",
          "2024-12-04T00:00:00.000000000",
          "2024-12-05T00:00:00.000000000",
          "2024-12-06T00:00:00.000000000",
          "2024-12-07T00:00:00.000000000",
          "2024-12-08T00:00:00.000000000",
          "2024-12-09T00:00:00.000000000",
          "2024-12-10T00:00:00.000000000",
          "2024-12-11T00:00:00.000000000",
          "2024-12-12T00:00:00.000000000",
          "2024-12-13T00:00:00.000000000",
          "2024-12-14T00:00:00.000000000",
          "2024-12-15T00:00:00.000000000",
          "2024-12-16T00:00:00.000000000",
          "2024-12-17T00:00:00.000000000",
          "2024-12-18T00:00:00.000000000",
          "2024-12-19T00:00:00.000000000",
          "2024-12-20T00:00:00.000000000",
          "2024-12-21T00:00:00.000000000",
          "2024-12-22T00:00:00.000000000",
          "2024-12-23T00:00:00.000000000",
          "2024-12-24T00:00:00.000000000",
          "2024-12-25T00:00:00.000000000",
          "2024-12-26T00:00:00.000000000",
          "2024-12-27T00:00:00.000000000",
          "2024-12-28T00:00:00.000000000",
          "2024-12-29T00:00:00.000000000",
          "2024-12-30T00:00:00.000000000",
          "2024-12-31T00:00:00.000000000",
          "2025-01-01T00:00:00.000000000",
          "2025-01-02T00:00:00.000000000",
          "2025-01-03T00:00:00.000000000",
          "2025-01-04T00:00:00.000000000",
          "2025-01-05T00:00:00.000000000",
          "2025-01-06T00:00:00.000000000",
          "2025-01-07T00:00:00.000000000",
          "2025-01-08T00:00:00.000000000",
          "2025-01-09T00:00:00.000000000",
          "2025-01-10T00:00:00.000000000",
          "2025-01-11T00:00:00.000000000",
          "2025-01-12T00:00:00.000000000",
          "2025-01-13T00:00:00.000000000",
          "2025-01-14T00:00:00.000000000",
          "2025-01-15T00:00:00.000000000",
          "2025-01-16T00:00:00.000000000",
          "2025-01-17T00:00:00.000000000",
          "2025-01-18T00:00:00.000000000",
          "2025-01-19T00:00:00.000000000",
          "2025-01-20T00:00:00.000000000",
          "2025-01-21T00:00:00.000000000",
          "2025-01-22T00:00:00.000000000",
          "2025-01-23T00:00:00.000000000",
          "2025-01-24T00:00:00.000000000",
          "2025-01-25T00:00:00.000000000",
          "2025-01-26T00:00:00.000000000",
          "2025-01-27T00:00:00.000000000",
          "2025-01-28T00:00:00.000000000",
          "2025-01-29T00:00:00.000000000",
          "2025-01-30T00:00:00.000000000",
          "2025-01-31T00:00:00.000000000",
          "2025-02-01T00:00:00.000000000",
          "2025-02-02T00:00:00.000000000",
          "2025-02-03T00:00:00.000000000",
          "2025-02-04T00:00:00.000000000",
          "2025-02-05T00:00:00.000000000",
          "2025-02-06T00:00:00.000000000",
          "2025-02-07T00:00:00.000000000",
          "2025-02-08T00:00:00.000000000",
          "2025-02-09T00:00:00.000000000",
          "2025-02-10T00:00:00.000000000",
          "2025-02-11T00:00:00.000000000",
          "2025-02-12T00:00:00.000000000",
          "2025-02-13T00:00:00.000000000",
          "2025-02-14T00:00:00.000000000",
          "2025-02-15T00:00:00.000000000",
          "2025-02-16T00:00:00.000000000",
          "2025-02-17T00:00:00.000000000",
          "2025-02-18T00:00:00.000000000",
          "2025-02-19T00:00:00.000000000",
          "2025-02-20T00:00:00.000000000",
          "2025-02-21T00:00:00.000000000",
          "2025-02-22T00:00:00.000000000",
          "2025-02-23T00:00:00.000000000",
          "2025-02-24T00:00:00.000000000",
          "2025-02-25T00:00:00.000000000",
          "2025-02-26T00:00:00.000000000",
          "2025-02-27T00:00:00.000000000",
          "2025-02-28T00:00:00.000000000",
          "2025-03-01T00:00:00.000000000",
          "2025-03-02T00:00:00.000000000",
          "2025-03-03T00:00:00.000000000",
          "2025-03-04T00:00:00.000000000",
          "2025-03-05T00:00:00.000000000",
          "2025-03-06T00:00:00.000000000",
          "2025-03-07T00:00:00.000000000",
          "2025-03-08T00:00:00.000000000",
          "2025-03-09T00:00:00.000000000",
          "2025-03-10T00:00:00.000000000",
          "2025-03-11T00:00:00.000000000",
          "2025-03-12T00:00:00.000000000",
          "2025-03-13T00:00:00.000000000",
          "2025-03-14T00:00:00.000000000",
          "2025-03-15T00:00:00.000000000",
          "2025-03-16T00:00:00.000000000",
          "2025-03-17T00:00:00.000000000",
          "2025-03-18T00:00:00.000000000",
          "2025-03-19T00:00:00.000000000",
          "2025-03-20T00:00:00.000000000",
          "2025-03-21T00:00:00.000000000",
          "2025-03-22T00:00:00.000000000",
          "2025-03-23T00:00:00.000000000",
          "2025-03-24T00:00:00.000000000",
          "2025-03-25T00:00:00.000000000",
          "2025-03-26T00:00:00.000000000",
          "2025-03-27T00:00:00.000000000",
          "2025-03-28T00:00:00.000000000",
          "2025-03-29T00:00:00.000000000",
          "2025-03-30T00:00:00.000000000",
          "2025-03-31T00:00:00.000000000",
          "2025-04-01T00:00:00.000000000",
          "2025-04-02T00:00:00.000000000",
          "2025-04-03T00:00:00.000000000",
          "2025-04-04T00:00:00.000000000",
          "2025-04-05T00:00:00.000000000",
          "2025-04-06T00:00:00.000000000",
          "2025-04-07T00:00:00.000000000",
          "2025-04-08T00:00:00.000000000",
          "2025-04-09T00:00:00.000000000",
          "2025-04-10T00:00:00.000000000",
          "2025-04-11T00:00:00.000000000",
          "2025-04-12T00:00:00.000000000",
          "2025-04-13T00:00:00.000000000",
          "2025-04-14T00:00:00.000000000",
          "2025-04-15T00:00:00.000000000",
          "2025-04-16T00:00:00.000000000",
          "2025-04-17T00:00:00.000000000",
          "2025-04-18T00:00:00.000000000",
          "2025-04-19T00:00:00.000000000",
          "2025-04-20T00:00:00.000000000",
          "2025-04-21T00:00:00.000000000",
          "2025-04-22T00:00:00.000000000",
          "2025-04-23T00:00:00.000000000",
          "2025-04-24T00:00:00.000000000",
          "2025-04-25T00:00:00.000000000",
          "2025-04-26T00:00:00.000000000",
          "2025-04-27T00:00:00.000000000",
          "2025-04-28T00:00:00.000000000",
          "2025-04-29T00:00:00.000000000",
          "2025-04-30T00:00:00.000000000",
          "2025-05-01T00:00:00.000000000",
          "2025-05-02T00:00:00.000000000",
          "2025-05-03T00:00:00.000000000",
          "2025-05-04T00:00:00.000000000",
          "2025-05-05T00:00:00.000000000",
          "2025-05-06T00:00:00.000000000",
          "2025-05-07T00:00:00.000000000",
          "2025-05-08T00:00:00.000000000",
          "2025-05-09T00:00:00.000000000",
          "2025-05-10T00:00:00.000000000",
          "2025-05-11T00:00:00.000000000",
          "2025-05-12T00:00:00.000000000",
          "2025-05-13T00:00:00.000000000",
          "2025-05-14T00:00:00.000000000",
          "2025-05-15T00:00:00.000000000",
          "2025-05-16T00:00:00.000000000",
          "2025-05-17T00:00:00.000000000",
          "2025-05-18T00:00:00.000000000",
          "2025-05-19T00:00:00.000000000",
          "2025-05-20T00:00:00.000000000",
          "2025-05-21T00:00:00.000000000",
          "2025-05-22T00:00:00.000000000",
          "2025-05-23T00:00:00.000000000",
          "2025-05-24T00:00:00.000000000",
          "2025-05-25T00:00:00.000000000",
          "2025-05-26T00:00:00.000000000",
          "2025-05-27T00:00:00.000000000",
          "2025-05-28T00:00:00.000000000",
          "2025-05-29T00:00:00.000000000",
          "2025-05-30T00:00:00.000000000",
          "2025-05-31T00:00:00.000000000",
          "2025-06-01T00:00:00.000000000",
          "2025-06-02T00:00:00.000000000",
          "2025-06-03T00:00:00.000000000",
          "2025-06-04T00:00:00.000000000",
          "2025-06-05T00:00:00.000000000",
          "2025-06-06T00:00:00.000000000",
          "2025-06-07T00:00:00.000000000",
          "2025-06-08T00:00:00.000000000",
          "2025-06-09T00:00:00.000000000",
          "2025-06-10T00:00:00.000000000",
          "2025-06-11T00:00:00.000000000",
          "2025-06-12T00:00:00.000000000",
          "2025-06-13T00:00:00.000000000",
          "2025-06-14T00:00:00.000000000",
          "2025-06-15T00:00:00.000000000",
          "2025-06-16T00:00:00.000000000",
          "2025-06-17T00:00:00.000000000",
          "2025-06-18T00:00:00.000000000",
          "2025-06-19T00:00:00.000000000",
          "2025-06-20T00:00:00.000000000",
          "2025-06-21T00:00:00.000000000",
          "2025-06-22T00:00:00.000000000",
          "2025-06-23T00:00:00.000000000",
          "2025-06-24T00:00:00.000000000",
          "2025-06-25T00:00:00.000000000",
          "2025-06-26T00:00:00.000000000",
          "2025-06-27T00:00:00.000000000",
          "2025-06-28T00:00:00.000000000",
          "2025-06-29T00:00:00.000000000",
          "2025-06-30T00:00:00.000000000",
          "2025-07-01T00:00:00.000000000",
          "2025-07-02T00:00:00.000000000",
          "2025-07-03T00:00:00.000000000",
          "2025-07-04T00:00:00.000000000",
          "2025-07-05T00:00:00.000000000",
          "2025-07-06T00:00:00.000000000",
          "2025-07-07T00:00:00.000000000",
          "2025-07-08T00:00:00.000000000",
          "2025-07-09T00:00:00.000000000",
          "2025-07-10T00:00:00.000000000",
          "2025-07-11T00:00:00.000000000",
          "2025-07-12T00:00:00.000000000",
          "2025-07-13T00:00:00.000000000",
          "2025-07-14T00:00:00.000000000",
          "2025-07-15T00:00:00.000000000",
          "2025-07-16T00:00:00.000000000",
          "2025-07-17T00:00:00.000000000",
          "2025-07-18T00:00:00.000000000",
          "2025-07-19T00:00:00.000000000",
          "2025-07-20T00:00:00.000000000",
          "2025-07-21T00:00:00.000000000",
          "2025-07-22T00:00:00.000000000",
          "2025-07-23T00:00:00.000000000",
          "2025-07-24T00:00:00.000000000",
          "2025-07-25T00:00:00.000000000",
          "2025-07-26T00:00:00.000000000",
          "2025-07-27T00:00:00.000000000",
          "2025-07-28T00:00:00.000000000",
          "2025-07-29T00:00:00.000000000",
          "2025-07-30T00:00:00.000000000",
          "2025-07-31T00:00:00.000000000",
          "2025-08-01T00:00:00.000000000",
          "2025-08-02T00:00:00.000000000",
          "2025-08-03T00:00:00.000000000",
          "2025-08-04T00:00:00.000000000",
          "2025-08-05T00:00:00.000000000",
          "2025-08-06T00:00:00.000000000",
          "2025-08-07T00:00:00.000000000",
          "2025-08-08T00:00:00.000000000",
          "2025-08-09T00:00:00.000000000",
          "2025-08-10T00:00:00.000000000",
          "2025-08-11T00:00:00.000000000",
          "2025-08-12T00:00:00.000000000",
          "2025-08-13T00:00:00.000000000",
          "2025-08-14T00:00:00.000000000",
          "2025-08-15T00:00:00.000000000",
          "2025-08-16T00:00:00.000000000",
          "2025-08-17T00:00:00.000000000",
          "2025-08-18T00:00:00.000000000",
          "2025-08-19T00:00:00.000000000",
          "2025-08-20T00:00:00.000000000",
          "2025-08-21T00:00:00.000000000",
          "2025-08-22T00:00:00.000000000",
          "2025-08-23T00:00:00.000000000",
          "2025-08-24T00:00:00.000000000",
          "2025-08-25T00:00:00.000000000",
          "2025-08-26T00:00:00.000000000",
          "2025-08-27T00:00:00.000000000",
          "2025-08-28T00:00:00.000000000",
          "2025-08-29T00:00:00.000000000",
          "2025-08-30T00:00:00.000000000",
          "2025-08-31T00:00:00.000000000",
          "2025-09-01T00:00:00.000000000",
          "2025-09-01T13:54:33.000000000"
         ],
         "y": {
          "bdata": "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",
          "dtype": "f8"
         }
        },
        {
         "mode": "lines",
         "name": "DAI",
         "type": "scatter",
         "x": [
          "2024-09-02T00:00:00.000000000",
          "2024-09-03T00:00:00.000000000",
          "2024-09-04T00:00:00.000000000",
          "2024-09-05T00:00:00.000000000",
          "2024-09-06T00:00:00.000000000",
          "2024-09-07T00:00:00.000000000",
          "2024-09-08T00:00:00.000000000",
          "2024-09-09T00:00:00.000000000",
          "2024-09-10T00:00:00.000000000",
          "2024-09-11T00:00:00.000000000",
          "2024-09-12T00:00:00.000000000",
          "2024-09-13T00:00:00.000000000",
          "2024-09-14T00:00:00.000000000",
          "2024-09-15T00:00:00.000000000",
          "2024-09-16T00:00:00.000000000",
          "2024-09-17T00:00:00.000000000",
          "2024-09-18T00:00:00.000000000",
          "2024-09-19T00:00:00.000000000",
          "2024-09-20T00:00:00.000000000",
          "2024-09-21T00:00:00.000000000",
          "2024-09-22T00:00:00.000000000",
          "2024-09-23T00:00:00.000000000",
          "2024-09-24T00:00:00.000000000",
          "2024-09-25T00:00:00.000000000",
          "2024-09-26T00:00:00.000000000",
          "2024-09-27T00:00:00.000000000",
          "2024-09-28T00:00:00.000000000",
          "2024-09-29T00:00:00.000000000",
          "2024-09-30T00:00:00.000000000",
          "2024-10-01T00:00:00.000000000",
          "2024-10-02T00:00:00.000000000",
          "2024-10-03T00:00:00.000000000",
          "2024-10-04T00:00:00.000000000",
          "2024-10-05T00:00:00.000000000",
          "2024-10-06T00:00:00.000000000",
          "2024-10-07T00:00:00.000000000",
          "2024-10-08T00:00:00.000000000",
          "2024-10-09T00:00:00.000000000",
          "2024-10-10T00:00:00.000000000",
          "2024-10-11T00:00:00.000000000",
          "2024-10-12T00:00:00.000000000",
          "2024-10-13T00:00:00.000000000",
          "2024-10-14T00:00:00.000000000",
          "2024-10-15T00:00:00.000000000",
          "2024-10-16T00:00:00.000000000",
          "2024-10-17T00:00:00.000000000",
          "2024-10-18T00:00:00.000000000",
          "2024-10-19T00:00:00.000000000",
          "2024-10-20T00:00:00.000000000",
          "2024-10-21T00:00:00.000000000",
          "2024-10-22T00:00:00.000000000",
          "2024-10-23T00:00:00.000000000",
          "2024-10-24T00:00:00.000000000",
          "2024-10-25T00:00:00.000000000",
          "2024-10-26T00:00:00.000000000",
          "2024-10-27T00:00:00.000000000",
          "2024-10-28T00:00:00.000000000",
          "2024-10-29T00:00:00.000000000",
          "2024-10-30T00:00:00.000000000",
          "2024-10-31T00:00:00.000000000",
          "2024-11-01T00:00:00.000000000",
          "2024-11-02T00:00:00.000000000",
          "2024-11-03T00:00:00.000000000",
          "2024-11-04T00:00:00.000000000",
          "2024-11-05T00:00:00.000000000",
          "2024-11-06T00:00:00.000000000",
          "2024-11-07T00:00:00.000000000",
          "2024-11-08T00:00:00.000000000",
          "2024-11-09T00:00:00.000000000",
          "2024-11-10T00:00:00.000000000",
          "2024-11-11T00:00:00.000000000",
          "2024-11-12T00:00:00.000000000",
          "2024-11-13T00:00:00.000000000",
          "2024-11-14T00:00:00.000000000",
          "2024-11-15T00:00:00.000000000",
          "2024-11-16T00:00:00.000000000",
          "2024-11-17T00:00:00.000000000",
          "2024-11-18T00:00:00.000000000",
          "2024-11-19T00:00:00.000000000",
          "2024-11-20T00:00:00.000000000",
          "2024-11-21T00:00:00.000000000",
          "2024-11-22T00:00:00.000000000",
          "2024-11-23T00:00:00.000000000",
          "2024-11-24T00:00:00.000000000",
          "2024-11-25T00:00:00.000000000",
          "2024-11-26T00:00:00.000000000",
          "2024-11-27T00:00:00.000000000",
          "2024-11-28T00:00:00.000000000",
          "2024-11-29T00:00:00.000000000",
          "2024-11-30T00:00:00.000000000",
          "2024-12-01T00:00:00.000000000",
          "2024-12-02T00:00:00.000000000",
          "2024-12-03T00:00:00.000000000",
          "2024-12-04T00:00:00.000000000",
          "2024-12-05T00:00:00.000000000",
          "2024-12-06T00:00:00.000000000",
          "2024-12-07T00:00:00.000000000",
          "2024-12-08T00:00:00.000000000",
          "2024-12-09T00:00:00.000000000",
          "2024-12-10T00:00:00.000000000",
          "2024-12-11T00:00:00.000000000",
          "2024-12-12T00:00:00.000000000",
          "2024-12-13T00:00:00.000000000",
          "2024-12-14T00:00:00.000000000",
          "2024-12-15T00:00:00.000000000",
          "2024-12-16T00:00:00.000000000",
          "2024-12-17T00:00:00.000000000",
          "2024-12-18T00:00:00.000000000",
          "2024-12-19T00:00:00.000000000",
          "2024-12-20T00:00:00.000000000",
          "2024-12-21T00:00:00.000000000",
          "2024-12-22T00:00:00.000000000",
          "2024-12-23T00:00:00.000000000",
          "2024-12-24T00:00:00.000000000",
          "2024-12-25T00:00:00.000000000",
          "2024-12-26T00:00:00.000000000",
          "2024-12-27T00:00:00.000000000",
          "2024-12-28T00:00:00.000000000",
          "2024-12-29T00:00:00.000000000",
          "2024-12-30T00:00:00.000000000",
          "2024-12-31T00:00:00.000000000",
          "2025-01-01T00:00:00.000000000",
          "2025-01-02T00:00:00.000000000",
          "2025-01-03T00:00:00.000000000",
          "2025-01-04T00:00:00.000000000",
          "2025-01-05T00:00:00.000000000",
          "2025-01-06T00:00:00.000000000",
          "2025-01-07T00:00:00.000000000",
          "2025-01-08T00:00:00.000000000",
          "2025-01-09T00:00:00.000000000",
          "2025-01-10T00:00:00.000000000",
          "2025-01-11T00:00:00.000000000",
          "2025-01-12T00:00:00.000000000",
          "2025-01-13T00:00:00.000000000",
          "2025-01-14T00:00:00.000000000",
          "2025-01-15T00:00:00.000000000",
          "2025-01-16T00:00:00.000000000",
          "2025-01-17T00:00:00.000000000",
          "2025-01-18T00:00:00.000000000",
          "2025-01-19T00:00:00.000000000",
          "2025-01-20T00:00:00.000000000",
          "2025-01-21T00:00:00.000000000",
          "2025-01-22T00:00:00.000000000",
          "2025-01-23T00:00:00.000000000",
          "2025-01-24T00:00:00.000000000",
          "2025-01-25T00:00:00.000000000",
          "2025-01-26T00:00:00.000000000",
          "2025-01-27T00:00:00.000000000",
          "2025-01-28T00:00:00.000000000",
          "2025-01-29T00:00:00.000000000",
          "2025-01-30T00:00:00.000000000",
          "2025-01-31T00:00:00.000000000",
          "2025-02-01T00:00:00.000000000",
          "2025-02-02T00:00:00.000000000",
          "2025-02-03T00:00:00.000000000",
          "2025-02-04T00:00:00.000000000",
          "2025-02-05T00:00:00.000000000",
          "2025-02-06T00:00:00.000000000",
          "2025-02-07T00:00:00.000000000",
          "2025-02-08T00:00:00.000000000",
          "2025-02-09T00:00:00.000000000",
          "2025-02-10T00:00:00.000000000",
          "2025-02-11T00:00:00.000000000",
          "2025-02-12T00:00:00.000000000",
          "2025-02-13T00:00:00.000000000",
          "2025-02-14T00:00:00.000000000",
          "2025-02-15T00:00:00.000000000",
          "2025-02-16T00:00:00.000000000",
          "2025-02-17T00:00:00.000000000",
          "2025-02-18T00:00:00.000000000",
          "2025-02-19T00:00:00.000000000",
          "2025-02-20T00:00:00.000000000",
          "2025-02-21T00:00:00.000000000",
          "2025-02-22T00:00:00.000000000",
          "2025-02-23T00:00:00.000000000",
          "2025-02-24T00:00:00.000000000",
          "2025-02-25T00:00:00.000000000",
          "2025-02-26T00:00:00.000000000",
          "2025-02-27T00:00:00.000000000",
          "2025-02-28T00:00:00.000000000",
          "2025-03-01T00:00:00.000000000",
          "2025-03-02T00:00:00.000000000",
          "2025-03-03T00:00:00.000000000",
          "2025-03-04T00:00:00.000000000",
          "2025-03-05T00:00:00.000000000",
          "2025-03-06T00:00:00.000000000",
          "2025-03-07T00:00:00.000000000",
          "2025-03-08T00:00:00.000000000",
          "2025-03-09T00:00:00.000000000",
          "2025-03-10T00:00:00.000000000",
          "2025-03-11T00:00:00.000000000",
          "2025-03-12T00:00:00.000000000",
          "2025-03-13T00:00:00.000000000",
          "2025-03-14T00:00:00.000000000",
          "2025-03-15T00:00:00.000000000",
          "2025-03-16T00:00:00.000000000",
          "2025-03-17T00:00:00.000000000",
          "2025-03-18T00:00:00.000000000",
          "2025-03-19T00:00:00.000000000",
          "2025-03-20T00:00:00.000000000",
          "2025-03-21T00:00:00.000000000",
          "2025-03-22T00:00:00.000000000",
          "2025-03-23T00:00:00.000000000",
          "2025-03-24T00:00:00.000000000",
          "2025-03-25T00:00:00.000000000",
          "2025-03-26T00:00:00.000000000",
          "2025-03-27T00:00:00.000000000",
          "2025-03-28T00:00:00.000000000",
          "2025-03-29T00:00:00.000000000",
          "2025-03-30T00:00:00.000000000",
          "2025-03-31T00:00:00.000000000",
          "2025-04-01T00:00:00.000000000",
          "2025-04-02T00:00:00.000000000",
          "2025-04-03T00:00:00.000000000",
          "2025-04-04T00:00:00.000000000",
          "2025-04-05T00:00:00.000000000",
          "2025-04-06T00:00:00.000000000",
          "2025-04-07T00:00:00.000000000",
          "2025-04-08T00:00:00.000000000",
          "2025-04-09T00:00:00.000000000",
          "2025-04-10T00:00:00.000000000",
          "2025-04-11T00:00:00.000000000",
          "2025-04-12T00:00:00.000000000",
          "2025-04-13T00:00:00.000000000",
          "2025-04-14T00:00:00.000000000",
          "2025-04-15T00:00:00.000000000",
          "2025-04-16T00:00:00.000000000",
          "2025-04-17T00:00:00.000000000",
          "2025-04-18T00:00:00.000000000",
          "2025-04-19T00:00:00.000000000",
          "2025-04-20T00:00:00.000000000",
          "2025-04-21T00:00:00.000000000",
          "2025-04-22T00:00:00.000000000",
          "2025-04-23T00:00:00.000000000",
          "2025-04-24T00:00:00.000000000",
          "2025-04-25T00:00:00.000000000",
          "2025-04-26T00:00:00.000000000",
          "2025-04-27T00:00:00.000000000",
          "2025-04-28T00:00:00.000000000",
          "2025-04-29T00:00:00.000000000",
          "2025-04-30T00:00:00.000000000",
          "2025-05-01T00:00:00.000000000",
          "2025-05-02T00:00:00.000000000",
          "2025-05-03T00:00:00.000000000",
          "2025-05-04T00:00:00.000000000",
          "2025-05-05T00:00:00.000000000",
          "2025-05-06T00:00:00.000000000",
          "2025-05-07T00:00:00.000000000",
          "2025-05-08T00:00:00.000000000",
          "2025-05-09T00:00:00.000000000",
          "2025-05-10T00:00:00.000000000",
          "2025-05-11T00:00:00.000000000",
          "2025-05-12T00:00:00.000000000",
          "2025-05-13T00:00:00.000000000",
          "2025-05-14T00:00:00.000000000",
          "2025-05-15T00:00:00.000000000",
          "2025-05-16T00:00:00.000000000",
          "2025-05-17T00:00:00.000000000",
          "2025-05-18T00:00:00.000000000",
          "2025-05-19T00:00:00.000000000",
          "2025-05-20T00:00:00.000000000",
          "2025-05-21T00:00:00.000000000",
          "2025-05-22T00:00:00.000000000",
          "2025-05-23T00:00:00.000000000",
          "2025-05-24T00:00:00.000000000",
          "2025-05-25T00:00:00.000000000",
          "2025-05-26T00:00:00.000000000",
          "2025-05-27T00:00:00.000000000",
          "2025-05-28T00:00:00.000000000",
          "2025-05-29T00:00:00.000000000",
          "2025-05-30T00:00:00.000000000",
          "2025-05-31T00:00:00.000000000",
          "2025-06-01T00:00:00.000000000",
          "2025-06-02T00:00:00.000000000",
          "2025-06-03T00:00:00.000000000",
          "2025-06-04T00:00:00.000000000",
          "2025-06-05T00:00:00.000000000",
          "2025-06-06T00:00:00.000000000",
          "2025-06-07T00:00:00.000000000",
          "2025-06-08T00:00:00.000000000",
          "2025-06-09T00:00:00.000000000",
          "2025-06-10T00:00:00.000000000",
          "2025-06-11T00:00:00.000000000",
          "2025-06-12T00:00:00.000000000",
          "2025-06-13T00:00:00.000000000",
          "2025-06-14T00:00:00.000000000",
          "2025-06-15T00:00:00.000000000",
          "2025-06-16T00:00:00.000000000",
          "2025-06-17T00:00:00.000000000",
          "2025-06-18T00:00:00.000000000",
          "2025-06-19T00:00:00.000000000",
          "2025-06-20T00:00:00.000000000",
          "2025-06-21T00:00:00.000000000",
          "2025-06-22T00:00:00.000000000",
          "2025-06-23T00:00:00.000000000",
          "2025-06-24T00:00:00.000000000",
          "2025-06-25T00:00:00.000000000",
          "2025-06-26T00:00:00.000000000",
          "2025-06-27T00:00:00.000000000",
          "2025-06-28T00:00:00.000000000",
          "2025-06-29T00:00:00.000000000",
          "2025-06-30T00:00:00.000000000",
          "2025-07-01T00:00:00.000000000",
          "2025-07-02T00:00:00.000000000",
          "2025-07-03T00:00:00.000000000",
          "2025-07-04T00:00:00.000000000",
          "2025-07-05T00:00:00.000000000",
          "2025-07-06T00:00:00.000000000",
          "2025-07-07T00:00:00.000000000",
          "2025-07-08T00:00:00.000000000",
          "2025-07-09T00:00:00.000000000",
          "2025-07-10T00:00:00.000000000",
          "2025-07-11T00:00:00.000000000",
          "2025-07-12T00:00:00.000000000",
          "2025-07-13T00:00:00.000000000",
          "2025-07-14T00:00:00.000000000",
          "2025-07-15T00:00:00.000000000",
          "2025-07-16T00:00:00.000000000",
          "2025-07-17T00:00:00.000000000",
          "2025-07-18T00:00:00.000000000",
          "2025-07-19T00:00:00.000000000",
          "2025-07-20T00:00:00.000000000",
          "2025-07-21T00:00:00.000000000",
          "2025-07-22T00:00:00.000000000",
          "2025-07-23T00:00:00.000000000",
          "2025-07-24T00:00:00.000000000",
          "2025-07-25T00:00:00.000000000",
          "2025-07-26T00:00:00.000000000",
          "2025-07-27T00:00:00.000000000",
          "2025-07-28T00:00:00.000000000",
          "2025-07-29T00:00:00.000000000",
          "2025-07-30T00:00:00.000000000",
          "2025-07-31T00:00:00.000000000",
          "2025-08-01T00:00:00.000000000",
          "2025-08-02T00:00:00.000000000",
          "2025-08-03T00:00:00.000000000",
          "2025-08-04T00:00:00.000000000",
          "2025-08-05T00:00:00.000000000",
          "2025-08-06T00:00:00.000000000",
          "2025-08-07T00:00:00.000000000",
          "2025-08-08T00:00:00.000000000",
          "2025-08-09T00:00:00.000000000",
          "2025-08-10T00:00:00.000000000",
          "2025-08-11T00:00:00.000000000",
          "2025-08-12T00:00:00.000000000",
          "2025-08-13T00:00:00.000000000",
          "2025-08-14T00:00:00.000000000",
          "2025-08-15T00:00:00.000000000",
          "2025-08-16T00:00:00.000000000",
          "2025-08-17T00:00:00.000000000",
          "2025-08-18T00:00:00.000000000",
          "2025-08-19T00:00:00.000000000",
          "2025-08-20T00:00:00.000000000",
          "2025-08-21T00:00:00.000000000",
          "2025-08-22T00:00:00.000000000",
          "2025-08-23T00:00:00.000000000",
          "2025-08-24T00:00:00.000000000",
          "2025-08-25T00:00:00.000000000",
          "2025-08-26T00:00:00.000000000",
          "2025-08-27T00:00:00.000000000",
          "2025-08-28T00:00:00.000000000",
          "2025-08-29T00:00:00.000000000",
          "2025-08-30T00:00:00.000000000",
          "2025-08-31T00:00:00.000000000",
          "2025-09-01T00:00:00.000000000",
          "2025-09-01T13:54:29.000000000"
         ],
         "y": {
          "bdata": "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",
          "dtype": "f8"
         }
        },
        {
         "mode": "lines",
         "name": "BUSD",
         "type": "scatter",
         "x": [
          "2024-09-02T00:00:00.000000000",
          "2024-09-03T00:00:00.000000000",
          "2024-09-04T00:00:00.000000000",
          "2024-09-05T00:00:00.000000000",
          "2024-09-06T00:00:00.000000000",
          "2024-09-07T00:00:00.000000000",
          "2024-09-08T00:00:00.000000000",
          "2024-09-09T00:00:00.000000000",
          "2024-09-10T00:00:00.000000000",
          "2024-09-11T00:00:00.000000000",
          "2024-09-12T00:00:00.000000000",
          "2024-09-13T00:00:00.000000000",
          "2024-09-14T00:00:00.000000000",
          "2024-09-15T00:00:00.000000000",
          "2024-09-16T00:00:00.000000000",
          "2024-09-17T00:00:00.000000000",
          "2024-09-18T00:00:00.000000000",
          "2024-09-19T00:00:00.000000000",
          "2024-09-20T00:00:00.000000000",
          "2024-09-21T00:00:00.000000000",
          "2024-09-22T00:00:00.000000000",
          "2024-09-23T00:00:00.000000000",
          "2024-09-24T00:00:00.000000000",
          "2024-09-25T00:00:00.000000000",
          "2024-09-26T00:00:00.000000000",
          "2024-09-27T00:00:00.000000000",
          "2024-09-28T00:00:00.000000000",
          "2024-09-29T00:00:00.000000000",
          "2024-09-30T00:00:00.000000000",
          "2024-10-01T00:00:00.000000000",
          "2024-10-02T00:00:00.000000000",
          "2024-10-03T00:00:00.000000000",
          "2024-10-04T00:00:00.000000000",
          "2024-10-05T00:00:00.000000000",
          "2024-10-06T00:00:00.000000000",
          "2024-10-07T00:00:00.000000000",
          "2024-10-08T00:00:00.000000000",
          "2024-10-09T00:00:00.000000000",
          "2024-10-10T00:00:00.000000000",
          "2024-10-11T00:00:00.000000000",
          "2024-10-12T00:00:00.000000000",
          "2024-10-13T00:00:00.000000000",
          "2024-10-14T00:00:00.000000000",
          "2024-10-15T00:00:00.000000000",
          "2024-10-16T00:00:00.000000000",
          "2024-10-17T00:00:00.000000000",
          "2024-10-18T00:00:00.000000000",
          "2024-10-19T00:00:00.000000000",
          "2024-10-20T00:00:00.000000000",
          "2024-10-21T00:00:00.000000000",
          "2024-10-22T00:00:00.000000000",
          "2024-10-23T00:00:00.000000000",
          "2024-10-24T00:00:00.000000000",
          "2024-10-25T00:00:00.000000000",
          "2024-10-26T00:00:00.000000000",
          "2024-10-27T00:00:00.000000000",
          "2024-10-28T00:00:00.000000000",
          "2024-10-29T00:00:00.000000000",
          "2024-10-30T00:00:00.000000000",
          "2024-10-31T00:00:00.000000000",
          "2024-11-01T00:00:00.000000000",
          "2024-11-02T00:00:00.000000000",
          "2024-11-03T00:00:00.000000000",
          "2024-11-04T00:00:00.000000000",
          "2024-11-05T00:00:00.000000000",
          "2024-11-06T00:00:00.000000000",
          "2024-11-07T00:00:00.000000000",
          "2024-11-08T00:00:00.000000000",
          "2024-11-09T00:00:00.000000000",
          "2024-11-10T00:00:00.000000000",
          "2024-11-11T00:00:00.000000000",
          "2024-11-12T00:00:00.000000000",
          "2024-11-13T00:00:00.000000000",
          "2024-11-14T00:00:00.000000000",
          "2024-11-15T00:00:00.000000000",
          "2024-11-16T00:00:00.000000000",
          "2024-11-17T00:00:00.000000000",
          "2024-11-18T00:00:00.000000000",
          "2024-11-19T00:00:00.000000000",
          "2024-11-20T00:00:00.000000000",
          "2024-11-21T00:00:00.000000000",
          "2024-11-22T00:00:00.000000000",
          "2024-11-23T00:00:00.000000000",
          "2024-11-24T00:00:00.000000000",
          "2024-11-25T00:00:00.000000000",
          "2024-11-26T00:00:00.000000000",
          "2024-11-27T00:00:00.000000000",
          "2024-11-28T00:00:00.000000000",
          "2024-11-29T00:00:00.000000000",
          "2024-11-30T00:00:00.000000000",
          "2024-12-01T00:00:00.000000000",
          "2024-12-02T00:00:00.000000000",
          "2024-12-03T00:00:00.000000000",
          "2024-12-04T00:00:00.000000000",
          "2024-12-05T00:00:00.000000000",
          "2024-12-06T00:00:00.000000000",
          "2024-12-07T00:00:00.000000000",
          "2024-12-08T00:00:00.000000000",
          "2024-12-09T00:00:00.000000000",
          "2024-12-10T00:00:00.000000000",
          "2024-12-11T00:00:00.000000000",
          "2024-12-12T00:00:00.000000000",
          "2024-12-13T00:00:00.000000000",
          "2024-12-14T00:00:00.000000000",
          "2024-12-15T00:00:00.000000000",
          "2024-12-16T00:00:00.000000000",
          "2024-12-17T00:00:00.000000000",
          "2024-12-18T00:00:00.000000000",
          "2024-12-19T00:00:00.000000000",
          "2024-12-20T00:00:00.000000000",
          "2024-12-21T00:00:00.000000000",
          "2024-12-22T00:00:00.000000000",
          "2024-12-23T00:00:00.000000000",
          "2024-12-24T00:00:00.000000000",
          "2024-12-25T00:00:00.000000000",
          "2024-12-26T00:00:00.000000000",
          "2024-12-27T00:00:00.000000000",
          "2024-12-28T00:00:00.000000000",
          "2024-12-29T00:00:00.000000000",
          "2024-12-30T00:00:00.000000000",
          "2024-12-31T00:00:00.000000000",
          "2025-01-01T00:00:00.000000000",
          "2025-01-02T00:00:00.000000000",
          "2025-01-03T00:00:00.000000000",
          "2025-01-04T00:00:00.000000000",
          "2025-01-05T00:00:00.000000000",
          "2025-01-06T00:00:00.000000000",
          "2025-01-07T00:00:00.000000000",
          "2025-01-08T00:00:00.000000000",
          "2025-01-09T00:00:00.000000000",
          "2025-01-10T00:00:00.000000000",
          "2025-01-11T00:00:00.000000000",
          "2025-01-12T00:00:00.000000000",
          "2025-01-13T00:00:00.000000000",
          "2025-01-14T00:00:00.000000000",
          "2025-01-15T00:00:00.000000000",
          "2025-01-16T00:00:00.000000000",
          "2025-01-17T00:00:00.000000000",
          "2025-01-18T00:00:00.000000000",
          "2025-01-19T00:00:00.000000000",
          "2025-01-20T00:00:00.000000000",
          "2025-01-21T00:00:00.000000000",
          "2025-01-22T00:00:00.000000000",
          "2025-01-23T00:00:00.000000000",
          "2025-01-24T00:00:00.000000000",
          "2025-01-25T00:00:00.000000000",
          "2025-01-26T00:00:00.000000000",
          "2025-01-27T00:00:00.000000000",
          "2025-01-28T00:00:00.000000000",
          "2025-01-29T00:00:00.000000000",
          "2025-01-30T00:00:00.000000000",
          "2025-01-31T00:00:00.000000000",
          "2025-02-01T00:00:00.000000000",
          "2025-02-02T00:00:00.000000000",
          "2025-02-03T00:00:00.000000000",
          "2025-02-04T00:00:00.000000000",
          "2025-02-05T00:00:00.000000000",
          "2025-02-06T00:00:00.000000000",
          "2025-02-07T00:00:00.000000000",
          "2025-02-08T00:00:00.000000000",
          "2025-02-09T00:00:00.000000000",
          "2025-02-10T00:00:00.000000000",
          "2025-02-11T00:00:00.000000000",
          "2025-02-12T00:00:00.000000000",
          "2025-02-13T00:00:00.000000000",
          "2025-02-14T00:00:00.000000000",
          "2025-02-15T00:00:00.000000000",
          "2025-02-16T00:00:00.000000000",
          "2025-02-17T00:00:00.000000000",
          "2025-02-18T00:00:00.000000000",
          "2025-02-19T00:00:00.000000000",
          "2025-02-20T00:00:00.000000000",
          "2025-02-21T00:00:00.000000000",
          "2025-02-22T00:00:00.000000000",
          "2025-02-23T00:00:00.000000000",
          "2025-02-24T00:00:00.000000000",
          "2025-02-25T00:00:00.000000000",
          "2025-02-26T00:00:00.000000000",
          "2025-02-27T00:00:00.000000000",
          "2025-02-28T00:00:00.000000000",
          "2025-03-01T00:00:00.000000000",
          "2025-03-02T00:00:00.000000000",
          "2025-03-03T00:00:00.000000000",
          "2025-03-04T00:00:00.000000000",
          "2025-03-05T00:00:00.000000000",
          "2025-03-06T00:00:00.000000000",
          "2025-03-07T00:00:00.000000000",
          "2025-03-08T00:00:00.000000000",
          "2025-03-09T00:00:00.000000000",
          "2025-03-10T00:00:00.000000000",
          "2025-03-11T00:00:00.000000000",
          "2025-03-12T00:00:00.000000000",
          "2025-03-13T00:00:00.000000000",
          "2025-03-14T00:00:00.000000000",
          "2025-03-15T00:00:00.000000000",
          "2025-03-16T00:00:00.000000000",
          "2025-03-17T00:00:00.000000000",
          "2025-03-18T00:00:00.000000000",
          "2025-03-19T00:00:00.000000000",
          "2025-03-20T00:00:00.000000000",
          "2025-03-21T00:00:00.000000000",
          "2025-03-22T00:00:00.000000000",
          "2025-03-23T00:00:00.000000000",
          "2025-03-24T00:00:00.000000000",
          "2025-03-25T00:00:00.000000000",
          "2025-03-26T00:00:00.000000000",
          "2025-03-27T00:00:00.000000000",
          "2025-03-28T00:00:00.000000000",
          "2025-03-29T00:00:00.000000000",
          "2025-03-30T00:00:00.000000000",
          "2025-03-31T00:00:00.000000000",
          "2025-04-01T00:00:00.000000000",
          "2025-04-02T00:00:00.000000000",
          "2025-04-03T00:00:00.000000000",
          "2025-04-04T00:00:00.000000000",
          "2025-04-05T00:00:00.000000000",
          "2025-04-06T00:00:00.000000000",
          "2025-04-07T00:00:00.000000000",
          "2025-04-08T00:00:00.000000000",
          "2025-04-09T00:00:00.000000000",
          "2025-04-10T00:00:00.000000000",
          "2025-04-11T00:00:00.000000000",
          "2025-04-12T00:00:00.000000000",
          "2025-04-13T00:00:00.000000000",
          "2025-04-14T00:00:00.000000000",
          "2025-04-15T00:00:00.000000000",
          "2025-04-16T00:00:00.000000000",
          "2025-04-17T00:00:00.000000000",
          "2025-04-18T00:00:00.000000000",
          "2025-04-19T00:00:00.000000000",
          "2025-04-20T00:00:00.000000000",
          "2025-04-21T00:00:00.000000000",
          "2025-04-22T00:00:00.000000000",
          "2025-04-23T00:00:00.000000000",
          "2025-04-24T00:00:00.000000000",
          "2025-04-25T00:00:00.000000000",
          "2025-04-26T00:00:00.000000000",
          "2025-04-27T00:00:00.000000000",
          "2025-04-28T00:00:00.000000000",
          "2025-04-29T00:00:00.000000000",
          "2025-04-30T00:00:00.000000000",
          "2025-05-01T00:00:00.000000000",
          "2025-05-02T00:00:00.000000000",
          "2025-05-03T00:00:00.000000000",
          "2025-05-04T00:00:00.000000000",
          "2025-05-05T00:00:00.000000000",
          "2025-05-06T00:00:00.000000000",
          "2025-05-07T00:00:00.000000000",
          "2025-05-08T00:00:00.000000000",
          "2025-05-09T00:00:00.000000000",
          "2025-05-10T00:00:00.000000000",
          "2025-05-11T00:00:00.000000000",
          "2025-05-12T00:00:00.000000000",
          "2025-05-13T00:00:00.000000000",
          "2025-05-14T00:00:00.000000000",
          "2025-05-15T00:00:00.000000000",
          "2025-05-16T00:00:00.000000000",
          "2025-05-17T00:00:00.000000000",
          "2025-05-18T00:00:00.000000000",
          "2025-05-19T00:00:00.000000000",
          "2025-05-20T00:00:00.000000000",
          "2025-05-21T00:00:00.000000000",
          "2025-05-22T00:00:00.000000000",
          "2025-05-23T00:00:00.000000000",
          "2025-05-24T00:00:00.000000000",
          "2025-05-25T00:00:00.000000000",
          "2025-05-26T00:00:00.000000000",
          "2025-05-27T00:00:00.000000000",
          "2025-05-28T00:00:00.000000000",
          "2025-05-29T00:00:00.000000000",
          "2025-05-30T00:00:00.000000000",
          "2025-05-31T00:00:00.000000000",
          "2025-06-01T00:00:00.000000000",
          "2025-06-02T00:00:00.000000000",
          "2025-06-03T00:00:00.000000000",
          "2025-06-04T00:00:00.000000000",
          "2025-06-05T00:00:00.000000000",
          "2025-06-06T00:00:00.000000000",
          "2025-06-07T00:00:00.000000000",
          "2025-06-08T00:00:00.000000000",
          "2025-06-09T00:00:00.000000000",
          "2025-06-10T00:00:00.000000000",
          "2025-06-11T00:00:00.000000000",
          "2025-06-12T00:00:00.000000000",
          "2025-06-13T00:00:00.000000000",
          "2025-06-14T00:00:00.000000000",
          "2025-06-15T00:00:00.000000000",
          "2025-06-16T00:00:00.000000000",
          "2025-06-17T00:00:00.000000000",
          "2025-06-18T00:00:00.000000000",
          "2025-06-19T00:00:00.000000000",
          "2025-06-20T00:00:00.000000000",
          "2025-06-21T00:00:00.000000000",
          "2025-06-22T00:00:00.000000000",
          "2025-06-23T00:00:00.000000000",
          "2025-06-24T00:00:00.000000000",
          "2025-06-25T00:00:00.000000000",
          "2025-06-26T00:00:00.000000000",
          "2025-06-27T00:00:00.000000000",
          "2025-06-28T00:00:00.000000000",
          "2025-06-29T00:00:00.000000000",
          "2025-06-30T00:00:00.000000000",
          "2025-07-01T00:00:00.000000000",
          "2025-07-02T00:00:00.000000000",
          "2025-07-03T00:00:00.000000000",
          "2025-07-04T00:00:00.000000000",
          "2025-07-05T00:00:00.000000000",
          "2025-07-06T00:00:00.000000000",
          "2025-07-07T00:00:00.000000000",
          "2025-07-08T00:00:00.000000000",
          "2025-07-09T00:00:00.000000000",
          "2025-07-10T00:00:00.000000000",
          "2025-07-11T00:00:00.000000000",
          "2025-07-12T00:00:00.000000000",
          "2025-07-13T00:00:00.000000000",
          "2025-07-14T00:00:00.000000000",
          "2025-07-15T00:00:00.000000000",
          "2025-07-16T00:00:00.000000000",
          "2025-07-17T00:00:00.000000000",
          "2025-07-18T00:00:00.000000000",
          "2025-07-19T00:00:00.000000000",
          "2025-07-20T00:00:00.000000000",
          "2025-07-21T00:00:00.000000000",
          "2025-07-22T00:00:00.000000000",
          "2025-07-23T00:00:00.000000000",
          "2025-07-24T00:00:00.000000000",
          "2025-07-25T00:00:00.000000000",
          "2025-07-26T00:00:00.000000000",
          "2025-07-27T00:00:00.000000000",
          "2025-07-28T00:00:00.000000000",
          "2025-07-29T00:00:00.000000000",
          "2025-07-30T00:00:00.000000000",
          "2025-07-31T00:00:00.000000000",
          "2025-08-01T00:00:00.000000000",
          "2025-08-02T00:00:00.000000000",
          "2025-08-03T00:00:00.000000000",
          "2025-08-04T00:00:00.000000000",
          "2025-08-05T00:00:00.000000000",
          "2025-08-06T00:00:00.000000000",
          "2025-08-07T00:00:00.000000000",
          "2025-08-08T00:00:00.000000000",
          "2025-08-09T00:00:00.000000000",
          "2025-08-10T00:00:00.000000000",
          "2025-08-11T00:00:00.000000000",
          "2025-08-12T00:00:00.000000000",
          "2025-08-13T00:00:00.000000000",
          "2025-08-14T00:00:00.000000000",
          "2025-08-15T00:00:00.000000000",
          "2025-08-16T00:00:00.000000000",
          "2025-08-17T00:00:00.000000000",
          "2025-08-18T00:00:00.000000000",
          "2025-08-19T00:00:00.000000000",
          "2025-08-20T00:00:00.000000000",
          "2025-08-21T00:00:00.000000000",
          "2025-08-22T00:00:00.000000000",
          "2025-08-23T00:00:00.000000000",
          "2025-08-24T00:00:00.000000000",
          "2025-08-25T00:00:00.000000000",
          "2025-08-26T00:00:00.000000000",
          "2025-08-27T00:00:00.000000000",
          "2025-08-28T00:00:00.000000000",
          "2025-08-29T00:00:00.000000000",
          "2025-08-30T00:00:00.000000000",
          "2025-08-31T00:00:00.000000000",
          "2025-09-01T00:00:00.000000000",
          "2025-09-01T13:54:35.000000000"
         ],
         "y": {
          "bdata": "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",
          "dtype": "f8"
         }
        },
        {
         "mode": "lines",
         "name": "TUSD",
         "type": "scatter",
         "x": [
          "2024-09-02T00:00:00.000000000",
          "2024-09-03T00:00:00.000000000",
          "2024-09-04T00:00:00.000000000",
          "2024-09-05T00:00:00.000000000",
          "2024-09-06T00:00:00.000000000",
          "2024-09-07T00:00:00.000000000",
          "2024-09-08T00:00:00.000000000",
          "2024-09-09T00:00:00.000000000",
          "2024-09-10T00:00:00.000000000",
          "2024-09-11T00:00:00.000000000",
          "2024-09-12T00:00:00.000000000",
          "2024-09-13T00:00:00.000000000",
          "2024-09-14T00:00:00.000000000",
          "2024-09-15T00:00:00.000000000",
          "2024-09-16T00:00:00.000000000",
          "2024-09-17T00:00:00.000000000",
          "2024-09-18T00:00:00.000000000",
          "2024-09-19T00:00:00.000000000",
          "2024-09-20T00:00:00.000000000",
          "2024-09-21T00:00:00.000000000",
          "2024-09-22T00:00:00.000000000",
          "2024-09-23T00:00:00.000000000",
          "2024-09-24T00:00:00.000000000",
          "2024-09-25T00:00:00.000000000",
          "2024-09-26T00:00:00.000000000",
          "2024-09-27T00:00:00.000000000",
          "2024-09-28T00:00:00.000000000",
          "2024-09-29T00:00:00.000000000",
          "2024-09-30T00:00:00.000000000",
          "2024-10-01T00:00:00.000000000",
          "2024-10-02T00:00:00.000000000",
          "2024-10-03T00:00:00.000000000",
          "2024-10-04T00:00:00.000000000",
          "2024-10-05T00:00:00.000000000",
          "2024-10-06T00:00:00.000000000",
          "2024-10-07T00:00:00.000000000",
          "2024-10-08T00:00:00.000000000",
          "2024-10-09T00:00:00.000000000",
          "2024-10-10T00:00:00.000000000",
          "2024-10-11T00:00:00.000000000",
          "2024-10-12T00:00:00.000000000",
          "2024-10-13T00:00:00.000000000",
          "2024-10-14T00:00:00.000000000",
          "2024-10-15T00:00:00.000000000",
          "2024-10-16T00:00:00.000000000",
          "2024-10-17T00:00:00.000000000",
          "2024-10-18T00:00:00.000000000",
          "2024-10-19T00:00:00.000000000",
          "2024-10-20T00:00:00.000000000",
          "2024-10-21T00:00:00.000000000",
          "2024-10-22T00:00:00.000000000",
          "2024-10-23T00:00:00.000000000",
          "2024-10-24T00:00:00.000000000",
          "2024-10-25T00:00:00.000000000",
          "2024-10-26T00:00:00.000000000",
          "2024-10-27T00:00:00.000000000",
          "2024-10-28T00:00:00.000000000",
          "2024-10-29T00:00:00.000000000",
          "2024-10-30T00:00:00.000000000",
          "2024-10-31T00:00:00.000000000",
          "2024-11-01T00:00:00.000000000",
          "2024-11-02T00:00:00.000000000",
          "2024-11-03T00:00:00.000000000",
          "2024-11-04T00:00:00.000000000",
          "2024-11-05T00:00:00.000000000",
          "2024-11-06T00:00:00.000000000",
          "2024-11-07T00:00:00.000000000",
          "2024-11-08T00:00:00.000000000",
          "2024-11-09T00:00:00.000000000",
          "2024-11-10T00:00:00.000000000",
          "2024-11-11T00:00:00.000000000",
          "2024-11-12T00:00:00.000000000",
          "2024-11-13T00:00:00.000000000",
          "2024-11-14T00:00:00.000000000",
          "2024-11-15T00:00:00.000000000",
          "2024-11-16T00:00:00.000000000",
          "2024-11-17T00:00:00.000000000",
          "2024-11-18T00:00:00.000000000",
          "2024-11-19T00:00:00.000000000",
          "2024-11-20T00:00:00.000000000",
          "2024-11-21T00:00:00.000000000",
          "2024-11-22T00:00:00.000000000",
          "2024-11-23T00:00:00.000000000",
          "2024-11-24T00:00:00.000000000",
          "2024-11-25T00:00:00.000000000",
          "2024-11-26T00:00:00.000000000",
          "2024-11-27T00:00:00.000000000",
          "2024-11-28T00:00:00.000000000",
          "2024-11-29T00:00:00.000000000",
          "2024-11-30T00:00:00.000000000",
          "2024-12-01T00:00:00.000000000",
          "2024-12-02T00:00:00.000000000",
          "2024-12-03T00:00:00.000000000",
          "2024-12-04T00:00:00.000000000",
          "2024-12-05T00:00:00.000000000",
          "2024-12-06T00:00:00.000000000",
          "2024-12-07T00:00:00.000000000",
          "2024-12-08T00:00:00.000000000",
          "2024-12-09T00:00:00.000000000",
          "2024-12-10T00:00:00.000000000",
          "2024-12-11T00:00:00.000000000",
          "2024-12-12T00:00:00.000000000",
          "2024-12-13T00:00:00.000000000",
          "2024-12-14T00:00:00.000000000",
          "2024-12-15T00:00:00.000000000",
          "2024-12-16T00:00:00.000000000",
          "2024-12-17T00:00:00.000000000",
          "2024-12-18T00:00:00.000000000",
          "2024-12-19T00:00:00.000000000",
          "2024-12-20T00:00:00.000000000",
          "2024-12-21T00:00:00.000000000",
          "2024-12-22T00:00:00.000000000",
          "2024-12-23T00:00:00.000000000",
          "2024-12-24T00:00:00.000000000",
          "2024-12-25T00:00:00.000000000",
          "2024-12-26T00:00:00.000000000",
          "2024-12-27T00:00:00.000000000",
          "2024-12-28T00:00:00.000000000",
          "2024-12-29T00:00:00.000000000",
          "2024-12-30T00:00:00.000000000",
          "2024-12-31T00:00:00.000000000",
          "2025-01-01T00:00:00.000000000",
          "2025-01-02T00:00:00.000000000",
          "2025-01-03T00:00:00.000000000",
          "2025-01-04T00:00:00.000000000",
          "2025-01-05T00:00:00.000000000",
          "2025-01-06T00:00:00.000000000",
          "2025-01-07T00:00:00.000000000",
          "2025-01-08T00:00:00.000000000",
          "2025-01-09T00:00:00.000000000",
          "2025-01-10T00:00:00.000000000",
          "2025-01-11T00:00:00.000000000",
          "2025-01-12T00:00:00.000000000",
          "2025-01-13T00:00:00.000000000",
          "2025-01-14T00:00:00.000000000",
          "2025-01-15T00:00:00.000000000",
          "2025-01-16T00:00:00.000000000",
          "2025-01-17T00:00:00.000000000",
          "2025-01-18T00:00:00.000000000",
          "2025-01-19T00:00:00.000000000",
          "2025-01-20T00:00:00.000000000",
          "2025-01-21T00:00:00.000000000",
          "2025-01-22T00:00:00.000000000",
          "2025-01-23T00:00:00.000000000",
          "2025-01-24T00:00:00.000000000",
          "2025-01-25T00:00:00.000000000",
          "2025-01-26T00:00:00.000000000",
          "2025-01-27T00:00:00.000000000",
          "2025-01-28T00:00:00.000000000",
          "2025-01-29T00:00:00.000000000",
          "2025-01-30T00:00:00.000000000",
          "2025-01-31T00:00:00.000000000",
          "2025-02-01T00:00:00.000000000",
          "2025-02-02T00:00:00.000000000",
          "2025-02-03T00:00:00.000000000",
          "2025-02-04T00:00:00.000000000",
          "2025-02-05T00:00:00.000000000",
          "2025-02-06T00:00:00.000000000",
          "2025-02-07T00:00:00.000000000",
          "2025-02-08T00:00:00.000000000",
          "2025-02-09T00:00:00.000000000",
          "2025-02-10T00:00:00.000000000",
          "2025-02-11T00:00:00.000000000",
          "2025-02-12T00:00:00.000000000",
          "2025-02-13T00:00:00.000000000",
          "2025-02-14T00:00:00.000000000",
          "2025-02-15T00:00:00.000000000",
          "2025-02-16T00:00:00.000000000",
          "2025-02-17T00:00:00.000000000",
          "2025-02-18T00:00:00.000000000",
          "2025-02-19T00:00:00.000000000",
          "2025-02-20T00:00:00.000000000",
          "2025-02-21T00:00:00.000000000",
          "2025-02-22T00:00:00.000000000",
          "2025-02-23T00:00:00.000000000",
          "2025-02-24T00:00:00.000000000",
          "2025-02-25T00:00:00.000000000",
          "2025-02-26T00:00:00.000000000",
          "2025-02-27T00:00:00.000000000",
          "2025-02-28T00:00:00.000000000",
          "2025-03-01T00:00:00.000000000",
          "2025-03-02T00:00:00.000000000",
          "2025-03-03T00:00:00.000000000",
          "2025-03-04T00:00:00.000000000",
          "2025-03-05T00:00:00.000000000",
          "2025-03-06T00:00:00.000000000",
          "2025-03-07T00:00:00.000000000",
          "2025-03-08T00:00:00.000000000",
          "2025-03-09T00:00:00.000000000",
          "2025-03-10T00:00:00.000000000",
          "2025-03-11T00:00:00.000000000",
          "2025-03-12T00:00:00.000000000",
          "2025-03-13T00:00:00.000000000",
          "2025-03-14T00:00:00.000000000",
          "2025-03-15T00:00:00.000000000",
          "2025-03-16T00:00:00.000000000",
          "2025-03-17T00:00:00.000000000",
          "2025-03-18T00:00:00.000000000",
          "2025-03-19T00:00:00.000000000",
          "2025-03-20T00:00:00.000000000",
          "2025-03-21T00:00:00.000000000",
          "2025-03-22T00:00:00.000000000",
          "2025-03-23T00:00:00.000000000",
          "2025-03-24T00:00:00.000000000",
          "2025-03-25T00:00:00.000000000",
          "2025-03-26T00:00:00.000000000",
          "2025-03-27T00:00:00.000000000",
          "2025-03-28T00:00:00.000000000",
          "2025-03-29T00:00:00.000000000",
          "2025-03-30T00:00:00.000000000",
          "2025-03-31T00:00:00.000000000",
          "2025-04-01T00:00:00.000000000",
          "2025-04-02T00:00:00.000000000",
          "2025-04-03T00:00:00.000000000",
          "2025-04-04T00:00:00.000000000",
          "2025-04-05T00:00:00.000000000",
          "2025-04-06T00:00:00.000000000",
          "2025-04-07T00:00:00.000000000",
          "2025-04-08T00:00:00.000000000",
          "2025-04-09T00:00:00.000000000",
          "2025-04-10T00:00:00.000000000",
          "2025-04-11T00:00:00.000000000",
          "2025-04-12T00:00:00.000000000",
          "2025-04-13T00:00:00.000000000",
          "2025-04-14T00:00:00.000000000",
          "2025-04-15T00:00:00.000000000",
          "2025-04-16T00:00:00.000000000",
          "2025-04-17T00:00:00.000000000",
          "2025-04-18T00:00:00.000000000",
          "2025-04-19T00:00:00.000000000",
          "2025-04-20T00:00:00.000000000",
          "2025-04-21T00:00:00.000000000",
          "2025-04-22T00:00:00.000000000",
          "2025-04-23T00:00:00.000000000",
          "2025-04-24T00:00:00.000000000",
          "2025-04-25T00:00:00.000000000",
          "2025-04-26T00:00:00.000000000",
          "2025-04-27T00:00:00.000000000",
          "2025-04-28T00:00:00.000000000",
          "2025-04-29T00:00:00.000000000",
          "2025-04-30T00:00:00.000000000",
          "2025-05-01T00:00:00.000000000",
          "2025-05-02T00:00:00.000000000",
          "2025-05-03T00:00:00.000000000",
          "2025-05-04T00:00:00.000000000",
          "2025-05-05T00:00:00.000000000",
          "2025-05-06T00:00:00.000000000",
          "2025-05-07T00:00:00.000000000",
          "2025-05-08T00:00:00.000000000",
          "2025-05-09T00:00:00.000000000",
          "2025-05-10T00:00:00.000000000",
          "2025-05-11T00:00:00.000000000",
          "2025-05-12T00:00:00.000000000",
          "2025-05-13T00:00:00.000000000",
          "2025-05-14T00:00:00.000000000",
          "2025-05-15T00:00:00.000000000",
          "2025-05-16T00:00:00.000000000",
          "2025-05-17T00:00:00.000000000",
          "2025-05-18T00:00:00.000000000",
          "2025-05-19T00:00:00.000000000",
          "2025-05-20T00:00:00.000000000",
          "2025-05-21T00:00:00.000000000",
          "2025-05-22T00:00:00.000000000",
          "2025-05-23T00:00:00.000000000",
          "2025-05-24T00:00:00.000000000",
          "2025-05-25T00:00:00.000000000",
          "2025-05-26T00:00:00.000000000",
          "2025-05-27T00:00:00.000000000",
          "2025-05-28T00:00:00.000000000",
          "2025-05-29T00:00:00.000000000",
          "2025-05-30T00:00:00.000000000",
          "2025-05-31T00:00:00.000000000",
          "2025-06-01T00:00:00.000000000",
          "2025-06-02T00:00:00.000000000",
          "2025-06-03T00:00:00.000000000",
          "2025-06-04T00:00:00.000000000",
          "2025-06-05T00:00:00.000000000",
          "2025-06-06T00:00:00.000000000",
          "2025-06-07T00:00:00.000000000",
          "2025-06-08T00:00:00.000000000",
          "2025-06-09T00:00:00.000000000",
          "2025-06-10T00:00:00.000000000",
          "2025-06-11T00:00:00.000000000",
          "2025-06-12T00:00:00.000000000",
          "2025-06-13T00:00:00.000000000",
          "2025-06-14T00:00:00.000000000",
          "2025-06-15T00:00:00.000000000",
          "2025-06-16T00:00:00.000000000",
          "2025-06-17T00:00:00.000000000",
          "2025-06-18T00:00:00.000000000",
          "2025-06-19T00:00:00.000000000",
          "2025-06-20T00:00:00.000000000",
          "2025-06-21T00:00:00.000000000",
          "2025-06-22T00:00:00.000000000",
          "2025-06-23T00:00:00.000000000",
          "2025-06-24T00:00:00.000000000",
          "2025-06-25T00:00:00.000000000",
          "2025-06-26T00:00:00.000000000",
          "2025-06-27T00:00:00.000000000",
          "2025-06-28T00:00:00.000000000",
          "2025-06-29T00:00:00.000000000",
          "2025-06-30T00:00:00.000000000",
          "2025-07-01T00:00:00.000000000",
          "2025-07-02T00:00:00.000000000",
          "2025-07-03T00:00:00.000000000",
          "2025-07-04T00:00:00.000000000",
          "2025-07-05T00:00:00.000000000",
          "2025-07-06T00:00:00.000000000",
          "2025-07-07T00:00:00.000000000",
          "2025-07-08T00:00:00.000000000",
          "2025-07-09T00:00:00.000000000",
          "2025-07-10T00:00:00.000000000",
          "2025-07-11T00:00:00.000000000",
          "2025-07-12T00:00:00.000000000",
          "2025-07-13T00:00:00.000000000",
          "2025-07-14T00:00:00.000000000",
          "2025-07-15T00:00:00.000000000",
          "2025-07-16T00:00:00.000000000",
          "2025-07-17T00:00:00.000000000",
          "2025-07-18T00:00:00.000000000",
          "2025-07-19T00:00:00.000000000",
          "2025-07-20T00:00:00.000000000",
          "2025-07-21T00:00:00.000000000",
          "2025-07-22T00:00:00.000000000",
          "2025-07-23T00:00:00.000000000",
          "2025-07-24T00:00:00.000000000",
          "2025-07-25T00:00:00.000000000",
          "2025-07-26T00:00:00.000000000",
          "2025-07-27T00:00:00.000000000",
          "2025-07-28T00:00:00.000000000",
          "2025-07-29T00:00:00.000000000",
          "2025-07-30T00:00:00.000000000",
          "2025-07-31T00:00:00.000000000",
          "2025-08-01T00:00:00.000000000",
          "2025-08-02T00:00:00.000000000",
          "2025-08-03T00:00:00.000000000",
          "2025-08-04T00:00:00.000000000",
          "2025-08-05T00:00:00.000000000",
          "2025-08-06T00:00:00.000000000",
          "2025-08-07T00:00:00.000000000",
          "2025-08-08T00:00:00.000000000",
          "2025-08-09T00:00:00.000000000",
          "2025-08-10T00:00:00.000000000",
          "2025-08-11T00:00:00.000000000",
          "2025-08-12T00:00:00.000000000",
          "2025-08-13T00:00:00.000000000",
          "2025-08-14T00:00:00.000000000",
          "2025-08-15T00:00:00.000000000",
          "2025-08-16T00:00:00.000000000",
          "2025-08-17T00:00:00.000000000",
          "2025-08-18T00:00:00.000000000",
          "2025-08-19T00:00:00.000000000",
          "2025-08-20T00:00:00.000000000",
          "2025-08-21T00:00:00.000000000",
          "2025-08-22T00:00:00.000000000",
          "2025-08-23T00:00:00.000000000",
          "2025-08-24T00:00:00.000000000",
          "2025-08-25T00:00:00.000000000",
          "2025-08-26T00:00:00.000000000",
          "2025-08-27T00:00:00.000000000",
          "2025-08-28T00:00:00.000000000",
          "2025-08-29T00:00:00.000000000",
          "2025-08-30T00:00:00.000000000",
          "2025-08-31T00:00:00.000000000",
          "2025-09-01T00:00:00.000000000",
          "2025-09-01T13:54:32.000000000"
         ],
         "y": {
          "bdata": "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",
          "dtype": "f8"
         }
        },
        {
         "mode": "lines",
         "name": "FRAX",
         "type": "scatter",
         "x": [
          "2024-09-02T00:00:00.000000000",
          "2024-09-03T00:00:00.000000000",
          "2024-09-04T00:00:00.000000000",
          "2024-09-05T00:00:00.000000000",
          "2024-09-06T00:00:00.000000000",
          "2024-09-07T00:00:00.000000000",
          "2024-09-08T00:00:00.000000000",
          "2024-09-09T00:00:00.000000000",
          "2024-09-10T00:00:00.000000000",
          "2024-09-11T00:00:00.000000000",
          "2024-09-12T00:00:00.000000000",
          "2024-09-13T00:00:00.000000000",
          "2024-09-14T00:00:00.000000000",
          "2024-09-15T00:00:00.000000000",
          "2024-09-16T00:00:00.000000000",
          "2024-09-17T00:00:00.000000000",
          "2024-09-18T00:00:00.000000000",
          "2024-09-19T00:00:00.000000000",
          "2024-09-20T00:00:00.000000000",
          "2024-09-21T00:00:00.000000000",
          "2024-09-22T00:00:00.000000000",
          "2024-09-23T00:00:00.000000000",
          "2024-09-24T00:00:00.000000000",
          "2024-09-25T00:00:00.000000000",
          "2024-09-26T00:00:00.000000000",
          "2024-09-27T00:00:00.000000000",
          "2024-09-28T00:00:00.000000000",
          "2024-09-29T00:00:00.000000000",
          "2024-09-30T00:00:00.000000000",
          "2024-10-01T00:00:00.000000000",
          "2024-10-02T00:00:00.000000000",
          "2024-10-03T00:00:00.000000000",
          "2024-10-04T00:00:00.000000000",
          "2024-10-05T00:00:00.000000000",
          "2024-10-06T00:00:00.000000000",
          "2024-10-07T00:00:00.000000000",
          "2024-10-08T00:00:00.000000000",
          "2024-10-09T00:00:00.000000000",
          "2024-10-10T00:00:00.000000000",
          "2024-10-11T00:00:00.000000000",
          "2024-10-12T00:00:00.000000000",
          "2024-10-13T00:00:00.000000000",
          "2024-10-14T00:00:00.000000000",
          "2024-10-15T00:00:00.000000000",
          "2024-10-16T00:00:00.000000000",
          "2024-10-17T00:00:00.000000000",
          "2024-10-18T00:00:00.000000000",
          "2024-10-19T00:00:00.000000000",
          "2024-10-20T00:00:00.000000000",
          "2024-10-21T00:00:00.000000000",
          "2024-10-22T00:00:00.000000000",
          "2024-10-23T00:00:00.000000000",
          "2024-10-24T00:00:00.000000000",
          "2024-10-25T00:00:00.000000000",
          "2024-10-26T00:00:00.000000000",
          "2024-10-27T00:00:00.000000000",
          "2024-10-28T00:00:00.000000000",
          "2024-10-29T00:00:00.000000000",
          "2024-10-30T00:00:00.000000000",
          "2024-10-31T00:00:00.000000000",
          "2024-11-01T00:00:00.000000000",
          "2024-11-02T00:00:00.000000000",
          "2024-11-03T00:00:00.000000000",
          "2024-11-04T00:00:00.000000000",
          "2024-11-05T00:00:00.000000000",
          "2024-11-06T00:00:00.000000000",
          "2024-11-07T00:00:00.000000000",
          "2024-11-08T00:00:00.000000000",
          "2024-11-09T00:00:00.000000000",
          "2024-11-10T00:00:00.000000000",
          "2024-11-11T00:00:00.000000000",
          "2024-11-12T00:00:00.000000000",
          "2024-11-13T00:00:00.000000000",
          "2024-11-14T00:00:00.000000000",
          "2024-11-15T00:00:00.000000000",
          "2024-11-16T00:00:00.000000000",
          "2024-11-17T00:00:00.000000000",
          "2024-11-18T00:00:00.000000000",
          "2024-11-19T00:00:00.000000000",
          "2024-11-20T00:00:00.000000000",
          "2024-11-21T00:00:00.000000000",
          "2024-11-22T00:00:00.000000000",
          "2024-11-23T00:00:00.000000000",
          "2024-11-24T00:00:00.000000000",
          "2024-11-25T00:00:00.000000000",
          "2024-11-26T00:00:00.000000000",
          "2024-11-27T00:00:00.000000000",
          "2024-11-28T00:00:00.000000000",
          "2024-11-29T00:00:00.000000000",
          "2024-11-30T00:00:00.000000000",
          "2024-12-01T00:00:00.000000000",
          "2024-12-02T00:00:00.000000000",
          "2024-12-03T00:00:00.000000000",
          "2024-12-04T00:00:00.000000000",
          "2024-12-05T00:00:00.000000000",
          "2024-12-06T00:00:00.000000000",
          "2024-12-07T00:00:00.000000000",
          "2024-12-08T00:00:00.000000000",
          "2024-12-09T00:00:00.000000000",
          "2024-12-10T00:00:00.000000000",
          "2024-12-11T00:00:00.000000000",
          "2024-12-12T00:00:00.000000000",
          "2024-12-13T00:00:00.000000000",
          "2024-12-14T00:00:00.000000000",
          "2024-12-15T00:00:00.000000000",
          "2024-12-16T00:00:00.000000000",
          "2024-12-17T00:00:00.000000000",
          "2024-12-18T00:00:00.000000000",
          "2024-12-19T00:00:00.000000000",
          "2024-12-20T00:00:00.000000000",
          "2024-12-21T00:00:00.000000000",
          "2024-12-22T00:00:00.000000000",
          "2024-12-23T00:00:00.000000000",
          "2024-12-24T00:00:00.000000000",
          "2024-12-25T00:00:00.000000000",
          "2024-12-26T00:00:00.000000000",
          "2024-12-27T00:00:00.000000000",
          "2024-12-28T00:00:00.000000000",
          "2024-12-29T00:00:00.000000000",
          "2024-12-30T00:00:00.000000000",
          "2024-12-31T00:00:00.000000000",
          "2025-01-01T00:00:00.000000000",
          "2025-01-02T00:00:00.000000000",
          "2025-01-03T00:00:00.000000000",
          "2025-01-04T00:00:00.000000000",
          "2025-01-05T00:00:00.000000000",
          "2025-01-06T00:00:00.000000000",
          "2025-01-07T00:00:00.000000000",
          "2025-01-08T00:00:00.000000000",
          "2025-01-09T00:00:00.000000000",
          "2025-01-10T00:00:00.000000000",
          "2025-01-11T00:00:00.000000000",
          "2025-01-12T00:00:00.000000000",
          "2025-01-13T00:00:00.000000000",
          "2025-01-14T00:00:00.000000000",
          "2025-01-15T00:00:00.000000000",
          "2025-01-16T00:00:00.000000000",
          "2025-01-17T00:00:00.000000000",
          "2025-01-18T00:00:00.000000000",
          "2025-01-19T00:00:00.000000000",
          "2025-01-20T00:00:00.000000000",
          "2025-01-21T00:00:00.000000000",
          "2025-01-22T00:00:00.000000000",
          "2025-01-23T00:00:00.000000000",
          "2025-01-24T00:00:00.000000000",
          "2025-01-25T00:00:00.000000000",
          "2025-01-26T00:00:00.000000000",
          "2025-01-27T00:00:00.000000000",
          "2025-01-28T00:00:00.000000000",
          "2025-01-29T00:00:00.000000000",
          "2025-01-30T00:00:00.000000000",
          "2025-01-31T00:00:00.000000000",
          "2025-02-01T00:00:00.000000000",
          "2025-02-02T00:00:00.000000000",
          "2025-02-03T00:00:00.000000000",
          "2025-02-04T00:00:00.000000000",
          "2025-02-05T00:00:00.000000000",
          "2025-02-06T00:00:00.000000000",
          "2025-02-07T00:00:00.000000000",
          "2025-02-08T00:00:00.000000000",
          "2025-02-09T00:00:00.000000000",
          "2025-02-10T00:00:00.000000000",
          "2025-02-11T00:00:00.000000000",
          "2025-02-12T00:00:00.000000000",
          "2025-02-13T00:00:00.000000000",
          "2025-02-14T00:00:00.000000000",
          "2025-02-15T00:00:00.000000000",
          "2025-02-16T00:00:00.000000000",
          "2025-02-17T00:00:00.000000000",
          "2025-02-18T00:00:00.000000000",
          "2025-02-19T00:00:00.000000000",
          "2025-02-20T00:00:00.000000000",
          "2025-02-21T00:00:00.000000000",
          "2025-02-22T00:00:00.000000000",
          "2025-02-23T00:00:00.000000000",
          "2025-02-24T00:00:00.000000000",
          "2025-02-25T00:00:00.000000000",
          "2025-02-26T00:00:00.000000000",
          "2025-02-27T00:00:00.000000000",
          "2025-02-28T00:00:00.000000000",
          "2025-03-01T00:00:00.000000000",
          "2025-03-02T00:00:00.000000000",
          "2025-03-03T00:00:00.000000000",
          "2025-03-04T00:00:00.000000000",
          "2025-03-05T00:00:00.000000000",
          "2025-03-06T00:00:00.000000000",
          "2025-03-07T00:00:00.000000000",
          "2025-03-08T00:00:00.000000000",
          "2025-03-09T00:00:00.000000000",
          "2025-03-10T00:00:00.000000000",
          "2025-03-11T00:00:00.000000000",
          "2025-03-12T00:00:00.000000000",
          "2025-03-13T00:00:00.000000000",
          "2025-03-14T00:00:00.000000000",
          "2025-03-15T00:00:00.000000000",
          "2025-03-16T00:00:00.000000000",
          "2025-03-17T00:00:00.000000000",
          "2025-03-18T00:00:00.000000000",
          "2025-03-19T00:00:00.000000000",
          "2025-03-20T00:00:00.000000000",
          "2025-03-21T00:00:00.000000000",
          "2025-03-22T00:00:00.000000000",
          "2025-03-23T00:00:00.000000000",
          "2025-03-24T00:00:00.000000000",
          "2025-03-25T00:00:00.000000000",
          "2025-03-26T00:00:00.000000000",
          "2025-03-27T00:00:00.000000000",
          "2025-03-28T00:00:00.000000000",
          "2025-03-29T00:00:00.000000000",
          "2025-03-30T00:00:00.000000000",
          "2025-03-31T00:00:00.000000000",
          "2025-04-01T00:00:00.000000000",
          "2025-04-02T00:00:00.000000000",
          "2025-04-03T00:00:00.000000000",
          "2025-04-04T00:00:00.000000000",
          "2025-04-05T00:00:00.000000000",
          "2025-04-06T00:00:00.000000000",
          "2025-04-07T00:00:00.000000000",
          "2025-04-08T00:00:00.000000000",
          "2025-04-09T00:00:00.000000000",
          "2025-04-10T00:00:00.000000000",
          "2025-04-11T00:00:00.000000000",
          "2025-04-12T00:00:00.000000000",
          "2025-04-13T00:00:00.000000000",
          "2025-04-14T00:00:00.000000000",
          "2025-04-15T00:00:00.000000000",
          "2025-04-16T00:00:00.000000000",
          "2025-04-17T00:00:00.000000000",
          "2025-04-18T00:00:00.000000000",
          "2025-04-19T00:00:00.000000000",
          "2025-04-20T00:00:00.000000000",
          "2025-04-21T00:00:00.000000000",
          "2025-04-22T00:00:00.000000000",
          "2025-04-23T00:00:00.000000000",
          "2025-04-24T00:00:00.000000000",
          "2025-04-25T00:00:00.000000000",
          "2025-04-26T00:00:00.000000000",
          "2025-04-27T00:00:00.000000000",
          "2025-04-28T00:00:00.000000000",
          "2025-04-29T00:00:00.000000000",
          "2025-04-30T00:00:00.000000000",
          "2025-05-01T00:00:00.000000000",
          "2025-05-02T00:00:00.000000000",
          "2025-05-03T00:00:00.000000000",
          "2025-05-04T00:00:00.000000000",
          "2025-05-05T00:00:00.000000000",
          "2025-05-06T00:00:00.000000000",
          "2025-05-07T00:00:00.000000000",
          "2025-05-08T00:00:00.000000000",
          "2025-05-09T00:00:00.000000000",
          "2025-05-10T00:00:00.000000000",
          "2025-05-11T00:00:00.000000000",
          "2025-05-12T00:00:00.000000000",
          "2025-05-13T00:00:00.000000000",
          "2025-05-14T00:00:00.000000000",
          "2025-05-15T00:00:00.000000000",
          "2025-05-16T00:00:00.000000000",
          "2025-05-17T00:00:00.000000000",
          "2025-05-18T00:00:00.000000000",
          "2025-05-19T00:00:00.000000000",
          "2025-05-20T00:00:00.000000000",
          "2025-05-21T00:00:00.000000000",
          "2025-05-22T00:00:00.000000000",
          "2025-05-23T00:00:00.000000000",
          "2025-05-24T00:00:00.000000000",
          "2025-05-25T00:00:00.000000000",
          "2025-05-26T00:00:00.000000000",
          "2025-05-27T00:00:00.000000000",
          "2025-05-28T00:00:00.000000000",
          "2025-05-29T00:00:00.000000000",
          "2025-05-30T00:00:00.000000000",
          "2025-05-31T00:00:00.000000000",
          "2025-06-01T00:00:00.000000000",
          "2025-06-02T00:00:00.000000000",
          "2025-06-03T00:00:00.000000000",
          "2025-06-04T00:00:00.000000000",
          "2025-06-05T00:00:00.000000000",
          "2025-06-06T00:00:00.000000000",
          "2025-06-07T00:00:00.000000000",
          "2025-06-08T00:00:00.000000000",
          "2025-06-09T00:00:00.000000000",
          "2025-06-10T00:00:00.000000000",
          "2025-06-11T00:00:00.000000000",
          "2025-06-12T00:00:00.000000000",
          "2025-06-13T00:00:00.000000000",
          "2025-06-14T00:00:00.000000000",
          "2025-06-15T00:00:00.000000000",
          "2025-06-16T00:00:00.000000000",
          "2025-06-17T00:00:00.000000000",
          "2025-06-18T00:00:00.000000000",
          "2025-06-19T00:00:00.000000000",
          "2025-06-20T00:00:00.000000000",
          "2025-06-21T00:00:00.000000000",
          "2025-06-22T00:00:00.000000000",
          "2025-06-23T00:00:00.000000000",
          "2025-06-24T00:00:00.000000000",
          "2025-06-25T00:00:00.000000000",
          "2025-06-26T00:00:00.000000000",
          "2025-06-27T00:00:00.000000000",
          "2025-06-28T00:00:00.000000000",
          "2025-06-29T00:00:00.000000000",
          "2025-06-30T00:00:00.000000000",
          "2025-07-01T00:00:00.000000000",
          "2025-07-02T00:00:00.000000000",
          "2025-07-03T00:00:00.000000000",
          "2025-07-04T00:00:00.000000000",
          "2025-07-05T00:00:00.000000000",
          "2025-07-06T00:00:00.000000000",
          "2025-07-07T00:00:00.000000000",
          "2025-07-08T00:00:00.000000000",
          "2025-07-09T00:00:00.000000000",
          "2025-07-10T00:00:00.000000000",
          "2025-07-11T00:00:00.000000000",
          "2025-07-12T00:00:00.000000000",
          "2025-07-13T00:00:00.000000000",
          "2025-07-14T00:00:00.000000000",
          "2025-07-15T00:00:00.000000000",
          "2025-07-16T00:00:00.000000000",
          "2025-07-17T00:00:00.000000000",
          "2025-07-18T00:00:00.000000000",
          "2025-07-19T00:00:00.000000000",
          "2025-07-20T00:00:00.000000000",
          "2025-07-21T00:00:00.000000000",
          "2025-07-22T00:00:00.000000000",
          "2025-07-23T00:00:00.000000000",
          "2025-07-24T00:00:00.000000000",
          "2025-07-25T00:00:00.000000000",
          "2025-07-26T00:00:00.000000000",
          "2025-07-27T00:00:00.000000000",
          "2025-07-28T00:00:00.000000000",
          "2025-07-29T00:00:00.000000000",
          "2025-07-30T00:00:00.000000000",
          "2025-07-31T00:00:00.000000000",
          "2025-08-01T00:00:00.000000000",
          "2025-08-02T00:00:00.000000000",
          "2025-08-03T00:00:00.000000000",
          "2025-08-04T00:00:00.000000000",
          "2025-08-05T00:00:00.000000000",
          "2025-08-06T00:00:00.000000000",
          "2025-08-07T00:00:00.000000000",
          "2025-08-08T00:00:00.000000000",
          "2025-08-09T00:00:00.000000000",
          "2025-08-10T00:00:00.000000000",
          "2025-08-11T00:00:00.000000000",
          "2025-08-12T00:00:00.000000000",
          "2025-08-13T00:00:00.000000000",
          "2025-08-14T00:00:00.000000000",
          "2025-08-15T00:00:00.000000000",
          "2025-08-16T00:00:00.000000000",
          "2025-08-17T00:00:00.000000000",
          "2025-08-18T00:00:00.000000000",
          "2025-08-19T00:00:00.000000000",
          "2025-08-20T00:00:00.000000000",
          "2025-08-21T00:00:00.000000000",
          "2025-08-22T00:00:00.000000000",
          "2025-08-23T00:00:00.000000000",
          "2025-08-24T00:00:00.000000000",
          "2025-08-25T00:00:00.000000000",
          "2025-08-26T00:00:00.000000000",
          "2025-08-27T00:00:00.000000000",
          "2025-08-28T00:00:00.000000000",
          "2025-08-29T00:00:00.000000000",
          "2025-08-30T00:00:00.000000000",
          "2025-08-31T00:00:00.000000000",
          "2025-09-01T00:00:00.000000000",
          "2025-09-01T13:54:42.000000000"
         ],
         "y": {
          "bdata": "jD50rBGKZj+MY3/HHg1rP8bNu66jmnk/jGB3D4Ebaz+MP07w7ZpsP4xCgafo5WY/jB6buzMoYT+MMcml/8xpP4zMMc5T2Gw/jBK1m9Q7Yz+Mue+R/nxqP4zUowhpsGc/GA0jVu0WXj+Mc+mAS4ZnP4wl/9FgzGQ/jE7h9asYaD+MaPuAjJhoPxhJSZgWOlU/jCQjdBxMaD+M+a3iwT9nP4yU/ac0FWI/GImtgJBqXj+M8Vl3IsZpP4zimcDuU2g/GOloZpoPVj+MG4RTOiZqPxjBsIDhe10/GLeIteR9Wz+M4juice9oP4yTxC4s6GE/jMx3TjbpaD+M1KRZ4DdhP4x7WiyhNmg/jDD+coRdZz+MqaKuOylkP4y9TMi6Z2o/jKr2Xg4ubT+MZqrMijdrP4wph1ZV7mw/jAS5JyOOZz+McE8VAwVpP4xFAwCvIGY/jKQFMEbuYT+MYGdngs5qP4yWT3adq2o/jATRqgdUZz+M6lY8fcBnP4yqWLrrpGY/jEDoAVlCaT+Mgwb+amVjP4zOtDnUHmg/jLVu6y9qaj+M8okn9L5oPxhPDIj1hVs/Yay+8GqNPz+M/rfoFcVrP4xCZebRNW4/jPkUBuvNaD+MotPEASphP8aB2Hv0jXQ/RoltVzKxdz+MoyTpCftpP4wbsAF8Nms/jKqd/3/cbj/GoKvl7tJwP0bTI4DkVHM/RjTgLfircT/GrsSgb1J0P0aPpPjJKXA/xs3an1ZQdz+M9yZG5ZdqP0Y1nyyxbHk/jLh9cy17Zj/G3HfN0KVxP8aHQPgWCno/Rrikwq9Mdj/G1bHeUPBwP4yoHdzDBG0/Ru4XEvgNcD+M3psxv1BsP4z11p8K+Wk/xiyoI5Qpcj+MaA/X5G5vP8ajO6ha53E/jHQ8osDDZz9Gc0TutDV3P4xU9BZTBm4/jF4Xk7edZD9GY59q+xh0P4xjutahlWw/RmBojhb6cD/GUP8G1uRzP4yTGaOxg2k/xsWEpQRBcT9G7RVs0CN2P4zQ/lu512U/Rt05X6fBcD/Gma3dYlh0P4yKfETMRGc/Rmzy8UOdcT9GLZDtJaR5P8YiBAyZcHQ/jAO0NVTMbj+MUZojYoRpP8aFfjlOlnM/xiUbbB0tcj+MJxOC4V1jP8aJWrfDtXM/Rt6z8ERiej/GB0Z4ZCB4P4xnZBNyR2c/jKo0jmQmaT/GzPe4+Q57P8bpLlOcu3E/jI6xcTnxYj+MG8GjZTpoP0Y1uVGJkXE/RhdbcxACcT/GKU6Mb0V1P8YnZ2lLIHA/xj6ccuzncT9GKJWjy6tyP0Z5c5qv8nY/xkGhRyAkdT/GTWn7pRZyP0ZVf4llSHE/xjdEqcH7dD+MuMxUsQRqP8bAil11CnE/RtMgXPAXcz9G1uF5eJ9wP0bjyphPUXM/RtBkYs8BdT+MBl992yFtP4z4QIq7IWY/jIyml2LWaz8YVzbRQeNbP4ywEWHXYGQ/RpfhBCklcj9GLAJVfkxwP2E0wu54WTg/Rtl5l3h8ez9hfDbl0Dw7P0YNm77OAHc/jMqABG9haz+MHhEnLgpkP4w0iAVIhGw/Rrp0tw1EdD+MKIyWJutgP4zu3TfRt2g/jI0zFvlTbj/Gunf8rNZyPxh57RsiWFo/jGdXZFSqZz+MIhJBp4BtP4wsXKjD4Ws/MQZ/sIBcSD+MkAgqaaBsP4yGZuJjSWs/jO6C9COxYz+MbjqcJ+ZuP4zWF9U1B2E/jIpqmKuKaT/GJ2cp721xP4zIG45SWmQ/jBptLQHfaD+Mo6Tx49BpP4wg8gmAbmw/jEa6kpLlaj9GYvepTatyP8bVRHA5enA/Rg+RPyh4cT+MH0fi/3RsP4yHZSB/y24/jKzr9UoobD8Yb/IlBFJaP8bnWAPvC3k/jLr7AHfhbz9GYLR4zrNwP4xCxAe4N20/jD65O2PWbz/G9VQ6zclwP4yACACFvG0/jEYXVVTDbz+MkMe6rd9uP4xiZbPESWo/jAiii92caz+MHAjhEg1qP4xygZHXx2M/jF+2m3hRYT+Ml1dLCJdiP4xc2tZqc2E/GPExk+2DXT8Y+ebsPBxdPxgnSbsPIlY/GD9q9fPxVj8YEwp899xYPxgJKdHaMlM/GFUamJUTVz8xhmr+JftLPxjHc+AKTVE/GPPpiy0+Uj8xxizYBNlGPzEifHSamEY/MRKCGcNHSj8xcgUqS1hCPzFW6Ctl2kY/MYLrvyj0Sz8xJl6+iIFFP2E0MpyGljs/Mab0jxEiSD8xDoegRjxFPzGmD6N67Ec/MZrRPCGoSD8xqrdcP1FOPxi7N37a8FE/MTZx2PlhQD8xovGF8tJCP2FsF7jgqD4/MVZVItotST9hdDO4iPwxP2EUQ0gyrzM/YXzBuyOeOj8SRpoHID73PjEWACgcGkQ/MW7TmKk+QT/C6NyoRgUjP2GsNpWcCTI/YbSMZHFTMz/C+LtwRMMtP8JYB/wlgSg/CWNx2kluBz9hZPTFMqQ6P4TxF4JkmBw/wlhErq3NKj8SRqkAC8/+Pgkjm1QMMgk/wqhJpxxVKj+EEVKafm8UPxLGPtwme/s+CaNoCs7VCT+EEceaP2saP8JIULcUsi4/YaTQXFRnNT/CSL1qSVYtP4RxQSFmTRI/YXST2aZUPD/CSEN59QUlP4RRa+Y5hRo/wmj07+DYKz9hFMB4C8s5P2Eknhv62zw/YRQP1oPCPT+E0cOCB80SPwmj41poPgg/hDG0DI3lET/CiEdnhaUtP8JYIhU0JyY/wohVYcBLKD+EEYQbXokVP8LIEBk3gSE/RhifOw753T5hHD2s2RYwPwmjGtuBNgg/MeIXwTRqQD8xnhPtyc5AP2HMCjGRsjI/MZKLOwFxSj8xFoQUrRFAP8Jo8Uvxeig/GI3zQec1Uj8xxlqqiIxLP2G0MvBbFDU/hBFvPdCeHT/CCCasxT0kP8JIseLyIyw/YYyB+ENHMD8xwi+X9PJCP2Gsc3yseTQ/wsgyoJGhLz8xip1UvuNEP2GMyq/8kz4/wqjyTVH6Iz8xSo7guU9IPzGKZihaa00/Mc7Jv2qDRj8xvq98lV9OPzGCPB8sFE0/GHejXlzQUD8Yk08OY5tUPzEmMsbt1E0/MTrSBHGNSj8Y1fIk24JTPzHSQ+93NEc/MWpedIM4TT8xVv8gOPBCPzEqqCKeKE8/MYL4nr0QTD8YB6J7WW9QPxgxXagipl8/MY4Obl23Sj8xnh/P9d1KPzHeMHJ1ykU/GMP66q70Vz8xuuzULUdLPzHiPHIO80k/GEPPtDkyUz8YUY6Zw+5RPxg1hgvslFc/GE11E6m4UD8xxrz66NtEP2FEqg8VljY/MTqqmJsEQD8xJnT/kOFKPzHyk2mb6UY/YQxm2Mx7OT8Y3ZrI5h9VP2G00zcdjDo/MdKVTl7PQj/CqK34pq0kPwmjure0EAM/CeMT0WVNAj/CyKZ1SfgnP4Tx63+lWRE/hFGEXuFPFD9hDNtZ9ekxP2E8ohiDTzs/Mc7RL+GjQD9hlFmZIpQzP8KI+WkRTyU/MfZqFL+gSD8xpiRqkZZBPzE2sR5SpEA/jGEqDYxAZT+MNC+/XjVlP4wLB+JqR2U/jObzLeUcYz+MrJ7oxyVhP4xsmh3ToWI/jNfOhayPYj8Yox7R07BfP4zz8A9NCGA/jMhNKqB0YD+M77H+vSphPxhDEeIR1F0/GFWs/uCtXD8YrRFpKhxZPxg15mDCmFQ/GP/RVHv2VD8xlrglApBKPxjZkqNHb1E/GB0kTlsRUj8YCdEjhORePxht688tuVY/GHndY4CbWj8YWz07AsJdPxjrvL+7L1k/GO3HRrl+Wz8YJwqgen1bPxh1fne0VFU/GLW88XwTXD8YYRjjItdYPxgZ3L2dYlg/GFd+5FUXXD+Mn/pFcEdiP4w5co1sBmQ/",
          "dtype": "f8"
         }
        }
       ],
       "layout": {
        "height": 600,
        "legend": {
         "title": {
          "text": "Stablecoin"
         }
        },
        "template": {
         "data": {
          "bar": [
           {
            "error_x": {
             "color": "#2a3f5f"
            },
            "error_y": {
             "color": "#2a3f5f"
            },
            "marker": {
             "line": {
              "color": "white",
              "width": 0.5
             },
             "pattern": {
              "fillmode": "overlay",
              "size": 10,
              "solidity": 0.2
             }
            },
            "type": "bar"
           }
          ],
          "barpolar": [
           {
            "marker": {
             "line": {
              "color": "white",
              "width": 0.5
             },
             "pattern": {
              "fillmode": "overlay",
              "size": 10,
              "solidity": 0.2
             }
            },
            "type": "barpolar"
           }
          ],
          "carpet": [
           {
            "aaxis": {
             "endlinecolor": "#2a3f5f",
             "gridcolor": "#C8D4E3",
             "linecolor": "#C8D4E3",
             "minorgridcolor": "#C8D4E3",
             "startlinecolor": "#2a3f5f"
            },
            "baxis": {
             "endlinecolor": "#2a3f5f",
             "gridcolor": "#C8D4E3",
             "linecolor": "#C8D4E3",
             "minorgridcolor": "#C8D4E3",
             "startlinecolor": "#2a3f5f"
            },
            "type": "carpet"
           }
          ],
          "choropleth": [
           {
            "colorbar": {
             "outlinewidth": 0,
             "ticks": ""
            },
            "type": "choropleth"
           }
          ],
          "contour": [
           {
            "colorbar": {
             "outlinewidth": 0,
             "ticks": ""
            },
            "colorscale": [
             [
              0,
              "#0d0887"
             ],
             [
              0.1111111111111111,
              "#46039f"
             ],
             [
              0.2222222222222222,
              "#7201a8"
             ],
             [
              0.3333333333333333,
              "#9c179e"
             ],
             [
              0.4444444444444444,
              "#bd3786"
             ],
             [
              0.5555555555555556,
              "#d8576b"
             ],
             [
              0.6666666666666666,
              "#ed7953"
             ],
             [
              0.7777777777777778,
              "#fb9f3a"
             ],
             [
              0.8888888888888888,
              "#fdca26"
             ],
             [
              1,
              "#f0f921"
             ]
            ],
            "type": "contour"
           }
          ],
          "contourcarpet": [
           {
            "colorbar": {
             "outlinewidth": 0,
             "ticks": ""
            },
            "type": "contourcarpet"
           }
          ],
          "heatmap": [
           {
            "colorbar": {
             "outlinewidth": 0,
             "ticks": ""
            },
            "colorscale": [
             [
              0,
              "#0d0887"
             ],
             [
              0.1111111111111111,
              "#46039f"
             ],
             [
              0.2222222222222222,
              "#7201a8"
             ],
             [
              0.3333333333333333,
              "#9c179e"
             ],
             [
              0.4444444444444444,
              "#bd3786"
             ],
             [
              0.5555555555555556,
              "#d8576b"
             ],
             [
              0.6666666666666666,
              "#ed7953"
             ],
             [
              0.7777777777777778,
              "#fb9f3a"
             ],
             [
              0.8888888888888888,
              "#fdca26"
             ],
             [
              1,
              "#f0f921"
             ]
            ],
            "type": "heatmap"
           }
          ],
          "histogram": [
           {
            "marker": {
             "pattern": {
              "fillmode": "overlay",
              "size": 10,
              "solidity": 0.2
             }
            },
            "type": "histogram"
           }
          ],
          "histogram2d": [
           {
            "colorbar": {
             "outlinewidth": 0,
             "ticks": ""
            },
            "colorscale": [
             [
              0,
              "#0d0887"
             ],
             [
              0.1111111111111111,
              "#46039f"
             ],
             [
              0.2222222222222222,
              "#7201a8"
             ],
             [
              0.3333333333333333,
              "#9c179e"
             ],
             [
              0.4444444444444444,
              "#bd3786"
             ],
             [
              0.5555555555555556,
              "#d8576b"
             ],
             [
              0.6666666666666666,
              "#ed7953"
             ],
             [
              0.7777777777777778,
              "#fb9f3a"
             ],
             [
              0.8888888888888888,
              "#fdca26"
             ],
             [
              1,
              "#f0f921"
             ]
            ],
            "type": "histogram2d"
           }
          ],
          "histogram2dcontour": [
           {
            "colorbar": {
             "outlinewidth": 0,
             "ticks": ""
            },
            "colorscale": [
             [
              0,
              "#0d0887"
             ],
             [
              0.1111111111111111,
              "#46039f"
             ],
             [
              0.2222222222222222,
              "#7201a8"
             ],
             [
              0.3333333333333333,
              "#9c179e"
             ],
             [
              0.4444444444444444,
              "#bd3786"
             ],
             [
              0.5555555555555556,
              "#d8576b"
             ],
             [
              0.6666666666666666,
              "#ed7953"
             ],
             [
              0.7777777777777778,
              "#fb9f3a"
             ],
             [
              0.8888888888888888,
              "#fdca26"
             ],
             [
              1,
              "#f0f921"
             ]
            ],
            "type": "histogram2dcontour"
           }
          ],
          "mesh3d": [
           {
            "colorbar": {
             "outlinewidth": 0,
             "ticks": ""
            },
            "type": "mesh3d"
           }
          ],
          "parcoords": [
           {
            "line": {
             "colorbar": {
              "outlinewidth": 0,
              "ticks": ""
             }
            },
            "type": "parcoords"
           }
          ],
          "pie": [
           {
            "automargin": true,
            "type": "pie"
           }
          ],
          "scatter": [
           {
            "fillpattern": {
             "fillmode": "overlay",
             "size": 10,
             "solidity": 0.2
            },
            "type": "scatter"
           }
          ],
          "scatter3d": [
           {
            "line": {
             "colorbar": {
              "outlinewidth": 0,
              "ticks": ""
             }
            },
            "marker": {
             "colorbar": {
              "outlinewidth": 0,
              "ticks": ""
             }
            },
            "type": "scatter3d"
           }
          ],
          "scattercarpet": [
           {
            "marker": {
             "colorbar": {
              "outlinewidth": 0,
              "ticks": ""
             }
            },
            "type": "scattercarpet"
           }
          ],
          "scattergeo": [
           {
            "marker": {
             "colorbar": {
              "outlinewidth": 0,
              "ticks": ""
             }
            },
            "type": "scattergeo"
           }
          ],
          "scattergl": [
           {
            "marker": {
             "colorbar": {
              "outlinewidth": 0,
              "ticks": ""
             }
            },
            "type": "scattergl"
           }
          ],
          "scattermap": [
           {
            "marker": {
             "colorbar": {
              "outlinewidth": 0,
              "ticks": ""
             }
            },
            "type": "scattermap"
           }
          ],
          "scattermapbox": [
           {
            "marker": {
             "colorbar": {
              "outlinewidth": 0,
              "ticks": ""
             }
            },
            "type": "scattermapbox"
           }
          ],
          "scatterpolar": [
           {
            "marker": {
             "colorbar": {
              "outlinewidth": 0,
              "ticks": ""
             }
            },
            "type": "scatterpolar"
           }
          ],
          "scatterpolargl": [
           {
            "marker": {
             "colorbar": {
              "outlinewidth": 0,
              "ticks": ""
             }
            },
            "type": "scatterpolargl"
           }
          ],
          "scatterternary": [
           {
            "marker": {
             "colorbar": {
              "outlinewidth": 0,
              "ticks": ""
             }
            },
            "type": "scatterternary"
           }
          ],
          "surface": [
           {
            "colorbar": {
             "outlinewidth": 0,
             "ticks": ""
            },
            "colorscale": [
             [
              0,
              "#0d0887"
             ],
             [
              0.1111111111111111,
              "#46039f"
             ],
             [
              0.2222222222222222,
              "#7201a8"
             ],
             [
              0.3333333333333333,
              "#9c179e"
             ],
             [
              0.4444444444444444,
              "#bd3786"
             ],
             [
              0.5555555555555556,
              "#d8576b"
             ],
             [
              0.6666666666666666,
              "#ed7953"
             ],
             [
              0.7777777777777778,
              "#fb9f3a"
             ],
             [
              0.8888888888888888,
              "#fdca26"
             ],
             [
              1,
              "#f0f921"
             ]
            ],
            "type": "surface"
           }
          ],
          "table": [
           {
            "cells": {
             "fill": {
              "color": "#EBF0F8"
             },
             "line": {
              "color": "white"
             }
            },
            "header": {
             "fill": {
              "color": "#C8D4E3"
             },
             "line": {
              "color": "white"
             }
            },
            "type": "table"
           }
          ]
         },
         "layout": {
          "annotationdefaults": {
           "arrowcolor": "#2a3f5f",
           "arrowhead": 0,
           "arrowwidth": 1
          },
          "autotypenumbers": "strict",
          "coloraxis": {
           "colorbar": {
            "outlinewidth": 0,
            "ticks": ""
           }
          },
          "colorscale": {
           "diverging": [
            [
             0,
             "#8e0152"
            ],
            [
             0.1,
             "#c51b7d"
            ],
            [
             0.2,
             "#de77ae"
            ],
            [
             0.3,
             "#f1b6da"
            ],
            [
             0.4,
             "#fde0ef"
            ],
            [
             0.5,
             "#f7f7f7"
            ],
            [
             0.6,
             "#e6f5d0"
            ],
            [
             0.7,
             "#b8e186"
            ],
            [
             0.8,
             "#7fbc41"
            ],
            [
             0.9,
             "#4d9221"
            ],
            [
             1,
             "#276419"
            ]
           ],
           "sequential": [
            [
             0,
             "#0d0887"
            ],
            [
             0.1111111111111111,
             "#46039f"
            ],
            [
             0.2222222222222222,
             "#7201a8"
            ],
            [
             0.3333333333333333,
             "#9c179e"
            ],
            [
             0.4444444444444444,
             "#bd3786"
            ],
            [
             0.5555555555555556,
             "#d8576b"
            ],
            [
             0.6666666666666666,
             "#ed7953"
            ],
            [
             0.7777777777777778,
             "#fb9f3a"
            ],
            [
             0.8888888888888888,
             "#fdca26"
            ],
            [
             1,
             "#f0f921"
            ]
           ],
           "sequentialminus": [
            [
             0,
             "#0d0887"
            ],
            [
             0.1111111111111111,
             "#46039f"
            ],
            [
             0.2222222222222222,
             "#7201a8"
            ],
            [
             0.3333333333333333,
             "#9c179e"
            ],
            [
             0.4444444444444444,
             "#bd3786"
            ],
            [
             0.5555555555555556,
             "#d8576b"
            ],
            [
             0.6666666666666666,
             "#ed7953"
            ],
            [
             0.7777777777777778,
             "#fb9f3a"
            ],
            [
             0.8888888888888888,
             "#fdca26"
            ],
            [
             1,
             "#f0f921"
            ]
           ]
          },
          "colorway": [
           "#636efa",
           "#EF553B",
           "#00cc96",
           "#ab63fa",
           "#FFA15A",
           "#19d3f3",
           "#FF6692",
           "#B6E880",
           "#FF97FF",
           "#FECB52"
          ],
          "font": {
           "color": "#2a3f5f"
          },
          "geo": {
           "bgcolor": "white",
           "lakecolor": "white",
           "landcolor": "white",
           "showlakes": true,
           "showland": true,
           "subunitcolor": "#C8D4E3"
          },
          "hoverlabel": {
           "align": "left"
          },
          "hovermode": "closest",
          "mapbox": {
           "style": "light"
          },
          "paper_bgcolor": "white",
          "plot_bgcolor": "white",
          "polar": {
           "angularaxis": {
            "gridcolor": "#EBF0F8",
            "linecolor": "#EBF0F8",
            "ticks": ""
           },
           "bgcolor": "white",
           "radialaxis": {
            "gridcolor": "#EBF0F8",
            "linecolor": "#EBF0F8",
            "ticks": ""
           }
          },
          "scene": {
           "xaxis": {
            "backgroundcolor": "white",
            "gridcolor": "#DFE8F3",
            "gridwidth": 2,
            "linecolor": "#EBF0F8",
            "showbackground": true,
            "ticks": "",
            "zerolinecolor": "#EBF0F8"
           },
           "yaxis": {
            "backgroundcolor": "white",
            "gridcolor": "#DFE8F3",
            "gridwidth": 2,
            "linecolor": "#EBF0F8",
            "showbackground": true,
            "ticks": "",
            "zerolinecolor": "#EBF0F8"
           },
           "zaxis": {
            "backgroundcolor": "white",
            "gridcolor": "#DFE8F3",
            "gridwidth": 2,
            "linecolor": "#EBF0F8",
            "showbackground": true,
            "ticks": "",
            "zerolinecolor": "#EBF0F8"
           }
          },
          "shapedefaults": {
           "line": {
            "color": "#2a3f5f"
           }
          },
          "ternary": {
           "aaxis": {
            "gridcolor": "#DFE8F3",
            "linecolor": "#A2B1C6",
            "ticks": ""
           },
           "baxis": {
            "gridcolor": "#DFE8F3",
            "linecolor": "#A2B1C6",
            "ticks": ""
           },
           "bgcolor": "white",
           "caxis": {
            "gridcolor": "#DFE8F3",
            "linecolor": "#A2B1C6",
            "ticks": ""
           }
          },
          "title": {
           "x": 0.05
          },
          "xaxis": {
           "automargin": true,
           "gridcolor": "#EBF0F8",
           "linecolor": "#EBF0F8",
           "ticks": "",
           "title": {
            "standoff": 15
           },
           "zerolinecolor": "#EBF0F8",
           "zerolinewidth": 2
          },
          "yaxis": {
           "automargin": true,
           "gridcolor": "#EBF0F8",
           "linecolor": "#EBF0F8",
           "ticks": "",
           "title": {
            "standoff": 15
           },
           "zerolinecolor": "#EBF0F8",
           "zerolinewidth": 2
          }
         }
        },
        "title": {
         "text": "Stablecoin Peg Deviation Over Time (Last 365 Days) [Log Scale]"
        },
        "width": 1000,
        "xaxis": {
         "title": {
          "text": "Date"
         }
        },
        "yaxis": {
         "title": {
          "text": "Deviation from $1 (log scale, abs)"
         },
         "type": "log"
        }
       }
      }
     },
     "metadata": {},
     "output_type": "display_data"
    }
   ],
   "source": [
    "# using plotly for interactive visualization and log scale for y-axis\n",
    "\n",
    "import plotly.graph_objs as go\n",
    "import plotly.offline as pyoff\n",
    "\n",
    "# Create interactive chart with log scale for y-axis\n",
    "fig = go.Figure()\n",
    "\n",
    "for symbol, df_hist in historical_deviation_data.items():\n",
    "    if not df_hist.empty:\n",
    "        fig.add_trace(go.Scatter(\n",
    "            x=df_hist[\"date\"],\n",
    "            y=df_hist[\"peg_deviation (USD)\"].abs() + 1e-8,  # add small value to avoid log(0)\n",
    "            mode='lines',\n",
    "            name=symbol.upper()\n",
    "        ))\n",
    "\n",
    "fig.update_layout(\n",
    "    title=\"Stablecoin Peg Deviation Over Time (Last 365 Days) [Log Scale]\",\n",
    "    xaxis_title=\"Date\",\n",
    "    yaxis_title=\"Deviation from $1 (log scale, abs)\",\n",
    "    yaxis_type=\"log\",\n",
    "    legend_title=\"Stablecoin\",\n",
    "    template=\"plotly_white\",\n",
    "    height=600,\n",
    "    width=1000\n",
    ")\n",
    "\n",
    "pyoff.iplot(fig)"
   ]
  }
 ],
 "metadata": {
  "kernelspec": {
   "display_name": "venv",
   "language": "python",
   "name": "python3"
  },
  "language_info": {
   "codemirror_mode": {
    "name": "ipython",
    "version": 3
   },
   "file_extension": ".py",
   "mimetype": "text/x-python",
   "name": "python",
   "nbconvert_exporter": "python",
   "pygments_lexer": "ipython3",
   "version": "3.11.9"
  }
 },
 "nbformat": 4,
 "nbformat_minor": 5
}
