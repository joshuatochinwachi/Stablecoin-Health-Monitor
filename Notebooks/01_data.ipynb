{
 "cells": [
  {
   "cell_type": "markdown",
   "id": "548eabe6",
   "metadata": {},
   "source": [
    "# Stablecoin Health Monitor"
   ]
  },
  {
   "cell_type": "markdown",
   "id": "0031ff47",
   "metadata": {},
   "source": [
    "### 1. _Fetching Stablecoin Data from CoinGecko (using Pro API Key) and saving it on a joblib file_"
   ]
  },
  {
   "cell_type": "code",
   "execution_count": 5,
   "id": "609aaf4f",
   "metadata": {},
   "outputs": [
    {
     "data": {
      "text/html": [
       "<div>\n",
       "<style scoped>\n",
       "    .dataframe tbody tr th:only-of-type {\n",
       "        vertical-align: middle;\n",
       "    }\n",
       "\n",
       "    .dataframe tbody tr th {\n",
       "        vertical-align: top;\n",
       "    }\n",
       "\n",
       "    .dataframe thead th {\n",
       "        text-align: right;\n",
       "    }\n",
       "</style>\n",
       "<table border=\"1\" class=\"dataframe\">\n",
       "  <thead>\n",
       "    <tr style=\"text-align: right;\">\n",
       "      <th></th>\n",
       "      <th>id</th>\n",
       "      <th>symbol</th>\n",
       "      <th>name</th>\n",
       "      <th>image</th>\n",
       "      <th>current_price</th>\n",
       "      <th>market_cap</th>\n",
       "      <th>market_cap_rank</th>\n",
       "      <th>fully_diluted_valuation</th>\n",
       "      <th>total_volume</th>\n",
       "      <th>high_24h</th>\n",
       "      <th>...</th>\n",
       "      <th>total_supply</th>\n",
       "      <th>max_supply</th>\n",
       "      <th>ath</th>\n",
       "      <th>ath_change_percentage</th>\n",
       "      <th>ath_date</th>\n",
       "      <th>atl</th>\n",
       "      <th>atl_change_percentage</th>\n",
       "      <th>atl_date</th>\n",
       "      <th>roi</th>\n",
       "      <th>last_updated</th>\n",
       "    </tr>\n",
       "  </thead>\n",
       "  <tbody>\n",
       "    <tr>\n",
       "      <th>0</th>\n",
       "      <td>tether</td>\n",
       "      <td>usdt</td>\n",
       "      <td>Tether</td>\n",
       "      <td>https://coin-images.coingecko.com/coins/images...</td>\n",
       "      <td>1.000000</td>\n",
       "      <td>168033951617</td>\n",
       "      <td>3</td>\n",
       "      <td>168033951617</td>\n",
       "      <td>8.369050e+10</td>\n",
       "      <td>1.000000</td>\n",
       "      <td>...</td>\n",
       "      <td>1.680279e+11</td>\n",
       "      <td>NaN</td>\n",
       "      <td>1.320</td>\n",
       "      <td>-24.41998</td>\n",
       "      <td>2018-07-24T00:00:00.000Z</td>\n",
       "      <td>0.572521</td>\n",
       "      <td>74.66533</td>\n",
       "      <td>2015-03-02T00:00:00.000Z</td>\n",
       "      <td>None</td>\n",
       "      <td>2025-09-02T13:02:58.938Z</td>\n",
       "    </tr>\n",
       "    <tr>\n",
       "      <th>1</th>\n",
       "      <td>usd-coin</td>\n",
       "      <td>usdc</td>\n",
       "      <td>USDC</td>\n",
       "      <td>https://coin-images.coingecko.com/coins/images...</td>\n",
       "      <td>0.999813</td>\n",
       "      <td>71759208640</td>\n",
       "      <td>7</td>\n",
       "      <td>71760759642</td>\n",
       "      <td>9.178688e+09</td>\n",
       "      <td>0.999908</td>\n",
       "      <td>...</td>\n",
       "      <td>7.177396e+10</td>\n",
       "      <td>NaN</td>\n",
       "      <td>1.170</td>\n",
       "      <td>-14.74301</td>\n",
       "      <td>2019-05-08T00:40:28.300Z</td>\n",
       "      <td>0.877647</td>\n",
       "      <td>13.91987</td>\n",
       "      <td>2023-03-11T08:02:13.981Z</td>\n",
       "      <td>None</td>\n",
       "      <td>2025-09-02T13:02:59.716Z</td>\n",
       "    </tr>\n",
       "    <tr>\n",
       "      <th>2</th>\n",
       "      <td>ethena-usde</td>\n",
       "      <td>usde</td>\n",
       "      <td>Ethena USDe</td>\n",
       "      <td>https://coin-images.coingecko.com/coins/images...</td>\n",
       "      <td>0.998504</td>\n",
       "      <td>12421374958</td>\n",
       "      <td>16</td>\n",
       "      <td>12421374958</td>\n",
       "      <td>1.819357e+08</td>\n",
       "      <td>1.005000</td>\n",
       "      <td>...</td>\n",
       "      <td>1.243965e+10</td>\n",
       "      <td>NaN</td>\n",
       "      <td>1.032</td>\n",
       "      <td>-3.12410</td>\n",
       "      <td>2023-12-20T15:38:34.596Z</td>\n",
       "      <td>0.929486</td>\n",
       "      <td>7.56900</td>\n",
       "      <td>2024-10-04T07:57:15.809Z</td>\n",
       "      <td>None</td>\n",
       "      <td>2025-09-02T13:02:59.506Z</td>\n",
       "    </tr>\n",
       "    <tr>\n",
       "      <th>3</th>\n",
       "      <td>usds</td>\n",
       "      <td>usds</td>\n",
       "      <td>USDS</td>\n",
       "      <td>https://coin-images.coingecko.com/coins/images...</td>\n",
       "      <td>0.999660</td>\n",
       "      <td>8115079126</td>\n",
       "      <td>29</td>\n",
       "      <td>8115079126</td>\n",
       "      <td>3.654031e+06</td>\n",
       "      <td>1.000000</td>\n",
       "      <td>...</td>\n",
       "      <td>8.117842e+09</td>\n",
       "      <td>NaN</td>\n",
       "      <td>1.057</td>\n",
       "      <td>-5.45388</td>\n",
       "      <td>2024-10-29T05:40:51.197Z</td>\n",
       "      <td>0.948265</td>\n",
       "      <td>5.41958</td>\n",
       "      <td>2024-10-03T13:19:28.826Z</td>\n",
       "      <td>None</td>\n",
       "      <td>2025-09-02T13:02:59.067Z</td>\n",
       "    </tr>\n",
       "    <tr>\n",
       "      <th>4</th>\n",
       "      <td>dai</td>\n",
       "      <td>dai</td>\n",
       "      <td>Dai</td>\n",
       "      <td>https://coin-images.coingecko.com/coins/images...</td>\n",
       "      <td>1.001000</td>\n",
       "      <td>4612666189</td>\n",
       "      <td>42</td>\n",
       "      <td>4612666189</td>\n",
       "      <td>1.145642e+08</td>\n",
       "      <td>1.001000</td>\n",
       "      <td>...</td>\n",
       "      <td>4.614225e+09</td>\n",
       "      <td>NaN</td>\n",
       "      <td>1.220</td>\n",
       "      <td>-17.99057</td>\n",
       "      <td>2020-03-13T03:02:50.373Z</td>\n",
       "      <td>0.881960</td>\n",
       "      <td>13.34280</td>\n",
       "      <td>2023-03-11T07:50:50.514Z</td>\n",
       "      <td>None</td>\n",
       "      <td>2025-09-02T13:02:58.123Z</td>\n",
       "    </tr>\n",
       "  </tbody>\n",
       "</table>\n",
       "<p>5 rows × 26 columns</p>\n",
       "</div>"
      ],
      "text/plain": [
       "            id symbol         name  \\\n",
       "0       tether   usdt       Tether   \n",
       "1     usd-coin   usdc         USDC   \n",
       "2  ethena-usde   usde  Ethena USDe   \n",
       "3         usds   usds         USDS   \n",
       "4          dai    dai          Dai   \n",
       "\n",
       "                                               image  current_price  \\\n",
       "0  https://coin-images.coingecko.com/coins/images...       1.000000   \n",
       "1  https://coin-images.coingecko.com/coins/images...       0.999813   \n",
       "2  https://coin-images.coingecko.com/coins/images...       0.998504   \n",
       "3  https://coin-images.coingecko.com/coins/images...       0.999660   \n",
       "4  https://coin-images.coingecko.com/coins/images...       1.001000   \n",
       "\n",
       "     market_cap  market_cap_rank  fully_diluted_valuation  total_volume  \\\n",
       "0  168033951617                3             168033951617  8.369050e+10   \n",
       "1   71759208640                7              71760759642  9.178688e+09   \n",
       "2   12421374958               16              12421374958  1.819357e+08   \n",
       "3    8115079126               29               8115079126  3.654031e+06   \n",
       "4    4612666189               42               4612666189  1.145642e+08   \n",
       "\n",
       "   high_24h  ...  total_supply  max_supply    ath  ath_change_percentage  \\\n",
       "0  1.000000  ...  1.680279e+11         NaN  1.320              -24.41998   \n",
       "1  0.999908  ...  7.177396e+10         NaN  1.170              -14.74301   \n",
       "2  1.005000  ...  1.243965e+10         NaN  1.032               -3.12410   \n",
       "3  1.000000  ...  8.117842e+09         NaN  1.057               -5.45388   \n",
       "4  1.001000  ...  4.614225e+09         NaN  1.220              -17.99057   \n",
       "\n",
       "                   ath_date       atl  atl_change_percentage  \\\n",
       "0  2018-07-24T00:00:00.000Z  0.572521               74.66533   \n",
       "1  2019-05-08T00:40:28.300Z  0.877647               13.91987   \n",
       "2  2023-12-20T15:38:34.596Z  0.929486                7.56900   \n",
       "3  2024-10-29T05:40:51.197Z  0.948265                5.41958   \n",
       "4  2020-03-13T03:02:50.373Z  0.881960               13.34280   \n",
       "\n",
       "                   atl_date   roi              last_updated  \n",
       "0  2015-03-02T00:00:00.000Z  None  2025-09-02T13:02:58.938Z  \n",
       "1  2023-03-11T08:02:13.981Z  None  2025-09-02T13:02:59.716Z  \n",
       "2  2024-10-04T07:57:15.809Z  None  2025-09-02T13:02:59.506Z  \n",
       "3  2024-10-03T13:19:28.826Z  None  2025-09-02T13:02:59.067Z  \n",
       "4  2023-03-11T07:50:50.514Z  None  2025-09-02T13:02:58.123Z  \n",
       "\n",
       "[5 rows x 26 columns]"
      ]
     },
     "execution_count": 5,
     "metadata": {},
     "output_type": "execute_result"
    }
   ],
   "source": [
    "import os\n",
    "import requests\n",
    "import pandas as pd\n",
    "from dotenv import load_dotenv\n",
    "\n",
    "# Load your API key from .env file\n",
    "load_dotenv()\n",
    "COINGECKO_PRO_API_KEY = os.getenv(\"COINGECKO_PRO_API_KEY\")\n",
    "\n",
    "# Set up API endpoint and parameters\n",
    "url = \"https://pro-api.coingecko.com/api/v3/coins/markets\"\n",
    "params = {\n",
    "    \"vs_currency\": \"usd\",\n",
    "    \"category\": \"stablecoins\",\n",
    "    \"order\": \"market_cap_desc\",\n",
    "    \"per_page\": 50,\n",
    "    \"page\": 1,\n",
    "    \"sparkline\": False\n",
    "}\n",
    "headers = {\n",
    "    \"x-cg-pro-api-key\": COINGECKO_PRO_API_KEY\n",
    "}\n",
    "\n",
    "# Make the request\n",
    "response = requests.get(url, params=params, headers=headers)\n",
    "data = response.json()\n",
    "\n",
    "# Convert to DataFrame\n",
    "df = pd.DataFrame(data)\n",
    "df.head()"
   ]
  },
  {
   "cell_type": "code",
   "execution_count": 6,
   "id": "9ba3cd41",
   "metadata": {},
   "outputs": [
    {
     "data": {
      "text/plain": [
       "(50, 26)"
      ]
     },
     "execution_count": 6,
     "metadata": {},
     "output_type": "execute_result"
    }
   ],
   "source": [
    "df['symbol'].value_counts().sum()\n",
    "df.shape"
   ]
  },
  {
   "cell_type": "code",
   "execution_count": 7,
   "id": "aa050bb4",
   "metadata": {},
   "outputs": [
    {
     "data": {
      "text/plain": [
       "['../data/stablecoins_raw.joblib']"
      ]
     },
     "execution_count": 7,
     "metadata": {},
     "output_type": "execute_result"
    }
   ],
   "source": [
    "import joblib\n",
    "\n",
    "# Save raw data (list of dicts) to a joblib file\n",
    "joblib.dump(data, \"../data/stablecoins_raw.joblib\")"
   ]
  },
  {
   "cell_type": "markdown",
   "id": "d4a391bc",
   "metadata": {},
   "source": [
    "### 2. _Fetching global market data to get stablecoin dominance_"
   ]
  },
  {
   "cell_type": "code",
   "execution_count": 8,
   "id": "c8f112c4",
   "metadata": {},
   "outputs": [
    {
     "name": "stdout",
     "output_type": "stream",
     "text": [
      "Total Stablecoin Dominance (%) of USDT and USDC alone: 6.246818432121087 %\n"
     ]
    }
   ],
   "source": [
    "# Usdt and usdc alone\n",
    "\n",
    "# Fetch global market data from CoinGecko\n",
    "global_url = \"https://pro-api.coingecko.com/api/v3/global\"\n",
    "global_response = requests.get(global_url, headers=headers)\n",
    "global_data = global_response.json()\n",
    "\n",
    "market_caps = global_data['data']['market_cap_percentage']\n",
    "stablecoin_dominance = market_caps.get('usdt', 0) + market_caps.get('usdc', 0)\n",
    "print(\"Total Stablecoin Dominance (%) of USDT and USDC alone:\", stablecoin_dominance, \"%\")"
   ]
  },
  {
   "cell_type": "code",
   "execution_count": 9,
   "id": "4021ab02",
   "metadata": {},
   "outputs": [
    {
     "name": "stdout",
     "output_type": "stream",
     "text": [
      "Major Stablecoins with Non-Zero Dominance (%): {'usdt': np.float64(4.371559675774609), 'usdc': np.float64(1.8668826141227515), 'dai': np.float64(0.12000280488316085), 'busd': np.float64(0.008125284849212398), 'tusd': np.float64(0.012844718064035976), 'frax': np.float64(0.007707314230027448)}\n",
      "Total Stablecoin Dominance (%): 6.387122411923797\n"
     ]
    }
   ],
   "source": [
    "# Calculate individual dominance for all major stablecoins using /coins/markets data\n",
    "# Get total market cap from global data\n",
    "total_market_cap = global_data['data']['total_market_cap']['usd']\n",
    "\n",
    "# List of major stablecoins (update as needed)\n",
    "stablecoins = ['usdt', 'usdc', 'dai', 'busd', 'tusd', 'gusd', 'frax', 'eurt', 'alusd']\n",
    "\n",
    "# Use the original CoinGecko markets DataFrame for market cap calculations\n",
    "\n",
    "df_markets = pd.DataFrame(data)\n",
    "\n",
    "# Calculate dominance for each stablecoin\n",
    "dominance_dict = {}\n",
    "for coin in stablecoins:\n",
    "    coin_data = df_markets[df_markets['symbol'] == coin]\n",
    "    if not coin_data.empty and 'market_cap' in coin_data.columns:\n",
    "        market_cap = coin_data.iloc[0]['market_cap']\n",
    "        dominance = (market_cap / total_market_cap) * 100\n",
    "        dominance_dict[coin] = dominance\n",
    "    else:\n",
    "        dominance_dict[coin] = 0\n",
    "\n",
    "# Filter out stablecoins with zero dominance\n",
    "filtered_dominance = {coin: dom for coin, dom in dominance_dict.items() if dom > 0}\n",
    "\n",
    "print(\"Major Stablecoins with Non-Zero Dominance (%):\", filtered_dominance)\n",
    "print(\"Total Stablecoin Dominance (%):\", sum(filtered_dominance.values()))"
   ]
  },
  {
   "cell_type": "code",
   "execution_count": 10,
   "id": "364c1e16",
   "metadata": {},
   "outputs": [
    {
     "data": {
      "text/html": [
       "<div>\n",
       "<style scoped>\n",
       "    .dataframe tbody tr th:only-of-type {\n",
       "        vertical-align: middle;\n",
       "    }\n",
       "\n",
       "    .dataframe tbody tr th {\n",
       "        vertical-align: top;\n",
       "    }\n",
       "\n",
       "    .dataframe thead th {\n",
       "        text-align: right;\n",
       "    }\n",
       "</style>\n",
       "<table border=\"1\" class=\"dataframe\">\n",
       "  <thead>\n",
       "    <tr style=\"text-align: right;\">\n",
       "      <th></th>\n",
       "      <th>Stablecoin</th>\n",
       "      <th>Dominance (%)</th>\n",
       "    </tr>\n",
       "  </thead>\n",
       "  <tbody>\n",
       "    <tr>\n",
       "      <th>0</th>\n",
       "      <td>usdt</td>\n",
       "      <td>4.371560</td>\n",
       "    </tr>\n",
       "    <tr>\n",
       "      <th>1</th>\n",
       "      <td>usdc</td>\n",
       "      <td>1.866883</td>\n",
       "    </tr>\n",
       "    <tr>\n",
       "      <th>2</th>\n",
       "      <td>dai</td>\n",
       "      <td>0.120003</td>\n",
       "    </tr>\n",
       "    <tr>\n",
       "      <th>3</th>\n",
       "      <td>busd</td>\n",
       "      <td>0.008125</td>\n",
       "    </tr>\n",
       "    <tr>\n",
       "      <th>4</th>\n",
       "      <td>tusd</td>\n",
       "      <td>0.012845</td>\n",
       "    </tr>\n",
       "    <tr>\n",
       "      <th>5</th>\n",
       "      <td>frax</td>\n",
       "      <td>0.007707</td>\n",
       "    </tr>\n",
       "  </tbody>\n",
       "</table>\n",
       "</div>"
      ],
      "text/plain": [
       "  Stablecoin  Dominance (%)\n",
       "0       usdt       4.371560\n",
       "1       usdc       1.866883\n",
       "2        dai       0.120003\n",
       "3       busd       0.008125\n",
       "4       tusd       0.012845\n",
       "5       frax       0.007707"
      ]
     },
     "execution_count": 10,
     "metadata": {},
     "output_type": "execute_result"
    }
   ],
   "source": [
    "# Put filtered dominance results in a DataFrame\n",
    "import pandas as pd\n",
    "\n",
    "filtered_dominance = {coin: dom for coin, dom in dominance_dict.items() if dom > 0}\n",
    "dominance_df = pd.DataFrame(list(filtered_dominance.items()), columns=['Stablecoin', 'Dominance (%)'])\n",
    "dominance_df"
   ]
  },
  {
   "cell_type": "code",
   "execution_count": 11,
   "id": "c23b9543",
   "metadata": {},
   "outputs": [
    {
     "data": {
      "application/vnd.plotly.v1+json": {
       "config": {
        "plotlyServerURL": "https://plot.ly"
       },
       "data": [
        {
         "hovertemplate": "Stablecoin=%{x}<br>Dominance (%)=%{text}<extra></extra>",
         "legendgroup": "",
         "marker": {
          "color": "#636efa",
          "pattern": {
           "shape": ""
          }
         },
         "name": "",
         "orientation": "v",
         "showlegend": false,
         "text": {
          "bdata": "dNu/I3p8EUAhDdJNwN79PxnFZvqAuL4/DJyVRf2jgD/ASxfgVE6KP/Bq7Wi0kX8/",
          "dtype": "f8"
         },
         "textposition": "outside",
         "texttemplate": "%{text:.2f}%",
         "type": "bar",
         "x": [
          "usdt",
          "usdc",
          "dai",
          "busd",
          "tusd",
          "frax"
         ],
         "xaxis": "x",
         "y": {
          "bdata": "dNu/I3p8EUAhDdJNwN79PxnFZvqAuL4/DJyVRf2jgD/ASxfgVE6KP/Bq7Wi0kX8/",
          "dtype": "f8"
         },
         "yaxis": "y"
        }
       ],
       "layout": {
        "barmode": "relative",
        "height": 600,
        "legend": {
         "tracegroupgap": 0
        },
        "template": {
         "data": {
          "bar": [
           {
            "error_x": {
             "color": "#2a3f5f"
            },
            "error_y": {
             "color": "#2a3f5f"
            },
            "marker": {
             "line": {
              "color": "white",
              "width": 0.5
             },
             "pattern": {
              "fillmode": "overlay",
              "size": 10,
              "solidity": 0.2
             }
            },
            "type": "bar"
           }
          ],
          "barpolar": [
           {
            "marker": {
             "line": {
              "color": "white",
              "width": 0.5
             },
             "pattern": {
              "fillmode": "overlay",
              "size": 10,
              "solidity": 0.2
             }
            },
            "type": "barpolar"
           }
          ],
          "carpet": [
           {
            "aaxis": {
             "endlinecolor": "#2a3f5f",
             "gridcolor": "#C8D4E3",
             "linecolor": "#C8D4E3",
             "minorgridcolor": "#C8D4E3",
             "startlinecolor": "#2a3f5f"
            },
            "baxis": {
             "endlinecolor": "#2a3f5f",
             "gridcolor": "#C8D4E3",
             "linecolor": "#C8D4E3",
             "minorgridcolor": "#C8D4E3",
             "startlinecolor": "#2a3f5f"
            },
            "type": "carpet"
           }
          ],
          "choropleth": [
           {
            "colorbar": {
             "outlinewidth": 0,
             "ticks": ""
            },
            "type": "choropleth"
           }
          ],
          "contour": [
           {
            "colorbar": {
             "outlinewidth": 0,
             "ticks": ""
            },
            "colorscale": [
             [
              0,
              "#0d0887"
             ],
             [
              0.1111111111111111,
              "#46039f"
             ],
             [
              0.2222222222222222,
              "#7201a8"
             ],
             [
              0.3333333333333333,
              "#9c179e"
             ],
             [
              0.4444444444444444,
              "#bd3786"
             ],
             [
              0.5555555555555556,
              "#d8576b"
             ],
             [
              0.6666666666666666,
              "#ed7953"
             ],
             [
              0.7777777777777778,
              "#fb9f3a"
             ],
             [
              0.8888888888888888,
              "#fdca26"
             ],
             [
              1,
              "#f0f921"
             ]
            ],
            "type": "contour"
           }
          ],
          "contourcarpet": [
           {
            "colorbar": {
             "outlinewidth": 0,
             "ticks": ""
            },
            "type": "contourcarpet"
           }
          ],
          "heatmap": [
           {
            "colorbar": {
             "outlinewidth": 0,
             "ticks": ""
            },
            "colorscale": [
             [
              0,
              "#0d0887"
             ],
             [
              0.1111111111111111,
              "#46039f"
             ],
             [
              0.2222222222222222,
              "#7201a8"
             ],
             [
              0.3333333333333333,
              "#9c179e"
             ],
             [
              0.4444444444444444,
              "#bd3786"
             ],
             [
              0.5555555555555556,
              "#d8576b"
             ],
             [
              0.6666666666666666,
              "#ed7953"
             ],
             [
              0.7777777777777778,
              "#fb9f3a"
             ],
             [
              0.8888888888888888,
              "#fdca26"
             ],
             [
              1,
              "#f0f921"
             ]
            ],
            "type": "heatmap"
           }
          ],
          "histogram": [
           {
            "marker": {
             "pattern": {
              "fillmode": "overlay",
              "size": 10,
              "solidity": 0.2
             }
            },
            "type": "histogram"
           }
          ],
          "histogram2d": [
           {
            "colorbar": {
             "outlinewidth": 0,
             "ticks": ""
            },
            "colorscale": [
             [
              0,
              "#0d0887"
             ],
             [
              0.1111111111111111,
              "#46039f"
             ],
             [
              0.2222222222222222,
              "#7201a8"
             ],
             [
              0.3333333333333333,
              "#9c179e"
             ],
             [
              0.4444444444444444,
              "#bd3786"
             ],
             [
              0.5555555555555556,
              "#d8576b"
             ],
             [
              0.6666666666666666,
              "#ed7953"
             ],
             [
              0.7777777777777778,
              "#fb9f3a"
             ],
             [
              0.8888888888888888,
              "#fdca26"
             ],
             [
              1,
              "#f0f921"
             ]
            ],
            "type": "histogram2d"
           }
          ],
          "histogram2dcontour": [
           {
            "colorbar": {
             "outlinewidth": 0,
             "ticks": ""
            },
            "colorscale": [
             [
              0,
              "#0d0887"
             ],
             [
              0.1111111111111111,
              "#46039f"
             ],
             [
              0.2222222222222222,
              "#7201a8"
             ],
             [
              0.3333333333333333,
              "#9c179e"
             ],
             [
              0.4444444444444444,
              "#bd3786"
             ],
             [
              0.5555555555555556,
              "#d8576b"
             ],
             [
              0.6666666666666666,
              "#ed7953"
             ],
             [
              0.7777777777777778,
              "#fb9f3a"
             ],
             [
              0.8888888888888888,
              "#fdca26"
             ],
             [
              1,
              "#f0f921"
             ]
            ],
            "type": "histogram2dcontour"
           }
          ],
          "mesh3d": [
           {
            "colorbar": {
             "outlinewidth": 0,
             "ticks": ""
            },
            "type": "mesh3d"
           }
          ],
          "parcoords": [
           {
            "line": {
             "colorbar": {
              "outlinewidth": 0,
              "ticks": ""
             }
            },
            "type": "parcoords"
           }
          ],
          "pie": [
           {
            "automargin": true,
            "type": "pie"
           }
          ],
          "scatter": [
           {
            "fillpattern": {
             "fillmode": "overlay",
             "size": 10,
             "solidity": 0.2
            },
            "type": "scatter"
           }
          ],
          "scatter3d": [
           {
            "line": {
             "colorbar": {
              "outlinewidth": 0,
              "ticks": ""
             }
            },
            "marker": {
             "colorbar": {
              "outlinewidth": 0,
              "ticks": ""
             }
            },
            "type": "scatter3d"
           }
          ],
          "scattercarpet": [
           {
            "marker": {
             "colorbar": {
              "outlinewidth": 0,
              "ticks": ""
             }
            },
            "type": "scattercarpet"
           }
          ],
          "scattergeo": [
           {
            "marker": {
             "colorbar": {
              "outlinewidth": 0,
              "ticks": ""
             }
            },
            "type": "scattergeo"
           }
          ],
          "scattergl": [
           {
            "marker": {
             "colorbar": {
              "outlinewidth": 0,
              "ticks": ""
             }
            },
            "type": "scattergl"
           }
          ],
          "scattermap": [
           {
            "marker": {
             "colorbar": {
              "outlinewidth": 0,
              "ticks": ""
             }
            },
            "type": "scattermap"
           }
          ],
          "scattermapbox": [
           {
            "marker": {
             "colorbar": {
              "outlinewidth": 0,
              "ticks": ""
             }
            },
            "type": "scattermapbox"
           }
          ],
          "scatterpolar": [
           {
            "marker": {
             "colorbar": {
              "outlinewidth": 0,
              "ticks": ""
             }
            },
            "type": "scatterpolar"
           }
          ],
          "scatterpolargl": [
           {
            "marker": {
             "colorbar": {
              "outlinewidth": 0,
              "ticks": ""
             }
            },
            "type": "scatterpolargl"
           }
          ],
          "scatterternary": [
           {
            "marker": {
             "colorbar": {
              "outlinewidth": 0,
              "ticks": ""
             }
            },
            "type": "scatterternary"
           }
          ],
          "surface": [
           {
            "colorbar": {
             "outlinewidth": 0,
             "ticks": ""
            },
            "colorscale": [
             [
              0,
              "#0d0887"
             ],
             [
              0.1111111111111111,
              "#46039f"
             ],
             [
              0.2222222222222222,
              "#7201a8"
             ],
             [
              0.3333333333333333,
              "#9c179e"
             ],
             [
              0.4444444444444444,
              "#bd3786"
             ],
             [
              0.5555555555555556,
              "#d8576b"
             ],
             [
              0.6666666666666666,
              "#ed7953"
             ],
             [
              0.7777777777777778,
              "#fb9f3a"
             ],
             [
              0.8888888888888888,
              "#fdca26"
             ],
             [
              1,
              "#f0f921"
             ]
            ],
            "type": "surface"
           }
          ],
          "table": [
           {
            "cells": {
             "fill": {
              "color": "#EBF0F8"
             },
             "line": {
              "color": "white"
             }
            },
            "header": {
             "fill": {
              "color": "#C8D4E3"
             },
             "line": {
              "color": "white"
             }
            },
            "type": "table"
           }
          ]
         },
         "layout": {
          "annotationdefaults": {
           "arrowcolor": "#2a3f5f",
           "arrowhead": 0,
           "arrowwidth": 1
          },
          "autotypenumbers": "strict",
          "coloraxis": {
           "colorbar": {
            "outlinewidth": 0,
            "ticks": ""
           }
          },
          "colorscale": {
           "diverging": [
            [
             0,
             "#8e0152"
            ],
            [
             0.1,
             "#c51b7d"
            ],
            [
             0.2,
             "#de77ae"
            ],
            [
             0.3,
             "#f1b6da"
            ],
            [
             0.4,
             "#fde0ef"
            ],
            [
             0.5,
             "#f7f7f7"
            ],
            [
             0.6,
             "#e6f5d0"
            ],
            [
             0.7,
             "#b8e186"
            ],
            [
             0.8,
             "#7fbc41"
            ],
            [
             0.9,
             "#4d9221"
            ],
            [
             1,
             "#276419"
            ]
           ],
           "sequential": [
            [
             0,
             "#0d0887"
            ],
            [
             0.1111111111111111,
             "#46039f"
            ],
            [
             0.2222222222222222,
             "#7201a8"
            ],
            [
             0.3333333333333333,
             "#9c179e"
            ],
            [
             0.4444444444444444,
             "#bd3786"
            ],
            [
             0.5555555555555556,
             "#d8576b"
            ],
            [
             0.6666666666666666,
             "#ed7953"
            ],
            [
             0.7777777777777778,
             "#fb9f3a"
            ],
            [
             0.8888888888888888,
             "#fdca26"
            ],
            [
             1,
             "#f0f921"
            ]
           ],
           "sequentialminus": [
            [
             0,
             "#0d0887"
            ],
            [
             0.1111111111111111,
             "#46039f"
            ],
            [
             0.2222222222222222,
             "#7201a8"
            ],
            [
             0.3333333333333333,
             "#9c179e"
            ],
            [
             0.4444444444444444,
             "#bd3786"
            ],
            [
             0.5555555555555556,
             "#d8576b"
            ],
            [
             0.6666666666666666,
             "#ed7953"
            ],
            [
             0.7777777777777778,
             "#fb9f3a"
            ],
            [
             0.8888888888888888,
             "#fdca26"
            ],
            [
             1,
             "#f0f921"
            ]
           ]
          },
          "colorway": [
           "#636efa",
           "#EF553B",
           "#00cc96",
           "#ab63fa",
           "#FFA15A",
           "#19d3f3",
           "#FF6692",
           "#B6E880",
           "#FF97FF",
           "#FECB52"
          ],
          "font": {
           "color": "#2a3f5f"
          },
          "geo": {
           "bgcolor": "white",
           "lakecolor": "white",
           "landcolor": "white",
           "showlakes": true,
           "showland": true,
           "subunitcolor": "#C8D4E3"
          },
          "hoverlabel": {
           "align": "left"
          },
          "hovermode": "closest",
          "mapbox": {
           "style": "light"
          },
          "paper_bgcolor": "white",
          "plot_bgcolor": "white",
          "polar": {
           "angularaxis": {
            "gridcolor": "#EBF0F8",
            "linecolor": "#EBF0F8",
            "ticks": ""
           },
           "bgcolor": "white",
           "radialaxis": {
            "gridcolor": "#EBF0F8",
            "linecolor": "#EBF0F8",
            "ticks": ""
           }
          },
          "scene": {
           "xaxis": {
            "backgroundcolor": "white",
            "gridcolor": "#DFE8F3",
            "gridwidth": 2,
            "linecolor": "#EBF0F8",
            "showbackground": true,
            "ticks": "",
            "zerolinecolor": "#EBF0F8"
           },
           "yaxis": {
            "backgroundcolor": "white",
            "gridcolor": "#DFE8F3",
            "gridwidth": 2,
            "linecolor": "#EBF0F8",
            "showbackground": true,
            "ticks": "",
            "zerolinecolor": "#EBF0F8"
           },
           "zaxis": {
            "backgroundcolor": "white",
            "gridcolor": "#DFE8F3",
            "gridwidth": 2,
            "linecolor": "#EBF0F8",
            "showbackground": true,
            "ticks": "",
            "zerolinecolor": "#EBF0F8"
           }
          },
          "shapedefaults": {
           "line": {
            "color": "#2a3f5f"
           }
          },
          "ternary": {
           "aaxis": {
            "gridcolor": "#DFE8F3",
            "linecolor": "#A2B1C6",
            "ticks": ""
           },
           "baxis": {
            "gridcolor": "#DFE8F3",
            "linecolor": "#A2B1C6",
            "ticks": ""
           },
           "bgcolor": "white",
           "caxis": {
            "gridcolor": "#DFE8F3",
            "linecolor": "#A2B1C6",
            "ticks": ""
           }
          },
          "title": {
           "x": 0.05
          },
          "xaxis": {
           "automargin": true,
           "gridcolor": "#EBF0F8",
           "linecolor": "#EBF0F8",
           "ticks": "",
           "title": {
            "standoff": 15
           },
           "zerolinecolor": "#EBF0F8",
           "zerolinewidth": 2
          },
          "yaxis": {
           "automargin": true,
           "gridcolor": "#EBF0F8",
           "linecolor": "#EBF0F8",
           "ticks": "",
           "title": {
            "standoff": 15
           },
           "zerolinecolor": "#EBF0F8",
           "zerolinewidth": 2
          }
         }
        },
        "title": {
         "text": "Stablecoin Dominance (%)"
        },
        "width": 800,
        "xaxis": {
         "anchor": "y",
         "domain": [
          0,
          1
         ],
         "title": {
          "text": "Stablecoin"
         }
        },
        "yaxis": {
         "anchor": "x",
         "domain": [
          0,
          1
         ],
         "title": {
          "text": "Dominance (%)"
         }
        }
       }
      }
     },
     "metadata": {},
     "output_type": "display_data"
    }
   ],
   "source": [
    "import plotly.express as px\n",
    "\n",
    "# Interactive bar chart\n",
    "fig = px.bar(\n",
    "    dominance_df,\n",
    "    x=\"Stablecoin\",\n",
    "    y=\"Dominance (%)\",\n",
    "    text=\"Dominance (%)\",\n",
    "    title=\"Stablecoin Dominance (%)\",\n",
    "    labels={\"Stablecoin\": \"Stablecoin\", \"Dominance (%)\": \"Dominance (%)\"},\n",
    "    template=\"plotly_white\"\n",
    ")\n",
    "\n",
    "# Add text on top of bars\n",
    "fig.update_traces(texttemplate='%{text:.2f}%', textposition='outside')\n",
    "\n",
    "# Adjust layout\n",
    "fig.update_layout(\n",
    "    xaxis_title=\"Stablecoin\",\n",
    "    yaxis_title=\"Dominance (%)\",\n",
    "    height=600,\n",
    "    width=800\n",
    ")\n",
    "\n",
    "fig.show()\n"
   ]
  },
  {
   "cell_type": "code",
   "execution_count": 12,
   "id": "c04f99c9",
   "metadata": {},
   "outputs": [
    {
     "data": {
      "application/vnd.plotly.v1+json": {
       "config": {
        "plotlyServerURL": "https://plot.ly"
       },
       "data": [
        {
         "domain": {
          "x": [
           0,
           1
          ],
          "y": [
           0,
           1
          ]
         },
         "hole": 0.3,
         "hovertemplate": "Stablecoin: %{label}<br>Dominance: %{value:.2f}%",
         "labels": [
          "usdt",
          "usdc",
          "dai",
          "busd",
          "tusd",
          "frax"
         ],
         "legendgroup": "",
         "name": "",
         "showlegend": true,
         "textinfo": "label+percent",
         "type": "pie",
         "values": {
          "bdata": "dNu/I3p8EUAhDdJNwN79PxnFZvqAuL4/DJyVRf2jgD/ASxfgVE6KP/Bq7Wi0kX8/",
          "dtype": "f8"
         }
        }
       ],
       "layout": {
        "legend": {
         "tracegroupgap": 0
        },
        "template": {
         "data": {
          "bar": [
           {
            "error_x": {
             "color": "#2a3f5f"
            },
            "error_y": {
             "color": "#2a3f5f"
            },
            "marker": {
             "line": {
              "color": "white",
              "width": 0.5
             },
             "pattern": {
              "fillmode": "overlay",
              "size": 10,
              "solidity": 0.2
             }
            },
            "type": "bar"
           }
          ],
          "barpolar": [
           {
            "marker": {
             "line": {
              "color": "white",
              "width": 0.5
             },
             "pattern": {
              "fillmode": "overlay",
              "size": 10,
              "solidity": 0.2
             }
            },
            "type": "barpolar"
           }
          ],
          "carpet": [
           {
            "aaxis": {
             "endlinecolor": "#2a3f5f",
             "gridcolor": "#C8D4E3",
             "linecolor": "#C8D4E3",
             "minorgridcolor": "#C8D4E3",
             "startlinecolor": "#2a3f5f"
            },
            "baxis": {
             "endlinecolor": "#2a3f5f",
             "gridcolor": "#C8D4E3",
             "linecolor": "#C8D4E3",
             "minorgridcolor": "#C8D4E3",
             "startlinecolor": "#2a3f5f"
            },
            "type": "carpet"
           }
          ],
          "choropleth": [
           {
            "colorbar": {
             "outlinewidth": 0,
             "ticks": ""
            },
            "type": "choropleth"
           }
          ],
          "contour": [
           {
            "colorbar": {
             "outlinewidth": 0,
             "ticks": ""
            },
            "colorscale": [
             [
              0,
              "#0d0887"
             ],
             [
              0.1111111111111111,
              "#46039f"
             ],
             [
              0.2222222222222222,
              "#7201a8"
             ],
             [
              0.3333333333333333,
              "#9c179e"
             ],
             [
              0.4444444444444444,
              "#bd3786"
             ],
             [
              0.5555555555555556,
              "#d8576b"
             ],
             [
              0.6666666666666666,
              "#ed7953"
             ],
             [
              0.7777777777777778,
              "#fb9f3a"
             ],
             [
              0.8888888888888888,
              "#fdca26"
             ],
             [
              1,
              "#f0f921"
             ]
            ],
            "type": "contour"
           }
          ],
          "contourcarpet": [
           {
            "colorbar": {
             "outlinewidth": 0,
             "ticks": ""
            },
            "type": "contourcarpet"
           }
          ],
          "heatmap": [
           {
            "colorbar": {
             "outlinewidth": 0,
             "ticks": ""
            },
            "colorscale": [
             [
              0,
              "#0d0887"
             ],
             [
              0.1111111111111111,
              "#46039f"
             ],
             [
              0.2222222222222222,
              "#7201a8"
             ],
             [
              0.3333333333333333,
              "#9c179e"
             ],
             [
              0.4444444444444444,
              "#bd3786"
             ],
             [
              0.5555555555555556,
              "#d8576b"
             ],
             [
              0.6666666666666666,
              "#ed7953"
             ],
             [
              0.7777777777777778,
              "#fb9f3a"
             ],
             [
              0.8888888888888888,
              "#fdca26"
             ],
             [
              1,
              "#f0f921"
             ]
            ],
            "type": "heatmap"
           }
          ],
          "histogram": [
           {
            "marker": {
             "pattern": {
              "fillmode": "overlay",
              "size": 10,
              "solidity": 0.2
             }
            },
            "type": "histogram"
           }
          ],
          "histogram2d": [
           {
            "colorbar": {
             "outlinewidth": 0,
             "ticks": ""
            },
            "colorscale": [
             [
              0,
              "#0d0887"
             ],
             [
              0.1111111111111111,
              "#46039f"
             ],
             [
              0.2222222222222222,
              "#7201a8"
             ],
             [
              0.3333333333333333,
              "#9c179e"
             ],
             [
              0.4444444444444444,
              "#bd3786"
             ],
             [
              0.5555555555555556,
              "#d8576b"
             ],
             [
              0.6666666666666666,
              "#ed7953"
             ],
             [
              0.7777777777777778,
              "#fb9f3a"
             ],
             [
              0.8888888888888888,
              "#fdca26"
             ],
             [
              1,
              "#f0f921"
             ]
            ],
            "type": "histogram2d"
           }
          ],
          "histogram2dcontour": [
           {
            "colorbar": {
             "outlinewidth": 0,
             "ticks": ""
            },
            "colorscale": [
             [
              0,
              "#0d0887"
             ],
             [
              0.1111111111111111,
              "#46039f"
             ],
             [
              0.2222222222222222,
              "#7201a8"
             ],
             [
              0.3333333333333333,
              "#9c179e"
             ],
             [
              0.4444444444444444,
              "#bd3786"
             ],
             [
              0.5555555555555556,
              "#d8576b"
             ],
             [
              0.6666666666666666,
              "#ed7953"
             ],
             [
              0.7777777777777778,
              "#fb9f3a"
             ],
             [
              0.8888888888888888,
              "#fdca26"
             ],
             [
              1,
              "#f0f921"
             ]
            ],
            "type": "histogram2dcontour"
           }
          ],
          "mesh3d": [
           {
            "colorbar": {
             "outlinewidth": 0,
             "ticks": ""
            },
            "type": "mesh3d"
           }
          ],
          "parcoords": [
           {
            "line": {
             "colorbar": {
              "outlinewidth": 0,
              "ticks": ""
             }
            },
            "type": "parcoords"
           }
          ],
          "pie": [
           {
            "automargin": true,
            "type": "pie"
           }
          ],
          "scatter": [
           {
            "fillpattern": {
             "fillmode": "overlay",
             "size": 10,
             "solidity": 0.2
            },
            "type": "scatter"
           }
          ],
          "scatter3d": [
           {
            "line": {
             "colorbar": {
              "outlinewidth": 0,
              "ticks": ""
             }
            },
            "marker": {
             "colorbar": {
              "outlinewidth": 0,
              "ticks": ""
             }
            },
            "type": "scatter3d"
           }
          ],
          "scattercarpet": [
           {
            "marker": {
             "colorbar": {
              "outlinewidth": 0,
              "ticks": ""
             }
            },
            "type": "scattercarpet"
           }
          ],
          "scattergeo": [
           {
            "marker": {
             "colorbar": {
              "outlinewidth": 0,
              "ticks": ""
             }
            },
            "type": "scattergeo"
           }
          ],
          "scattergl": [
           {
            "marker": {
             "colorbar": {
              "outlinewidth": 0,
              "ticks": ""
             }
            },
            "type": "scattergl"
           }
          ],
          "scattermap": [
           {
            "marker": {
             "colorbar": {
              "outlinewidth": 0,
              "ticks": ""
             }
            },
            "type": "scattermap"
           }
          ],
          "scattermapbox": [
           {
            "marker": {
             "colorbar": {
              "outlinewidth": 0,
              "ticks": ""
             }
            },
            "type": "scattermapbox"
           }
          ],
          "scatterpolar": [
           {
            "marker": {
             "colorbar": {
              "outlinewidth": 0,
              "ticks": ""
             }
            },
            "type": "scatterpolar"
           }
          ],
          "scatterpolargl": [
           {
            "marker": {
             "colorbar": {
              "outlinewidth": 0,
              "ticks": ""
             }
            },
            "type": "scatterpolargl"
           }
          ],
          "scatterternary": [
           {
            "marker": {
             "colorbar": {
              "outlinewidth": 0,
              "ticks": ""
             }
            },
            "type": "scatterternary"
           }
          ],
          "surface": [
           {
            "colorbar": {
             "outlinewidth": 0,
             "ticks": ""
            },
            "colorscale": [
             [
              0,
              "#0d0887"
             ],
             [
              0.1111111111111111,
              "#46039f"
             ],
             [
              0.2222222222222222,
              "#7201a8"
             ],
             [
              0.3333333333333333,
              "#9c179e"
             ],
             [
              0.4444444444444444,
              "#bd3786"
             ],
             [
              0.5555555555555556,
              "#d8576b"
             ],
             [
              0.6666666666666666,
              "#ed7953"
             ],
             [
              0.7777777777777778,
              "#fb9f3a"
             ],
             [
              0.8888888888888888,
              "#fdca26"
             ],
             [
              1,
              "#f0f921"
             ]
            ],
            "type": "surface"
           }
          ],
          "table": [
           {
            "cells": {
             "fill": {
              "color": "#EBF0F8"
             },
             "line": {
              "color": "white"
             }
            },
            "header": {
             "fill": {
              "color": "#C8D4E3"
             },
             "line": {
              "color": "white"
             }
            },
            "type": "table"
           }
          ]
         },
         "layout": {
          "annotationdefaults": {
           "arrowcolor": "#2a3f5f",
           "arrowhead": 0,
           "arrowwidth": 1
          },
          "autotypenumbers": "strict",
          "coloraxis": {
           "colorbar": {
            "outlinewidth": 0,
            "ticks": ""
           }
          },
          "colorscale": {
           "diverging": [
            [
             0,
             "#8e0152"
            ],
            [
             0.1,
             "#c51b7d"
            ],
            [
             0.2,
             "#de77ae"
            ],
            [
             0.3,
             "#f1b6da"
            ],
            [
             0.4,
             "#fde0ef"
            ],
            [
             0.5,
             "#f7f7f7"
            ],
            [
             0.6,
             "#e6f5d0"
            ],
            [
             0.7,
             "#b8e186"
            ],
            [
             0.8,
             "#7fbc41"
            ],
            [
             0.9,
             "#4d9221"
            ],
            [
             1,
             "#276419"
            ]
           ],
           "sequential": [
            [
             0,
             "#0d0887"
            ],
            [
             0.1111111111111111,
             "#46039f"
            ],
            [
             0.2222222222222222,
             "#7201a8"
            ],
            [
             0.3333333333333333,
             "#9c179e"
            ],
            [
             0.4444444444444444,
             "#bd3786"
            ],
            [
             0.5555555555555556,
             "#d8576b"
            ],
            [
             0.6666666666666666,
             "#ed7953"
            ],
            [
             0.7777777777777778,
             "#fb9f3a"
            ],
            [
             0.8888888888888888,
             "#fdca26"
            ],
            [
             1,
             "#f0f921"
            ]
           ],
           "sequentialminus": [
            [
             0,
             "#0d0887"
            ],
            [
             0.1111111111111111,
             "#46039f"
            ],
            [
             0.2222222222222222,
             "#7201a8"
            ],
            [
             0.3333333333333333,
             "#9c179e"
            ],
            [
             0.4444444444444444,
             "#bd3786"
            ],
            [
             0.5555555555555556,
             "#d8576b"
            ],
            [
             0.6666666666666666,
             "#ed7953"
            ],
            [
             0.7777777777777778,
             "#fb9f3a"
            ],
            [
             0.8888888888888888,
             "#fdca26"
            ],
            [
             1,
             "#f0f921"
            ]
           ]
          },
          "colorway": [
           "#636efa",
           "#EF553B",
           "#00cc96",
           "#ab63fa",
           "#FFA15A",
           "#19d3f3",
           "#FF6692",
           "#B6E880",
           "#FF97FF",
           "#FECB52"
          ],
          "font": {
           "color": "#2a3f5f"
          },
          "geo": {
           "bgcolor": "white",
           "lakecolor": "white",
           "landcolor": "white",
           "showlakes": true,
           "showland": true,
           "subunitcolor": "#C8D4E3"
          },
          "hoverlabel": {
           "align": "left"
          },
          "hovermode": "closest",
          "mapbox": {
           "style": "light"
          },
          "paper_bgcolor": "white",
          "plot_bgcolor": "white",
          "polar": {
           "angularaxis": {
            "gridcolor": "#EBF0F8",
            "linecolor": "#EBF0F8",
            "ticks": ""
           },
           "bgcolor": "white",
           "radialaxis": {
            "gridcolor": "#EBF0F8",
            "linecolor": "#EBF0F8",
            "ticks": ""
           }
          },
          "scene": {
           "xaxis": {
            "backgroundcolor": "white",
            "gridcolor": "#DFE8F3",
            "gridwidth": 2,
            "linecolor": "#EBF0F8",
            "showbackground": true,
            "ticks": "",
            "zerolinecolor": "#EBF0F8"
           },
           "yaxis": {
            "backgroundcolor": "white",
            "gridcolor": "#DFE8F3",
            "gridwidth": 2,
            "linecolor": "#EBF0F8",
            "showbackground": true,
            "ticks": "",
            "zerolinecolor": "#EBF0F8"
           },
           "zaxis": {
            "backgroundcolor": "white",
            "gridcolor": "#DFE8F3",
            "gridwidth": 2,
            "linecolor": "#EBF0F8",
            "showbackground": true,
            "ticks": "",
            "zerolinecolor": "#EBF0F8"
           }
          },
          "shapedefaults": {
           "line": {
            "color": "#2a3f5f"
           }
          },
          "ternary": {
           "aaxis": {
            "gridcolor": "#DFE8F3",
            "linecolor": "#A2B1C6",
            "ticks": ""
           },
           "baxis": {
            "gridcolor": "#DFE8F3",
            "linecolor": "#A2B1C6",
            "ticks": ""
           },
           "bgcolor": "white",
           "caxis": {
            "gridcolor": "#DFE8F3",
            "linecolor": "#A2B1C6",
            "ticks": ""
           }
          },
          "title": {
           "x": 0.05
          },
          "xaxis": {
           "automargin": true,
           "gridcolor": "#EBF0F8",
           "linecolor": "#EBF0F8",
           "ticks": "",
           "title": {
            "standoff": 15
           },
           "zerolinecolor": "#EBF0F8",
           "zerolinewidth": 2
          },
          "yaxis": {
           "automargin": true,
           "gridcolor": "#EBF0F8",
           "linecolor": "#EBF0F8",
           "ticks": "",
           "title": {
            "standoff": 15
           },
           "zerolinecolor": "#EBF0F8",
           "zerolinewidth": 2
          }
         }
        },
        "title": {
         "text": "Stablecoin Dominance (%)"
        }
       }
      }
     },
     "metadata": {},
     "output_type": "display_data"
    }
   ],
   "source": [
    "fig = px.pie(\n",
    "    dominance_df,\n",
    "    names=\"Stablecoin\",\n",
    "    values=\"Dominance (%)\",\n",
    "    title=\"Stablecoin Dominance (%)\",\n",
    "    hole=0.3,  # makes it a donut chart\n",
    "    template=\"plotly_white\"\n",
    ")\n",
    "\n",
    "fig.update_traces(textinfo=\"label+percent\", hovertemplate=\"Stablecoin: %{label}<br>Dominance: %{value:.2f}%\")\n",
    "\n",
    "fig.show()\n",
    "\n"
   ]
  },
  {
   "cell_type": "code",
   "execution_count": 13,
   "id": "ea1bbc5b",
   "metadata": {},
   "outputs": [
    {
     "name": "stdout",
     "output_type": "stream",
     "text": [
      "Total Stablecoin Dominance (%) of these 6 stablecoins: 6.387122411923797 %\n"
     ]
    }
   ],
   "source": [
    "print(\"Total Stablecoin Dominance (%) of these 6 stablecoins:\", sum(filtered_dominance.values()), \"%\")"
   ]
  },
  {
   "cell_type": "markdown",
   "id": "65b41d2c",
   "metadata": {},
   "source": [
    "### 3. _Analyzing Peg Deviation_\n",
    "This calculates how much each stablecoin’s price deviates from $1 (the peg).\n",
    "\n",
    "a. Current peg deviation"
   ]
  },
  {
   "cell_type": "code",
   "execution_count": 14,
   "id": "6f61e08a",
   "metadata": {},
   "outputs": [
    {
     "data": {
      "text/html": [
       "<div>\n",
       "<style scoped>\n",
       "    .dataframe tbody tr th:only-of-type {\n",
       "        vertical-align: middle;\n",
       "    }\n",
       "\n",
       "    .dataframe tbody tr th {\n",
       "        vertical-align: top;\n",
       "    }\n",
       "\n",
       "    .dataframe thead th {\n",
       "        text-align: right;\n",
       "    }\n",
       "</style>\n",
       "<table border=\"1\" class=\"dataframe\">\n",
       "  <thead>\n",
       "    <tr style=\"text-align: right;\">\n",
       "      <th></th>\n",
       "      <th>Stablecoin</th>\n",
       "      <th>Peg Deviation ($)</th>\n",
       "    </tr>\n",
       "  </thead>\n",
       "  <tbody>\n",
       "    <tr>\n",
       "      <th>0</th>\n",
       "      <td>usdt</td>\n",
       "      <td>0.000000</td>\n",
       "    </tr>\n",
       "    <tr>\n",
       "      <th>1</th>\n",
       "      <td>usdc</td>\n",
       "      <td>-0.000187</td>\n",
       "    </tr>\n",
       "    <tr>\n",
       "      <th>2</th>\n",
       "      <td>dai</td>\n",
       "      <td>0.001000</td>\n",
       "    </tr>\n",
       "    <tr>\n",
       "      <th>3</th>\n",
       "      <td>busd</td>\n",
       "      <td>-0.000507</td>\n",
       "    </tr>\n",
       "    <tr>\n",
       "      <th>4</th>\n",
       "      <td>tusd</td>\n",
       "      <td>-0.001633</td>\n",
       "    </tr>\n",
       "    <tr>\n",
       "      <th>5</th>\n",
       "      <td>frax</td>\n",
       "      <td>-0.002197</td>\n",
       "    </tr>\n",
       "  </tbody>\n",
       "</table>\n",
       "</div>"
      ],
      "text/plain": [
       "  Stablecoin  Peg Deviation ($)\n",
       "0       usdt           0.000000\n",
       "1       usdc          -0.000187\n",
       "2        dai           0.001000\n",
       "3       busd          -0.000507\n",
       "4       tusd          -0.001633\n",
       "5       frax          -0.002197"
      ]
     },
     "execution_count": 14,
     "metadata": {},
     "output_type": "execute_result"
    }
   ],
   "source": [
    "# Analyze Peg Deviation for Major Stablecoins (6 of them)\n",
    "\n",
    "# Use filtered_dominance keys to focus on major stablecoins with non-zero dominance\n",
    "peg_deviation = {}\n",
    "for coin in filtered_dominance.keys():\n",
    "    coin_data = df[df['symbol'] == coin]\n",
    "    if not coin_data.empty:\n",
    "        price = coin_data.iloc[0]['current_price']\n",
    "        deviation = price - 1  # Difference from $1\n",
    "        peg_deviation[coin] = deviation\n",
    "\n",
    "# Put results in a DataFrame\n",
    "peg_df = pd.DataFrame(list(peg_deviation.items()), columns=['Stablecoin', 'Peg Deviation ($)'])\n",
    "peg_df"
   ]
  },
  {
   "cell_type": "code",
   "execution_count": 15,
   "id": "4ee78e43",
   "metadata": {},
   "outputs": [
    {
     "data": {
      "text/html": [
       "<div>\n",
       "<style scoped>\n",
       "    .dataframe tbody tr th:only-of-type {\n",
       "        vertical-align: middle;\n",
       "    }\n",
       "\n",
       "    .dataframe tbody tr th {\n",
       "        vertical-align: top;\n",
       "    }\n",
       "\n",
       "    .dataframe thead th {\n",
       "        text-align: right;\n",
       "    }\n",
       "</style>\n",
       "<table border=\"1\" class=\"dataframe\">\n",
       "  <thead>\n",
       "    <tr style=\"text-align: right;\">\n",
       "      <th></th>\n",
       "      <th>Stablecoin</th>\n",
       "      <th>Peg Deviation ($)</th>\n",
       "      <th>Peg Deviation (%)</th>\n",
       "    </tr>\n",
       "  </thead>\n",
       "  <tbody>\n",
       "    <tr>\n",
       "      <th>0</th>\n",
       "      <td>usdt</td>\n",
       "      <td>0.000000</td>\n",
       "      <td>0.0000</td>\n",
       "    </tr>\n",
       "    <tr>\n",
       "      <th>1</th>\n",
       "      <td>usdc</td>\n",
       "      <td>-0.000187</td>\n",
       "      <td>-0.0187</td>\n",
       "    </tr>\n",
       "    <tr>\n",
       "      <th>2</th>\n",
       "      <td>dai</td>\n",
       "      <td>0.001000</td>\n",
       "      <td>0.1000</td>\n",
       "    </tr>\n",
       "    <tr>\n",
       "      <th>3</th>\n",
       "      <td>busd</td>\n",
       "      <td>-0.000507</td>\n",
       "      <td>-0.0507</td>\n",
       "    </tr>\n",
       "    <tr>\n",
       "      <th>4</th>\n",
       "      <td>tusd</td>\n",
       "      <td>-0.001633</td>\n",
       "      <td>-0.1633</td>\n",
       "    </tr>\n",
       "    <tr>\n",
       "      <th>5</th>\n",
       "      <td>frax</td>\n",
       "      <td>-0.002197</td>\n",
       "      <td>-0.2197</td>\n",
       "    </tr>\n",
       "  </tbody>\n",
       "</table>\n",
       "</div>"
      ],
      "text/plain": [
       "  Stablecoin  Peg Deviation ($)  Peg Deviation (%)\n",
       "0       usdt           0.000000             0.0000\n",
       "1       usdc          -0.000187            -0.0187\n",
       "2        dai           0.001000             0.1000\n",
       "3       busd          -0.000507            -0.0507\n",
       "4       tusd          -0.001633            -0.1633\n",
       "5       frax          -0.002197            -0.2197"
      ]
     },
     "execution_count": 15,
     "metadata": {},
     "output_type": "execute_result"
    }
   ],
   "source": [
    "peg_df['Peg Deviation (%)'] = peg_df['Peg Deviation ($)'] * 100\n",
    "peg_df"
   ]
  },
  {
   "cell_type": "markdown",
   "id": "ef031d97",
   "metadata": {},
   "source": [
    "b. Peg deviation overtime for these 6 major stablecoins in the last 365 days"
   ]
  },
  {
   "cell_type": "code",
   "execution_count": 16,
   "id": "b5aa649e",
   "metadata": {},
   "outputs": [
    {
     "data": {
      "text/plain": [
       "['../data/stablecoins_historical_deviation.joblib']"
      ]
     },
     "execution_count": 16,
     "metadata": {},
     "output_type": "execute_result"
    }
   ],
   "source": [
    "import joblib\n",
    "\n",
    "# CoinGecko IDs for the 6 major stablecoins in my case study\n",
    "coingecko_ids = {\n",
    "    'usdt': 'tether',\n",
    "    'usdc': 'usd-coin',\n",
    "    'dai': 'dai',\n",
    "    'busd': 'binance-usd',\n",
    "    'tusd': 'true-usd',\n",
    "    'frax': 'frax'\n",
    "}\n",
    "\n",
    "# Function to fetch historical prices and calculate peg deviation\n",
    "def fetch_historical_deviation(coin_id, days=365):\n",
    "    url = f\"https://pro-api.coingecko.com/api/v3/coins/{coin_id}/market_chart\"\n",
    "    params = {\n",
    "        \"vs_currency\": \"usd\",\n",
    "        \"days\": days\n",
    "    }\n",
    "    headers = {\"x-cg-pro-api-key\": COINGECKO_PRO_API_KEY}\n",
    "    response = requests.get(url, params=params, headers=headers)\n",
    "    data = response.json()\n",
    "    prices = data.get(\"prices\", [])\n",
    "    df = pd.DataFrame(prices, columns=[\"timestamp\", \"price\"])\n",
    "    df[\"date\"] = pd.to_datetime(df[\"timestamp\"], unit=\"ms\")\n",
    "    df[\"peg_deviation (USD)\"] = df[\"price\"] - 1\n",
    "    df[\"peg_deviation (%)\"] = (df[\"price\"] - 1) * 100\n",
    "    return df\n",
    "\n",
    "# Fetch historical peg deviation for each stablecoin (last 365 days)\n",
    "historical_deviation_data = {}\n",
    "for symbol, coin_id in coingecko_ids.items():\n",
    "    df_hist = fetch_historical_deviation(coin_id, days=365)\n",
    "    historical_deviation_data[symbol] = df_hist\n",
    "\n",
    "# Save the historical deviation data to a joblib file\n",
    "joblib.dump(historical_deviation_data, \"../data/stablecoins_historical_deviation.joblib\")\n"
   ]
  },
  {
   "cell_type": "code",
   "execution_count": 17,
   "id": "44ae7ddf",
   "metadata": {},
   "outputs": [
    {
     "data": {
      "text/plain": [
       "(2196, 6)"
      ]
     },
     "execution_count": 17,
     "metadata": {},
     "output_type": "execute_result"
    }
   ],
   "source": [
    "historical_deviation_data = joblib.load(\"../data/stablecoins_historical_deviation.joblib\")\n",
    "\n",
    "# Concatenate all DataFrames, adding a column for the stablecoin symbol\n",
    "df = pd.concat(\n",
    "\t[df_hist.assign(symbol=symbol) for symbol, df_hist in historical_deviation_data.items() if not df_hist.empty],\n",
    "\tignore_index=True\n",
    ")\n",
    "df.shape"
   ]
  },
  {
   "cell_type": "code",
   "execution_count": 18,
   "id": "2b2f0745",
   "metadata": {},
   "outputs": [
    {
     "data": {
      "text/plain": [
       "timestamp               371\n",
       "price                  2196\n",
       "date                    371\n",
       "peg_deviation (USD)    2196\n",
       "peg_deviation (%)      2196\n",
       "symbol                    6\n",
       "dtype: int64"
      ]
     },
     "execution_count": 18,
     "metadata": {},
     "output_type": "execute_result"
    }
   ],
   "source": [
    "df.nunique()"
   ]
  },
  {
   "cell_type": "code",
   "execution_count": 19,
   "id": "894ae2f3",
   "metadata": {},
   "outputs": [
    {
     "data": {
      "text/plain": [
       "symbol\n",
       "usdt    366\n",
       "usdc    366\n",
       "dai     366\n",
       "busd    366\n",
       "tusd    366\n",
       "frax    366\n",
       "Name: count, dtype: int64"
      ]
     },
     "execution_count": 19,
     "metadata": {},
     "output_type": "execute_result"
    }
   ],
   "source": [
    "df['symbol'].value_counts()"
   ]
  },
  {
   "cell_type": "code",
   "execution_count": 20,
   "id": "c34bb1fc",
   "metadata": {},
   "outputs": [
    {
     "name": "stdout",
     "output_type": "stream",
     "text": [
      "usdt (366, 5)\n",
      "usdc (366, 5)\n",
      "dai (366, 5)\n",
      "busd (366, 5)\n",
      "tusd (366, 5)\n",
      "frax (366, 5)\n"
     ]
    }
   ],
   "source": [
    "for symbol, df_hist in historical_deviation_data.items():\n",
    "    print(symbol, df_hist.shape)"
   ]
  },
  {
   "cell_type": "code",
   "execution_count": 21,
   "id": "17aea180",
   "metadata": {},
   "outputs": [
    {
     "data": {
      "text/html": [
       "<div>\n",
       "<style scoped>\n",
       "    .dataframe tbody tr th:only-of-type {\n",
       "        vertical-align: middle;\n",
       "    }\n",
       "\n",
       "    .dataframe tbody tr th {\n",
       "        vertical-align: top;\n",
       "    }\n",
       "\n",
       "    .dataframe thead th {\n",
       "        text-align: right;\n",
       "    }\n",
       "</style>\n",
       "<table border=\"1\" class=\"dataframe\">\n",
       "  <thead>\n",
       "    <tr style=\"text-align: right;\">\n",
       "      <th></th>\n",
       "      <th>timestamp</th>\n",
       "      <th>price</th>\n",
       "      <th>date</th>\n",
       "      <th>peg_deviation (USD)</th>\n",
       "      <th>peg_deviation (%)</th>\n",
       "      <th>symbol</th>\n",
       "    </tr>\n",
       "  </thead>\n",
       "  <tbody>\n",
       "    <tr>\n",
       "      <th>0</th>\n",
       "      <td>1725321600000</td>\n",
       "      <td>0.999975</td>\n",
       "      <td>2024-09-03</td>\n",
       "      <td>-0.000025</td>\n",
       "      <td>-0.002535</td>\n",
       "      <td>usdt</td>\n",
       "    </tr>\n",
       "    <tr>\n",
       "      <th>1</th>\n",
       "      <td>1725408000000</td>\n",
       "      <td>0.998101</td>\n",
       "      <td>2024-09-04</td>\n",
       "      <td>-0.001899</td>\n",
       "      <td>-0.189855</td>\n",
       "      <td>usdt</td>\n",
       "    </tr>\n",
       "    <tr>\n",
       "      <th>2</th>\n",
       "      <td>1725494400000</td>\n",
       "      <td>1.000062</td>\n",
       "      <td>2024-09-05</td>\n",
       "      <td>0.000062</td>\n",
       "      <td>0.006182</td>\n",
       "      <td>usdt</td>\n",
       "    </tr>\n",
       "    <tr>\n",
       "      <th>3</th>\n",
       "      <td>1725580800000</td>\n",
       "      <td>0.999541</td>\n",
       "      <td>2024-09-06</td>\n",
       "      <td>-0.000459</td>\n",
       "      <td>-0.045869</td>\n",
       "      <td>usdt</td>\n",
       "    </tr>\n",
       "    <tr>\n",
       "      <th>4</th>\n",
       "      <td>1725667200000</td>\n",
       "      <td>1.000017</td>\n",
       "      <td>2024-09-07</td>\n",
       "      <td>0.000017</td>\n",
       "      <td>0.001674</td>\n",
       "      <td>usdt</td>\n",
       "    </tr>\n",
       "  </tbody>\n",
       "</table>\n",
       "</div>"
      ],
      "text/plain": [
       "       timestamp     price       date  peg_deviation (USD)  peg_deviation (%)  \\\n",
       "0  1725321600000  0.999975 2024-09-03            -0.000025          -0.002535   \n",
       "1  1725408000000  0.998101 2024-09-04            -0.001899          -0.189855   \n",
       "2  1725494400000  1.000062 2024-09-05             0.000062           0.006182   \n",
       "3  1725580800000  0.999541 2024-09-06            -0.000459          -0.045869   \n",
       "4  1725667200000  1.000017 2024-09-07             0.000017           0.001674   \n",
       "\n",
       "  symbol  \n",
       "0   usdt  \n",
       "1   usdt  \n",
       "2   usdt  \n",
       "3   usdt  \n",
       "4   usdt  "
      ]
     },
     "execution_count": 21,
     "metadata": {},
     "output_type": "execute_result"
    }
   ],
   "source": [
    "df.head()"
   ]
  },
  {
   "cell_type": "code",
   "execution_count": 22,
   "id": "0cc0de70",
   "metadata": {},
   "outputs": [
    {
     "data": {
      "image/png": "[encoded data removed]",
      "text/plain": [
       "<Figure size 1400x700 with 1 Axes>"
      ]
     },
     "metadata": {},
     "output_type": "display_data"
    }
   ],
   "source": [
    "# using matplotlib\n",
    "import matplotlib.pyplot as plt\n",
    "\n",
    "plt.figure(figsize=(14, 7))\n",
    "for symbol, df_hist in historical_deviation_data.items():\n",
    "    if not df_hist.empty:\n",
    "        plt.plot(df_hist[\"date\"], df_hist[\"peg_deviation (USD)\"], label=symbol.upper())\n",
    "\n",
    "plt.axhline(0, color=\"gray\", linestyle=\"--\")\n",
    "plt.title(\"Stablecoin Peg Deviation Over Time (Last 365 Days)\")\n",
    "plt.xlabel(\"Date\")\n",
    "plt.ylabel(\"Deviation from $1 (USD)\")\n",
    "plt.legend()\n",
    "plt.tight_layout()\n",
    "plt.show()"
   ]
  },
  {
   "cell_type": "code",
   "execution_count": 23,
   "id": "6f0dc338",
   "metadata": {},
   "outputs": [
    {
     "data": {
      "application/vnd.plotly.v1+json": {
       "config": {
        "linkText": "Export to plot.ly",
        "plotlyServerURL": "https://plot.ly",
        "showLink": false
       },
       "data": [
        {
         "mode": "lines",
         "name": "USDT",
         "type": "scatter",
         "x": [
          "2024-09-03T00:00:00.000000000",
          "2024-09-04T00:00:00.000000000",
          "2024-09-05T00:00:00.000000000",
          "2024-09-06T00:00:00.000000000",
          "2024-09-07T00:00:00.000000000",
          "2024-09-08T00:00:00.000000000",
          "2024-09-09T00:00:00.000000000",
          "2024-09-10T00:00:00.000000000",
          "2024-09-11T00:00:00.000000000",
          "2024-09-12T00:00:00.000000000",
          "2024-09-13T00:00:00.000000000",
          "2024-09-14T00:00:00.000000000",
          "2024-09-15T00:00:00.000000000",
          "2024-09-16T00:00:00.000000000",
          "2024-09-17T00:00:00.000000000",
          "2024-09-18T00:00:00.000000000",
          "2024-09-19T00:00:00.000000000",
          "2024-09-20T00:00:00.000000000",
          "2024-09-21T00:00:00.000000000",
          "2024-09-22T00:00:00.000000000",
          "2024-09-23T00:00:00.000000000",
          "2024-09-24T00:00:00.000000000",
          "2024-09-25T00:00:00.000000000",
          "2024-09-26T00:00:00.000000000",
          "2024-09-27T00:00:00.000000000",
          "2024-09-28T00:00:00.000000000",
          "2024-09-29T00:00:00.000000000",
          "2024-09-30T00:00:00.000000000",
          "2024-10-01T00:00:00.000000000",
          "2024-10-02T00:00:00.000000000",
          "2024-10-03T00:00:00.000000000",
          "2024-10-04T00:00:00.000000000",
          "2024-10-05T00:00:00.000000000",
          "2024-10-06T00:00:00.000000000",
          "2024-10-07T00:00:00.000000000",
          "2024-10-08T00:00:00.000000000",
          "2024-10-09T00:00:00.000000000",
          "2024-10-10T00:00:00.000000000",
          "2024-10-11T00:00:00.000000000",
          "2024-10-12T00:00:00.000000000",
          "2024-10-13T00:00:00.000000000",
          "2024-10-14T00:00:00.000000000",
          "2024-10-15T00:00:00.000000000",
          "2024-10-16T00:00:00.000000000",
          "2024-10-17T00:00:00.000000000",
          "2024-10-18T00:00:00.000000000",
          "2024-10-19T00:00:00.000000000",
          "2024-10-20T00:00:00.000000000",
          "2024-10-21T00:00:00.000000000",
          "2024-10-22T00:00:00.000000000",
          "2024-10-23T00:00:00.000000000",
          "2024-10-24T00:00:00.000000000",
          "2024-10-25T00:00:00.000000000",
          "2024-10-26T00:00:00.000000000",
          "2024-10-27T00:00:00.000000000",
          "2024-10-28T00:00:00.000000000",
          "2024-10-29T00:00:00.000000000",
          "2024-10-30T00:00:00.000000000",
          "2024-10-31T00:00:00.000000000",
          "2024-11-01T00:00:00.000000000",
          "2024-11-02T00:00:00.000000000",
          "2024-11-03T00:00:00.000000000",
          "2024-11-04T00:00:00.000000000",
          "2024-11-05T00:00:00.000000000",
          "2024-11-06T00:00:00.000000000",
          "2024-11-07T00:00:00.000000000",
          "2024-11-08T00:00:00.000000000",
          "2024-11-09T00:00:00.000000000",
          "2024-11-10T00:00:00.000000000",
          "2024-11-11T00:00:00.000000000",
          "2024-11-12T00:00:00.000000000",
          "2024-11-13T00:00:00.000000000",
          "2024-11-14T00:00:00.000000000",
          "2024-11-15T00:00:00.000000000",
          "2024-11-16T00:00:00.000000000",
          "2024-11-17T00:00:00.000000000",
          "2024-11-18T00:00:00.000000000",
          "2024-11-19T00:00:00.000000000",
          "2024-11-20T00:00:00.000000000",
          "2024-11-21T00:00:00.000000000",
          "2024-11-22T00:00:00.000000000",
          "2024-11-23T00:00:00.000000000",
          "2024-11-24T00:00:00.000000000",
          "2024-11-25T00:00:00.000000000",
          "2024-11-26T00:00:00.000000000",
          "2024-11-27T00:00:00.000000000",
          "2024-11-28T00:00:00.000000000",
          "2024-11-29T00:00:00.000000000",
          "2024-11-30T00:00:00.000000000",
          "2024-12-01T00:00:00.000000000",
          "2024-12-02T00:00:00.000000000",
          "2024-12-03T00:00:00.000000000",
          "2024-12-04T00:00:00.000000000",
          "2024-12-05T00:00:00.000000000",
          "2024-12-06T00:00:00.000000000",
          "2024-12-07T00:00:00.000000000",
          "2024-12-08T00:00:00.000000000",
          "2024-12-09T00:00:00.000000000",
          "2024-12-10T00:00:00.000000000",
          "2024-12-11T00:00:00.000000000",
          "2024-12-12T00:00:00.000000000",
          "2024-12-13T00:00:00.000000000",
          "2024-12-14T00:00:00.000000000",
          "2024-12-15T00:00:00.000000000",
          "2024-12-16T00:00:00.000000000",
          "2024-12-17T00:00:00.000000000",
          "2024-12-18T00:00:00.000000000",
          "2024-12-19T00:00:00.000000000",
          "2024-12-20T00:00:00.000000000",
          "2024-12-21T00:00:00.000000000",
          "2024-12-22T00:00:00.000000000",
          "2024-12-23T00:00:00.000000000",
          "2024-12-24T00:00:00.000000000",
          "2024-12-25T00:00:00.000000000",
          "2024-12-26T00:00:00.000000000",
          "2024-12-27T00:00:00.000000000",
          "2024-12-28T00:00:00.000000000",
          "2024-12-29T00:00:00.000000000",
          "2024-12-30T00:00:00.000000000",
          "2024-12-31T00:00:00.000000000",
          "2025-01-01T00:00:00.000000000",
          "2025-01-02T00:00:00.000000000",
          "2025-01-03T00:00:00.000000000",
          "2025-01-04T00:00:00.000000000",
          "2025-01-05T00:00:00.000000000",
          "2025-01-06T00:00:00.000000000",
          "2025-01-07T00:00:00.000000000",
          "2025-01-08T00:00:00.000000000",
          "2025-01-09T00:00:00.000000000",
          "2025-01-10T00:00:00.000000000",
          "2025-01-11T00:00:00.000000000",
          "2025-01-12T00:00:00.000000000",
          "2025-01-13T00:00:00.000000000",
          "2025-01-14T00:00:00.000000000",
          "2025-01-15T00:00:00.000000000",
          "2025-01-16T00:00:00.000000000",
          "2025-01-17T00:00:00.000000000",
          "2025-01-18T00:00:00.000000000",
          "2025-01-19T00:00:00.000000000",
          "2025-01-20T00:00:00.000000000",
          "2025-01-21T00:00:00.000000000",
          "2025-01-22T00:00:00.000000000",
          "2025-01-23T00:00:00.000000000",
          "2025-01-24T00:00:00.000000000",
          "2025-01-25T00:00:00.000000000",
          "2025-01-26T00:00:00.000000000",
          "2025-01-27T00:00:00.000000000",
          "2025-01-28T00:00:00.000000000",
          "2025-01-29T00:00:00.000000000",
          "2025-01-30T00:00:00.000000000",
          "2025-01-31T00:00:00.000000000",
          "2025-02-01T00:00:00.000000000",
          "2025-02-02T00:00:00.000000000",
          "2025-02-03T00:00:00.000000000",
          "2025-02-04T00:00:00.000000000",
          "2025-02-05T00:00:00.000000000",
          "2025-02-06T00:00:00.000000000",
          "2025-02-07T00:00:00.000000000",
          "2025-02-08T00:00:00.000000000",
          "2025-02-09T00:00:00.000000000",
          "2025-02-10T00:00:00.000000000",
          "2025-02-11T00:00:00.000000000",
          "2025-02-12T00:00:00.000000000",
          "2025-02-13T00:00:00.000000000",
          "2025-02-14T00:00:00.000000000",
          "2025-02-15T00:00:00.000000000",
          "2025-02-16T00:00:00.000000000",
          "2025-02-17T00:00:00.000000000",
          "2025-02-18T00:00:00.000000000",
          "2025-02-19T00:00:00.000000000",
          "2025-02-20T00:00:00.000000000",
          "2025-02-21T00:00:00.000000000",
          "2025-02-22T00:00:00.000000000",
          "2025-02-23T00:00:00.000000000",
          "2025-02-24T00:00:00.000000000",
          "2025-02-25T00:00:00.000000000",
          "2025-02-26T00:00:00.000000000",
          "2025-02-27T00:00:00.000000000",
          "2025-02-28T00:00:00.000000000",
          "2025-03-01T00:00:00.000000000",
          "2025-03-02T00:00:00.000000000",
          "2025-03-03T00:00:00.000000000",
          "2025-03-04T00:00:00.000000000",
          "2025-03-05T00:00:00.000000000",
          "2025-03-06T00:00:00.000000000",
          "2025-03-07T00:00:00.000000000",
          "2025-03-08T00:00:00.000000000",
          "2025-03-09T00:00:00.000000000",
          "2025-03-10T00:00:00.000000000",
          "2025-03-11T00:00:00.000000000",
          "2025-03-12T00:00:00.000000000",
          "2025-03-13T00:00:00.000000000",
          "2025-03-14T00:00:00.000000000",
          "2025-03-15T00:00:00.000000000",
          "2025-03-16T00:00:00.000000000",
          "2025-03-17T00:00:00.000000000",
          "2025-03-18T00:00:00.000000000",
          "2025-03-19T00:00:00.000000000",
          "2025-03-20T00:00:00.000000000",
          "2025-03-21T00:00:00.000000000",
          "2025-03-22T00:00:00.000000000",
          "2025-03-23T00:00:00.000000000",
          "2025-03-24T00:00:00.000000000",
          "2025-03-25T00:00:00.000000000",
          "2025-03-26T00:00:00.000000000",
          "2025-03-27T00:00:00.000000000",
          "2025-03-28T00:00:00.000000000",
          "2025-03-29T00:00:00.000000000",
          "2025-03-30T00:00:00.000000000",
          "2025-03-31T00:00:00.000000000",
          "2025-04-01T00:00:00.000000000",
          "2025-04-02T00:00:00.000000000",
          "2025-04-03T00:00:00.000000000",
          "2025-04-04T00:00:00.000000000",
          "2025-04-05T00:00:00.000000000",
          "2025-04-06T00:00:00.000000000",
          "2025-04-07T00:00:00.000000000",
          "2025-04-08T00:00:00.000000000",
          "2025-04-09T00:00:00.000000000",
          "2025-04-10T00:00:00.000000000",
          "2025-04-11T00:00:00.000000000",
          "2025-04-12T00:00:00.000000000",
          "2025-04-13T00:00:00.000000000",
          "2025-04-14T00:00:00.000000000",
          "2025-04-15T00:00:00.000000000",
          "2025-04-16T00:00:00.000000000",
          "2025-04-17T00:00:00.000000000",
          "2025-04-18T00:00:00.000000000",
          "2025-04-19T00:00:00.000000000",
          "2025-04-20T00:00:00.000000000",
          "2025-04-21T00:00:00.000000000",
          "2025-04-22T00:00:00.000000000",
          "2025-04-23T00:00:00.000000000",
          "2025-04-24T00:00:00.000000000",
          "2025-04-25T00:00:00.000000000",
          "2025-04-26T00:00:00.000000000",
          "2025-04-27T00:00:00.000000000",
          "2025-04-28T00:00:00.000000000",
          "2025-04-29T00:00:00.000000000",
          "2025-04-30T00:00:00.000000000",
          "2025-05-01T00:00:00.000000000",
          "2025-05-02T00:00:00.000000000",
          "2025-05-03T00:00:00.000000000",
          "2025-05-04T00:00:00.000000000",
          "2025-05-05T00:00:00.000000000",
          "2025-05-06T00:00:00.000000000",
          "2025-05-07T00:00:00.000000000",
          "2025-05-08T00:00:00.000000000",
          "2025-05-09T00:00:00.000000000",
          "2025-05-10T00:00:00.000000000",
          "2025-05-11T00:00:00.000000000",
          "2025-05-12T00:00:00.000000000",
          "2025-05-13T00:00:00.000000000",
          "2025-05-14T00:00:00.000000000",
          "2025-05-15T00:00:00.000000000",
          "2025-05-16T00:00:00.000000000",
          "2025-05-17T00:00:00.000000000",
          "2025-05-18T00:00:00.000000000",
          "2025-05-19T00:00:00.000000000",
          "2025-05-20T00:00:00.000000000",
          "2025-05-21T00:00:00.000000000",
          "2025-05-22T00:00:00.000000000",
          "2025-05-23T00:00:00.000000000",
          "2025-05-24T00:00:00.000000000",
          "2025-05-25T00:00:00.000000000",
          "2025-05-26T00:00:00.000000000",
          "2025-05-27T00:00:00.000000000",
          "2025-05-28T00:00:00.000000000",
          "2025-05-29T00:00:00.000000000",
          "2025-05-30T00:00:00.000000000",
          "2025-05-31T00:00:00.000000000",
          "2025-06-01T00:00:00.000000000",
          "2025-06-02T00:00:00.000000000",
          "2025-06-03T00:00:00.000000000",
          "2025-06-04T00:00:00.000000000",
          "2025-06-05T00:00:00.000000000",
          "2025-06-06T00:00:00.000000000",
          "2025-06-07T00:00:00.000000000",
          "2025-06-08T00:00:00.000000000",
          "2025-06-09T00:00:00.000000000",
          "2025-06-10T00:00:00.000000000",
          "2025-06-11T00:00:00.000000000",
          "2025-06-12T00:00:00.000000000",
          "2025-06-13T00:00:00.000000000",
          "2025-06-14T00:00:00.000000000",
          "2025-06-15T00:00:00.000000000",
          "2025-06-16T00:00:00.000000000",
          "2025-06-17T00:00:00.000000000",
          "2025-06-18T00:00:00.000000000",
          "2025-06-19T00:00:00.000000000",
          "2025-06-20T00:00:00.000000000",
          "2025-06-21T00:00:00.000000000",
          "2025-06-22T00:00:00.000000000",
          "2025-06-23T00:00:00.000000000",
          "2025-06-24T00:00:00.000000000",
          "2025-06-25T00:00:00.000000000",
          "2025-06-26T00:00:00.000000000",
          "2025-06-27T00:00:00.000000000",
          "2025-06-28T00:00:00.000000000",
          "2025-06-29T00:00:00.000000000",
          "2025-06-30T00:00:00.000000000",
          "2025-07-01T00:00:00.000000000",
          "2025-07-02T00:00:00.000000000",
          "2025-07-03T00:00:00.000000000",
          "2025-07-04T00:00:00.000000000",
          "2025-07-05T00:00:00.000000000",
          "2025-07-06T00:00:00.000000000",
          "2025-07-07T00:00:00.000000000",
          "2025-07-08T00:00:00.000000000",
          "2025-07-09T00:00:00.000000000",
          "2025-07-10T00:00:00.000000000",
          "2025-07-11T00:00:00.000000000",
          "2025-07-12T00:00:00.000000000",
          "2025-07-13T00:00:00.000000000",
          "2025-07-14T00:00:00.000000000",
          "2025-07-15T00:00:00.000000000",
          "2025-07-16T00:00:00.000000000",
          "2025-07-17T00:00:00.000000000",
          "2025-07-18T00:00:00.000000000",
          "2025-07-19T00:00:00.000000000",
          "2025-07-20T00:00:00.000000000",
          "2025-07-21T00:00:00.000000000",
          "2025-07-22T00:00:00.000000000",
          "2025-07-23T00:00:00.000000000",
          "2025-07-24T00:00:00.000000000",
          "2025-07-25T00:00:00.000000000",
          "2025-07-26T00:00:00.000000000",
          "2025-07-27T00:00:00.000000000",
          "2025-07-28T00:00:00.000000000",
          "2025-07-29T00:00:00.000000000",
          "2025-07-30T00:00:00.000000000",
          "2025-07-31T00:00:00.000000000",
          "2025-08-01T00:00:00.000000000",
          "2025-08-02T00:00:00.000000000",
          "2025-08-03T00:00:00.000000000",
          "2025-08-04T00:00:00.000000000",
          "2025-08-05T00:00:00.000000000",
          "2025-08-06T00:00:00.000000000",
          "2025-08-07T00:00:00.000000000",
          "2025-08-08T00:00:00.000000000",
          "2025-08-09T00:00:00.000000000",
          "2025-08-10T00:00:00.000000000",
          "2025-08-11T00:00:00.000000000",
          "2025-08-12T00:00:00.000000000",
          "2025-08-13T00:00:00.000000000",
          "2025-08-14T00:00:00.000000000",
          "2025-08-15T00:00:00.000000000",
          "2025-08-16T00:00:00.000000000",
          "2025-08-17T00:00:00.000000000",
          "2025-08-18T00:00:00.000000000",
          "2025-08-19T00:00:00.000000000",
          "2025-08-20T00:00:00.000000000",
          "2025-08-21T00:00:00.000000000",
          "2025-08-22T00:00:00.000000000",
          "2025-08-23T00:00:00.000000000",
          "2025-08-24T00:00:00.000000000",
          "2025-08-25T00:00:00.000000000",
          "2025-08-26T00:00:00.000000000",
          "2025-08-27T00:00:00.000000000",
          "2025-08-28T00:00:00.000000000",
          "2025-08-29T00:00:00.000000000",
          "2025-08-30T00:00:00.000000000",
          "2025-08-31T00:00:00.000000000",
          "2025-09-01T00:00:00.000000000",
          "2025-09-02T00:00:00.000000000",
          "2025-09-02T13:03:21.000000000"
         ],
         "y": {
          "bdata": "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",
          "dtype": "f8"
         }
        },
        {
         "mode": "lines",
         "name": "USDC",
         "type": "scatter",
         "x": [
          "2024-09-03T00:00:00.000000000",
          "2024-09-04T00:00:00.000000000",
          "2024-09-05T00:00:00.000000000",
          "2024-09-06T00:00:00.000000000",
          "2024-09-07T00:00:00.000000000",
          "2024-09-08T00:00:00.000000000",
          "2024-09-09T00:00:00.000000000",
          "2024-09-10T00:00:00.000000000",
          "2024-09-11T00:00:00.000000000",
          "2024-09-12T00:00:00.000000000",
          "2024-09-13T00:00:00.000000000",
          "2024-09-14T00:00:00.000000000",
          "2024-09-15T00:00:00.000000000",
          "2024-09-16T00:00:00.000000000",
          "2024-09-17T00:00:00.000000000",
          "2024-09-18T00:00:00.000000000",
          "2024-09-19T00:00:00.000000000",
          "2024-09-20T00:00:00.000000000",
          "2024-09-21T00:00:00.000000000",
          "2024-09-22T00:00:00.000000000",
          "2024-09-23T00:00:00.000000000",
          "2024-09-24T00:00:00.000000000",
          "2024-09-25T00:00:00.000000000",
          "2024-09-26T00:00:00.000000000",
          "2024-09-27T00:00:00.000000000",
          "2024-09-28T00:00:00.000000000",
          "2024-09-29T00:00:00.000000000",
          "2024-09-30T00:00:00.000000000",
          "2024-10-01T00:00:00.000000000",
          "2024-10-02T00:00:00.000000000",
          "2024-10-03T00:00:00.000000000",
          "2024-10-04T00:00:00.000000000",
          "2024-10-05T00:00:00.000000000",
          "2024-10-06T00:00:00.000000000",
          "2024-10-07T00:00:00.000000000",
          "2024-10-08T00:00:00.000000000",
          "2024-10-09T00:00:00.000000000",
          "2024-10-10T00:00:00.000000000",
          "2024-10-11T00:00:00.000000000",
          "2024-10-12T00:00:00.000000000",
          "2024-10-13T00:00:00.000000000",
          "2024-10-14T00:00:00.000000000",
          "2024-10-15T00:00:00.000000000",
          "2024-10-16T00:00:00.000000000",
          "2024-10-17T00:00:00.000000000",
          "2024-10-18T00:00:00.000000000",
          "2024-10-19T00:00:00.000000000",
          "2024-10-20T00:00:00.000000000",
          "2024-10-21T00:00:00.000000000",
          "2024-10-22T00:00:00.000000000",
          "2024-10-23T00:00:00.000000000",
          "2024-10-24T00:00:00.000000000",
          "2024-10-25T00:00:00.000000000",
          "2024-10-26T00:00:00.000000000",
          "2024-10-27T00:00:00.000000000",
          "2024-10-28T00:00:00.000000000",
          "2024-10-29T00:00:00.000000000",
          "2024-10-30T00:00:00.000000000",
          "2024-10-31T00:00:00.000000000",
          "2024-11-01T00:00:00.000000000",
          "2024-11-02T00:00:00.000000000",
          "2024-11-03T00:00:00.000000000",
          "2024-11-04T00:00:00.000000000",
          "2024-11-05T00:00:00.000000000",
          "2024-11-06T00:00:00.000000000",
          "2024-11-07T00:00:00.000000000",
          "2024-11-08T00:00:00.000000000",
          "2024-11-09T00:00:00.000000000",
          "2024-11-10T00:00:00.000000000",
          "2024-11-11T00:00:00.000000000",
          "2024-11-12T00:00:00.000000000",
          "2024-11-13T00:00:00.000000000",
          "2024-11-14T00:00:00.000000000",
          "2024-11-15T00:00:00.000000000",
          "2024-11-16T00:00:00.000000000",
          "2024-11-17T00:00:00.000000000",
          "2024-11-18T00:00:00.000000000",
          "2024-11-19T00:00:00.000000000",
          "2024-11-20T00:00:00.000000000",
          "2024-11-21T00:00:00.000000000",
          "2024-11-22T00:00:00.000000000",
          "2024-11-23T00:00:00.000000000",
          "2024-11-24T00:00:00.000000000",
          "2024-11-25T00:00:00.000000000",
          "2024-11-26T00:00:00.000000000",
          "2024-11-27T00:00:00.000000000",
          "2024-11-28T00:00:00.000000000",
          "2024-11-29T00:00:00.000000000",
          "2024-11-30T00:00:00.000000000",
          "2024-12-01T00:00:00.000000000",
          "2024-12-02T00:00:00.000000000",
          "2024-12-03T00:00:00.000000000",
          "2024-12-04T00:00:00.000000000",
          "2024-12-05T00:00:00.000000000",
          "2024-12-06T00:00:00.000000000",
          "2024-12-07T00:00:00.000000000",
          "2024-12-08T00:00:00.000000000",
          "2024-12-09T00:00:00.000000000",
          "2024-12-10T00:00:00.000000000",
          "2024-12-11T00:00:00.000000000",
          "2024-12-12T00:00:00.000000000",
          "2024-12-13T00:00:00.000000000",
          "2024-12-14T00:00:00.000000000",
          "2024-12-15T00:00:00.000000000",
          "2024-12-16T00:00:00.000000000",
          "2024-12-17T00:00:00.000000000",
          "2024-12-18T00:00:00.000000000",
          "2024-12-19T00:00:00.000000000",
          "2024-12-20T00:00:00.000000000",
          "2024-12-21T00:00:00.000000000",
          "2024-12-22T00:00:00.000000000",
          "2024-12-23T00:00:00.000000000",
          "2024-12-24T00:00:00.000000000",
          "2024-12-25T00:00:00.000000000",
          "2024-12-26T00:00:00.000000000",
          "2024-12-27T00:00:00.000000000",
          "2024-12-28T00:00:00.000000000",
          "2024-12-29T00:00:00.000000000",
          "2024-12-30T00:00:00.000000000",
          "2024-12-31T00:00:00.000000000",
          "2025-01-01T00:00:00.000000000",
          "2025-01-02T00:00:00.000000000",
          "2025-01-03T00:00:00.000000000",
          "2025-01-04T00:00:00.000000000",
          "2025-01-05T00:00:00.000000000",
          "2025-01-06T00:00:00.000000000",
          "2025-01-07T00:00:00.000000000",
          "2025-01-08T00:00:00.000000000",
          "2025-01-09T00:00:00.000000000",
          "2025-01-10T00:00:00.000000000",
          "2025-01-11T00:00:00.000000000",
          "2025-01-12T00:00:00.000000000",
          "2025-01-13T00:00:00.000000000",
          "2025-01-14T00:00:00.000000000",
          "2025-01-15T00:00:00.000000000",
          "2025-01-16T00:00:00.000000000",
          "2025-01-17T00:00:00.000000000",
          "2025-01-18T00:00:00.000000000",
          "2025-01-19T00:00:00.000000000",
          "2025-01-20T00:00:00.000000000",
          "2025-01-21T00:00:00.000000000",
          "2025-01-22T00:00:00.000000000",
          "2025-01-23T00:00:00.000000000",
          "2025-01-24T00:00:00.000000000",
          "2025-01-25T00:00:00.000000000",
          "2025-01-26T00:00:00.000000000",
          "2025-01-27T00:00:00.000000000",
          "2025-01-28T00:00:00.000000000",
          "2025-01-29T00:00:00.000000000",
          "2025-01-30T00:00:00.000000000",
          "2025-01-31T00:00:00.000000000",
          "2025-02-01T00:00:00.000000000",
          "2025-02-02T00:00:00.000000000",
          "2025-02-03T00:00:00.000000000",
          "2025-02-04T00:00:00.000000000",
          "2025-02-05T00:00:00.000000000",
          "2025-02-06T00:00:00.000000000",
          "2025-02-07T00:00:00.000000000",
          "2025-02-08T00:00:00.000000000",
          "2025-02-09T00:00:00.000000000",
          "2025-02-10T00:00:00.000000000",
          "2025-02-11T00:00:00.000000000",
          "2025-02-12T00:00:00.000000000",
          "2025-02-13T00:00:00.000000000",
          "2025-02-14T00:00:00.000000000",
          "2025-02-15T00:00:00.000000000",
          "2025-02-16T00:00:00.000000000",
          "2025-02-17T00:00:00.000000000",
          "2025-02-18T00:00:00.000000000",
          "2025-02-19T00:00:00.000000000",
          "2025-02-20T00:00:00.000000000",
          "2025-02-21T00:00:00.000000000",
          "2025-02-22T00:00:00.000000000",
          "2025-02-23T00:00:00.000000000",
          "2025-02-24T00:00:00.000000000",
          "2025-02-25T00:00:00.000000000",
          "2025-02-26T00:00:00.000000000",
          "2025-02-27T00:00:00.000000000",
          "2025-02-28T00:00:00.000000000",
          "2025-03-01T00:00:00.000000000",
          "2025-03-02T00:00:00.000000000",
          "2025-03-03T00:00:00.000000000",
          "2025-03-04T00:00:00.000000000",
          "2025-03-05T00:00:00.000000000",
          "2025-03-06T00:00:00.000000000",
          "2025-03-07T00:00:00.000000000",
          "2025-03-08T00:00:00.000000000",
          "2025-03-09T00:00:00.000000000",
          "2025-03-10T00:00:00.000000000",
          "2025-03-11T00:00:00.000000000",
          "2025-03-12T00:00:00.000000000",
          "2025-03-13T00:00:00.000000000",
          "2025-03-14T00:00:00.000000000",
          "2025-03-15T00:00:00.000000000",
          "2025-03-16T00:00:00.000000000",
          "2025-03-17T00:00:00.000000000",
          "2025-03-18T00:00:00.000000000",
          "2025-03-19T00:00:00.000000000",
          "2025-03-20T00:00:00.000000000",
          "2025-03-21T00:00:00.000000000",
          "2025-03-22T00:00:00.000000000",
          "2025-03-23T00:00:00.000000000",
          "2025-03-24T00:00:00.000000000",
          "2025-03-25T00:00:00.000000000",
          "2025-03-26T00:00:00.000000000",
          "2025-03-27T00:00:00.000000000",
          "2025-03-28T00:00:00.000000000",
          "2025-03-29T00:00:00.000000000",
          "2025-03-30T00:00:00.000000000",
          "2025-03-31T00:00:00.000000000",
          "2025-04-01T00:00:00.000000000",
          "2025-04-02T00:00:00.000000000",
          "2025-04-03T00:00:00.000000000",
          "2025-04-04T00:00:00.000000000",
          "2025-04-05T00:00:00.000000000",
          "2025-04-06T00:00:00.000000000",
          "2025-04-07T00:00:00.000000000",
          "2025-04-08T00:00:00.000000000",
          "2025-04-09T00:00:00.000000000",
          "2025-04-10T00:00:00.000000000",
          "2025-04-11T00:00:00.000000000",
          "2025-04-12T00:00:00.000000000",
          "2025-04-13T00:00:00.000000000",
          "2025-04-14T00:00:00.000000000",
          "2025-04-15T00:00:00.000000000",
          "2025-04-16T00:00:00.000000000",
          "2025-04-17T00:00:00.000000000",
          "2025-04-18T00:00:00.000000000",
          "2025-04-19T00:00:00.000000000",
          "2025-04-20T00:00:00.000000000",
          "2025-04-21T00:00:00.000000000",
          "2025-04-22T00:00:00.000000000",
          "2025-04-23T00:00:00.000000000",
          "2025-04-24T00:00:00.000000000",
          "2025-04-25T00:00:00.000000000",
          "2025-04-26T00:00:00.000000000",
          "2025-04-27T00:00:00.000000000",
          "2025-04-28T00:00:00.000000000",
          "2025-04-29T00:00:00.000000000",
          "2025-04-30T00:00:00.000000000",
          "2025-05-01T00:00:00.000000000",
          "2025-05-02T00:00:00.000000000",
          "2025-05-03T00:00:00.000000000",
          "2025-05-04T00:00:00.000000000",
          "2025-05-05T00:00:00.000000000",
          "2025-05-06T00:00:00.000000000",
          "2025-05-07T00:00:00.000000000",
          "2025-05-08T00:00:00.000000000",
          "2025-05-09T00:00:00.000000000",
          "2025-05-10T00:00:00.000000000",
          "2025-05-11T00:00:00.000000000",
          "2025-05-12T00:00:00.000000000",
          "2025-05-13T00:00:00.000000000",
          "2025-05-14T00:00:00.000000000",
          "2025-05-15T00:00:00.000000000",
          "2025-05-16T00:00:00.000000000",
          "2025-05-17T00:00:00.000000000",
          "2025-05-18T00:00:00.000000000",
          "2025-05-19T00:00:00.000000000",
          "2025-05-20T00:00:00.000000000",
          "2025-05-21T00:00:00.000000000",
          "2025-05-22T00:00:00.000000000",
          "2025-05-23T00:00:00.000000000",
          "2025-05-24T00:00:00.000000000",
          "2025-05-25T00:00:00.000000000",
          "2025-05-26T00:00:00.000000000",
          "2025-05-27T00:00:00.000000000",
          "2025-05-28T00:00:00.000000000",
          "2025-05-29T00:00:00.000000000",
          "2025-05-30T00:00:00.000000000",
          "2025-05-31T00:00:00.000000000",
          "2025-06-01T00:00:00.000000000",
          "2025-06-02T00:00:00.000000000",
          "2025-06-03T00:00:00.000000000",
          "2025-06-04T00:00:00.000000000",
          "2025-06-05T00:00:00.000000000",
          "2025-06-06T00:00:00.000000000",
          "2025-06-07T00:00:00.000000000",
          "2025-06-08T00:00:00.000000000",
          "2025-06-09T00:00:00.000000000",
          "2025-06-10T00:00:00.000000000",
          "2025-06-11T00:00:00.000000000",
          "2025-06-12T00:00:00.000000000",
          "2025-06-13T00:00:00.000000000",
          "2025-06-14T00:00:00.000000000",
          "2025-06-15T00:00:00.000000000",
          "2025-06-16T00:00:00.000000000",
          "2025-06-17T00:00:00.000000000",
          "2025-06-18T00:00:00.000000000",
          "2025-06-19T00:00:00.000000000",
          "2025-06-20T00:00:00.000000000",
          "2025-06-21T00:00:00.000000000",
          "2025-06-22T00:00:00.000000000",
          "2025-06-23T00:00:00.000000000",
          "2025-06-24T00:00:00.000000000",
          "2025-06-25T00:00:00.000000000",
          "2025-06-26T00:00:00.000000000",
          "2025-06-27T00:00:00.000000000",
          "2025-06-28T00:00:00.000000000",
          "2025-06-29T00:00:00.000000000",
          "2025-06-30T00:00:00.000000000",
          "2025-07-01T00:00:00.000000000",
          "2025-07-02T00:00:00.000000000",
          "2025-07-03T00:00:00.000000000",
          "2025-07-04T00:00:00.000000000",
          "2025-07-05T00:00:00.000000000",
          "2025-07-06T00:00:00.000000000",
          "2025-07-07T00:00:00.000000000",
          "2025-07-08T00:00:00.000000000",
          "2025-07-09T00:00:00.000000000",
          "2025-07-10T00:00:00.000000000",
          "2025-07-11T00:00:00.000000000",
          "2025-07-12T00:00:00.000000000",
          "2025-07-13T00:00:00.000000000",
          "2025-07-14T00:00:00.000000000",
          "2025-07-15T00:00:00.000000000",
          "2025-07-16T00:00:00.000000000",
          "2025-07-17T00:00:00.000000000",
          "2025-07-18T00:00:00.000000000",
          "2025-07-19T00:00:00.000000000",
          "2025-07-20T00:00:00.000000000",
          "2025-07-21T00:00:00.000000000",
          "2025-07-22T00:00:00.000000000",
          "2025-07-23T00:00:00.000000000",
          "2025-07-24T00:00:00.000000000",
          "2025-07-25T00:00:00.000000000",
          "2025-07-26T00:00:00.000000000",
          "2025-07-27T00:00:00.000000000",
          "2025-07-28T00:00:00.000000000",
          "2025-07-29T00:00:00.000000000",
          "2025-07-30T00:00:00.000000000",
          "2025-07-31T00:00:00.000000000",
          "2025-08-01T00:00:00.000000000",
          "2025-08-02T00:00:00.000000000",
          "2025-08-03T00:00:00.000000000",
          "2025-08-04T00:00:00.000000000",
          "2025-08-05T00:00:00.000000000",
          "2025-08-06T00:00:00.000000000",
          "2025-08-07T00:00:00.000000000",
          "2025-08-08T00:00:00.000000000",
          "2025-08-09T00:00:00.000000000",
          "2025-08-10T00:00:00.000000000",
          "2025-08-11T00:00:00.000000000",
          "2025-08-12T00:00:00.000000000",
          "2025-08-13T00:00:00.000000000",
          "2025-08-14T00:00:00.000000000",
          "2025-08-15T00:00:00.000000000",
          "2025-08-16T00:00:00.000000000",
          "2025-08-17T00:00:00.000000000",
          "2025-08-18T00:00:00.000000000",
          "2025-08-19T00:00:00.000000000",
          "2025-08-20T00:00:00.000000000",
          "2025-08-21T00:00:00.000000000",
          "2025-08-22T00:00:00.000000000",
          "2025-08-23T00:00:00.000000000",
          "2025-08-24T00:00:00.000000000",
          "2025-08-25T00:00:00.000000000",
          "2025-08-26T00:00:00.000000000",
          "2025-08-27T00:00:00.000000000",
          "2025-08-28T00:00:00.000000000",
          "2025-08-29T00:00:00.000000000",
          "2025-08-30T00:00:00.000000000",
          "2025-08-31T00:00:00.000000000",
          "2025-09-01T00:00:00.000000000",
          "2025-09-02T00:00:00.000000000",
          "2025-09-02T13:03:22.000000000"
         ],
         "y": {
          "bdata": "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",
          "dtype": "f8"
         }
        },
        {
         "mode": "lines",
         "name": "DAI",
         "type": "scatter",
         "x": [
          "2024-09-03T00:00:00.000000000",
          "2024-09-04T00:00:00.000000000",
          "2024-09-05T00:00:00.000000000",
          "2024-09-06T00:00:00.000000000",
          "2024-09-07T00:00:00.000000000",
          "2024-09-08T00:00:00.000000000",
          "2024-09-09T00:00:00.000000000",
          "2024-09-10T00:00:00.000000000",
          "2024-09-11T00:00:00.000000000",
          "2024-09-12T00:00:00.000000000",
          "2024-09-13T00:00:00.000000000",
          "2024-09-14T00:00:00.000000000",
          "2024-09-15T00:00:00.000000000",
          "2024-09-16T00:00:00.000000000",
          "2024-09-17T00:00:00.000000000",
          "2024-09-18T00:00:00.000000000",
          "2024-09-19T00:00:00.000000000",
          "2024-09-20T00:00:00.000000000",
          "2024-09-21T00:00:00.000000000",
          "2024-09-22T00:00:00.000000000",
          "2024-09-23T00:00:00.000000000",
          "2024-09-24T00:00:00.000000000",
          "2024-09-25T00:00:00.000000000",
          "2024-09-26T00:00:00.000000000",
          "2024-09-27T00:00:00.000000000",
          "2024-09-28T00:00:00.000000000",
          "2024-09-29T00:00:00.000000000",
          "2024-09-30T00:00:00.000000000",
          "2024-10-01T00:00:00.000000000",
          "2024-10-02T00:00:00.000000000",
          "2024-10-03T00:00:00.000000000",
          "2024-10-04T00:00:00.000000000",
          "2024-10-05T00:00:00.000000000",
          "2024-10-06T00:00:00.000000000",
          "2024-10-07T00:00:00.000000000",
          "2024-10-08T00:00:00.000000000",
          "2024-10-09T00:00:00.000000000",
          "2024-10-10T00:00:00.000000000",
          "2024-10-11T00:00:00.000000000",
          "2024-10-12T00:00:00.000000000",
          "2024-10-13T00:00:00.000000000",
          "2024-10-14T00:00:00.000000000",
          "2024-10-15T00:00:00.000000000",
          "2024-10-16T00:00:00.000000000",
          "2024-10-17T00:00:00.000000000",
          "2024-10-18T00:00:00.000000000",
          "2024-10-19T00:00:00.000000000",
          "2024-10-20T00:00:00.000000000",
          "2024-10-21T00:00:00.000000000",
          "2024-10-22T00:00:00.000000000",
          "2024-10-23T00:00:00.000000000",
          "2024-10-24T00:00:00.000000000",
          "2024-10-25T00:00:00.000000000",
          "2024-10-26T00:00:00.000000000",
          "2024-10-27T00:00:00.000000000",
          "2024-10-28T00:00:00.000000000",
          "2024-10-29T00:00:00.000000000",
          "2024-10-30T00:00:00.000000000",
          "2024-10-31T00:00:00.000000000",
          "2024-11-01T00:00:00.000000000",
          "2024-11-02T00:00:00.000000000",
          "2024-11-03T00:00:00.000000000",
          "2024-11-04T00:00:00.000000000",
          "2024-11-05T00:00:00.000000000",
          "2024-11-06T00:00:00.000000000",
          "2024-11-07T00:00:00.000000000",
          "2024-11-08T00:00:00.000000000",
          "2024-11-09T00:00:00.000000000",
          "2024-11-10T00:00:00.000000000",
          "2024-11-11T00:00:00.000000000",
          "2024-11-12T00:00:00.000000000",
          "2024-11-13T00:00:00.000000000",
          "2024-11-14T00:00:00.000000000",
          "2024-11-15T00:00:00.000000000",
          "2024-11-16T00:00:00.000000000",
          "2024-11-17T00:00:00.000000000",
          "2024-11-18T00:00:00.000000000",
          "2024-11-19T00:00:00.000000000",
          "2024-11-20T00:00:00.000000000",
          "2024-11-21T00:00:00.000000000",
          "2024-11-22T00:00:00.000000000",
          "2024-11-23T00:00:00.000000000",
          "2024-11-24T00:00:00.000000000",
          "2024-11-25T00:00:00.000000000",
          "2024-11-26T00:00:00.000000000",
          "2024-11-27T00:00:00.000000000",
          "2024-11-28T00:00:00.000000000",
          "2024-11-29T00:00:00.000000000",
          "2024-11-30T00:00:00.000000000",
          "2024-12-01T00:00:00.000000000",
          "2024-12-02T00:00:00.000000000",
          "2024-12-03T00:00:00.000000000",
          "2024-12-04T00:00:00.000000000",
          "2024-12-05T00:00:00.000000000",
          "2024-12-06T00:00:00.000000000",
          "2024-12-07T00:00:00.000000000",
          "2024-12-08T00:00:00.000000000",
          "2024-12-09T00:00:00.000000000",
          "2024-12-10T00:00:00.000000000",
          "2024-12-11T00:00:00.000000000",
          "2024-12-12T00:00:00.000000000",
          "2024-12-13T00:00:00.000000000",
          "2024-12-14T00:00:00.000000000",
          "2024-12-15T00:00:00.000000000",
          "2024-12-16T00:00:00.000000000",
          "2024-12-17T00:00:00.000000000",
          "2024-12-18T00:00:00.000000000",
          "2024-12-19T00:00:00.000000000",
          "2024-12-20T00:00:00.000000000",
          "2024-12-21T00:00:00.000000000",
          "2024-12-22T00:00:00.000000000",
          "2024-12-23T00:00:00.000000000",
          "2024-12-24T00:00:00.000000000",
          "2024-12-25T00:00:00.000000000",
          "2024-12-26T00:00:00.000000000",
          "2024-12-27T00:00:00.000000000",
          "2024-12-28T00:00:00.000000000",
          "2024-12-29T00:00:00.000000000",
          "2024-12-30T00:00:00.000000000",
          "2024-12-31T00:00:00.000000000",
          "2025-01-01T00:00:00.000000000",
          "2025-01-02T00:00:00.000000000",
          "2025-01-03T00:00:00.000000000",
          "2025-01-04T00:00:00.000000000",
          "2025-01-05T00:00:00.000000000",
          "2025-01-06T00:00:00.000000000",
          "2025-01-07T00:00:00.000000000",
          "2025-01-08T00:00:00.000000000",
          "2025-01-09T00:00:00.000000000",
          "2025-01-10T00:00:00.000000000",
          "2025-01-11T00:00:00.000000000",
          "2025-01-12T00:00:00.000000000",
          "2025-01-13T00:00:00.000000000",
          "2025-01-14T00:00:00.000000000",
          "2025-01-15T00:00:00.000000000",
          "2025-01-16T00:00:00.000000000",
          "2025-01-17T00:00:00.000000000",
          "2025-01-18T00:00:00.000000000",
          "2025-01-19T00:00:00.000000000",
          "2025-01-20T00:00:00.000000000",
          "2025-01-21T00:00:00.000000000",
          "2025-01-22T00:00:00.000000000",
          "2025-01-23T00:00:00.000000000",
          "2025-01-24T00:00:00.000000000",
          "2025-01-25T00:00:00.000000000",
          "2025-01-26T00:00:00.000000000",
          "2025-01-27T00:00:00.000000000",
          "2025-01-28T00:00:00.000000000",
          "2025-01-29T00:00:00.000000000",
          "2025-01-30T00:00:00.000000000",
          "2025-01-31T00:00:00.000000000",
          "2025-02-01T00:00:00.000000000",
          "2025-02-02T00:00:00.000000000",
          "2025-02-03T00:00:00.000000000",
          "2025-02-04T00:00:00.000000000",
          "2025-02-05T00:00:00.000000000",
          "2025-02-06T00:00:00.000000000",
          "2025-02-07T00:00:00.000000000",
          "2025-02-08T00:00:00.000000000",
          "2025-02-09T00:00:00.000000000",
          "2025-02-10T00:00:00.000000000",
          "2025-02-11T00:00:00.000000000",
          "2025-02-12T00:00:00.000000000",
          "2025-02-13T00:00:00.000000000",
          "2025-02-14T00:00:00.000000000",
          "2025-02-15T00:00:00.000000000",
          "2025-02-16T00:00:00.000000000",
          "2025-02-17T00:00:00.000000000",
          "2025-02-18T00:00:00.000000000",
          "2025-02-19T00:00:00.000000000",
          "2025-02-20T00:00:00.000000000",
          "2025-02-21T00:00:00.000000000",
          "2025-02-22T00:00:00.000000000",
          "2025-02-23T00:00:00.000000000",
          "2025-02-24T00:00:00.000000000",
          "2025-02-25T00:00:00.000000000",
          "2025-02-26T00:00:00.000000000",
          "2025-02-27T00:00:00.000000000",
          "2025-02-28T00:00:00.000000000",
          "2025-03-01T00:00:00.000000000",
          "2025-03-02T00:00:00.000000000",
          "2025-03-03T00:00:00.000000000",
          "2025-03-04T00:00:00.000000000",
          "2025-03-05T00:00:00.000000000",
          "2025-03-06T00:00:00.000000000",
          "2025-03-07T00:00:00.000000000",
          "2025-03-08T00:00:00.000000000",
          "2025-03-09T00:00:00.000000000",
          "2025-03-10T00:00:00.000000000",
          "2025-03-11T00:00:00.000000000",
          "2025-03-12T00:00:00.000000000",
          "2025-03-13T00:00:00.000000000",
          "2025-03-14T00:00:00.000000000",
          "2025-03-15T00:00:00.000000000",
          "2025-03-16T00:00:00.000000000",
          "2025-03-17T00:00:00.000000000",
          "2025-03-18T00:00:00.000000000",
          "2025-03-19T00:00:00.000000000",
          "2025-03-20T00:00:00.000000000",
          "2025-03-21T00:00:00.000000000",
          "2025-03-22T00:00:00.000000000",
          "2025-03-23T00:00:00.000000000",
          "2025-03-24T00:00:00.000000000",
          "2025-03-25T00:00:00.000000000",
          "2025-03-26T00:00:00.000000000",
          "2025-03-27T00:00:00.000000000",
          "2025-03-28T00:00:00.000000000",
          "2025-03-29T00:00:00.000000000",
          "2025-03-30T00:00:00.000000000",
          "2025-03-31T00:00:00.000000000",
          "2025-04-01T00:00:00.000000000",
          "2025-04-02T00:00:00.000000000",
          "2025-04-03T00:00:00.000000000",
          "2025-04-04T00:00:00.000000000",
          "2025-04-05T00:00:00.000000000",
          "2025-04-06T00:00:00.000000000",
          "2025-04-07T00:00:00.000000000",
          "2025-04-08T00:00:00.000000000",
          "2025-04-09T00:00:00.000000000",
          "2025-04-10T00:00:00.000000000",
          "2025-04-11T00:00:00.000000000",
          "2025-04-12T00:00:00.000000000",
          "2025-04-13T00:00:00.000000000",
          "2025-04-14T00:00:00.000000000",
          "2025-04-15T00:00:00.000000000",
          "2025-04-16T00:00:00.000000000",
          "2025-04-17T00:00:00.000000000",
          "2025-04-18T00:00:00.000000000",
          "2025-04-19T00:00:00.000000000",
          "2025-04-20T00:00:00.000000000",
          "2025-04-21T00:00:00.000000000",
          "2025-04-22T00:00:00.000000000",
          "2025-04-23T00:00:00.000000000",
          "2025-04-24T00:00:00.000000000",
          "2025-04-25T00:00:00.000000000",
          "2025-04-26T00:00:00.000000000",
          "2025-04-27T00:00:00.000000000",
          "2025-04-28T00:00:00.000000000",
          "2025-04-29T00:00:00.000000000",
          "2025-04-30T00:00:00.000000000",
          "2025-05-01T00:00:00.000000000",
          "2025-05-02T00:00:00.000000000",
          "2025-05-03T00:00:00.000000000",
          "2025-05-04T00:00:00.000000000",
          "2025-05-05T00:00:00.000000000",
          "2025-05-06T00:00:00.000000000",
          "2025-05-07T00:00:00.000000000",
          "2025-05-08T00:00:00.000000000",
          "2025-05-09T00:00:00.000000000",
          "2025-05-10T00:00:00.000000000",
          "2025-05-11T00:00:00.000000000",
          "2025-05-12T00:00:00.000000000",
          "2025-05-13T00:00:00.000000000",
          "2025-05-14T00:00:00.000000000",
          "2025-05-15T00:00:00.000000000",
          "2025-05-16T00:00:00.000000000",
          "2025-05-17T00:00:00.000000000",
          "2025-05-18T00:00:00.000000000",
          "2025-05-19T00:00:00.000000000",
          "2025-05-20T00:00:00.000000000",
          "2025-05-21T00:00:00.000000000",
          "2025-05-22T00:00:00.000000000",
          "2025-05-23T00:00:00.000000000",
          "2025-05-24T00:00:00.000000000",
          "2025-05-25T00:00:00.000000000",
          "2025-05-26T00:00:00.000000000",
          "2025-05-27T00:00:00.000000000",
          "2025-05-28T00:00:00.000000000",
          "2025-05-29T00:00:00.000000000",
          "2025-05-30T00:00:00.000000000",
          "2025-05-31T00:00:00.000000000",
          "2025-06-01T00:00:00.000000000",
          "2025-06-02T00:00:00.000000000",
          "2025-06-03T00:00:00.000000000",
          "2025-06-04T00:00:00.000000000",
          "2025-06-05T00:00:00.000000000",
          "2025-06-06T00:00:00.000000000",
          "2025-06-07T00:00:00.000000000",
          "2025-06-08T00:00:00.000000000",
          "2025-06-09T00:00:00.000000000",
          "2025-06-10T00:00:00.000000000",
          "2025-06-11T00:00:00.000000000",
          "2025-06-12T00:00:00.000000000",
          "2025-06-13T00:00:00.000000000",
          "2025-06-14T00:00:00.000000000",
          "2025-06-15T00:00:00.000000000",
          "2025-06-16T00:00:00.000000000",
          "2025-06-17T00:00:00.000000000",
          "2025-06-18T00:00:00.000000000",
          "2025-06-19T00:00:00.000000000",
          "2025-06-20T00:00:00.000000000",
          "2025-06-21T00:00:00.000000000",
          "2025-06-22T00:00:00.000000000",
          "2025-06-23T00:00:00.000000000",
          "2025-06-24T00:00:00.000000000",
          "2025-06-25T00:00:00.000000000",
          "2025-06-26T00:00:00.000000000",
          "2025-06-27T00:00:00.000000000",
          "2025-06-28T00:00:00.000000000",
          "2025-06-29T00:00:00.000000000",
          "2025-06-30T00:00:00.000000000",
          "2025-07-01T00:00:00.000000000",
          "2025-07-02T00:00:00.000000000",
          "2025-07-03T00:00:00.000000000",
          "2025-07-04T00:00:00.000000000",
          "2025-07-05T00:00:00.000000000",
          "2025-07-06T00:00:00.000000000",
          "2025-07-07T00:00:00.000000000",
          "2025-07-08T00:00:00.000000000",
          "2025-07-09T00:00:00.000000000",
          "2025-07-10T00:00:00.000000000",
          "2025-07-11T00:00:00.000000000",
          "2025-07-12T00:00:00.000000000",
          "2025-07-13T00:00:00.000000000",
          "2025-07-14T00:00:00.000000000",
          "2025-07-15T00:00:00.000000000",
          "2025-07-16T00:00:00.000000000",
          "2025-07-17T00:00:00.000000000",
          "2025-07-18T00:00:00.000000000",
          "2025-07-19T00:00:00.000000000",
          "2025-07-20T00:00:00.000000000",
          "2025-07-21T00:00:00.000000000",
          "2025-07-22T00:00:00.000000000",
          "2025-07-23T00:00:00.000000000",
          "2025-07-24T00:00:00.000000000",
          "2025-07-25T00:00:00.000000000",
          "2025-07-26T00:00:00.000000000",
          "2025-07-27T00:00:00.000000000",
          "2025-07-28T00:00:00.000000000",
          "2025-07-29T00:00:00.000000000",
          "2025-07-30T00:00:00.000000000",
          "2025-07-31T00:00:00.000000000",
          "2025-08-01T00:00:00.000000000",
          "2025-08-02T00:00:00.000000000",
          "2025-08-03T00:00:00.000000000",
          "2025-08-04T00:00:00.000000000",
          "2025-08-05T00:00:00.000000000",
          "2025-08-06T00:00:00.000000000",
          "2025-08-07T00:00:00.000000000",
          "2025-08-08T00:00:00.000000000",
          "2025-08-09T00:00:00.000000000",
          "2025-08-10T00:00:00.000000000",
          "2025-08-11T00:00:00.000000000",
          "2025-08-12T00:00:00.000000000",
          "2025-08-13T00:00:00.000000000",
          "2025-08-14T00:00:00.000000000",
          "2025-08-15T00:00:00.000000000",
          "2025-08-16T00:00:00.000000000",
          "2025-08-17T00:00:00.000000000",
          "2025-08-18T00:00:00.000000000",
          "2025-08-19T00:00:00.000000000",
          "2025-08-20T00:00:00.000000000",
          "2025-08-21T00:00:00.000000000",
          "2025-08-22T00:00:00.000000000",
          "2025-08-23T00:00:00.000000000",
          "2025-08-24T00:00:00.000000000",
          "2025-08-25T00:00:00.000000000",
          "2025-08-26T00:00:00.000000000",
          "2025-08-27T00:00:00.000000000",
          "2025-08-28T00:00:00.000000000",
          "2025-08-29T00:00:00.000000000",
          "2025-08-30T00:00:00.000000000",
          "2025-08-31T00:00:00.000000000",
          "2025-09-01T00:00:00.000000000",
          "2025-09-02T00:00:00.000000000",
          "2025-09-02T13:03:20.000000000"
         ],
         "y": {
          "bdata": "wihxAPxNIz8YT9VwtmpZP8IoP89IUS4/YVwCgaWOPj8SRqOnFsDxPjG6BraxmUA/MQb5XfVtTD9hXERcFEU2P2G0rrf+NzY/hFGvRPemFj9hFPmgkRE2P8IovxRXuSE/CSPKKetVAz9hFEpwBKY1PzHykKvYJ0M/YZTKgpfgMT8YZTE2WP9TP2HEKgThfDI/YbQXWXMTOT9hBOe3Byw0PzFyS3c6IkI/wmjUa+PYJj8SRj25AX7wPhhBax+UTlM/wlhOszmeLT8xcvC4yThDPwkj/yJXNAo/YTRm6EWTOz8xGqpuD79APzHSx1Jc/kI/MXpfmJhGQD9hvJuDrCI5P8KoevuMbys/CSNtpUICCT9hTGl/lxQ8PxgttJFfflw/wugYXpv6Jj8xrsJSAmBGP4QRMzNqXRM/wrh58o0RJD+EEYRcjGMQPzESbf6ISEM/YQSpYSYaOT9hJAAOrp0xP8LoYkVEky0/hNEeSuA8GD9htCa6H5Y4P4RRCoPj1hg/hNENWme0ED9hVJ8Kh8syP2GUz4zouj8/EkbS0d4B+D4xmu+412tHP4ygwqt/MWk/wkgbS/meKD8xNsW5AahBP2E0IU5/ijA/GOk/xfmyVj9hNDGE2sU4PxgHq4vf41g/wshLTfvuLD/CiHfYQ24vP2GEpPoZwDA/Mbql3Gh3ST8xvsQucTdPPzHWMEHuP0M/MWKFxL2mRz+E0T9VdGgYPxhNTHX+fl4/YQTiLO5tNT8YdwIiW5tdPxgh6m0T7VQ/YQQuGQOlMj9hJAkibVM3P2EkG64P7jc/MQpG0E3aSj9htMgee541P8L43SZmSyI/MSa/8MriRT8xYo1HNgdJP2GUY3N4tD4/YZQeZqLsMT/CqLF1+MchPxipOBjdu1M/YfQ/WK6JND/CiGMhRnwnP4SxUJFJ7Rc/CWPBIJSSDT8xwt8ARZNEP2E08Fr/jjA/hLE1RUfEHT9hhLa7tm8+PwkjjAvf7Ac/MfK89RVXSz8YkbIcSTpVPyOMzIGfFeM+GPt9lfXjXz9G01XXSTpyP2F0tCY1ETs/MVprACmwQz8Yg+7b+ztWPwkjZ1HUtAs/YVR6F4zNPT/CaLaN6ncvP8KIifJXqik/hJG5qRUtGz9hLIJrv+E6P2G0HQFqxjY/MfbwIfCXQT8x4qwvH49NPzEKR7+0y0E/hHHY08epGz/CyD4WZfwgPzHidjOzxUs/YRRwyV6POT/CSELNaMMiPzG6b2rIDkE/GBEqDIMxUD8x2vohraBAPxJGv9Xdr/g+MVLekbkjSz8xRvP5EFdAPxJGsm+gXv8+wogWfLWQKT/CWPqDgVwnP2F81z5GSjU/MfpAxhW9Sj+EEZkAhrMQPzEOD2Oj4Uc/EkYfa7rP/D6EMTMwx4QTPwnjzlhYbAc/wnh51FsQKj8JI/B+PU0FP4TRWQTZtRQ/hBFoyEbYED+MMBI8unLDPsJoxG2paSE/wrhwFISYKT+EcXVNo2ccPwkj1moESwU/YXQ2zHJzNj/CyHZhTOwhP2GkNNhzljU/hBGzw9jhHz8xgui49oVGP2EUghaLhjE/wmjLUIyAIT/CiNAiunQvPwnjR1ZTDw4/YQQFt0xENz9htEMHHTQ1PzGSIcUknEc/Mbohtdw9QD/C6ElNin8vP2HkKt8oJzs/YSwnqDbcNj+EET4QcQwdP2HskdAa+Dg/MVLDUzdaQj9hbLIffeg+P4RRvWJoxx4/YYx/hjUKPD9hnGV7UP00P4TRuAQsKhk/hxHGFkYdeT4Jo/q6/ioCP8JobePKky0/wuhEHgl6JT9h7F2vYqY1P4Sx5F77NxY/YbyrAH/iPD8xchL5AFRCP8JoQFDZzSU/YawnGhRUOD9hbJY5IhM6P2GE9D3n4Tk/Md7Bz7Q4Qj9hfIEuMRQ7PzFKIPE/Ukw/hPF+j4IYHD+E8SlWb+IaPxJGaid1ZP4+wji7iFBdJT8JIwzhkHgIP8IoZNROhSA/YUTIlwllPj/CqJQAzkcpP8Io5xN99SM/YRwR301RPT9h/Da9xW87PzGKCRVYYkg/wljmagexLD/C6L3fqoosP4QRuRw7mxQ/wjjTbfIEJz/C+EksNPYsP8KIumCcpCA/CaMqwAwtDT8xbj/Bp2tCP8JYWDibDCs/wrgHMgVcKD+E8cGsXhIeP4Rxsx7mrR0/wqiOkEn1JD9htGfkLDwwPzGq0Wu+OEM/YSR0fwiUPD/CCDAvDd8tPzH+jOoDZEM/wggT2g/ALj9hFLg+9oI4P2E8SdN1gjk/YTTY7XV7Mj/CiIMXr9wgPwmj7/BcWg0/hNGrrhvgED/CaCR+y0EqPzHuc3QUlEE/hNGtokdwFj/CCFUx7J8gP2Eky3ss6jI/hFFyVV+iHD8SRnxEH2n9PsKIByyS8CA/wihtobrHLT9hNJXLKMIzP2FkxDzfBzk/YZS3pPwfMD/CSE4hBI8iPyOMGOJXv+8+MYqWuM21Qj9GGA0CEFHSPsKoqdURQSg/YcSk/JIuMz8Sxtv2UNL6PjHCyIOmT6g+hPHv/iHkED/CKN1P/DwjP8KYD3rT8yA/I4zS75qz7z4jjEzkSf3uPmHEqqAbATU/hJGqM5K1Gj/CaAnZze4vP8KIZQAgRSg/YXxh48gZND/CSNCiicQrP8JIRTizKiU/whiqCYPTIT8J40LJuygBP4SRg+CIRBw/hJHGgdaAHT8JI7+8O00MP4QRRvzF8xg/wmiFRO3yIj+EEeS8jVIdP4SRJd1nghQ/hPGr4sVgGD/CaL0eafEpP4QRYTRO0xg/wigWofCvKz+EcQmWabUTP2E8bz32hDQ/Esa8HSTU+D5GGM8clbfYPhJGbqqVEPE+woi2jNvKIT8SRm4i13f0PiOMAFDyMOg+hNGa8HIREz/CqITW/cYoPwmj+e6FGQY/jDCqEDh5wz4JI++zVdUOPwkjASqC1Q0/EsY72wUh+T4J45T6h/4NP8JYWXLidSc/YQwu2VowMz8xJusmuwRGP2E0Kw7HbjI/wojTcoi1LD/CKEAg+30jPwljEJKz3go/MXYlx9KpRj9hjKXC+NM+P8K4Mui7sS8/MSKtUWhjRz9hJIlDeqE4P2HEj2mkezw/YWxYsqAvOz/CKIu9bYMlP2Gsd1ucWzg/wji9ClfKID9hnByKtHsxPxJGdmo5i/k+YYRhAvoyMD8J48+Q7A0CP2H0sTriLDY/YeQE8xpeNz/CCNPB8WggP2FUN3RVPzQ/wijQfkPJLz8jjDDddZviPhLGBUnUn/E+YfyRq8SHOj9h7NW4gKY3P4QRB0+lbhc/CaNwil85Cj+EUUiP7fUbP2HEDJCrFDQ/wsjowSrQJD/CGHoAT0IlPyOM9OQWA+s+YeS3Cv8rNT8Joyl54F8JPwkjMPDspwA/wkjoPME1Lj8JY98jfVMMP8LIofnHZCE/hNEMi3hXFD9GGLknw3vVPmKEcVfsUZw+wmh7VUiSKj8JIxRm6yUCP2E09ew1AzY/CWO4icg6Bj8dRhhL1sRaPoSxn0S3qh4/whg5+Nb7JT8JIwHPfBkKP8I4aHwnUCI/wvg5xQTYKD+EkebyMrIZP8KYOolNniI/wojNNLTALD8Jo7tgMRIPP8KIKOLSqyI/wrjY5IXVIj8SRoHhAzD+PoTx9RQnoxY/wiiWBBLaLT8SxkwwyJbyPmH0rT3j5zU/CSPaKtZnCz/COIh6v/AkP4SR/hZoeRk/hNF6YBqvFz+Ecc1KxNUQPxJG/JxNt/M+MR5o9Q71QT8JoxZkU6YFP8JoojTy7SU/YYxkaBNMOz8YYTTaT2W6PsQIY4p3P4o+CSNuneURCD9h/NNSN8wxP8LoGuMLhyQ/wkhUyMYCID+E8cJPgfUZP8JYHnAuqCI/Ybx4OZK9MT/CGKzsEIgjPxi5WwkhOFc/",
          "dtype": "f8"
         }
        },
        {
         "mode": "lines",
         "name": "BUSD",
         "type": "scatter",
         "x": [
          "2024-09-03T00:00:00.000000000",
          "2024-09-04T00:00:00.000000000",
          "2024-09-05T00:00:00.000000000",
          "2024-09-06T00:00:00.000000000",
          "2024-09-07T00:00:00.000000000",
          "2024-09-08T00:00:00.000000000",
          "2024-09-09T00:00:00.000000000",
          "2024-09-10T00:00:00.000000000",
          "2024-09-11T00:00:00.000000000",
          "2024-09-12T00:00:00.000000000",
          "2024-09-13T00:00:00.000000000",
          "2024-09-14T00:00:00.000000000",
          "2024-09-15T00:00:00.000000000",
          "2024-09-16T00:00:00.000000000",
          "2024-09-17T00:00:00.000000000",
          "2024-09-18T00:00:00.000000000",
          "2024-09-19T00:00:00.000000000",
          "2024-09-20T00:00:00.000000000",
          "2024-09-21T00:00:00.000000000",
          "2024-09-22T00:00:00.000000000",
          "2024-09-23T00:00:00.000000000",
          "2024-09-24T00:00:00.000000000",
          "2024-09-25T00:00:00.000000000",
          "2024-09-26T00:00:00.000000000",
          "2024-09-27T00:00:00.000000000",
          "2024-09-28T00:00:00.000000000",
          "2024-09-29T00:00:00.000000000",
          "2024-09-30T00:00:00.000000000",
          "2024-10-01T00:00:00.000000000",
          "2024-10-02T00:00:00.000000000",
          "2024-10-03T00:00:00.000000000",
          "2024-10-04T00:00:00.000000000",
          "2024-10-05T00:00:00.000000000",
          "2024-10-06T00:00:00.000000000",
          "2024-10-07T00:00:00.000000000",
          "2024-10-08T00:00:00.000000000",
          "2024-10-09T00:00:00.000000000",
          "2024-10-10T00:00:00.000000000",
          "2024-10-11T00:00:00.000000000",
          "2024-10-12T00:00:00.000000000",
          "2024-10-13T00:00:00.000000000",
          "2024-10-14T00:00:00.000000000",
          "2024-10-15T00:00:00.000000000",
          "2024-10-16T00:00:00.000000000",
          "2024-10-17T00:00:00.000000000",
          "2024-10-18T00:00:00.000000000",
          "2024-10-19T00:00:00.000000000",
          "2024-10-20T00:00:00.000000000",
          "2024-10-21T00:00:00.000000000",
          "2024-10-22T00:00:00.000000000",
          "2024-10-23T00:00:00.000000000",
          "2024-10-24T00:00:00.000000000",
          "2024-10-25T00:00:00.000000000",
          "2024-10-26T00:00:00.000000000",
          "2024-10-27T00:00:00.000000000",
          "2024-10-28T00:00:00.000000000",
          "2024-10-29T00:00:00.000000000",
          "2024-10-30T00:00:00.000000000",
          "2024-10-31T00:00:00.000000000",
          "2024-11-01T00:00:00.000000000",
          "2024-11-02T00:00:00.000000000",
          "2024-11-03T00:00:00.000000000",
          "2024-11-04T00:00:00.000000000",
          "2024-11-05T00:00:00.000000000",
          "2024-11-06T00:00:00.000000000",
          "2024-11-07T00:00:00.000000000",
          "2024-11-08T00:00:00.000000000",
          "2024-11-09T00:00:00.000000000",
          "2024-11-10T00:00:00.000000000",
          "2024-11-11T00:00:00.000000000",
          "2024-11-12T00:00:00.000000000",
          "2024-11-13T00:00:00.000000000",
          "2024-11-14T00:00:00.000000000",
          "2024-11-15T00:00:00.000000000",
          "2024-11-16T00:00:00.000000000",
          "2024-11-17T00:00:00.000000000",
          "2024-11-18T00:00:00.000000000",
          "2024-11-19T00:00:00.000000000",
          "2024-11-20T00:00:00.000000000",
          "2024-11-21T00:00:00.000000000",
          "2024-11-22T00:00:00.000000000",
          "2024-11-23T00:00:00.000000000",
          "2024-11-24T00:00:00.000000000",
          "2024-11-25T00:00:00.000000000",
          "2024-11-26T00:00:00.000000000",
          "2024-11-27T00:00:00.000000000",
          "2024-11-28T00:00:00.000000000",
          "2024-11-29T00:00:00.000000000",
          "2024-11-30T00:00:00.000000000",
          "2024-12-01T00:00:00.000000000",
          "2024-12-02T00:00:00.000000000",
          "2024-12-03T00:00:00.000000000",
          "2024-12-04T00:00:00.000000000",
          "2024-12-05T00:00:00.000000000",
          "2024-12-06T00:00:00.000000000",
          "2024-12-07T00:00:00.000000000",
          "2024-12-08T00:00:00.000000000",
          "2024-12-09T00:00:00.000000000",
          "2024-12-10T00:00:00.000000000",
          "2024-12-11T00:00:00.000000000",
          "2024-12-12T00:00:00.000000000",
          "2024-12-13T00:00:00.000000000",
          "2024-12-14T00:00:00.000000000",
          "2024-12-15T00:00:00.000000000",
          "2024-12-16T00:00:00.000000000",
          "2024-12-17T00:00:00.000000000",
          "2024-12-18T00:00:00.000000000",
          "2024-12-19T00:00:00.000000000",
          "2024-12-20T00:00:00.000000000",
          "2024-12-21T00:00:00.000000000",
          "2024-12-22T00:00:00.000000000",
          "2024-12-23T00:00:00.000000000",
          "2024-12-24T00:00:00.000000000",
          "2024-12-25T00:00:00.000000000",
          "2024-12-26T00:00:00.000000000",
          "2024-12-27T00:00:00.000000000",
          "2024-12-28T00:00:00.000000000",
          "2024-12-29T00:00:00.000000000",
          "2024-12-30T00:00:00.000000000",
          "2024-12-31T00:00:00.000000000",
          "2025-01-01T00:00:00.000000000",
          "2025-01-02T00:00:00.000000000",
          "2025-01-03T00:00:00.000000000",
          "2025-01-04T00:00:00.000000000",
          "2025-01-05T00:00:00.000000000",
          "2025-01-06T00:00:00.000000000",
          "2025-01-07T00:00:00.000000000",
          "2025-01-08T00:00:00.000000000",
          "2025-01-09T00:00:00.000000000",
          "2025-01-10T00:00:00.000000000",
          "2025-01-11T00:00:00.000000000",
          "2025-01-12T00:00:00.000000000",
          "2025-01-13T00:00:00.000000000",
          "2025-01-14T00:00:00.000000000",
          "2025-01-15T00:00:00.000000000",
          "2025-01-16T00:00:00.000000000",
          "2025-01-17T00:00:00.000000000",
          "2025-01-18T00:00:00.000000000",
          "2025-01-19T00:00:00.000000000",
          "2025-01-20T00:00:00.000000000",
          "2025-01-21T00:00:00.000000000",
          "2025-01-22T00:00:00.000000000",
          "2025-01-23T00:00:00.000000000",
          "2025-01-24T00:00:00.000000000",
          "2025-01-25T00:00:00.000000000",
          "2025-01-26T00:00:00.000000000",
          "2025-01-27T00:00:00.000000000",
          "2025-01-28T00:00:00.000000000",
          "2025-01-29T00:00:00.000000000",
          "2025-01-30T00:00:00.000000000",
          "2025-01-31T00:00:00.000000000",
          "2025-02-01T00:00:00.000000000",
          "2025-02-02T00:00:00.000000000",
          "2025-02-03T00:00:00.000000000",
          "2025-02-04T00:00:00.000000000",
          "2025-02-05T00:00:00.000000000",
          "2025-02-06T00:00:00.000000000",
          "2025-02-07T00:00:00.000000000",
          "2025-02-08T00:00:00.000000000",
          "2025-02-09T00:00:00.000000000",
          "2025-02-10T00:00:00.000000000",
          "2025-02-11T00:00:00.000000000",
          "2025-02-12T00:00:00.000000000",
          "2025-02-13T00:00:00.000000000",
          "2025-02-14T00:00:00.000000000",
          "2025-02-15T00:00:00.000000000",
          "2025-02-16T00:00:00.000000000",
          "2025-02-17T00:00:00.000000000",
          "2025-02-18T00:00:00.000000000",
          "2025-02-19T00:00:00.000000000",
          "2025-02-20T00:00:00.000000000",
          "2025-02-21T00:00:00.000000000",
          "2025-02-22T00:00:00.000000000",
          "2025-02-23T00:00:00.000000000",
          "2025-02-24T00:00:00.000000000",
          "2025-02-25T00:00:00.000000000",
          "2025-02-26T00:00:00.000000000",
          "2025-02-27T00:00:00.000000000",
          "2025-02-28T00:00:00.000000000",
          "2025-03-01T00:00:00.000000000",
          "2025-03-02T00:00:00.000000000",
          "2025-03-03T00:00:00.000000000",
          "2025-03-04T00:00:00.000000000",
          "2025-03-05T00:00:00.000000000",
          "2025-03-06T00:00:00.000000000",
          "2025-03-07T00:00:00.000000000",
          "2025-03-08T00:00:00.000000000",
          "2025-03-09T00:00:00.000000000",
          "2025-03-10T00:00:00.000000000",
          "2025-03-11T00:00:00.000000000",
          "2025-03-12T00:00:00.000000000",
          "2025-03-13T00:00:00.000000000",
          "2025-03-14T00:00:00.000000000",
          "2025-03-15T00:00:00.000000000",
          "2025-03-16T00:00:00.000000000",
          "2025-03-17T00:00:00.000000000",
          "2025-03-18T00:00:00.000000000",
          "2025-03-19T00:00:00.000000000",
          "2025-03-20T00:00:00.000000000",
          "2025-03-21T00:00:00.000000000",
          "2025-03-22T00:00:00.000000000",
          "2025-03-23T00:00:00.000000000",
          "2025-03-24T00:00:00.000000000",
          "2025-03-25T00:00:00.000000000",
          "2025-03-26T00:00:00.000000000",
          "2025-03-27T00:00:00.000000000",
          "2025-03-28T00:00:00.000000000",
          "2025-03-29T00:00:00.000000000",
          "2025-03-30T00:00:00.000000000",
          "2025-03-31T00:00:00.000000000",
          "2025-04-01T00:00:00.000000000",
          "2025-04-02T00:00:00.000000000",
          "2025-04-03T00:00:00.000000000",
          "2025-04-04T00:00:00.000000000",
          "2025-04-05T00:00:00.000000000",
          "2025-04-06T00:00:00.000000000",
          "2025-04-07T00:00:00.000000000",
          "2025-04-08T00:00:00.000000000",
          "2025-04-09T00:00:00.000000000",
          "2025-04-10T00:00:00.000000000",
          "2025-04-11T00:00:00.000000000",
          "2025-04-12T00:00:00.000000000",
          "2025-04-13T00:00:00.000000000",
          "2025-04-14T00:00:00.000000000",
          "2025-04-15T00:00:00.000000000",
          "2025-04-16T00:00:00.000000000",
          "2025-04-17T00:00:00.000000000",
          "2025-04-18T00:00:00.000000000",
          "2025-04-19T00:00:00.000000000",
          "2025-04-20T00:00:00.000000000",
          "2025-04-21T00:00:00.000000000",
          "2025-04-22T00:00:00.000000000",
          "2025-04-23T00:00:00.000000000",
          "2025-04-24T00:00:00.000000000",
          "2025-04-25T00:00:00.000000000",
          "2025-04-26T00:00:00.000000000",
          "2025-04-27T00:00:00.000000000",
          "2025-04-28T00:00:00.000000000",
          "2025-04-29T00:00:00.000000000",
          "2025-04-30T00:00:00.000000000",
          "2025-05-01T00:00:00.000000000",
          "2025-05-02T00:00:00.000000000",
          "2025-05-03T00:00:00.000000000",
          "2025-05-04T00:00:00.000000000",
          "2025-05-05T00:00:00.000000000",
          "2025-05-06T00:00:00.000000000",
          "2025-05-07T00:00:00.000000000",
          "2025-05-08T00:00:00.000000000",
          "2025-05-09T00:00:00.000000000",
          "2025-05-10T00:00:00.000000000",
          "2025-05-11T00:00:00.000000000",
          "2025-05-12T00:00:00.000000000",
          "2025-05-13T00:00:00.000000000",
          "2025-05-14T00:00:00.000000000",
          "2025-05-15T00:00:00.000000000",
          "2025-05-16T00:00:00.000000000",
          "2025-05-17T00:00:00.000000000",
          "2025-05-18T00:00:00.000000000",
          "2025-05-19T00:00:00.000000000",
          "2025-05-20T00:00:00.000000000",
          "2025-05-21T00:00:00.000000000",
          "2025-05-22T00:00:00.000000000",
          "2025-05-23T00:00:00.000000000",
          "2025-05-24T00:00:00.000000000",
          "2025-05-25T00:00:00.000000000",
          "2025-05-26T00:00:00.000000000",
          "2025-05-27T00:00:00.000000000",
          "2025-05-28T00:00:00.000000000",
          "2025-05-29T00:00:00.000000000",
          "2025-05-30T00:00:00.000000000",
          "2025-05-31T00:00:00.000000000",
          "2025-06-01T00:00:00.000000000",
          "2025-06-02T00:00:00.000000000",
          "2025-06-03T00:00:00.000000000",
          "2025-06-04T00:00:00.000000000",
          "2025-06-05T00:00:00.000000000",
          "2025-06-06T00:00:00.000000000",
          "2025-06-07T00:00:00.000000000",
          "2025-06-08T00:00:00.000000000",
          "2025-06-09T00:00:00.000000000",
          "2025-06-10T00:00:00.000000000",
          "2025-06-11T00:00:00.000000000",
          "2025-06-12T00:00:00.000000000",
          "2025-06-13T00:00:00.000000000",
          "2025-06-14T00:00:00.000000000",
          "2025-06-15T00:00:00.000000000",
          "2025-06-16T00:00:00.000000000",
          "2025-06-17T00:00:00.000000000",
          "2025-06-18T00:00:00.000000000",
          "2025-06-19T00:00:00.000000000",
          "2025-06-20T00:00:00.000000000",
          "2025-06-21T00:00:00.000000000",
          "2025-06-22T00:00:00.000000000",
          "2025-06-23T00:00:00.000000000",
          "2025-06-24T00:00:00.000000000",
          "2025-06-25T00:00:00.000000000",
          "2025-06-26T00:00:00.000000000",
          "2025-06-27T00:00:00.000000000",
          "2025-06-28T00:00:00.000000000",
          "2025-06-29T00:00:00.000000000",
          "2025-06-30T00:00:00.000000000",
          "2025-07-01T00:00:00.000000000",
          "2025-07-02T00:00:00.000000000",
          "2025-07-03T00:00:00.000000000",
          "2025-07-04T00:00:00.000000000",
          "2025-07-05T00:00:00.000000000",
          "2025-07-06T00:00:00.000000000",
          "2025-07-07T00:00:00.000000000",
          "2025-07-08T00:00:00.000000000",
          "2025-07-09T00:00:00.000000000",
          "2025-07-10T00:00:00.000000000",
          "2025-07-11T00:00:00.000000000",
          "2025-07-12T00:00:00.000000000",
          "2025-07-13T00:00:00.000000000",
          "2025-07-14T00:00:00.000000000",
          "2025-07-15T00:00:00.000000000",
          "2025-07-16T00:00:00.000000000",
          "2025-07-17T00:00:00.000000000",
          "2025-07-18T00:00:00.000000000",
          "2025-07-19T00:00:00.000000000",
          "2025-07-20T00:00:00.000000000",
          "2025-07-21T00:00:00.000000000",
          "2025-07-22T00:00:00.000000000",
          "2025-07-23T00:00:00.000000000",
          "2025-07-24T00:00:00.000000000",
          "2025-07-25T00:00:00.000000000",
          "2025-07-26T00:00:00.000000000",
          "2025-07-27T00:00:00.000000000",
          "2025-07-28T00:00:00.000000000",
          "2025-07-29T00:00:00.000000000",
          "2025-07-30T00:00:00.000000000",
          "2025-07-31T00:00:00.000000000",
          "2025-08-01T00:00:00.000000000",
          "2025-08-02T00:00:00.000000000",
          "2025-08-03T00:00:00.000000000",
          "2025-08-04T00:00:00.000000000",
          "2025-08-05T00:00:00.000000000",
          "2025-08-06T00:00:00.000000000",
          "2025-08-07T00:00:00.000000000",
          "2025-08-08T00:00:00.000000000",
          "2025-08-09T00:00:00.000000000",
          "2025-08-10T00:00:00.000000000",
          "2025-08-11T00:00:00.000000000",
          "2025-08-12T00:00:00.000000000",
          "2025-08-13T00:00:00.000000000",
          "2025-08-14T00:00:00.000000000",
          "2025-08-15T00:00:00.000000000",
          "2025-08-16T00:00:00.000000000",
          "2025-08-17T00:00:00.000000000",
          "2025-08-18T00:00:00.000000000",
          "2025-08-19T00:00:00.000000000",
          "2025-08-20T00:00:00.000000000",
          "2025-08-21T00:00:00.000000000",
          "2025-08-22T00:00:00.000000000",
          "2025-08-23T00:00:00.000000000",
          "2025-08-24T00:00:00.000000000",
          "2025-08-25T00:00:00.000000000",
          "2025-08-26T00:00:00.000000000",
          "2025-08-27T00:00:00.000000000",
          "2025-08-28T00:00:00.000000000",
          "2025-08-29T00:00:00.000000000",
          "2025-08-30T00:00:00.000000000",
          "2025-08-31T00:00:00.000000000",
          "2025-09-01T00:00:00.000000000",
          "2025-09-02T00:00:00.000000000",
          "2025-09-02T13:03:28.000000000"
         ],
         "y": {
          "bdata": "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",
          "dtype": "f8"
         }
        },
        {
         "mode": "lines",
         "name": "TUSD",
         "type": "scatter",
         "x": [
          "2024-09-03T00:00:00.000000000",
          "2024-09-04T00:00:00.000000000",
          "2024-09-05T00:00:00.000000000",
          "2024-09-06T00:00:00.000000000",
          "2024-09-07T00:00:00.000000000",
          "2024-09-08T00:00:00.000000000",
          "2024-09-09T00:00:00.000000000",
          "2024-09-10T00:00:00.000000000",
          "2024-09-11T00:00:00.000000000",
          "2024-09-12T00:00:00.000000000",
          "2024-09-13T00:00:00.000000000",
          "2024-09-14T00:00:00.000000000",
          "2024-09-15T00:00:00.000000000",
          "2024-09-16T00:00:00.000000000",
          "2024-09-17T00:00:00.000000000",
          "2024-09-18T00:00:00.000000000",
          "2024-09-19T00:00:00.000000000",
          "2024-09-20T00:00:00.000000000",
          "2024-09-21T00:00:00.000000000",
          "2024-09-22T00:00:00.000000000",
          "2024-09-23T00:00:00.000000000",
          "2024-09-24T00:00:00.000000000",
          "2024-09-25T00:00:00.000000000",
          "2024-09-26T00:00:00.000000000",
          "2024-09-27T00:00:00.000000000",
          "2024-09-28T00:00:00.000000000",
          "2024-09-29T00:00:00.000000000",
          "2024-09-30T00:00:00.000000000",
          "2024-10-01T00:00:00.000000000",
          "2024-10-02T00:00:00.000000000",
          "2024-10-03T00:00:00.000000000",
          "2024-10-04T00:00:00.000000000",
          "2024-10-05T00:00:00.000000000",
          "2024-10-06T00:00:00.000000000",
          "2024-10-07T00:00:00.000000000",
          "2024-10-08T00:00:00.000000000",
          "2024-10-09T00:00:00.000000000",
          "2024-10-10T00:00:00.000000000",
          "2024-10-11T00:00:00.000000000",
          "2024-10-12T00:00:00.000000000",
          "2024-10-13T00:00:00.000000000",
          "2024-10-14T00:00:00.000000000",
          "2024-10-15T00:00:00.000000000",
          "2024-10-16T00:00:00.000000000",
          "2024-10-17T00:00:00.000000000",
          "2024-10-18T00:00:00.000000000",
          "2024-10-19T00:00:00.000000000",
          "2024-10-20T00:00:00.000000000",
          "2024-10-21T00:00:00.000000000",
          "2024-10-22T00:00:00.000000000",
          "2024-10-23T00:00:00.000000000",
          "2024-10-24T00:00:00.000000000",
          "2024-10-25T00:00:00.000000000",
          "2024-10-26T00:00:00.000000000",
          "2024-10-27T00:00:00.000000000",
          "2024-10-28T00:00:00.000000000",
          "2024-10-29T00:00:00.000000000",
          "2024-10-30T00:00:00.000000000",
          "2024-10-31T00:00:00.000000000",
          "2024-11-01T00:00:00.000000000",
          "2024-11-02T00:00:00.000000000",
          "2024-11-03T00:00:00.000000000",
          "2024-11-04T00:00:00.000000000",
          "2024-11-05T00:00:00.000000000",
          "2024-11-06T00:00:00.000000000",
          "2024-11-07T00:00:00.000000000",
          "2024-11-08T00:00:00.000000000",
          "2024-11-09T00:00:00.000000000",
          "2024-11-10T00:00:00.000000000",
          "2024-11-11T00:00:00.000000000",
          "2024-11-12T00:00:00.000000000",
          "2024-11-13T00:00:00.000000000",
          "2024-11-14T00:00:00.000000000",
          "2024-11-15T00:00:00.000000000",
          "2024-11-16T00:00:00.000000000",
          "2024-11-17T00:00:00.000000000",
          "2024-11-18T00:00:00.000000000",
          "2024-11-19T00:00:00.000000000",
          "2024-11-20T00:00:00.000000000",
          "2024-11-21T00:00:00.000000000",
          "2024-11-22T00:00:00.000000000",
          "2024-11-23T00:00:00.000000000",
          "2024-11-24T00:00:00.000000000",
          "2024-11-25T00:00:00.000000000",
          "2024-11-26T00:00:00.000000000",
          "2024-11-27T00:00:00.000000000",
          "2024-11-28T00:00:00.000000000",
          "2024-11-29T00:00:00.000000000",
          "2024-11-30T00:00:00.000000000",
          "2024-12-01T00:00:00.000000000",
          "2024-12-02T00:00:00.000000000",
          "2024-12-03T00:00:00.000000000",
          "2024-12-04T00:00:00.000000000",
          "2024-12-05T00:00:00.000000000",
          "2024-12-06T00:00:00.000000000",
          "2024-12-07T00:00:00.000000000",
          "2024-12-08T00:00:00.000000000",
          "2024-12-09T00:00:00.000000000",
          "2024-12-10T00:00:00.000000000",
          "2024-12-11T00:00:00.000000000",
          "2024-12-12T00:00:00.000000000",
          "2024-12-13T00:00:00.000000000",
          "2024-12-14T00:00:00.000000000",
          "2024-12-15T00:00:00.000000000",
          "2024-12-16T00:00:00.000000000",
          "2024-12-17T00:00:00.000000000",
          "2024-12-18T00:00:00.000000000",
          "2024-12-19T00:00:00.000000000",
          "2024-12-20T00:00:00.000000000",
          "2024-12-21T00:00:00.000000000",
          "2024-12-22T00:00:00.000000000",
          "2024-12-23T00:00:00.000000000",
          "2024-12-24T00:00:00.000000000",
          "2024-12-25T00:00:00.000000000",
          "2024-12-26T00:00:00.000000000",
          "2024-12-27T00:00:00.000000000",
          "2024-12-28T00:00:00.000000000",
          "2024-12-29T00:00:00.000000000",
          "2024-12-30T00:00:00.000000000",
          "2024-12-31T00:00:00.000000000",
          "2025-01-01T00:00:00.000000000",
          "2025-01-02T00:00:00.000000000",
          "2025-01-03T00:00:00.000000000",
          "2025-01-04T00:00:00.000000000",
          "2025-01-05T00:00:00.000000000",
          "2025-01-06T00:00:00.000000000",
          "2025-01-07T00:00:00.000000000",
          "2025-01-08T00:00:00.000000000",
          "2025-01-09T00:00:00.000000000",
          "2025-01-10T00:00:00.000000000",
          "2025-01-11T00:00:00.000000000",
          "2025-01-12T00:00:00.000000000",
          "2025-01-13T00:00:00.000000000",
          "2025-01-14T00:00:00.000000000",
          "2025-01-15T00:00:00.000000000",
          "2025-01-16T00:00:00.000000000",
          "2025-01-17T00:00:00.000000000",
          "2025-01-18T00:00:00.000000000",
          "2025-01-19T00:00:00.000000000",
          "2025-01-20T00:00:00.000000000",
          "2025-01-21T00:00:00.000000000",
          "2025-01-22T00:00:00.000000000",
          "2025-01-23T00:00:00.000000000",
          "2025-01-24T00:00:00.000000000",
          "2025-01-25T00:00:00.000000000",
          "2025-01-26T00:00:00.000000000",
          "2025-01-27T00:00:00.000000000",
          "2025-01-28T00:00:00.000000000",
          "2025-01-29T00:00:00.000000000",
          "2025-01-30T00:00:00.000000000",
          "2025-01-31T00:00:00.000000000",
          "2025-02-01T00:00:00.000000000",
          "2025-02-02T00:00:00.000000000",
          "2025-02-03T00:00:00.000000000",
          "2025-02-04T00:00:00.000000000",
          "2025-02-05T00:00:00.000000000",
          "2025-02-06T00:00:00.000000000",
          "2025-02-07T00:00:00.000000000",
          "2025-02-08T00:00:00.000000000",
          "2025-02-09T00:00:00.000000000",
          "2025-02-10T00:00:00.000000000",
          "2025-02-11T00:00:00.000000000",
          "2025-02-12T00:00:00.000000000",
          "2025-02-13T00:00:00.000000000",
          "2025-02-14T00:00:00.000000000",
          "2025-02-15T00:00:00.000000000",
          "2025-02-16T00:00:00.000000000",
          "2025-02-17T00:00:00.000000000",
          "2025-02-18T00:00:00.000000000",
          "2025-02-19T00:00:00.000000000",
          "2025-02-20T00:00:00.000000000",
          "2025-02-21T00:00:00.000000000",
          "2025-02-22T00:00:00.000000000",
          "2025-02-23T00:00:00.000000000",
          "2025-02-24T00:00:00.000000000",
          "2025-02-25T00:00:00.000000000",
          "2025-02-26T00:00:00.000000000",
          "2025-02-27T00:00:00.000000000",
          "2025-02-28T00:00:00.000000000",
          "2025-03-01T00:00:00.000000000",
          "2025-03-02T00:00:00.000000000",
          "2025-03-03T00:00:00.000000000",
          "2025-03-04T00:00:00.000000000",
          "2025-03-05T00:00:00.000000000",
          "2025-03-06T00:00:00.000000000",
          "2025-03-07T00:00:00.000000000",
          "2025-03-08T00:00:00.000000000",
          "2025-03-09T00:00:00.000000000",
          "2025-03-10T00:00:00.000000000",
          "2025-03-11T00:00:00.000000000",
          "2025-03-12T00:00:00.000000000",
          "2025-03-13T00:00:00.000000000",
          "2025-03-14T00:00:00.000000000",
          "2025-03-15T00:00:00.000000000",
          "2025-03-16T00:00:00.000000000",
          "2025-03-17T00:00:00.000000000",
          "2025-03-18T00:00:00.000000000",
          "2025-03-19T00:00:00.000000000",
          "2025-03-20T00:00:00.000000000",
          "2025-03-21T00:00:00.000000000",
          "2025-03-22T00:00:00.000000000",
          "2025-03-23T00:00:00.000000000",
          "2025-03-24T00:00:00.000000000",
          "2025-03-25T00:00:00.000000000",
          "2025-03-26T00:00:00.000000000",
          "2025-03-27T00:00:00.000000000",
          "2025-03-28T00:00:00.000000000",
          "2025-03-29T00:00:00.000000000",
          "2025-03-30T00:00:00.000000000",
          "2025-03-31T00:00:00.000000000",
          "2025-04-01T00:00:00.000000000",
          "2025-04-02T00:00:00.000000000",
          "2025-04-03T00:00:00.000000000",
          "2025-04-04T00:00:00.000000000",
          "2025-04-05T00:00:00.000000000",
          "2025-04-06T00:00:00.000000000",
          "2025-04-07T00:00:00.000000000",
          "2025-04-08T00:00:00.000000000",
          "2025-04-09T00:00:00.000000000",
          "2025-04-10T00:00:00.000000000",
          "2025-04-11T00:00:00.000000000",
          "2025-04-12T00:00:00.000000000",
          "2025-04-13T00:00:00.000000000",
          "2025-04-14T00:00:00.000000000",
          "2025-04-15T00:00:00.000000000",
          "2025-04-16T00:00:00.000000000",
          "2025-04-17T00:00:00.000000000",
          "2025-04-18T00:00:00.000000000",
          "2025-04-19T00:00:00.000000000",
          "2025-04-20T00:00:00.000000000",
          "2025-04-21T00:00:00.000000000",
          "2025-04-22T00:00:00.000000000",
          "2025-04-23T00:00:00.000000000",
          "2025-04-24T00:00:00.000000000",
          "2025-04-25T00:00:00.000000000",
          "2025-04-26T00:00:00.000000000",
          "2025-04-27T00:00:00.000000000",
          "2025-04-28T00:00:00.000000000",
          "2025-04-29T00:00:00.000000000",
          "2025-04-30T00:00:00.000000000",
          "2025-05-01T00:00:00.000000000",
          "2025-05-02T00:00:00.000000000",
          "2025-05-03T00:00:00.000000000",
          "2025-05-04T00:00:00.000000000",
          "2025-05-05T00:00:00.000000000",
          "2025-05-06T00:00:00.000000000",
          "2025-05-07T00:00:00.000000000",
          "2025-05-08T00:00:00.000000000",
          "2025-05-09T00:00:00.000000000",
          "2025-05-10T00:00:00.000000000",
          "2025-05-11T00:00:00.000000000",
          "2025-05-12T00:00:00.000000000",
          "2025-05-13T00:00:00.000000000",
          "2025-05-14T00:00:00.000000000",
          "2025-05-15T00:00:00.000000000",
          "2025-05-16T00:00:00.000000000",
          "2025-05-17T00:00:00.000000000",
          "2025-05-18T00:00:00.000000000",
          "2025-05-19T00:00:00.000000000",
          "2025-05-20T00:00:00.000000000",
          "2025-05-21T00:00:00.000000000",
          "2025-05-22T00:00:00.000000000",
          "2025-05-23T00:00:00.000000000",
          "2025-05-24T00:00:00.000000000",
          "2025-05-25T00:00:00.000000000",
          "2025-05-26T00:00:00.000000000",
          "2025-05-27T00:00:00.000000000",
          "2025-05-28T00:00:00.000000000",
          "2025-05-29T00:00:00.000000000",
          "2025-05-30T00:00:00.000000000",
          "2025-05-31T00:00:00.000000000",
          "2025-06-01T00:00:00.000000000",
          "2025-06-02T00:00:00.000000000",
          "2025-06-03T00:00:00.000000000",
          "2025-06-04T00:00:00.000000000",
          "2025-06-05T00:00:00.000000000",
          "2025-06-06T00:00:00.000000000",
          "2025-06-07T00:00:00.000000000",
          "2025-06-08T00:00:00.000000000",
          "2025-06-09T00:00:00.000000000",
          "2025-06-10T00:00:00.000000000",
          "2025-06-11T00:00:00.000000000",
          "2025-06-12T00:00:00.000000000",
          "2025-06-13T00:00:00.000000000",
          "2025-06-14T00:00:00.000000000",
          "2025-06-15T00:00:00.000000000",
          "2025-06-16T00:00:00.000000000",
          "2025-06-17T00:00:00.000000000",
          "2025-06-18T00:00:00.000000000",
          "2025-06-19T00:00:00.000000000",
          "2025-06-20T00:00:00.000000000",
          "2025-06-21T00:00:00.000000000",
          "2025-06-22T00:00:00.000000000",
          "2025-06-23T00:00:00.000000000",
          "2025-06-24T00:00:00.000000000",
          "2025-06-25T00:00:00.000000000",
          "2025-06-26T00:00:00.000000000",
          "2025-06-27T00:00:00.000000000",
          "2025-06-28T00:00:00.000000000",
          "2025-06-29T00:00:00.000000000",
          "2025-06-30T00:00:00.000000000",
          "2025-07-01T00:00:00.000000000",
          "2025-07-02T00:00:00.000000000",
          "2025-07-03T00:00:00.000000000",
          "2025-07-04T00:00:00.000000000",
          "2025-07-05T00:00:00.000000000",
          "2025-07-06T00:00:00.000000000",
          "2025-07-07T00:00:00.000000000",
          "2025-07-08T00:00:00.000000000",
          "2025-07-09T00:00:00.000000000",
          "2025-07-10T00:00:00.000000000",
          "2025-07-11T00:00:00.000000000",
          "2025-07-12T00:00:00.000000000",
          "2025-07-13T00:00:00.000000000",
          "2025-07-14T00:00:00.000000000",
          "2025-07-15T00:00:00.000000000",
          "2025-07-16T00:00:00.000000000",
          "2025-07-17T00:00:00.000000000",
          "2025-07-18T00:00:00.000000000",
          "2025-07-19T00:00:00.000000000",
          "2025-07-20T00:00:00.000000000",
          "2025-07-21T00:00:00.000000000",
          "2025-07-22T00:00:00.000000000",
          "2025-07-23T00:00:00.000000000",
          "2025-07-24T00:00:00.000000000",
          "2025-07-25T00:00:00.000000000",
          "2025-07-26T00:00:00.000000000",
          "2025-07-27T00:00:00.000000000",
          "2025-07-28T00:00:00.000000000",
          "2025-07-29T00:00:00.000000000",
          "2025-07-30T00:00:00.000000000",
          "2025-07-31T00:00:00.000000000",
          "2025-08-01T00:00:00.000000000",
          "2025-08-02T00:00:00.000000000",
          "2025-08-03T00:00:00.000000000",
          "2025-08-04T00:00:00.000000000",
          "2025-08-05T00:00:00.000000000",
          "2025-08-06T00:00:00.000000000",
          "2025-08-07T00:00:00.000000000",
          "2025-08-08T00:00:00.000000000",
          "2025-08-09T00:00:00.000000000",
          "2025-08-10T00:00:00.000000000",
          "2025-08-11T00:00:00.000000000",
          "2025-08-12T00:00:00.000000000",
          "2025-08-13T00:00:00.000000000",
          "2025-08-14T00:00:00.000000000",
          "2025-08-15T00:00:00.000000000",
          "2025-08-16T00:00:00.000000000",
          "2025-08-17T00:00:00.000000000",
          "2025-08-18T00:00:00.000000000",
          "2025-08-19T00:00:00.000000000",
          "2025-08-20T00:00:00.000000000",
          "2025-08-21T00:00:00.000000000",
          "2025-08-22T00:00:00.000000000",
          "2025-08-23T00:00:00.000000000",
          "2025-08-24T00:00:00.000000000",
          "2025-08-25T00:00:00.000000000",
          "2025-08-26T00:00:00.000000000",
          "2025-08-27T00:00:00.000000000",
          "2025-08-28T00:00:00.000000000",
          "2025-08-29T00:00:00.000000000",
          "2025-08-30T00:00:00.000000000",
          "2025-08-31T00:00:00.000000000",
          "2025-09-01T00:00:00.000000000",
          "2025-09-02T00:00:00.000000000",
          "2025-09-02T13:03:31.000000000"
         ],
         "y": {
          "bdata": "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",
          "dtype": "f8"
         }
        },
        {
         "mode": "lines",
         "name": "FRAX",
         "type": "scatter",
         "x": [
          "2024-09-03T00:00:00.000000000",
          "2024-09-04T00:00:00.000000000",
          "2024-09-05T00:00:00.000000000",
          "2024-09-06T00:00:00.000000000",
          "2024-09-07T00:00:00.000000000",
          "2024-09-08T00:00:00.000000000",
          "2024-09-09T00:00:00.000000000",
          "2024-09-10T00:00:00.000000000",
          "2024-09-11T00:00:00.000000000",
          "2024-09-12T00:00:00.000000000",
          "2024-09-13T00:00:00.000000000",
          "2024-09-14T00:00:00.000000000",
          "2024-09-15T00:00:00.000000000",
          "2024-09-16T00:00:00.000000000",
          "2024-09-17T00:00:00.000000000",
          "2024-09-18T00:00:00.000000000",
          "2024-09-19T00:00:00.000000000",
          "2024-09-20T00:00:00.000000000",
          "2024-09-21T00:00:00.000000000",
          "2024-09-22T00:00:00.000000000",
          "2024-09-23T00:00:00.000000000",
          "2024-09-24T00:00:00.000000000",
          "2024-09-25T00:00:00.000000000",
          "2024-09-26T00:00:00.000000000",
          "2024-09-27T00:00:00.000000000",
          "2024-09-28T00:00:00.000000000",
          "2024-09-29T00:00:00.000000000",
          "2024-09-30T00:00:00.000000000",
          "2024-10-01T00:00:00.000000000",
          "2024-10-02T00:00:00.000000000",
          "2024-10-03T00:00:00.000000000",
          "2024-10-04T00:00:00.000000000",
          "2024-10-05T00:00:00.000000000",
          "2024-10-06T00:00:00.000000000",
          "2024-10-07T00:00:00.000000000",
          "2024-10-08T00:00:00.000000000",
          "2024-10-09T00:00:00.000000000",
          "2024-10-10T00:00:00.000000000",
          "2024-10-11T00:00:00.000000000",
          "2024-10-12T00:00:00.000000000",
          "2024-10-13T00:00:00.000000000",
          "2024-10-14T00:00:00.000000000",
          "2024-10-15T00:00:00.000000000",
          "2024-10-16T00:00:00.000000000",
          "2024-10-17T00:00:00.000000000",
          "2024-10-18T00:00:00.000000000",
          "2024-10-19T00:00:00.000000000",
          "2024-10-20T00:00:00.000000000",
          "2024-10-21T00:00:00.000000000",
          "2024-10-22T00:00:00.000000000",
          "2024-10-23T00:00:00.000000000",
          "2024-10-24T00:00:00.000000000",
          "2024-10-25T00:00:00.000000000",
          "2024-10-26T00:00:00.000000000",
          "2024-10-27T00:00:00.000000000",
          "2024-10-28T00:00:00.000000000",
          "2024-10-29T00:00:00.000000000",
          "2024-10-30T00:00:00.000000000",
          "2024-10-31T00:00:00.000000000",
          "2024-11-01T00:00:00.000000000",
          "2024-11-02T00:00:00.000000000",
          "2024-11-03T00:00:00.000000000",
          "2024-11-04T00:00:00.000000000",
          "2024-11-05T00:00:00.000000000",
          "2024-11-06T00:00:00.000000000",
          "2024-11-07T00:00:00.000000000",
          "2024-11-08T00:00:00.000000000",
          "2024-11-09T00:00:00.000000000",
          "2024-11-10T00:00:00.000000000",
          "2024-11-11T00:00:00.000000000",
          "2024-11-12T00:00:00.000000000",
          "2024-11-13T00:00:00.000000000",
          "2024-11-14T00:00:00.000000000",
          "2024-11-15T00:00:00.000000000",
          "2024-11-16T00:00:00.000000000",
          "2024-11-17T00:00:00.000000000",
          "2024-11-18T00:00:00.000000000",
          "2024-11-19T00:00:00.000000000",
          "2024-11-20T00:00:00.000000000",
          "2024-11-21T00:00:00.000000000",
          "2024-11-22T00:00:00.000000000",
          "2024-11-23T00:00:00.000000000",
          "2024-11-24T00:00:00.000000000",
          "2024-11-25T00:00:00.000000000",
          "2024-11-26T00:00:00.000000000",
          "2024-11-27T00:00:00.000000000",
          "2024-11-28T00:00:00.000000000",
          "2024-11-29T00:00:00.000000000",
          "2024-11-30T00:00:00.000000000",
          "2024-12-01T00:00:00.000000000",
          "2024-12-02T00:00:00.000000000",
          "2024-12-03T00:00:00.000000000",
          "2024-12-04T00:00:00.000000000",
          "2024-12-05T00:00:00.000000000",
          "2024-12-06T00:00:00.000000000",
          "2024-12-07T00:00:00.000000000",
          "2024-12-08T00:00:00.000000000",
          "2024-12-09T00:00:00.000000000",
          "2024-12-10T00:00:00.000000000",
          "2024-12-11T00:00:00.000000000",
          "2024-12-12T00:00:00.000000000",
          "2024-12-13T00:00:00.000000000",
          "2024-12-14T00:00:00.000000000",
          "2024-12-15T00:00:00.000000000",
          "2024-12-16T00:00:00.000000000",
          "2024-12-17T00:00:00.000000000",
          "2024-12-18T00:00:00.000000000",
          "2024-12-19T00:00:00.000000000",
          "2024-12-20T00:00:00.000000000",
          "2024-12-21T00:00:00.000000000",
          "2024-12-22T00:00:00.000000000",
          "2024-12-23T00:00:00.000000000",
          "2024-12-24T00:00:00.000000000",
          "2024-12-25T00:00:00.000000000",
          "2024-12-26T00:00:00.000000000",
          "2024-12-27T00:00:00.000000000",
          "2024-12-28T00:00:00.000000000",
          "2024-12-29T00:00:00.000000000",
          "2024-12-30T00:00:00.000000000",
          "2024-12-31T00:00:00.000000000",
          "2025-01-01T00:00:00.000000000",
          "2025-01-02T00:00:00.000000000",
          "2025-01-03T00:00:00.000000000",
          "2025-01-04T00:00:00.000000000",
          "2025-01-05T00:00:00.000000000",
          "2025-01-06T00:00:00.000000000",
          "2025-01-07T00:00:00.000000000",
          "2025-01-08T00:00:00.000000000",
          "2025-01-09T00:00:00.000000000",
          "2025-01-10T00:00:00.000000000",
          "2025-01-11T00:00:00.000000000",
          "2025-01-12T00:00:00.000000000",
          "2025-01-13T00:00:00.000000000",
          "2025-01-14T00:00:00.000000000",
          "2025-01-15T00:00:00.000000000",
          "2025-01-16T00:00:00.000000000",
          "2025-01-17T00:00:00.000000000",
          "2025-01-18T00:00:00.000000000",
          "2025-01-19T00:00:00.000000000",
          "2025-01-20T00:00:00.000000000",
          "2025-01-21T00:00:00.000000000",
          "2025-01-22T00:00:00.000000000",
          "2025-01-23T00:00:00.000000000",
          "2025-01-24T00:00:00.000000000",
          "2025-01-25T00:00:00.000000000",
          "2025-01-26T00:00:00.000000000",
          "2025-01-27T00:00:00.000000000",
          "2025-01-28T00:00:00.000000000",
          "2025-01-29T00:00:00.000000000",
          "2025-01-30T00:00:00.000000000",
          "2025-01-31T00:00:00.000000000",
          "2025-02-01T00:00:00.000000000",
          "2025-02-02T00:00:00.000000000",
          "2025-02-03T00:00:00.000000000",
          "2025-02-04T00:00:00.000000000",
          "2025-02-05T00:00:00.000000000",
          "2025-02-06T00:00:00.000000000",
          "2025-02-07T00:00:00.000000000",
          "2025-02-08T00:00:00.000000000",
          "2025-02-09T00:00:00.000000000",
          "2025-02-10T00:00:00.000000000",
          "2025-02-11T00:00:00.000000000",
          "2025-02-12T00:00:00.000000000",
          "2025-02-13T00:00:00.000000000",
          "2025-02-14T00:00:00.000000000",
          "2025-02-15T00:00:00.000000000",
          "2025-02-16T00:00:00.000000000",
          "2025-02-17T00:00:00.000000000",
          "2025-02-18T00:00:00.000000000",
          "2025-02-19T00:00:00.000000000",
          "2025-02-20T00:00:00.000000000",
          "2025-02-21T00:00:00.000000000",
          "2025-02-22T00:00:00.000000000",
          "2025-02-23T00:00:00.000000000",
          "2025-02-24T00:00:00.000000000",
          "2025-02-25T00:00:00.000000000",
          "2025-02-26T00:00:00.000000000",
          "2025-02-27T00:00:00.000000000",
          "2025-02-28T00:00:00.000000000",
          "2025-03-01T00:00:00.000000000",
          "2025-03-02T00:00:00.000000000",
          "2025-03-03T00:00:00.000000000",
          "2025-03-04T00:00:00.000000000",
          "2025-03-05T00:00:00.000000000",
          "2025-03-06T00:00:00.000000000",
          "2025-03-07T00:00:00.000000000",
          "2025-03-08T00:00:00.000000000",
          "2025-03-09T00:00:00.000000000",
          "2025-03-10T00:00:00.000000000",
          "2025-03-11T00:00:00.000000000",
          "2025-03-12T00:00:00.000000000",
          "2025-03-13T00:00:00.000000000",
          "2025-03-14T00:00:00.000000000",
          "2025-03-15T00:00:00.000000000",
          "2025-03-16T00:00:00.000000000",
          "2025-03-17T00:00:00.000000000",
          "2025-03-18T00:00:00.000000000",
          "2025-03-19T00:00:00.000000000",
          "2025-03-20T00:00:00.000000000",
          "2025-03-21T00:00:00.000000000",
          "2025-03-22T00:00:00.000000000",
          "2025-03-23T00:00:00.000000000",
          "2025-03-24T00:00:00.000000000",
          "2025-03-25T00:00:00.000000000",
          "2025-03-26T00:00:00.000000000",
          "2025-03-27T00:00:00.000000000",
          "2025-03-28T00:00:00.000000000",
          "2025-03-29T00:00:00.000000000",
          "2025-03-30T00:00:00.000000000",
          "2025-03-31T00:00:00.000000000",
          "2025-04-01T00:00:00.000000000",
          "2025-04-02T00:00:00.000000000",
          "2025-04-03T00:00:00.000000000",
          "2025-04-04T00:00:00.000000000",
          "2025-04-05T00:00:00.000000000",
          "2025-04-06T00:00:00.000000000",
          "2025-04-07T00:00:00.000000000",
          "2025-04-08T00:00:00.000000000",
          "2025-04-09T00:00:00.000000000",
          "2025-04-10T00:00:00.000000000",
          "2025-04-11T00:00:00.000000000",
          "2025-04-12T00:00:00.000000000",
          "2025-04-13T00:00:00.000000000",
          "2025-04-14T00:00:00.000000000",
          "2025-04-15T00:00:00.000000000",
          "2025-04-16T00:00:00.000000000",
          "2025-04-17T00:00:00.000000000",
          "2025-04-18T00:00:00.000000000",
          "2025-04-19T00:00:00.000000000",
          "2025-04-20T00:00:00.000000000",
          "2025-04-21T00:00:00.000000000",
          "2025-04-22T00:00:00.000000000",
          "2025-04-23T00:00:00.000000000",
          "2025-04-24T00:00:00.000000000",
          "2025-04-25T00:00:00.000000000",
          "2025-04-26T00:00:00.000000000",
          "2025-04-27T00:00:00.000000000",
          "2025-04-28T00:00:00.000000000",
          "2025-04-29T00:00:00.000000000",
          "2025-04-30T00:00:00.000000000",
          "2025-05-01T00:00:00.000000000",
          "2025-05-02T00:00:00.000000000",
          "2025-05-03T00:00:00.000000000",
          "2025-05-04T00:00:00.000000000",
          "2025-05-05T00:00:00.000000000",
          "2025-05-06T00:00:00.000000000",
          "2025-05-07T00:00:00.000000000",
          "2025-05-08T00:00:00.000000000",
          "2025-05-09T00:00:00.000000000",
          "2025-05-10T00:00:00.000000000",
          "2025-05-11T00:00:00.000000000",
          "2025-05-12T00:00:00.000000000",
          "2025-05-13T00:00:00.000000000",
          "2025-05-14T00:00:00.000000000",
          "2025-05-15T00:00:00.000000000",
          "2025-05-16T00:00:00.000000000",
          "2025-05-17T00:00:00.000000000",
          "2025-05-18T00:00:00.000000000",
          "2025-05-19T00:00:00.000000000",
          "2025-05-20T00:00:00.000000000",
          "2025-05-21T00:00:00.000000000",
          "2025-05-22T00:00:00.000000000",
          "2025-05-23T00:00:00.000000000",
          "2025-05-24T00:00:00.000000000",
          "2025-05-25T00:00:00.000000000",
          "2025-05-26T00:00:00.000000000",
          "2025-05-27T00:00:00.000000000",
          "2025-05-28T00:00:00.000000000",
          "2025-05-29T00:00:00.000000000",
          "2025-05-30T00:00:00.000000000",
          "2025-05-31T00:00:00.000000000",
          "2025-06-01T00:00:00.000000000",
          "2025-06-02T00:00:00.000000000",
          "2025-06-03T00:00:00.000000000",
          "2025-06-04T00:00:00.000000000",
          "2025-06-05T00:00:00.000000000",
          "2025-06-06T00:00:00.000000000",
          "2025-06-07T00:00:00.000000000",
          "2025-06-08T00:00:00.000000000",
          "2025-06-09T00:00:00.000000000",
          "2025-06-10T00:00:00.000000000",
          "2025-06-11T00:00:00.000000000",
          "2025-06-12T00:00:00.000000000",
          "2025-06-13T00:00:00.000000000",
          "2025-06-14T00:00:00.000000000",
          "2025-06-15T00:00:00.000000000",
          "2025-06-16T00:00:00.000000000",
          "2025-06-17T00:00:00.000000000",
          "2025-06-18T00:00:00.000000000",
          "2025-06-19T00:00:00.000000000",
          "2025-06-20T00:00:00.000000000",
          "2025-06-21T00:00:00.000000000",
          "2025-06-22T00:00:00.000000000",
          "2025-06-23T00:00:00.000000000",
          "2025-06-24T00:00:00.000000000",
          "2025-06-25T00:00:00.000000000",
          "2025-06-26T00:00:00.000000000",
          "2025-06-27T00:00:00.000000000",
          "2025-06-28T00:00:00.000000000",
          "2025-06-29T00:00:00.000000000",
          "2025-06-30T00:00:00.000000000",
          "2025-07-01T00:00:00.000000000",
          "2025-07-02T00:00:00.000000000",
          "2025-07-03T00:00:00.000000000",
          "2025-07-04T00:00:00.000000000",
          "2025-07-05T00:00:00.000000000",
          "2025-07-06T00:00:00.000000000",
          "2025-07-07T00:00:00.000000000",
          "2025-07-08T00:00:00.000000000",
          "2025-07-09T00:00:00.000000000",
          "2025-07-10T00:00:00.000000000",
          "2025-07-11T00:00:00.000000000",
          "2025-07-12T00:00:00.000000000",
          "2025-07-13T00:00:00.000000000",
          "2025-07-14T00:00:00.000000000",
          "2025-07-15T00:00:00.000000000",
          "2025-07-16T00:00:00.000000000",
          "2025-07-17T00:00:00.000000000",
          "2025-07-18T00:00:00.000000000",
          "2025-07-19T00:00:00.000000000",
          "2025-07-20T00:00:00.000000000",
          "2025-07-21T00:00:00.000000000",
          "2025-07-22T00:00:00.000000000",
          "2025-07-23T00:00:00.000000000",
          "2025-07-24T00:00:00.000000000",
          "2025-07-25T00:00:00.000000000",
          "2025-07-26T00:00:00.000000000",
          "2025-07-27T00:00:00.000000000",
          "2025-07-28T00:00:00.000000000",
          "2025-07-29T00:00:00.000000000",
          "2025-07-30T00:00:00.000000000",
          "2025-07-31T00:00:00.000000000",
          "2025-08-01T00:00:00.000000000",
          "2025-08-02T00:00:00.000000000",
          "2025-08-03T00:00:00.000000000",
          "2025-08-04T00:00:00.000000000",
          "2025-08-05T00:00:00.000000000",
          "2025-08-06T00:00:00.000000000",
          "2025-08-07T00:00:00.000000000",
          "2025-08-08T00:00:00.000000000",
          "2025-08-09T00:00:00.000000000",
          "2025-08-10T00:00:00.000000000",
          "2025-08-11T00:00:00.000000000",
          "2025-08-12T00:00:00.000000000",
          "2025-08-13T00:00:00.000000000",
          "2025-08-14T00:00:00.000000000",
          "2025-08-15T00:00:00.000000000",
          "2025-08-16T00:00:00.000000000",
          "2025-08-17T00:00:00.000000000",
          "2025-08-18T00:00:00.000000000",
          "2025-08-19T00:00:00.000000000",
          "2025-08-20T00:00:00.000000000",
          "2025-08-21T00:00:00.000000000",
          "2025-08-22T00:00:00.000000000",
          "2025-08-23T00:00:00.000000000",
          "2025-08-24T00:00:00.000000000",
          "2025-08-25T00:00:00.000000000",
          "2025-08-26T00:00:00.000000000",
          "2025-08-27T00:00:00.000000000",
          "2025-08-28T00:00:00.000000000",
          "2025-08-29T00:00:00.000000000",
          "2025-08-30T00:00:00.000000000",
          "2025-08-31T00:00:00.000000000",
          "2025-09-01T00:00:00.000000000",
          "2025-09-02T00:00:00.000000000",
          "2025-09-02T13:03:32.000000000"
         ],
         "y": {
          "bdata": "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",
          "dtype": "f8"
         }
        }
       ],
       "layout": {
        "height": 600,
        "legend": {
         "title": {
          "text": "Stablecoin"
         }
        },
        "template": {
         "data": {
          "bar": [
           {
            "error_x": {
             "color": "#2a3f5f"
            },
            "error_y": {
             "color": "#2a3f5f"
            },
            "marker": {
             "line": {
              "color": "white",
              "width": 0.5
             },
             "pattern": {
              "fillmode": "overlay",
              "size": 10,
              "solidity": 0.2
             }
            },
            "type": "bar"
           }
          ],
          "barpolar": [
           {
            "marker": {
             "line": {
              "color": "white",
              "width": 0.5
             },
             "pattern": {
              "fillmode": "overlay",
              "size": 10,
              "solidity": 0.2
             }
            },
            "type": "barpolar"
           }
          ],
          "carpet": [
           {
            "aaxis": {
             "endlinecolor": "#2a3f5f",
             "gridcolor": "#C8D4E3",
             "linecolor": "#C8D4E3",
             "minorgridcolor": "#C8D4E3",
             "startlinecolor": "#2a3f5f"
            },
            "baxis": {
             "endlinecolor": "#2a3f5f",
             "gridcolor": "#C8D4E3",
             "linecolor": "#C8D4E3",
             "minorgridcolor": "#C8D4E3",
             "startlinecolor": "#2a3f5f"
            },
            "type": "carpet"
           }
          ],
          "choropleth": [
           {
            "colorbar": {
             "outlinewidth": 0,
             "ticks": ""
            },
            "type": "choropleth"
           }
          ],
          "contour": [
           {
            "colorbar": {
             "outlinewidth": 0,
             "ticks": ""
            },
            "colorscale": [
             [
              0,
              "#0d0887"
             ],
             [
              0.1111111111111111,
              "#46039f"
             ],
             [
              0.2222222222222222,
              "#7201a8"
             ],
             [
              0.3333333333333333,
              "#9c179e"
             ],
             [
              0.4444444444444444,
              "#bd3786"
             ],
             [
              0.5555555555555556,
              "#d8576b"
             ],
             [
              0.6666666666666666,
              "#ed7953"
             ],
             [
              0.7777777777777778,
              "#fb9f3a"
             ],
             [
              0.8888888888888888,
              "#fdca26"
             ],
             [
              1,
              "#f0f921"
             ]
            ],
            "type": "contour"
           }
          ],
          "contourcarpet": [
           {
            "colorbar": {
             "outlinewidth": 0,
             "ticks": ""
            },
            "type": "contourcarpet"
           }
          ],
          "heatmap": [
           {
            "colorbar": {
             "outlinewidth": 0,
             "ticks": ""
            },
            "colorscale": [
             [
              0,
              "#0d0887"
             ],
             [
              0.1111111111111111,
              "#46039f"
             ],
             [
              0.2222222222222222,
              "#7201a8"
             ],
             [
              0.3333333333333333,
              "#9c179e"
             ],
             [
              0.4444444444444444,
              "#bd3786"
             ],
             [
              0.5555555555555556,
              "#d8576b"
             ],
             [
              0.6666666666666666,
              "#ed7953"
             ],
             [
              0.7777777777777778,
              "#fb9f3a"
             ],
             [
              0.8888888888888888,
              "#fdca26"
             ],
             [
              1,
              "#f0f921"
             ]
            ],
            "type": "heatmap"
           }
          ],
          "histogram": [
           {
            "marker": {
             "pattern": {
              "fillmode": "overlay",
              "size": 10,
              "solidity": 0.2
             }
            },
            "type": "histogram"
           }
          ],
          "histogram2d": [
           {
            "colorbar": {
             "outlinewidth": 0,
             "ticks": ""
            },
            "colorscale": [
             [
              0,
              "#0d0887"
             ],
             [
              0.1111111111111111,
              "#46039f"
             ],
             [
              0.2222222222222222,
              "#7201a8"
             ],
             [
              0.3333333333333333,
              "#9c179e"
             ],
             [
              0.4444444444444444,
              "#bd3786"
             ],
             [
              0.5555555555555556,
              "#d8576b"
             ],
             [
              0.6666666666666666,
              "#ed7953"
             ],
             [
              0.7777777777777778,
              "#fb9f3a"
             ],
             [
              0.8888888888888888,
              "#fdca26"
             ],
             [
              1,
              "#f0f921"
             ]
            ],
            "type": "histogram2d"
           }
          ],
          "histogram2dcontour": [
           {
            "colorbar": {
             "outlinewidth": 0,
             "ticks": ""
            },
            "colorscale": [
             [
              0,
              "#0d0887"
             ],
             [
              0.1111111111111111,
              "#46039f"
             ],
             [
              0.2222222222222222,
              "#7201a8"
             ],
             [
              0.3333333333333333,
              "#9c179e"
             ],
             [
              0.4444444444444444,
              "#bd3786"
             ],
             [
              0.5555555555555556,
              "#d8576b"
             ],
             [
              0.6666666666666666,
              "#ed7953"
             ],
             [
              0.7777777777777778,
              "#fb9f3a"
             ],
             [
              0.8888888888888888,
              "#fdca26"
             ],
             [
              1,
              "#f0f921"
             ]
            ],
            "type": "histogram2dcontour"
           }
          ],
          "mesh3d": [
           {
            "colorbar": {
             "outlinewidth": 0,
             "ticks": ""
            },
            "type": "mesh3d"
           }
          ],
          "parcoords": [
           {
            "line": {
             "colorbar": {
              "outlinewidth": 0,
              "ticks": ""
             }
            },
            "type": "parcoords"
           }
          ],
          "pie": [
           {
            "automargin": true,
            "type": "pie"
           }
          ],
          "scatter": [
           {
            "fillpattern": {
             "fillmode": "overlay",
             "size": 10,
             "solidity": 0.2
            },
            "type": "scatter"
           }
          ],
          "scatter3d": [
           {
            "line": {
             "colorbar": {
              "outlinewidth": 0,
              "ticks": ""
             }
            },
            "marker": {
             "colorbar": {
              "outlinewidth": 0,
              "ticks": ""
             }
            },
            "type": "scatter3d"
           }
          ],
          "scattercarpet": [
           {
            "marker": {
             "colorbar": {
              "outlinewidth": 0,
              "ticks": ""
             }
            },
            "type": "scattercarpet"
           }
          ],
          "scattergeo": [
           {
            "marker": {
             "colorbar": {
              "outlinewidth": 0,
              "ticks": ""
             }
            },
            "type": "scattergeo"
           }
          ],
          "scattergl": [
           {
            "marker": {
             "colorbar": {
              "outlinewidth": 0,
              "ticks": ""
             }
            },
            "type": "scattergl"
           }
          ],
          "scattermap": [
           {
            "marker": {
             "colorbar": {
              "outlinewidth": 0,
              "ticks": ""
             }
            },
            "type": "scattermap"
           }
          ],
          "scattermapbox": [
           {
            "marker": {
             "colorbar": {
              "outlinewidth": 0,
              "ticks": ""
             }
            },
            "type": "scattermapbox"
           }
          ],
          "scatterpolar": [
           {
            "marker": {
             "colorbar": {
              "outlinewidth": 0,
              "ticks": ""
             }
            },
            "type": "scatterpolar"
           }
          ],
          "scatterpolargl": [
           {
            "marker": {
             "colorbar": {
              "outlinewidth": 0,
              "ticks": ""
             }
            },
            "type": "scatterpolargl"
           }
          ],
          "scatterternary": [
           {
            "marker": {
             "colorbar": {
              "outlinewidth": 0,
              "ticks": ""
             }
            },
            "type": "scatterternary"
           }
          ],
          "surface": [
           {
            "colorbar": {
             "outlinewidth": 0,
             "ticks": ""
            },
            "colorscale": [
             [
              0,
              "#0d0887"
             ],
             [
              0.1111111111111111,
              "#46039f"
             ],
             [
              0.2222222222222222,
              "#7201a8"
             ],
             [
              0.3333333333333333,
              "#9c179e"
             ],
             [
              0.4444444444444444,
              "#bd3786"
             ],
             [
              0.5555555555555556,
              "#d8576b"
             ],
             [
              0.6666666666666666,
              "#ed7953"
             ],
             [
              0.7777777777777778,
              "#fb9f3a"
             ],
             [
              0.8888888888888888,
              "#fdca26"
             ],
             [
              1,
              "#f0f921"
             ]
            ],
            "type": "surface"
           }
          ],
          "table": [
           {
            "cells": {
             "fill": {
              "color": "#EBF0F8"
             },
             "line": {
              "color": "white"
             }
            },
            "header": {
             "fill": {
              "color": "#C8D4E3"
             },
             "line": {
              "color": "white"
             }
            },
            "type": "table"
           }
          ]
         },
         "layout": {
          "annotationdefaults": {
           "arrowcolor": "#2a3f5f",
           "arrowhead": 0,
           "arrowwidth": 1
          },
          "autotypenumbers": "strict",
          "coloraxis": {
           "colorbar": {
            "outlinewidth": 0,
            "ticks": ""
           }
          },
          "colorscale": {
           "diverging": [
            [
             0,
             "#8e0152"
            ],
            [
             0.1,
             "#c51b7d"
            ],
            [
             0.2,
             "#de77ae"
            ],
            [
             0.3,
             "#f1b6da"
            ],
            [
             0.4,
             "#fde0ef"
            ],
            [
             0.5,
             "#f7f7f7"
            ],
            [
             0.6,
             "#e6f5d0"
            ],
            [
             0.7,
             "#b8e186"
            ],
            [
             0.8,
             "#7fbc41"
            ],
            [
             0.9,
             "#4d9221"
            ],
            [
             1,
             "#276419"
            ]
           ],
           "sequential": [
            [
             0,
             "#0d0887"
            ],
            [
             0.1111111111111111,
             "#46039f"
            ],
            [
             0.2222222222222222,
             "#7201a8"
            ],
            [
             0.3333333333333333,
             "#9c179e"
            ],
            [
             0.4444444444444444,
             "#bd3786"
            ],
            [
             0.5555555555555556,
             "#d8576b"
            ],
            [
             0.6666666666666666,
             "#ed7953"
            ],
            [
             0.7777777777777778,
             "#fb9f3a"
            ],
            [
             0.8888888888888888,
             "#fdca26"
            ],
            [
             1,
             "#f0f921"
            ]
           ],
           "sequentialminus": [
            [
             0,
             "#0d0887"
            ],
            [
             0.1111111111111111,
             "#46039f"
            ],
            [
             0.2222222222222222,
             "#7201a8"
            ],
            [
             0.3333333333333333,
             "#9c179e"
            ],
            [
             0.4444444444444444,
             "#bd3786"
            ],
            [
             0.5555555555555556,
             "#d8576b"
            ],
            [
             0.6666666666666666,
             "#ed7953"
            ],
            [
             0.7777777777777778,
             "#fb9f3a"
            ],
            [
             0.8888888888888888,
             "#fdca26"
            ],
            [
             1,
             "#f0f921"
            ]
           ]
          },
          "colorway": [
           "#636efa",
           "#EF553B",
           "#00cc96",
           "#ab63fa",
           "#FFA15A",
           "#19d3f3",
           "#FF6692",
           "#B6E880",
           "#FF97FF",
           "#FECB52"
          ],
          "font": {
           "color": "#2a3f5f"
          },
          "geo": {
           "bgcolor": "white",
           "lakecolor": "white",
           "landcolor": "white",
           "showlakes": true,
           "showland": true,
           "subunitcolor": "#C8D4E3"
          },
          "hoverlabel": {
           "align": "left"
          },
          "hovermode": "closest",
          "mapbox": {
           "style": "light"
          },
          "paper_bgcolor": "white",
          "plot_bgcolor": "white",
          "polar": {
           "angularaxis": {
            "gridcolor": "#EBF0F8",
            "linecolor": "#EBF0F8",
            "ticks": ""
           },
           "bgcolor": "white",
           "radialaxis": {
            "gridcolor": "#EBF0F8",
            "linecolor": "#EBF0F8",
            "ticks": ""
           }
          },
          "scene": {
           "xaxis": {
            "backgroundcolor": "white",
            "gridcolor": "#DFE8F3",
            "gridwidth": 2,
            "linecolor": "#EBF0F8",
            "showbackground": true,
            "ticks": "",
            "zerolinecolor": "#EBF0F8"
           },
           "yaxis": {
            "backgroundcolor": "white",
            "gridcolor": "#DFE8F3",
            "gridwidth": 2,
            "linecolor": "#EBF0F8",
            "showbackground": true,
            "ticks": "",
            "zerolinecolor": "#EBF0F8"
           },
           "zaxis": {
            "backgroundcolor": "white",
            "gridcolor": "#DFE8F3",
            "gridwidth": 2,
            "linecolor": "#EBF0F8",
            "showbackground": true,
            "ticks": "",
            "zerolinecolor": "#EBF0F8"
           }
          },
          "shapedefaults": {
           "line": {
            "color": "#2a3f5f"
           }
          },
          "ternary": {
           "aaxis": {
            "gridcolor": "#DFE8F3",
            "linecolor": "#A2B1C6",
            "ticks": ""
           },
           "baxis": {
            "gridcolor": "#DFE8F3",
            "linecolor": "#A2B1C6",
            "ticks": ""
           },
           "bgcolor": "white",
           "caxis": {
            "gridcolor": "#DFE8F3",
            "linecolor": "#A2B1C6",
            "ticks": ""
           }
          },
          "title": {
           "x": 0.05
          },
          "xaxis": {
           "automargin": true,
           "gridcolor": "#EBF0F8",
           "linecolor": "#EBF0F8",
           "ticks": "",
           "title": {
            "standoff": 15
           },
           "zerolinecolor": "#EBF0F8",
           "zerolinewidth": 2
          },
          "yaxis": {
           "automargin": true,
           "gridcolor": "#EBF0F8",
           "linecolor": "#EBF0F8",
           "ticks": "",
           "title": {
            "standoff": 15
           },
           "zerolinecolor": "#EBF0F8",
           "zerolinewidth": 2
          }
         }
        },
        "title": {
         "text": "Stablecoin Peg Deviation Over Time (Last 365 Days) [Log Scale]"
        },
        "width": 1000,
        "xaxis": {
         "title": {
          "text": "Date"
         }
        },
        "yaxis": {
         "title": {
          "text": "Deviation from $1 (log scale, abs)"
         },
         "type": "log"
        }
       }
      }
     },
     "metadata": {},
     "output_type": "display_data"
    }
   ],
   "source": [
    "# using plotly for interactive visualization and log scale for y-axis\n",
    "\n",
    "import plotly.graph_objs as go\n",
    "import plotly.offline as pyoff\n",
    "\n",
    "# Create interactive chart with log scale for y-axis\n",
    "fig = go.Figure()\n",
    "\n",
    "for symbol, df_hist in historical_deviation_data.items():\n",
    "    if not df_hist.empty:\n",
    "        fig.add_trace(go.Scatter(\n",
    "            x=df_hist[\"date\"],\n",
    "            y=df_hist[\"peg_deviation (USD)\"].abs() + 1e-8,  # add small value to avoid log(0)\n",
    "            mode='lines',\n",
    "            name=symbol.upper()\n",
    "        ))\n",
    "\n",
    "fig.update_layout(\n",
    "    title=\"Stablecoin Peg Deviation Over Time (Last 365 Days) [Log Scale]\",\n",
    "    xaxis_title=\"Date\",\n",
    "    yaxis_title=\"Deviation from $1 (log scale, abs)\",\n",
    "    yaxis_type=\"log\",\n",
    "    legend_title=\"Stablecoin\",\n",
    "    template=\"plotly_white\",\n",
    "    height=600,\n",
    "    width=1000\n",
    ")\n",
    "\n",
    "pyoff.iplot(fig)"
   ]
  },
  {
   "cell_type": "markdown",
   "id": "b912098b",
   "metadata": {},
   "source": [
    "### 4. _Getting onchain mint /  burn data from my Dune query - https://dune.com/queries/5681885_"
   ]
  },
  {
   "cell_type": "code",
   "execution_count": 24,
   "id": "ff7d65cf",
   "metadata": {},
   "outputs": [
    {
     "name": "stdout",
     "output_type": "stream",
     "text": [
      "ExecutionResult(rows=[{'BUSD burns': 0, 'BUSD mints': 0, 'BUSD supply': 55026240.2059419, 'DAI burns': -1013288075.723995, 'DAI mints': 1056715469.1322833, 'DAI supply': 4615325447.125135, 'FRAX burns': 0, 'FRAX mints': 0, 'FRAX supply': 296926532.5068286, 'LUSD burns': -343830.0320351251, 'LUSD mints': 53322.5731869419, 'LUSD supply': 38123526.77169894, 'PYUSD burns': -9190565.734848, 'PYUSD mints': 14777130.593745, 'PYUSD supply': 928019833.0413319, 'RLUSD burns': 0, 'RLUSD mints': 0, 'RLUSD supply': 616045484.55, 'USDC burns': -662264702.9240241, 'USDC mints': 701665808.8851131, 'USDC supply': 47162302241.040794, 'USDS burns': -364422012.65559036, 'USDS mints': 472312828.3250365, 'USDS supply': 4333691531.468174, 'sUSD burns': 0, 'sUSD mints': 1132499.493895871, 'sUSD supply': 41172237.58933132, 'week': '2025-09-01 00:00:00.000 UTC'}, {'BUSD burns': 0, 'BUSD mints': 0, 'BUSD supply': 55026240.2059419, 'DAI burns': -4275120242.6837163, 'DAI mints': 4488411162.875096, 'DAI supply': 4571898053.716846, 'FRAX burns': 0, 'FRAX mints': 0, 'FRAX supply': 296926532.5068286, 'LUSD burns': -479866.7545216926, 'LUSD mints': 240200.62896214466, 'LUSD supply': 38414034.23054712, 'PYUSD burns': -71285816.504742, 'PYUSD mints': 62305361.96482201, 'PYUSD supply': 922433268.1824349, 'RLUSD burns': -1000000, 'RLUSD mints': 16207607, 'RLUSD supply': 616045484.55, 'USDC burns': -3130861760.229248, 'USDC mints': 6217926387.04879, 'USDC supply': 47122901135.079704, 'USDS burns': -2862123469.853906, 'USDS mints': 2923417607.3323097, 'USDS supply': 4225800715.7987275, 'sUSD burns': -430000, 'sUSD mints': 1217965.410197873, 'sUSD supply': 40039738.09543545, 'week': '2025-08-25 00:00:00.000 UTC'}, {'BUSD burns': 0, 'BUSD mints': 0, 'BUSD supply': 55026240.2059419, 'DAI burns': -5401020543.372341, 'DAI mints': 5651766876.957865, 'DAI supply': 4358607133.525466, 'FRAX burns': -41193.02435531017, 'FRAX mints': 0, 'FRAX supply': 296926532.5068286, 'LUSD burns': -669031.3259915385, 'LUSD mints': 42372.378283431186, 'LUSD supply': 38653700.35610667, 'PYUSD burns': -239187160.98605597, 'PYUSD mints': 242552969.804811, 'PYUSD supply': 931413722.7223549, 'RLUSD burns': -230, 'RLUSD mints': 20000000, 'RLUSD supply': 600837877.55, 'USDC burns': -3956974295.5021486, 'USDC mints': 2929476410.8424606, 'USDC supply': 44035836508.260155, 'USDS burns': -3293346824.719911, 'USDS mints': 2968563065.418785, 'USDS supply': 4164506578.3203225, 'sUSD burns': -180158.16477365777, 'sUSD mints': 2501693.8161957534, 'sUSD supply': 39251772.68523758, 'week': '2025-08-18 00:00:00.000 UTC'}, {'BUSD burns': 0, 'BUSD mints': 0, 'BUSD supply': 55026240.2059419, 'DAI burns': -6077834463.083094, 'DAI mints': 6361996575.286211, 'DAI supply': 4107860799.9399405, 'FRAX burns': -1664811.786276619, 'FRAX mints': 0, 'FRAX supply': 296967725.5311839, 'LUSD burns': -620182.602543953, 'LUSD mints': 269417.88429088274, 'LUSD supply': 39280359.303814776, 'PYUSD burns': -91895026.370001, 'PYUSD mints': 231584178.37899998, 'PYUSD supply': 928047913.9035999, 'RLUSD burns': -20000000, 'RLUSD mints': 24000000, 'RLUSD supply': 580838107.55, 'USDC burns': -3850290320.8201394, 'USDC mints': 6418029394.306686, 'USDC supply': 45063334392.91984, 'USDS burns': -4841228540.976847, 'USDS mints': 4518181453.044224, 'USDS supply': 4489290337.621448, 'sUSD burns': -1141179.6943392449, 'sUSD mints': 581945.639633523, 'sUSD supply': 36930237.03381548, 'week': '2025-08-11 00:00:00.000 UTC'}, {'BUSD burns': 0, 'BUSD mints': 0, 'BUSD supply': 55026240.2059419, 'DAI burns': -6398432689.546683, 'DAI mints': 6476942130.272927, 'DAI supply': 3823698687.736822, 'FRAX burns': 0, 'FRAX mints': 0, 'FRAX supply': 298632537.31746054, 'LUSD burns': -875676.4764501659, 'LUSD mints': 144911.1008433337, 'LUSD supply': 39631124.022067845, 'PYUSD burns': -112701531.45, 'PYUSD mints': 143690679.76, 'PYUSD supply': 788358761.8946009, 'RLUSD burns': -120, 'RLUSD mints': 40000000, 'RLUSD supply': 576838107.55, 'USDC burns': -2840476188.471652, 'USDC mints': 3408760141.334811, 'USDC supply': 42495595319.4333, 'USDS burns': -2568139366.5264707, 'USDS mints': 2896373418.8518095, 'USDS supply': 4812337425.55407, 'sUSD burns': -21040484576.006905, 'sUSD mints': 21041149513.2114, 'sUSD supply': 37489471.088521205, 'week': '2025-08-04 00:00:00.000 UTC'}, {'BUSD burns': 0, 'BUSD mints': 0, 'BUSD supply': 55026240.2059419, 'DAI burns': -9608936373.196564, 'DAI mints': 9595279784.796318, 'DAI supply': 3745189247.010578, 'FRAX burns': -1000000, 'FRAX mints': 0, 'FRAX supply': 298632537.31746054, 'LUSD burns': -485060.8904950345, 'LUSD mints': 65558.11439023899, 'LUSD supply': 40361889.39767468, 'PYUSD burns': -199454612.50639498, 'PYUSD mints': 304168747.09433794, 'PYUSD supply': 757369613.5846009, 'RLUSD burns': 0, 'RLUSD mints': 25000000, 'RLUSD supply': 536838227.55, 'USDC burns': -3031925679.790888, 'USDC mints': 3791294339.472256, 'USDC supply': 41927311366.57014, 'USDS burns': -3582933947.15634, 'USDS mints': 3462152393.8984427, 'USDS supply': 4484103373.228731, 'sUSD burns': -257424.74, 'sUSD mints': 2443552.91, 'sUSD supply': 36824533.884030215, 'week': '2025-07-28 00:00:00.000 UTC'}, {'BUSD burns': 0, 'BUSD mints': 0, 'BUSD supply': 55026240.2059419, 'DAI burns': -10822021577.248943, 'DAI mints': 10873010353.682335, 'DAI supply': 3758845835.410824, 'FRAX burns': 0, 'FRAX mints': 0, 'FRAX supply': 299632537.31746054, 'LUSD burns': -104809.85981483322, 'LUSD mints': 175968.1993781783, 'LUSD supply': 40781392.17377947, 'PYUSD burns': -58738454.821866, 'PYUSD mints': 83389777.95, 'PYUSD supply': 652655478.996658, 'RLUSD burns': 0, 'RLUSD mints': 50000000, 'RLUSD supply': 511838227.55, 'USDC burns': -3986593337.148687, 'USDC mints': 3234711478.127943, 'USDC supply': 41167942706.88877, 'USDS burns': -3093926660.8181896, 'USDS mints': 3997176567.669893, 'USDS supply': 4604884926.486628, 'sUSD burns': -360054.1028730578, 'sUSD mints': 1773595.33, 'sUSD supply': 34638405.71403021, 'week': '2025-07-21 00:00:00.000 UTC'}, {'BUSD burns': -2766443.9099999997, 'BUSD mints': 0, 'BUSD supply': 55026240.2059419, 'DAI burns': -12844121849.645155, 'DAI mints': 12921407280.907433, 'DAI supply': 3707857058.9774323, 'FRAX burns': -14760455.03745981, 'FRAX mints': 0, 'FRAX supply': 299632537.31746054, 'LUSD burns': -497605.5199463442, 'LUSD mints': 595278.1044260309, 'LUSD supply': 40710233.834216125, 'PYUSD burns': -61418149.627521, 'PYUSD mints': 60416756.92, 'PYUSD supply': 628004155.868524, 'RLUSD burns': 0, 'RLUSD mints': 10000000, 'RLUSD supply': 461838227.55, 'USDC burns': -4165681056.334897, 'USDC mints': 4508371235.672646, 'USDC supply': 41919824565.909515, 'USDS burns': -4845202491.31458, 'USDS mints': 4499875839.996853, 'USDS supply': 3701635019.634922, 'sUSD burns': -95773.9132962076, 'sUSD mints': 142939.18, 'sUSD supply': 33224864.48690327, 'week': '2025-07-14 00:00:00.000 UTC'}, {'BUSD burns': 0, 'BUSD mints': 0, 'BUSD supply': 57792684.1159419, 'DAI burns': -15050628246.97811, 'DAI mints': 15039906162.364809, 'DAI supply': 3630571627.715159, 'FRAX burns': 0, 'FRAX mints': 0, 'FRAX supply': 314392992.3549203, 'LUSD burns': -433669.0779112118, 'LUSD mints': 93494.91447144956, 'LUSD supply': 40612561.249736436, 'PYUSD burns': -76829175.00653699, 'PYUSD mints': 75163746.515165, 'PYUSD supply': 629005548.5760449, 'RLUSD burns': 0, 'RLUSD mints': 32500000, 'RLUSD supply': 451838227.55, 'USDC burns': -3001859332.569151, 'USDC mints': 3181276997.555402, 'USDC supply': 41577134386.57177, 'USDS burns': -2628092638.9455085, 'USDS mints': 2415011368.9083643, 'USDS supply': 4046961670.952649, 'sUSD burns': -1159971.2699999998, 'sUSD mints': 0, 'sUSD supply': 33177699.220199477, 'week': '2025-07-07 00:00:00.000 UTC'}, {'BUSD burns': 0, 'BUSD mints': 0, 'BUSD supply': 57792684.1159419, 'DAI burns': -12517719651.221426, 'DAI mints': 12539843290.439857, 'DAI supply': 3641293712.328461, 'FRAX burns': 0, 'FRAX mints': 0, 'FRAX supply': 314392992.3549203, 'LUSD burns': -279783.9823404885, 'LUSD mints': 200440.12761780983, 'LUSD supply': 40952735.4131762, 'PYUSD burns': -153813167.174072, 'PYUSD mints': 53480114.895819, 'PYUSD supply': 630670977.0674169, 'RLUSD burns': -55, 'RLUSD mints': 30000000, 'RLUSD supply': 419338227.55, 'USDC burns': -1809188257.7955768, 'USDC mints': 1858375868.9225643, 'USDC supply': 41397716721.58552, 'USDS burns': -1867298051.0035, 'USDS mints': 2203486237.927829, 'USDS supply': 4260042940.989794, 'sUSD burns': -399999.99999999994, 'sUSD mints': 95084.63676429476, 'sUSD supply': 34337670.49019948, 'week': '2025-06-30 00:00:00.000 UTC'}, {'BUSD burns': 0, 'BUSD mints': 0, 'BUSD supply': 57792684.1159419, 'DAI burns': -15332563346.489538, 'DAI mints': 15248219805.76233, 'DAI supply': 3619170073.110034, 'FRAX burns': 0, 'FRAX mints': 0, 'FRAX supply': 314392992.3549203, 'LUSD burns': -157776.15054055827, 'LUSD mints': 201959.80937443368, 'LUSD supply': 41032079.26789888, 'PYUSD burns': -56101993.69, 'PYUSD mints': 71082715.111123, 'PYUSD supply': 731004029.3456699, 'RLUSD burns': 0, 'RLUSD mints': 26500000, 'RLUSD supply': 389338282.55, 'USDC burns': -2005455567.5613995, 'USDC mints': 2394603377.1859803, 'USDC supply': 41348529110.458534, 'USDS burns': -3262465560.788068, 'USDS mints': 3232003127.0841665, 'USDS supply': 3923854754.0654645, 'sUSD burns': -31306.96947022694, 'sUSD mints': 823743, 'sUSD supply': 34642585.85343518, 'week': '2025-06-23 00:00:00.000 UTC'}, {'BUSD burns': 0, 'BUSD mints': 0, 'BUSD supply': 57792684.1159419, 'DAI burns': -23357492416.848564, 'DAI mints': 23459756777.499588, 'DAI supply': 3703513613.8372445, 'FRAX burns': -500000, 'FRAX mints': 0, 'FRAX supply': 314392992.3549203, 'LUSD burns': -739936.4472898006, 'LUSD mints': 276500.93236345326, 'LUSD supply': 40987895.609065, 'PYUSD burns': -110936953.66832599, 'PYUSD mints': 100488096.21000001, 'PYUSD supply': 716023307.9245468, 'RLUSD burns': 0, 'RLUSD mints': 23000000, 'RLUSD supply': 362838282.55, 'USDC burns': -1866800627.7875774, 'USDC mints': 2145697590.9287612, 'USDC supply': 40959381300.833954, 'USDS burns': -4032247108.335347, 'USDS mints': 4201844364.1529517, 'USDS supply': 3954317187.7693663, 'sUSD burns': -295.41329830833274, 'sUSD mints': 786933.09, 'sUSD supply': 33850149.82290541, 'week': '2025-06-16 00:00:00.000 UTC'}, {'BUSD burns': 0, 'BUSD mints': 0, 'BUSD supply': 57792684.1159419, 'DAI burns': -19346849262.342575, 'DAI mints': 19370840457.822052, 'DAI supply': 3601249253.186235, 'FRAX burns': 0, 'FRAX mints': 0, 'FRAX supply': 314892992.3549203, 'LUSD burns': -89719.93511024567, 'LUSD mints': 92150.60393674971, 'LUSD supply': 41451331.12399135, 'PYUSD burns': -169992908.82, 'PYUSD mints': 137479202.69931102, 'PYUSD supply': 726472165.3828728, 'RLUSD burns': 0, 'RLUSD mints': 19000000, 'RLUSD supply': 339838282.55, 'USDC burns': -1818388331.456294, 'USDC mints': 2753887328.216471, 'USDC supply': 40680484337.69277, 'USDS burns': -2536717000.468371, 'USDS mints': 2392896843.2080717, 'USDS supply': 3784719931.951763, 'sUSD burns': -101368.90000000001, 'sUSD mints': 2574145.9799999995, 'sUSD supply': 33063512.14620371, 'week': '2025-06-09 00:00:00.000 UTC'}, {'BUSD burns': 0, 'BUSD mints': 0, 'BUSD supply': 57792684.1159419, 'DAI burns': -16736865051.050022, 'DAI mints': 16336141604.029531, 'DAI supply': 3577258057.706763, 'FRAX burns': 0, 'FRAX mints': 0, 'FRAX supply': 314892992.3549203, 'LUSD burns': -8297.67071498, 'LUSD mints': 138431.85702771213, 'LUSD supply': 41448900.45516484, 'PYUSD burns': -101031029.54315999, 'PYUSD mints': 201162956.448144, 'PYUSD supply': 758985871.5035619, 'RLUSD burns': 0, 'RLUSD mints': 78700100, 'RLUSD supply': 320838282.55, 'USDC burns': -2320833235.3150454, 'USDC mints': 2465073312.9889226, 'USDC supply': 39744985340.932594, 'USDS burns': -2300723127.0247836, 'USDS mints': 2741912918.932246, 'USDS supply': 3928540089.212063, 'sUSD burns': -152003.08427276413, 'sUSD mints': 505290.08, 'sUSD supply': 30590735.066203713, 'week': '2025-06-02 00:00:00.000 UTC'}, {'BUSD burns': 0, 'BUSD mints': 0, 'BUSD supply': 57792684.1159419, 'DAI burns': -21113757942.987915, 'DAI mints': 21378851592.301853, 'DAI supply': 3977981504.727258, 'FRAX burns': -40000, 'FRAX mints': 0, 'FRAX supply': 314892992.3549203, 'LUSD burns': -418917.0333349352, 'LUSD mints': 164711.5052659074, 'LUSD supply': 41318766.26885211, 'PYUSD burns': -101368818.30590999, 'PYUSD mints': 108767047.101768, 'PYUSD supply': 658853944.5985779, 'RLUSD burns': -1500400, 'RLUSD mints': 608, 'RLUSD supply': 242138182.55, 'USDC burns': -1926864762.137753, 'USDC mints': 1518663853.0965707, 'USDC supply': 39600745263.25871, 'USDS burns': -1917967987.8969188, 'USDS mints': 2404659794.1837845, 'USDS supply': 3487350297.3046007, 'sUSD burns': -12251.254170639899, 'sUSD mints': 477989.7834160615, 'sUSD supply': 30237448.070476476, 'week': '2025-05-26 00:00:00.000 UTC'}, {'BUSD burns': 0, 'BUSD mints': 0, 'BUSD supply': 57792684.1159419, 'DAI burns': -26174459610.93578, 'DAI mints': 26237017031.905956, 'DAI supply': 3712887855.4133196, 'FRAX burns': -41500, 'FRAX mints': 0, 'FRAX supply': 314932992.3549203, 'LUSD burns': -294020.19481621316, 'LUSD mints': 213026.18089457118, 'LUSD supply': 41572971.796921134, 'PYUSD burns': -89413203.734595, 'PYUSD mints': 79073397.564015, 'PYUSD supply': 651455715.8027198, 'RLUSD burns': -2500000, 'RLUSD mints': 600, 'RLUSD supply': 243637974.55, 'USDC burns': -2468794171.1804605, 'USDC mints': 2952576656.4489517, 'USDC supply': 40008946172.2999, 'USDS burns': -2480212049.1202626, 'USDS mints': 2085340750.4970546, 'USDS supply': 3000658491.0177355, 'sUSD burns': -693960.9557303071, 'sUSD mints': 589598.8565394937, 'sUSD supply': 29771709.541231055, 'week': '2025-05-19 00:00:00.000 UTC'}, {'BUSD burns': 0, 'BUSD mints': 0, 'BUSD supply': 57792684.1159419, 'DAI burns': -15009523022.033443, 'DAI mints': 15118301181.116302, 'DAI supply': 3650330434.443151, 'FRAX burns': -113202, 'FRAX mints': 0, 'FRAX supply': 314974492.3549203, 'LUSD burns': -489996.4581870107, 'LUSD mints': 130219.222602426, 'LUSD supply': 41653965.810842775, 'PYUSD burns': -203317928.10455197, 'PYUSD mints': 120305402.12116599, 'PYUSD supply': 661795521.9732999, 'RLUSD burns': -4000225, 'RLUSD mints': 0, 'RLUSD supply': 246137374.55, 'USDC burns': -2894348125.9633455, 'USDC mints': 2086163836.854988, 'USDC supply': 39525163687.0314, 'USDS burns': -2543774122.3341274, 'USDS mints': 2038147835.5491774, 'USDS supply': 3395529789.6409435, 'sUSD burns': -99999.99999999999, 'sUSD mints': 182406.45654195978, 'sUSD supply': 29876071.640421867, 'week': '2025-05-12 00:00:00.000 UTC'}, {'BUSD burns': 0, 'BUSD mints': 0, 'BUSD supply': 57792684.1159419, 'DAI burns': -23824202329.732826, 'DAI mints': 24083265160.654366, 'DAI supply': 3541552275.360291, 'FRAX burns': -2215682.59312002, 'FRAX mints': 0, 'FRAX supply': 315087694.3549203, 'LUSD burns': -1520971.2143857058, 'LUSD mints': 211953.78282276713, 'LUSD supply': 42013743.04642736, 'PYUSD burns': -111399129.297922, 'PYUSD mints': 96369609.044139, 'PYUSD supply': 744808047.9566859, 'RLUSD burns': 0, 'RLUSD mints': 0, 'RLUSD supply': 250137599.55, 'USDC burns': -2503219073.201356, 'USDC mints': 2811687036.0975304, 'USDC supply': 40333347976.13976, 'USDS burns': -3177159695.2158527, 'USDS mints': 2807221191.481561, 'USDS supply': 3901156076.425894, 'sUSD burns': -7675917.766661822, 'sUSD mints': 8039598.746230822, 'sUSD supply': 29793665.18387991, 'week': '2025-05-05 00:00:00.000 UTC'}, {'BUSD burns': 0, 'BUSD mints': 0, 'BUSD supply': 57792684.1159419, 'DAI burns': -38541139399.18943, 'DAI mints': 38539064932.98315, 'DAI supply': 3282489444.4387507, 'FRAX burns': -2525000, 'FRAX mints': 0, 'FRAX supply': 317303376.94804037, 'LUSD burns': -136800.28803917908, 'LUSD mints': 20100.052437882485, 'LUSD supply': 43322760.4779903, 'PYUSD burns': -34956824.340102, 'PYUSD mints': 90951144.285623, 'PYUSD supply': 759837568.2104689, 'RLUSD burns': 0, 'RLUSD mints': 0, 'RLUSD supply': 250137599.55, 'USDC burns': -2621112262.4085703, 'USDC mints': 1896974380.4002087, 'USDC supply': 40024880013.24358, 'USDS burns': -1928135192.5754807, 'USDS mints': 2091640276.0580716, 'USDS supply': 4271094580.1601863, 'sUSD burns': -831852.3179642865, 'sUSD mints': 1617497.2409941764, 'sUSD supply': 29429984.20431091, 'week': '2025-04-28 00:00:00.000 UTC'}, {'BUSD burns': 0, 'BUSD mints': 0, 'BUSD supply': 57792684.1159419, 'DAI burns': -24410647097.704655, 'DAI mints': 24534620677.367958, 'DAI supply': 3284563910.6450458, 'FRAX burns': -35000, 'FRAX mints': 0, 'FRAX supply': 319828376.94804037, 'LUSD burns': -498404.68366931047, 'LUSD mints': 28128.571677113006, 'LUSD supply': 43439460.7135916, 'PYUSD burns': -79700773.47228101, 'PYUSD mints': 85970908.293365, 'PYUSD supply': 703843248.2649479, 'RLUSD burns': 0, 'RLUSD mints': 50500000, 'RLUSD supply': 250137599.55, 'USDC burns': -2574830997.7315874, 'USDC mints': 3368217310.376378, 'USDC supply': 40749017895.251945, 'USDS burns': -1145713854.8623674, 'USDS mints': 1468027942.3510692, 'USDS supply': 4107589496.6775956, 'sUSD burns': -482716.26882736175, 'sUSD mints': 3187794.7182940696, 'sUSD supply': 28644339.28128102, 'week': '2025-04-21 00:00:00.000 UTC'}, {'BUSD burns': -100872, 'BUSD mints': 0, 'BUSD supply': 57792684.1159419, 'DAI burns': -24893962554.348362, 'DAI mints': 24917036717.84824, 'DAI supply': 3160590330.9817457, 'FRAX burns': -35000, 'FRAX mints': 0, 'FRAX supply': 319863376.94804037, 'LUSD burns': -65350.85712701603, 'LUSD mints': 74560.85620780283, 'LUSD supply': 43909736.82558379, 'PYUSD burns': -93392380.87394899, 'PYUSD mints': 109210733.288711, 'PYUSD supply': 697573113.4438639, 'RLUSD burns': -5, 'RLUSD mints': 5, 'RLUSD supply': 199637599.55, 'USDC burns': -1543307137.1478171, 'USDC mints': 1990920342.9639482, 'USDC supply': 39955631582.607155, 'USDS burns': -1445559141.4948745, 'USDS mints': 1487179553.2416892, 'USDS supply': 3785275409.1888943, 'sUSD burns': -286289.48005782004, 'sUSD mints': 2862755.07697253, 'sUSD supply': 25939260.83181431, 'week': '2025-04-14 00:00:00.000 UTC'}, {'BUSD burns': 0, 'BUSD mints': 0, 'BUSD supply': 57893556.1159419, 'DAI burns': -36402153521.52526, 'DAI mints': 36368859212.645355, 'DAI supply': 3137516167.4818687, 'FRAX burns': -28226598.862908542, 'FRAX mints': 0, 'FRAX supply': 319898376.94804037, 'LUSD burns': -3021341.652782322, 'LUSD mints': 708967.426645692, 'LUSD supply': 43900526.82650301, 'PYUSD burns': -40502080.103613004, 'PYUSD mints': 146768506.07813603, 'PYUSD supply': 681754761.0291018, 'RLUSD burns': 0, 'RLUSD mints': 0, 'RLUSD supply': 199637599.55, 'USDC burns': -2787612256.952074, 'USDC mints': 2252898443.856796, 'USDC supply': 39508018376.79102, 'USDS burns': -2777107685.93926, 'USDS mints': 2052022549.5946095, 'USDS supply': 3743654997.44208, 'sUSD burns': -214621.47413836498, 'sUSD mints': 97681.37, 'sUSD supply': 23362795.2348996, 'week': '2025-04-07 00:00:00.000 UTC'}, {'BUSD burns': 0, 'BUSD mints': 0, 'BUSD supply': 57893556.1159419, 'DAI burns': -22986737813.381916, 'DAI mints': 22898224599.386536, 'DAI supply': 3170810476.361765, 'FRAX burns': -523520, 'FRAX mints': 0, 'FRAX supply': 348124975.8109489, 'LUSD burns': -1271223.4017986967, 'LUSD mints': 37690.349278846916, 'LUSD supply': 46212901.05263964, 'PYUSD burns': -177857056.387425, 'PYUSD mints': 107830557.79508701, 'PYUSD supply': 575488335.0545789, 'RLUSD burns': 0, 'RLUSD mints': 50000000, 'RLUSD supply': 199637599.55, 'USDC burns': -1849450738.3111851, 'USDC mints': 2248129639.349435, 'USDC supply': 40042732189.8863, 'USDS burns': -1249570504.1462793, 'USDS mints': 1483577414.6701553, 'USDS supply': 4468740133.786731, 'sUSD burns': -1012644.5436475525, 'sUSD mints': 510100, 'sUSD supply': 23479735.339037962, 'week': '2025-03-31 00:00:00.000 UTC'}, {'BUSD burns': 0, 'BUSD mints': 0, 'BUSD supply': 57893556.1159419, 'DAI burns': -25560332335.02806, 'DAI mints': 25587338110.423847, 'DAI supply': 3259323690.357147, 'FRAX burns': -43640, 'FRAX mints': 0, 'FRAX supply': 348648495.8109489, 'LUSD burns': -991741.8627598175, 'LUSD mints': 23756.406419920735, 'LUSD supply': 47446434.10515949, 'PYUSD burns': -130840198.65092002, 'PYUSD mints': 89034735.30012, 'PYUSD supply': 645514833.6469169, 'RLUSD burns': 0, 'RLUSD mints': 17000000, 'RLUSD supply': 149637599.55, 'USDC burns': -2775310009.179056, 'USDC mints': 2907836585.242652, 'USDC supply': 39644053288.848045, 'USDS burns': -1644944990.6678371, 'USDS mints': 1388711242.4442523, 'USDS supply': 4234733223.262855, 'sUSD burns': -504765.463563063, 'sUSD mints': 1756161.9999999998, 'sUSD supply': 23982279.882685516, 'week': '2025-03-24 00:00:00.000 UTC'}, {'BUSD burns': -2596991.9899999998, 'BUSD mints': 0, 'BUSD supply': 57893556.1159419, 'DAI burns': -14145063928.457287, 'DAI mints': 14165417321.06404, 'DAI supply': 3232317914.9613633, 'FRAX burns': -4637514.65238121, 'FRAX mints': 0, 'FRAX supply': 348692135.8109489, 'LUSD burns': -935742.8325756204, 'LUSD mints': 366300.61434964696, 'LUSD supply': 48414419.56149939, 'PYUSD burns': -59628017.435178, 'PYUSD mints': 142696996.385431, 'PYUSD supply': 687320296.9977169, 'RLUSD burns': -93, 'RLUSD mints': 32000000, 'RLUSD supply': 132637599.55000001, 'USDC burns': -1790963572.88624, 'USDC mints': 2475448050.7541428, 'USDC supply': 39511526712.78445, 'USDS burns': -1433480525.0373485, 'USDS mints': 1188160087.8593855, 'USDS supply': 4490966971.486439, 'sUSD burns': -20363.62006909329, 'sUSD mints': 3352263.9499999993, 'sUSD supply': 22730883.34624858, 'week': '2025-03-17 00:00:00.000 UTC'}, {'BUSD burns': 0, 'BUSD mints': 0, 'BUSD supply': 60490548.1059419, 'DAI burns': -18247556935.692883, 'DAI mints': 18189666669.16783, 'DAI supply': 3211964522.354615, 'FRAX burns': -143798557.45912254, 'FRAX mints': 0, 'FRAX supply': 353329650.4633301, 'LUSD burns': -2302151.0288174767, 'LUSD mints': 613818.7735920441, 'LUSD supply': 48983861.77972536, 'PYUSD burns': -81070145.05, 'PYUSD mints': 120211698.67131302, 'PYUSD supply': 604251318.0474639, 'RLUSD burns': 0, 'RLUSD mints': 6500060, 'RLUSD supply': 100637692.55000001, 'USDC burns': -2308339557.6296325, 'USDC mints': 2776389832.5940533, 'USDC supply': 38827042234.91654, 'USDS burns': -1008383496.3836362, 'USDS mints': 1190980191.3138435, 'USDS supply': 4736287408.664402, 'sUSD burns': -11877.990254155062, 'sUSD mints': 2219571.8299999996, 'sUSD supply': 19398983.016317673, 'week': '2025-03-10 00:00:00.000 UTC'}, {'BUSD burns': 0, 'BUSD mints': 0, 'BUSD supply': 60490548.1059419, 'DAI burns': -22105758468.01904, 'DAI mints': 22073239205.891636, 'DAI supply': 3269854788.8796716, 'FRAX burns': 0, 'FRAX mints': 0, 'FRAX supply': 497128207.9224526, 'LUSD burns': -1432400.9742582766, 'LUSD mints': 247647.08447446104, 'LUSD supply': 50672194.03495079, 'PYUSD burns': -52907826.65, 'PYUSD mints': 45397203.663497, 'PYUSD supply': 565109764.4261509, 'RLUSD burns': 0, 'RLUSD mints': 2300000, 'RLUSD supply': 94137632.55000001, 'USDC burns': -1334788631.575635, 'USDC mints': 2467810955.405382, 'USDC supply': 38358991959.95212, 'USDS burns': -848979159.017109, 'USDS mints': 1180846806.9346223, 'USDS supply': 4553690713.734195, 'sUSD burns': -51074.70981803678, 'sUSD mints': 2725893.87, 'sUSD supply': 17191289.176571827, 'week': '2025-03-03 00:00:00.000 UTC'}, {'BUSD burns': 0, 'BUSD mints': 0, 'BUSD supply': 60490548.1059419, 'DAI burns': -25328025049.154034, 'DAI mints': 25160987545.628853, 'DAI supply': 3302374051.0070815, 'FRAX burns': -29000000, 'FRAX mints': 0, 'FRAX supply': 497128207.9224526, 'LUSD burns': -5380678.766483778, 'LUSD mints': 689103.6288402905, 'LUSD supply': 51856947.92473461, 'PYUSD burns': -105831940.37347601, 'PYUSD mints': 79172737.272715, 'PYUSD supply': 572620387.4126539, 'RLUSD burns': 0, 'RLUSD mints': 6500000, 'RLUSD supply': 91837632.55000001, 'USDC burns': -3091975069.0361953, 'USDC mints': 2548257053.397172, 'USDC supply': 37225969636.12237, 'USDS burns': -1668105523.593214, 'USDS mints': 1859184839.1039188, 'USDS supply': 4221823065.816682, 'sUSD burns': -63822.19312830822, 'sUSD mints': 1846465.4, 'sUSD supply': 14516470.016389865, 'week': '2025-02-24 00:00:00.000 UTC'}, {'BUSD burns': 0, 'BUSD mints': 0, 'BUSD supply': 60490548.1059419, 'DAI burns': -16562049056.237286, 'DAI mints': 16550253015.793222, 'DAI supply': 3469411554.532261, 'FRAX burns': -108297129.57310899, 'FRAX mints': 0, 'FRAX supply': 526128207.9224526, 'LUSD burns': -1517801.6399689398, 'LUSD mints': 855840.8862636619, 'LUSD supply': 56548523.06237809, 'PYUSD burns': -88781025.85676302, 'PYUSD mints': 216076403.25044, 'PYUSD supply': 599279590.5134149, 'RLUSD burns': 0, 'RLUSD mints': 2000000, 'RLUSD supply': 85337632.55000001, 'USDC burns': -1588228182.7142365, 'USDC mints': 2262021504.966605, 'USDC supply': 37769687651.76139, 'USDS burns': -1596182435.9704049, 'USDS mints': 1256896703.2892058, 'USDS supply': 4030743750.3059764, 'sUSD burns': -58272.71914986569, 'sUSD mints': 1450569.615193782, 'sUSD supply': 12733826.809518173, 'week': '2025-02-17 00:00:00.000 UTC'}, {'BUSD burns': 0, 'BUSD mints': 0, 'BUSD supply': 60490548.1059419, 'DAI burns': -15524460730.98551, 'DAI mints': 15525723536.503248, 'DAI supply': 3481207594.9763265, 'FRAX burns': -15000000, 'FRAX mints': 0, 'FRAX supply': 634425337.4955616, 'LUSD burns': -1618704.2979911305, 'LUSD mints': 481513.30669487943, 'LUSD supply': 57210483.81608337, 'PYUSD burns': -14660117.031232, 'PYUSD mints': 82811453.09651999, 'PYUSD supply': 471984213.1197378, 'RLUSD burns': 0, 'RLUSD mints': 425000, 'RLUSD supply': 83337632.55000001, 'USDC burns': -1671215141.2128425, 'USDC mints': 2829213690.6011367, 'USDC supply': 37095894329.50902, 'USDS burns': -901387480.276337, 'USDS mints': 1206815051.8455813, 'USDS supply': 4370029482.987175, 'sUSD burns': -175112.4143284812, 'sUSD mints': 2752727.4699999997, 'sUSD supply': 11341529.913474258, 'week': '2025-02-10 00:00:00.000 UTC'}, {'BUSD burns': 0, 'BUSD mints': 0, 'BUSD supply': 60490548.1059419, 'DAI burns': -10638679329.814539, 'DAI mints': 10616629819.306396, 'DAI supply': 3479944789.458587, 'FRAX burns': 0, 'FRAX mints': 0, 'FRAX supply': 649425337.4955616, 'LUSD burns': -2685497.970868415, 'LUSD mints': 2270791.6283639316, 'LUSD supply': 58347674.807379626, 'PYUSD burns': -28461955.792941004, 'PYUSD mints': 120323325.019158, 'PYUSD supply': 403832877.0544498, 'RLUSD burns': 0, 'RLUSD mints': 3000000, 'RLUSD supply': 82912632.55000001, 'USDC burns': -1373071868.8862805, 'USDC mints': 3039640964.688625, 'USDC supply': 35937895780.12072, 'USDS burns': -431113852.111647, 'USDS mints': 2005156667.7827494, 'USDS supply': 4064601911.4179306, 'sUSD burns': -4719365.746008824, 'sUSD mints': 1121232.59, 'sUSD supply': 8763914.85780274, 'week': '2025-02-03 00:00:00.000 UTC'}, {'BUSD burns': 0, 'BUSD mints': 0, 'BUSD supply': 60490548.1059419, 'DAI burns': -7363365128.9818735, 'DAI mints': 7293489815.387205, 'DAI supply': 3501994299.966731, 'FRAX burns': 0, 'FRAX mints': 0, 'FRAX supply': 649425337.4955616, 'LUSD burns': -1851001.8263354, 'LUSD mints': 2800493.8454810767, 'LUSD supply': 58762381.14988411, 'PYUSD burns': -47618758.71, 'PYUSD mints': 42103490.447285995, 'PYUSD supply': 311971507.8282328, 'RLUSD burns': 0, 'RLUSD mints': 8760131, 'RLUSD supply': 79912632.55000001, 'USDC burns': -2017993394.6874137, 'USDC mints': 2255574600.9486017, 'USDC supply': 34271326684.31838, 'USDS burns': -687212966.576135, 'USDS mints': 856026807.3589665, 'USDS supply': 2490559095.746827, 'sUSD burns': -1335221.5548746511, 'sUSD mints': 321292.89, 'sUSD supply': 12362048.013811564, 'week': '2025-01-27 00:00:00.000 UTC'}, {'BUSD burns': 0, 'BUSD mints': 0, 'BUSD supply': 60490548.1059419, 'DAI burns': -6029170146.454252, 'DAI mints': 6108747146.190099, 'DAI supply': 3571869613.5613947, 'FRAX burns': 0, 'FRAX mints': 0, 'FRAX supply': 649425337.4955616, 'LUSD burns': -3653110.771481749, 'LUSD mints': 375205.9615459725, 'LUSD supply': 57812889.13073844, 'PYUSD burns': -91109102.33486101, 'PYUSD mints': 53293735.54, 'PYUSD supply': 317486776.09094685, 'RLUSD burns': 0, 'RLUSD mints': 4151001, 'RLUSD supply': 71152501.55000001, 'USDC burns': -3440410632.834502, 'USDC mints': 4792717222.9773, 'USDC supply': 34033745478.05719, 'USDS burns': -679071951.5646304, 'USDS mints': 1068699622.6652501, 'USDS supply': 2321745254.9639955, 'sUSD burns': -43480.35594536419, 'sUSD mints': 253674.59999999998, 'sUSD supply': 13375976.678686215, 'week': '2025-01-20 00:00:00.000 UTC'}, {'BUSD burns': 0, 'BUSD mints': 0, 'BUSD supply': 60490548.1059419, 'DAI burns': -14525609418.635439, 'DAI mints': 14566272869.18429, 'DAI supply': 3492292613.8255477, 'FRAX burns': 0, 'FRAX mints': 0, 'FRAX supply': 649425337.4955616, 'LUSD burns': -3028334.054999733, 'LUSD mints': 1318117.1470559156, 'LUSD supply': 61090793.940674216, 'PYUSD burns': -72186709.976996, 'PYUSD mints': 89479483.96000001, 'PYUSD supply': 355302142.8858079, 'RLUSD burns': 0, 'RLUSD mints': 5178226, 'RLUSD supply': 67001500.550000004, 'USDC burns': -3056102839.796963, 'USDC mints': 3487566864.9441137, 'USDC supply': 32681438887.91439, 'USDS burns': -980663261.1047124, 'USDS mints': 1031680048.8785695, 'USDS supply': 1932117583.863376, 'sUSD burns': -1851607.5981120374, 'sUSD mints': 415604.12999999995, 'sUSD supply': 13165782.434631579, 'week': '2025-01-13 00:00:00.000 UTC'}, {'BUSD burns': -7732948.93, 'BUSD mints': 0, 'BUSD supply': 60490548.1059419, 'DAI burns': -8252231527.951908, 'DAI mints': 8273065444.562758, 'DAI supply': 3451629163.2767053, 'FRAX burns': 0, 'FRAX mints': 0, 'FRAX supply': 649425337.4955616, 'LUSD burns': -1399637.7437514104, 'LUSD mints': 1489949.092793677, 'LUSD supply': 62801010.84861803, 'PYUSD burns': -22438593.337748, 'PYUSD mints': 64183475.644926995, 'PYUSD supply': 338009368.9028039, 'RLUSD burns': 0, 'RLUSD mints': 4220957, 'RLUSD supply': 61823274.550000004, 'USDC burns': -2215500240.498474, 'USDC mints': 1956510810.2820191, 'USDC supply': 32249974862.767242, 'USDS burns': -250606091.73083755, 'USDS mints': 462972615.7561653, 'USDS supply': 1881100796.089519, 'sUSD burns': -675024.1524141489, 'sUSD mints': 781629.8200000001, 'sUSD supply': 14601785.902743615, 'week': '2025-01-06 00:00:00.000 UTC'}, {'BUSD burns': 0, 'BUSD mints': 0, 'BUSD supply': 68223497.0359419, 'DAI burns': -9400154329.534893, 'DAI mints': 9515882210.89099, 'DAI supply': 3430795246.6658554, 'FRAX burns': 0, 'FRAX mints': 0, 'FRAX supply': 649425337.4955616, 'LUSD burns': -198951.64926837967, 'LUSD mints': 1491186.6870316034, 'LUSD supply': 62710699.499575764, 'PYUSD burns': -69835943.105256, 'PYUSD mints': 31396139.482871998, 'PYUSD supply': 296264486.5956249, 'RLUSD burns': 0, 'RLUSD mints': 0, 'RLUSD supply': 57602317.550000004, 'USDC burns': -1362323187.3610992, 'USDC mints': 3104358480.4814177, 'USDC supply': 32508964292.983696, 'USDS burns': -263041708.7223739, 'USDS mints': 748526387.994754, 'USDS supply': 1668734272.064191, 'sUSD burns': -841746.6208726136, 'sUSD mints': 3707622.17, 'sUSD supply': 14495180.235157764, 'week': '2024-12-30 00:00:00.000 UTC'}, {'BUSD burns': 0, 'BUSD mints': 0, 'BUSD supply': 68223497.0359419, 'DAI burns': -10601633233.274193, 'DAI mints': 10522399440.272552, 'DAI supply': 3315067365.30976, 'FRAX burns': 0, 'FRAX mints': 0, 'FRAX supply': 649425337.4955616, 'LUSD burns': -1234090.2887596989, 'LUSD mints': 861629.9406630115, 'LUSD supply': 61418464.46181254, 'PYUSD burns': -17980059.425395, 'PYUSD mints': 25373593.980462, 'PYUSD supply': 334704290.21800894, 'RLUSD burns': 0, 'RLUSD mints': 4402188, 'RLUSD supply': 57602317.550000004, 'USDC burns': -1715914194.0448117, 'USDC mints': 1878671731.034709, 'USDC supply': 30766928999.863377, 'USDS burns': -420718610.8763242, 'USDS mints': 419527875.6727692, 'USDS supply': 1183249592.791811, 'sUSD burns': -386.15909840421057, 'sUSD mints': 5375297.82, 'sUSD supply': 11629304.686030377, 'week': '2024-12-23 00:00:00.000 UTC'}, {'BUSD burns': 0, 'BUSD mints': 0, 'BUSD supply': 68223497.0359419, 'DAI burns': -4139302064.343398, 'DAI mints': 4118599380.5388994, 'DAI supply': 3394301158.3113995, 'FRAX burns': 0, 'FRAX mints': 0, 'FRAX supply': 649425337.4955616, 'LUSD burns': -3438035.4049880137, 'LUSD mints': 697145.4132065057, 'LUSD supply': 61790924.809909225, 'PYUSD burns': -62264686.48167499, 'PYUSD mints': 84892326.15, 'PYUSD supply': 327310755.66294193, 'RLUSD burns': 0, 'RLUSD mints': 299999.99999999994, 'RLUSD supply': 53200129.550000004, 'USDC burns': -2535965694.995417, 'USDC mints': 2779466312.0329576, 'USDC supply': 30604171462.873478, 'USDS burns': -303362188.1986301, 'USDS mints': 396141396.92034763, 'USDS supply': 1184440327.9953659, 'sUSD burns': -1113022.2722462278, 'sUSD mints': 1990646.79, 'sUSD supply': 6254393.025128782, 'week': '2024-12-16 00:00:00.000 UTC'}, {'BUSD burns': 0, 'BUSD mints': 0, 'BUSD supply': 68223497.0359419, 'DAI burns': -6615309681.124249, 'DAI mints': 6539303515.434546, 'DAI supply': 3415003842.115899, 'FRAX burns': 0, 'FRAX mints': 0, 'FRAX supply': 649425337.4955616, 'LUSD burns': -1340633.5429923574, 'LUSD mints': 801347.0130281167, 'LUSD supply': 64531814.801690735, 'PYUSD burns': -111818748.33739801, 'PYUSD mints': 84274571.684777, 'PYUSD supply': 304683115.9946169, 'RLUSD burns': 0, 'RLUSD mints': 11139000.000000002, 'RLUSD supply': 52900129.550000004, 'USDC burns': -2170009368.142453, 'USDC mints': 2706927293.9712, 'USDC supply': 30360670845.835938, 'USDS burns': -428889428.44292486, 'USDS mints': 471361383.2005839, 'USDS supply': 1091661119.2736483, 'sUSD burns': -4147217.2640161435, 'sUSD mints': 1853357.12, 'sUSD supply': 5376768.507375009, 'week': '2024-12-09 00:00:00.000 UTC'}, {'BUSD burns': 0, 'BUSD mints': 0, 'BUSD supply': 68223497.0359419, 'DAI burns': -10636913761.265419, 'DAI mints': 10582154595.721996, 'DAI supply': 3491010007.8056, 'FRAX burns': 0, 'FRAX mints': 0, 'FRAX supply': 649425337.4955616, 'LUSD burns': -1460108.5736235438, 'LUSD mints': 1717362.9351065056, 'LUSD supply': 65071101.33165497, 'PYUSD burns': -67995931.54060699, 'PYUSD mints': 43016967.98, 'PYUSD supply': 332227292.64723796, 'RLUSD burns': 0, 'RLUSD mints': 41759523, 'RLUSD supply': 41761129.550000004, 'USDC burns': -2305584305.1612387, 'USDC mints': 3016238802.239792, 'USDC supply': 29823752920.00719, 'USDS burns': -691082557.5458319, 'USDS mints': 658269162.3264743, 'USDS supply': 1049189164.5159891, 'sUSD burns': -5115585.973707461, 'sUSD mints': 10460746.41, 'sUSD supply': 7670628.651391152, 'week': '2024-12-02 00:00:00.000 UTC'}, {'BUSD burns': 0, 'BUSD mints': 0, 'BUSD supply': 68223497.0359419, 'DAI burns': -13032445831.725567, 'DAI mints': 13104036769.610653, 'DAI supply': 3545769173.3490214, 'FRAX burns': 0, 'FRAX mints': 0, 'FRAX supply': 649425337.4955616, 'LUSD burns': -4141786.8599076504, 'LUSD mints': 1495791.3991488356, 'LUSD supply': 64813846.97017201, 'PYUSD burns': -87109860.99223602, 'PYUSD mints': 47840032.772438005, 'PYUSD supply': 357206256.207845, 'RLUSD burns': -34189211.449999996, 'RLUSD mints': 0, 'RLUSD supply': 1606.5500000044703, 'USDC burns': -1753477734.9960988, 'USDC mints': 2293989226.6109037, 'USDC supply': 29113098422.92864, 'USDS burns': -726984312.1805712, 'USDS mints': 858915629.5344148, 'USDS supply': 1082002559.7353466, 'sUSD burns': -469475.3728596879, 'sUSD mints': 731488.9099999999, 'sUSD supply': 2325468.2150986143, 'week': '2024-11-25 00:00:00.000 UTC'}, {'BUSD burns': 0, 'BUSD mints': 0, 'BUSD supply': 68223497.0359419, 'DAI burns': -14169614315.779673, 'DAI mints': 14329444026.663092, 'DAI supply': 3474178235.463937, 'FRAX burns': 0, 'FRAX mints': 0, 'FRAX supply': 649425337.4955616, 'LUSD burns': -4106015.188863801, 'LUSD mints': 3128086.8426884566, 'LUSD supply': 67459842.43093082, 'PYUSD burns': -34654371.427353, 'PYUSD mints': 88080239.44999999, 'PYUSD supply': 396476084.42764294, 'RLUSD burns': -510, 'RLUSD mints': 0, 'RLUSD supply': 34190818, 'USDC burns': -1842631066.4277864, 'USDC mints': 3157188195.13335, 'USDC supply': 28572586931.313835, 'USDS burns': -825971192.5838726, 'USDS mints': 749184057.4567351, 'USDS supply': 950071242.381503, 'sUSD burns': -117430.91488947268, 'sUSD mints': 0, 'sUSD supply': 2063454.6779583024, 'week': '2024-11-18 00:00:00.000 UTC'}, {'BUSD burns': 0, 'BUSD mints': 0, 'BUSD supply': 68223497.0359419, 'DAI burns': -9106095615.851448, 'DAI mints': 9115831167.38407, 'DAI supply': 3314348524.580517, 'FRAX burns': 0, 'FRAX mints': 0, 'FRAX supply': 649425337.4955616, 'LUSD burns': -2597519.1705803084, 'LUSD mints': 1882049.7981023965, 'LUSD supply': 68437770.77710617, 'PYUSD burns': -14847847.933554998, 'PYUSD mints': 32108085.178550996, 'PYUSD supply': 343050216.4049959, 'RLUSD burns': -14515864, 'RLUSD mints': 0, 'RLUSD supply': 34191328, 'USDC burns': -2111716545.8764362, 'USDC mints': 2042500824.731341, 'USDC supply': 27258029802.608273, 'USDS burns': -709065849.4579248, 'USDS mints': 488344075.24463916, 'USDS supply': 1026858377.5086403, 'sUSD burns': -17445.26002187824, 'sUSD mints': 1001545.77, 'sUSD supply': 2180885.592847775, 'week': '2024-11-11 00:00:00.000 UTC'}, {'BUSD burns': 0, 'BUSD mints': 0, 'BUSD supply': 68223497.0359419, 'DAI burns': -18796943286.260803, 'DAI mints': 18796530556.387203, 'DAI supply': 3304612973.047897, 'FRAX burns': 0, 'FRAX mints': 0, 'FRAX supply': 649425337.4955616, 'LUSD burns': -4534610.673179951, 'LUSD mints': 3538388.3863843437, 'LUSD supply': 69153240.14958408, 'PYUSD burns': -76353868.87000002, 'PYUSD mints': 48599614.87, 'PYUSD supply': 325789979.1599999, 'RLUSD burns': -485, 'RLUSD mints': 0, 'RLUSD supply': 48707192, 'USDC burns': -1189237157.9992688, 'USDC mints': 3113402061.0868773, 'USDC supply': 27327245523.75337, 'USDS burns': -630382461.131601, 'USDS mints': 745287318.5433633, 'USDS supply': 1247580151.721926, 'sUSD burns': -6863649.885102042, 'sUSD mints': 5000000, 'sUSD supply': 1196785.0828696534, 'week': '2024-11-04 00:00:00.000 UTC'}, {'BUSD burns': 0, 'BUSD mints': 0, 'BUSD supply': 68223497.0359419, 'DAI burns': -12338719728.869452, 'DAI mints': 12364656913.560379, 'DAI supply': 3305025702.921492, 'FRAX burns': 0, 'FRAX mints': 0, 'FRAX supply': 649425337.4955616, 'LUSD burns': -947148.4228930256, 'LUSD mints': 1046799.0394506776, 'LUSD supply': 70149462.43637969, 'PYUSD burns': -27267229.429999996, 'PYUSD mints': 57816047.63999999, 'PYUSD supply': 353544233.1599999, 'RLUSD burns': -1335, 'RLUSD mints': 0, 'RLUSD supply': 48707677, 'USDC burns': -1354322456.0256627, 'USDC mints': 1574439494.2041342, 'USDC supply': 25403080620.66576, 'USDS burns': -327107202.51587784, 'USDS mints': 447985093.412292, 'USDS supply': 1132675294.3101635, 'sUSD burns': -2120085.136780012, 'sUSD mints': 851422.18236438, 'sUSD supply': 3060434.9679716947, 'week': '2024-10-28 00:00:00.000 UTC'}, {'BUSD burns': -1287966.8540544799, 'BUSD mints': 0, 'BUSD supply': 68223497.0359419, 'DAI burns': -16878090158.141045, 'DAI mints': 16782813631.50334, 'DAI supply': 3279088518.2305574, 'FRAX burns': 0, 'FRAX mints': 0, 'FRAX supply': 649425337.4955616, 'LUSD burns': -1359655.4049368117, 'LUSD mints': 679753.863819984, 'LUSD supply': 70049811.81982203, 'PYUSD burns': -39872897.81, 'PYUSD mints': 32920354.75, 'PYUSD supply': 322995414.9499999, 'RLUSD burns': -1380, 'RLUSD mints': 149999.99999999997, 'RLUSD supply': 48709012, 'USDC burns': -1730904887.7855499, 'USDC mints': 1110667495.821779, 'USDC supply': 25182963582.48729, 'USDS burns': -550466799.332684, 'USDS mints': 447181750.20772195, 'USDS supply': 1011797403.4137491, 'sUSD burns': -7909524.871470672, 'sUSD mints': 7656753.652580598, 'sUSD supply': 4329097.922387327, 'week': '2024-10-21 00:00:00.000 UTC'}, {'BUSD burns': 0, 'BUSD mints': 0, 'BUSD supply': 69511463.88999638, 'DAI burns': -4565614287.350805, 'DAI mints': 4590523444.789414, 'DAI supply': 3374365044.8682623, 'FRAX burns': 0, 'FRAX mints': 0, 'FRAX supply': 649425337.4955616, 'LUSD burns': -796443.4877937465, 'LUSD mints': 1594717.809458313, 'LUSD supply': 70729713.36093886, 'PYUSD burns': -51902840.400000006, 'PYUSD mints': 30754017.189999998, 'PYUSD supply': 329947958.00999993, 'RLUSD burns': -800, 'RLUSD mints': 28004900, 'RLUSD supply': 48560392, 'USDC burns': -1286838739.511845, 'USDC mints': 1527931621.144286, 'USDC supply': 25803200974.45106, 'USDS burns': -168658550.32749772, 'USDS mints': 166221514.28084397, 'USDS supply': 1115082452.5387113, 'sUSD burns': -8868019.630706616, 'sUSD mints': 7448229.213601548, 'sUSD supply': 4581869.141277401, 'week': '2024-10-14 00:00:00.000 UTC'}, {'BUSD burns': 0, 'BUSD mints': 0, 'BUSD supply': 69511463.88999638, 'DAI burns': -8255150485.401357, 'DAI mints': 8474268089.3400545, 'DAI supply': 3349455887.4296527, 'FRAX burns': 0, 'FRAX mints': 0, 'FRAX supply': 649425337.4955616, 'LUSD burns': -349119.02555983874, 'LUSD mints': 609740.8224356672, 'LUSD supply': 69931439.03927429, 'PYUSD burns': -57638333.510000005, 'PYUSD mints': 51102680.82999999, 'PYUSD supply': 351096781.2199999, 'RLUSD burns': -660, 'RLUSD mints': 8000251, 'RLUSD supply': 20556292, 'USDC burns': -1890213902.059351, 'USDC mints': 1182539680.296772, 'USDC supply': 25562108092.81862, 'USDS burns': -220491239.30312848, 'USDS mints': 316340410.7630069, 'USDS supply': 1117519488.585365, 'sUSD burns': -7484233.416928113, 'sUSD mints': 7398403.905976849, 'sUSD supply': 6001659.55838247, 'week': '2024-10-07 00:00:00.000 UTC'}, {'BUSD burns': 0, 'BUSD mints': 0, 'BUSD supply': 69511463.88999638, 'DAI burns': -18013940701.349453, 'DAI mints': 18078959219.92966, 'DAI supply': 3130338283.4909554, 'FRAX burns': -832.3532081894091, 'FRAX mints': 0, 'FRAX supply': 649425337.4955616, 'LUSD burns': -553440.1004184244, 'LUSD mints': 724672.7328387685, 'LUSD supply': 69670817.24239846, 'PYUSD burns': -44573352.05, 'PYUSD mints': 65174746.62, 'PYUSD supply': 357632433.8999999, 'RLUSD burns': -430, 'RLUSD mints': 11601103, 'RLUSD supply': 12556701, 'USDC burns': -2054740180.2430995, 'USDC mints': 1368200697.497263, 'USDC supply': 26269782314.5812, 'USDS burns': -221570770.02057335, 'USDS mints': 629171335.3550409, 'USDS supply': 1021670317.1254865, 'sUSD burns': -3864881.8667320693, 'sUSD mints': 2115121.071375145, 'sUSD supply': 6087489.069333735, 'week': '2024-09-30 00:00:00.000 UTC'}, {'BUSD burns': 0, 'BUSD mints': 0, 'BUSD supply': 69511463.88999638, 'DAI burns': -9213508224.860443, 'DAI mints': 9217578121.296717, 'DAI supply': 3065319764.9107523, 'FRAX burns': 0, 'FRAX mints': 0, 'FRAX supply': 649426169.8487698, 'LUSD burns': -65781.72592500043, 'LUSD mints': 3832513.041597646, 'LUSD supply': 69499584.60997811, 'PYUSD burns': -41631621.63, 'PYUSD mints': 53571828.169999994, 'PYUSD supply': 337031039.3299999, 'RLUSD burns': -50, 'RLUSD mints': 956000, 'RLUSD supply': 956028, 'USDC burns': -1374766348.5114167, 'USDC mints': 1528612572.905478, 'USDC supply': 26956321797.327034, 'USDS burns': -125814282.07471856, 'USDS mints': 284095054.57211167, 'USDS supply': 614069751.791019, 'sUSD burns': -19979176.689130824, 'sUSD mints': 10542667.52686022, 'sUSD supply': 7837249.86469066, 'week': '2024-09-23 00:00:00.000 UTC'}, {'BUSD burns': 0, 'BUSD mints': 0, 'BUSD supply': 69511463.88999638, 'DAI burns': -23862561785.0606, 'DAI mints': 23725349290.04766, 'DAI supply': 3061249868.4744754, 'FRAX burns': 0, 'FRAX mints': 0, 'FRAX supply': 649426169.8487698, 'LUSD burns': -139493.17776216584, 'LUSD mints': 386681.27335489664, 'LUSD supply': 65732853.29430546, 'PYUSD burns': -37416373.6, 'PYUSD mints': 33364191.66, 'PYUSD supply': 325090832.7899999, 'RLUSD burns': -64, 'RLUSD mints': 142, 'RLUSD supply': 78, 'USDC burns': -1734528291.3172278, 'USDC mints': 1920951391.1694298, 'USDC supply': 26802475572.932972, 'USDS burns': -59292546.79924592, 'USDS mints': 515081526.09287155, 'USDS supply': 455788979.2936257, 'sUSD burns': -823616.6692107589, 'sUSD mints': 1195495.1399999997, 'sUSD supply': 17273759.026961263, 'week': '2024-09-16 00:00:00.000 UTC'}, {'BUSD burns': 0, 'BUSD mints': 0, 'BUSD supply': 69511463.88999638, 'DAI burns': -36474277030.990715, 'DAI mints': 36505216003.83325, 'DAI supply': 3198462363.487422, 'FRAX burns': 0, 'FRAX mints': 0, 'FRAX supply': 649426169.8487698, 'LUSD burns': -155125.12433718788, 'LUSD mints': 211019.71024783357, 'LUSD supply': 65485665.19871273, 'PYUSD burns': -13718702.92, 'PYUSD mints': 12870083.180000002, 'PYUSD supply': 329143014.7299999, 'RLUSD burns': -137, 'RLUSD mints': 137, 'RLUSD supply': 0, 'USDC burns': -1224804487.4233618, 'USDC mints': 2224118063.783695, 'USDC supply': 26616052473.08077, 'USDS burns': None, 'USDS mints': None, 'USDS supply': None, 'sUSD burns': -2682657.4506259845, 'sUSD mints': 1671875.15, 'sUSD supply': 16901880.55617202, 'week': '2024-09-09 00:00:00.000 UTC'}, {'BUSD burns': 0, 'BUSD mints': 0, 'BUSD supply': 69511463.88999638, 'DAI burns': -29544795913.528816, 'DAI mints': 29533706779.72275, 'DAI supply': 3167523390.644887, 'FRAX burns': 0, 'FRAX mints': 0, 'FRAX supply': 649426169.8487698, 'LUSD burns': -5556497.907803811, 'LUSD mints': 407706.30949407787, 'LUSD supply': 65429770.61280208, 'PYUSD burns': -16309447.73, 'PYUSD mints': 26866945.14, 'PYUSD supply': 329991634.4699999, 'RLUSD burns': -85, 'RLUSD mints': 85, 'RLUSD supply': 0, 'USDC burns': -1252404393.0857863, 'USDC mints': 1375890797.40508, 'USDC supply': 25616738896.720436, 'USDS burns': None, 'USDS mints': None, 'USDS supply': None, 'sUSD burns': -600796.1756202846, 'sUSD mints': 3402329.8400000003, 'sUSD supply': 17912662.856798004, 'week': '2024-09-02 00:00:00.000 UTC'}, {'BUSD burns': 0, 'BUSD mints': 0, 'BUSD supply': 69511463.88999638, 'DAI burns': -50680050027.49199, 'DAI mints': 50813188809.107956, 'DAI supply': 3178612524.450947, 'FRAX burns': 0, 'FRAX mints': 0, 'FRAX supply': 649426169.8487698, 'LUSD burns': -1455432.9476123953, 'LUSD mints': 544691.1029629883, 'LUSD supply': 70578562.21111181, 'PYUSD burns': -34930739.89, 'PYUSD mints': 16595787.870000001, 'PYUSD supply': 319434137.0599999, 'RLUSD burns': -300, 'RLUSD mints': 100, 'RLUSD supply': 0, 'USDC burns': -1691806783.5181441, 'USDC mints': 1448453044.3065343, 'USDC supply': 25493252492.401142, 'USDS burns': None, 'USDS mints': None, 'USDS supply': None, 'sUSD burns': -7713989.823063349, 'sUSD mints': 4001528.3640697896, 'sUSD supply': 15111129.19241829, 'week': '2024-08-26 00:00:00.000 UTC'}, {'BUSD burns': 0, 'BUSD mints': 0, 'BUSD supply': 69511463.88999638, 'DAI burns': -54370583681.14116, 'DAI mints': 54320884056.08636, 'DAI supply': 3045473742.8349795, 'FRAX burns': 0, 'FRAX mints': 0, 'FRAX supply': 649426169.8487698, 'LUSD burns': -490506.0170323368, 'LUSD mints': 235507.95704730976, 'LUSD supply': 71489304.05576122, 'PYUSD burns': -43460924.86, 'PYUSD mints': 42070318.35, 'PYUSD supply': 337769089.07999986, 'RLUSD burns': 0, 'RLUSD mints': 200, 'RLUSD supply': 200, 'USDC burns': -1832826878.2144103, 'USDC mints': 1670963064.9668262, 'USDC supply': 25736606231.61275, 'USDS burns': None, 'USDS mints': None, 'USDS supply': None, 'sUSD burns': -2695646.4273079224, 'sUSD mints': 13385347.146875722, 'sUSD supply': 18823590.65141185, 'week': '2024-08-19 00:00:00.000 UTC'}, {'BUSD burns': 0, 'BUSD mints': 0, 'BUSD supply': 69511463.88999638, 'DAI burns': -40944871438.454094, 'DAI mints': 40913835816.50544, 'DAI supply': 3095173367.889772, 'FRAX burns': 0, 'FRAX mints': 0, 'FRAX supply': 649426169.8487698, 'LUSD burns': -1175522.0809681795, 'LUSD mints': 460752.1767959561, 'LUSD supply': 71744302.11574624, 'PYUSD burns': -23060681.310000002, 'PYUSD mints': 32719282.96, 'PYUSD supply': 339159695.58999985, 'RLUSD burns': None, 'RLUSD mints': None, 'RLUSD supply': None, 'USDC burns': -1478992150.098611, 'USDC mints': 1908850617.0709147, 'USDC supply': 25898470044.860336, 'USDS burns': None, 'USDS mints': None, 'USDS supply': None, 'sUSD burns': -5723777.440270038, 'sUSD mints': 5599061.944569254, 'sUSD supply': 8133889.931844051, 'week': '2024-08-12 00:00:00.000 UTC'}, {'BUSD burns': 0, 'BUSD mints': 0, 'BUSD supply': 69511463.88999638, 'DAI burns': -76851903513.94595, 'DAI mints': 76782458068.8416, 'DAI supply': 3126208989.8384247, 'FRAX burns': 0, 'FRAX mints': 0, 'FRAX supply': 649426169.8487698, 'LUSD burns': -9753391.361462297, 'LUSD mints': 1289676.7515772772, 'LUSD supply': 72459072.01991847, 'PYUSD burns': -16048760.590000002, 'PYUSD mints': 15741239.65, 'PYUSD supply': 329501093.9399999, 'RLUSD burns': None, 'RLUSD mints': None, 'RLUSD supply': None, 'USDC burns': -1455288987.2374568, 'USDC mints': 2460025696.091638, 'USDC supply': 25468611577.88803, 'USDS burns': None, 'USDS mints': None, 'USDS supply': None, 'sUSD burns': -13382137.498929342, 'sUSD mints': 8678972.572940059, 'sUSD supply': 8258605.427544835, 'week': '2024-08-05 00:00:00.000 UTC'}, {'BUSD burns': 0, 'BUSD mints': 0, 'BUSD supply': 69511463.88999638, 'DAI burns': -48052805603.43052, 'DAI mints': 48065872329.724976, 'DAI supply': 3195654434.942824, 'FRAX burns': 0, 'FRAX mints': 0, 'FRAX supply': 649426169.8487698, 'LUSD burns': -3027161.4110807125, 'LUSD mints': 829748.1778854642, 'LUSD supply': 80922786.6298035, 'PYUSD burns': -19000000, 'PYUSD mints': 27877835.21, 'PYUSD supply': 329808614.8799999, 'RLUSD burns': None, 'RLUSD mints': None, 'RLUSD supply': None, 'USDC burns': -2291762709.8218675, 'USDC mints': 1371446497.460675, 'USDC supply': 24463874869.03385, 'USDS burns': None, 'USDS mints': None, 'USDS supply': None, 'sUSD burns': -12138083.675835427, 'sUSD mints': 9759811.945370456, 'sUSD supply': 12961770.353534121, 'week': '2024-07-29 00:00:00.000 UTC'}, {'BUSD burns': 0, 'BUSD mints': 0, 'BUSD supply': 69511463.88999638, 'DAI burns': -35679018066.50037, 'DAI mints': 35625577438.50123, 'DAI supply': 3182587708.6483693, 'FRAX burns': 0, 'FRAX mints': 0, 'FRAX supply': 649426169.8487698, 'LUSD burns': -2064317.4034757426, 'LUSD mints': 629108.5007440188, 'LUSD supply': 83120199.86299874, 'PYUSD burns': -17181814.11, 'PYUSD mints': 0, 'PYUSD supply': 320930779.6699999, 'RLUSD burns': None, 'RLUSD mints': None, 'RLUSD supply': None, 'USDC burns': -1736247711.511591, 'USDC mints': 1782805236.3511355, 'USDC supply': 25384191081.395042, 'USDS burns': None, 'USDS mints': None, 'USDS supply': None, 'sUSD burns': -10447476.871713063, 'sUSD mints': 61108.15564164384, 'sUSD supply': 15340042.083999094, 'week': '2024-07-22 00:00:00.000 UTC'}, {'BUSD burns': 0, 'BUSD mints': 0, 'BUSD supply': 69511463.88999638, 'DAI burns': -41687789450.235466, 'DAI mints': 41702627852.64065, 'DAI supply': 3236028336.6474915, 'FRAX burns': 0, 'FRAX mints': 0, 'FRAX supply': 649426169.8487698, 'LUSD burns': -1024364.8592927406, 'LUSD mints': 509063.8998955932, 'LUSD supply': 84555408.76573046, 'PYUSD burns': -16956578.76, 'PYUSD mints': 1471.09, 'PYUSD supply': 338112593.7799999, 'RLUSD burns': None, 'RLUSD mints': None, 'RLUSD supply': None, 'USDC burns': -1964387004.6851141, 'USDC mints': 1837227598.4043448, 'USDC supply': 25337633556.555496, 'USDS burns': None, 'USDS mints': None, 'USDS supply': None, 'sUSD burns': -17246908.60775938, 'sUSD mints': 342621.11217733973, 'sUSD supply': 25726410.800070513, 'week': '2024-07-15 00:00:00.000 UTC'}, {'BUSD burns': 0, 'BUSD mints': 0, 'BUSD supply': 69511463.88999638, 'DAI burns': -32947158397.725307, 'DAI mints': 32973623745.620148, 'DAI supply': 3221189934.242301, 'FRAX burns': 0, 'FRAX mints': 0, 'FRAX supply': 649426169.8487698, 'LUSD burns': -1813848.1465815874, 'LUSD mints': 2880934.5223586643, 'LUSD supply': 85070709.72512761, 'PYUSD burns': -16964164.3, 'PYUSD mints': 0, 'PYUSD supply': 355067701.4499999, 'RLUSD burns': None, 'RLUSD mints': None, 'RLUSD supply': None, 'USDC burns': -1745408158.8490593, 'USDC mints': 1712007799.3652523, 'USDC supply': 25464792962.836266, 'USDS burns': None, 'USDS mints': None, 'USDS supply': None, 'sUSD burns': -4039967.7505959324, 'sUSD mints': 23486494.038816284, 'sUSD supply': 42630698.29565255, 'week': '2024-07-08 00:00:00.000 UTC'}, {'BUSD burns': -1000000, 'BUSD mints': 0, 'BUSD supply': 69511463.88999638, 'DAI burns': -36213221495.62382, 'DAI mints': 36248992399.07367, 'DAI supply': 3194724586.3474574, 'FRAX burns': 0, 'FRAX mints': 0, 'FRAX supply': 649426169.8487698, 'LUSD burns': -1623212.823891283, 'LUSD mints': 1808567.3810372842, 'LUSD supply': 84003623.34935053, 'PYUSD burns': -25337207.549999997, 'PYUSD mints': 1, 'PYUSD supply': 372031865.74999994, 'RLUSD burns': None, 'RLUSD mints': None, 'RLUSD supply': None, 'USDC burns': -1199234498.16318, 'USDC mints': 2540907492.499471, 'USDC supply': 25498193322.320072, 'USDS burns': None, 'USDS mints': None, 'USDS supply': None, 'sUSD burns': -7589902.862860238, 'sUSD mints': 2224715.2233550423, 'sUSD supply': 23184172.007432204, 'week': '2024-07-01 00:00:00.000 UTC'}, {'BUSD burns': 0, 'BUSD mints': 0, 'BUSD supply': 70511463.88999638, 'DAI burns': -41999318511.88832, 'DAI mints': 41924342631.384315, 'DAI supply': 3158953682.8976116, 'FRAX burns': 0, 'FRAX mints': 0, 'FRAX supply': 649426169.8487698, 'LUSD burns': -1970753.8475936945, 'LUSD mints': 1010632.999218912, 'LUSD supply': 83818268.79220453, 'PYUSD burns': 0, 'PYUSD mints': 19902590.18, 'PYUSD supply': 397369072.29999995, 'RLUSD burns': None, 'RLUSD mints': None, 'RLUSD supply': None, 'USDC burns': -2258386052.148484, 'USDC mints': 2047157617.0464475, 'USDC supply': 24156520327.98378, 'USDS burns': None, 'USDS mints': None, 'USDS supply': None, 'sUSD burns': -382220.92556896014, 'sUSD mints': 2013726.4945924464, 'sUSD supply': 28549359.6469374, 'week': '2024-06-24 00:00:00.000 UTC'}, {'BUSD burns': 0, 'BUSD mints': 0, 'BUSD supply': 70511463.88999638, 'DAI burns': -22182090327.918884, 'DAI mints': 22141525636.45068, 'DAI supply': 3233929563.401606, 'FRAX burns': -2500000, 'FRAX mints': 2500000, 'FRAX supply': 649426169.8487698, 'LUSD burns': -579923.5540366366, 'LUSD mints': 1813338.0140965534, 'LUSD supply': 84778389.64057931, 'PYUSD burns': -13999752.81, 'PYUSD mints': 1999902.18, 'PYUSD supply': 377466482.11999995, 'RLUSD burns': None, 'RLUSD mints': None, 'RLUSD supply': None, 'USDC burns': -1162210028.8169553, 'USDC mints': 1380932382.74167, 'USDC supply': 24367748763.085815, 'USDS burns': None, 'USDS mints': None, 'USDS supply': None, 'sUSD burns': -3812701.282050764, 'sUSD mints': 1328780.5425271026, 'sUSD supply': 26917854.077913914, 'week': '2024-06-17 00:00:00.000 UTC'}, {'BUSD burns': 0, 'BUSD mints': 0, 'BUSD supply': 70511463.88999638, 'DAI burns': -25127435011.89684, 'DAI mints': 25110865129.307743, 'DAI supply': 3274494254.869806, 'FRAX burns': 0, 'FRAX mints': 0, 'FRAX supply': 649426169.8487698, 'LUSD burns': -1758314.8714553143, 'LUSD mints': 2050122.4906187286, 'LUSD supply': 83544975.1805194, 'PYUSD burns': 0, 'PYUSD mints': 16828376.96, 'PYUSD supply': 389466332.74999994, 'RLUSD burns': None, 'RLUSD mints': None, 'RLUSD supply': None, 'USDC burns': -1593382530.7621167, 'USDC mints': 1772804586.5291452, 'USDC supply': 24149026409.161102, 'USDS burns': None, 'USDS mints': None, 'USDS supply': None, 'sUSD burns': -996528.7380591277, 'sUSD mints': 16413.213488062385, 'sUSD supply': 29401774.817437574, 'week': '2024-06-10 00:00:00.000 UTC'}, {'BUSD burns': 0, 'BUSD mints': 0, 'BUSD supply': 70511463.88999638, 'DAI burns': -17595170583.09544, 'DAI mints': 17631036469.599102, 'DAI supply': 3291064137.4588966, 'FRAX burns': 0, 'FRAX mints': 0, 'FRAX supply': 649426169.8487698, 'LUSD burns': -31629321.776360873, 'LUSD mints': 2567067.3099687896, 'LUSD supply': 83253167.561356, 'PYUSD burns': -14228234.5, 'PYUSD mints': 14668465.559999999, 'PYUSD supply': 372637955.78999996, 'RLUSD burns': None, 'RLUSD mints': None, 'RLUSD supply': None, 'USDC burns': -1706667314.2540858, 'USDC mints': 1450996696.9069726, 'USDC supply': 23969604353.394073, 'USDS burns': None, 'USDS mints': None, 'USDS supply': None, 'sUSD burns': -2066477.3847704171, 'sUSD mints': 9158.922883947303, 'sUSD supply': 30381890.34200864, 'week': '2024-06-03 00:00:00.000 UTC'}, {'BUSD burns': 0, 'BUSD mints': 0, 'BUSD supply': 70511463.88999638, 'DAI burns': -8858995992.476315, 'DAI mints': 8836604735.379316, 'DAI supply': 3255198250.9552326, 'FRAX burns': 0, 'FRAX mints': 0, 'FRAX supply': 649426169.8487698, 'LUSD burns': -190041.84579192603, 'LUSD mints': 800224.8169405549, 'LUSD supply': 112315422.02774808, 'PYUSD burns': 0, 'PYUSD mints': 0, 'PYUSD supply': 372197724.72999996, 'RLUSD burns': None, 'RLUSD mints': None, 'RLUSD supply': None, 'USDC burns': -1505977111.211735, 'USDC mints': 1442327449.4580352, 'USDC supply': 24225274970.741184, 'USDS burns': None, 'USDS mints': None, 'USDS supply': None, 'sUSD burns': -2905047.1637589894, 'sUSD mints': 512007.62381092896, 'sUSD supply': 32439208.80389511, 'week': '2024-05-27 00:00:00.000 UTC'}, {'BUSD burns': 0, 'BUSD mints': 0, 'BUSD supply': 70511463.88999638, 'DAI burns': -18602774083.88162, 'DAI mints': 18645479269.127823, 'DAI supply': 3277589508.052232, 'FRAX burns': 0, 'FRAX mints': 0, 'FRAX supply': 649426169.8487698, 'LUSD burns': -2954351.701316258, 'LUSD mints': 2889988.878334462, 'LUSD supply': 111705239.05659945, 'PYUSD burns': 0, 'PYUSD mints': 0, 'PYUSD supply': 372197724.72999996, 'RLUSD burns': None, 'RLUSD mints': None, 'RLUSD supply': None, 'USDC burns': -2458668357.4281135, 'USDC mints': 1222168498.1391304, 'USDC supply': 24288924632.494884, 'USDS burns': None, 'USDS mints': None, 'USDS supply': None, 'sUSD burns': -7283178.707449982, 'sUSD mints': 884522.8632454918, 'sUSD supply': 34832248.34384317, 'week': '2024-05-20 00:00:00.000 UTC'}, {'BUSD burns': 0, 'BUSD mints': 0, 'BUSD supply': 70511463.88999638, 'DAI burns': -27756657573.020664, 'DAI mints': 27712671279.108376, 'DAI supply': 3234884322.806028, 'FRAX burns': 0, 'FRAX mints': 0, 'FRAX supply': 649426169.8487698, 'LUSD burns': -1454445.312328169, 'LUSD mints': 608644.1924520228, 'LUSD supply': 111769601.87958124, 'PYUSD burns': 0, 'PYUSD mints': 21019530.39, 'PYUSD supply': 372197724.72999996, 'RLUSD burns': None, 'RLUSD mints': None, 'RLUSD supply': None, 'USDC burns': -1274586711.8232703, 'USDC mints': 1405831049.7662852, 'USDC supply': 25525424491.78387, 'USDS burns': None, 'USDS mints': None, 'USDS supply': None, 'sUSD burns': -6702270.054318165, 'sUSD mints': 4613686.661909226, 'sUSD supply': 41230904.18804766, 'week': '2024-05-13 00:00:00.000 UTC'}, {'BUSD burns': 0, 'BUSD mints': 0, 'BUSD supply': 70511463.88999638, 'DAI burns': -21500597376.205444, 'DAI mints': 21550827215.355145, 'DAI supply': 3278870616.7183194, 'FRAX burns': -3000000, 'FRAX mints': 3000000, 'FRAX supply': 649426169.8487698, 'LUSD burns': -1261215.0865712496, 'LUSD mints': 4256754.179478698, 'LUSD supply': 112615402.99945739, 'PYUSD burns': 0, 'PYUSD mints': 50000097.379999995, 'PYUSD supply': 351178194.34, 'RLUSD burns': None, 'RLUSD mints': None, 'RLUSD supply': None, 'USDC burns': -1531998359.7678807, 'USDC mints': 1062197286.6453093, 'USDC supply': 25394180153.840855, 'USDS burns': None, 'USDS mints': None, 'USDS supply': None, 'sUSD burns': -968596.241768287, 'sUSD mints': 1205529.1792475462, 'sUSD supply': 43319487.5804566, 'week': '2024-05-06 00:00:00.000 UTC'}, {'BUSD burns': 0, 'BUSD mints': 0, 'BUSD supply': 70511463.88999638, 'DAI burns': -19880317263.29944, 'DAI mints': 19909905618.369225, 'DAI supply': 3228640777.5686088, 'FRAX burns': -5000000, 'FRAX mints': 5000000, 'FRAX supply': 649426169.8487698, 'LUSD burns': -2266104.6787539003, 'LUSD mints': 191415.04481943636, 'LUSD supply': 109619863.90654995, 'PYUSD burns': 0, 'PYUSD mints': 25198661.48, 'PYUSD supply': 301178096.96, 'RLUSD burns': None, 'RLUSD mints': None, 'RLUSD supply': None, 'USDC burns': -2102253595.3978953, 'USDC mints': 1804731954.9996023, 'USDC supply': 25863981226.96343, 'USDS burns': None, 'USDS mints': None, 'USDS supply': None, 'sUSD burns': -8561869.902483782, 'sUSD mints': 8361047.479369561, 'sUSD supply': 43082554.64297734, 'week': '2024-04-29 00:00:00.000 UTC'}, {'BUSD burns': 0, 'BUSD mints': 0, 'BUSD supply': 70511463.88999638, 'DAI burns': -48996577994.30426, 'DAI mints': 48955327972.799774, 'DAI supply': 3199052422.4988165, 'FRAX burns': 0, 'FRAX mints': 0, 'FRAX supply': 649426169.8487698, 'LUSD burns': -693553.8912066903, 'LUSD mints': 424654.70206888515, 'LUSD supply': 111694553.54048441, 'PYUSD burns': 0, 'PYUSD mints': 100226271.56, 'PYUSD supply': 275979435.47999996, 'RLUSD burns': None, 'RLUSD mints': None, 'RLUSD supply': None, 'USDC burns': -2171606985.9376597, 'USDC mints': 1627550346.4456847, 'USDC supply': 26161502867.36172, 'USDS burns': None, 'USDS mints': None, 'USDS supply': None, 'sUSD burns': -2924580.7422521873, 'sUSD mints': 6048541.983695331, 'sUSD supply': 43283377.06609156, 'week': '2024-04-22 00:00:00.000 UTC'}, {'BUSD burns': 0, 'BUSD mints': 0, 'BUSD supply': 70511463.88999638, 'DAI burns': -47974535101.29018, 'DAI mints': 47899722320.27196, 'DAI supply': 3240302444.0032935, 'FRAX burns': -8000000, 'FRAX mints': 8000000, 'FRAX supply': 649426169.8487698, 'LUSD burns': -4907950.482444294, 'LUSD mints': 2719878.5763787664, 'LUSD supply': 111963452.72962222, 'PYUSD burns': 0, 'PYUSD mints': 10563153.84, 'PYUSD supply': 175753163.91999996, 'RLUSD burns': None, 'RLUSD mints': None, 'RLUSD supply': None, 'USDC burns': -2165298491.3008723, 'USDC mints': 3215685313.0335946, 'USDC supply': 26705559506.853695, 'USDS burns': None, 'USDS mints': None, 'USDS supply': None, 'sUSD burns': -9339140.76217236, 'sUSD mints': 9145243.876931734, 'sUSD supply': 40159415.82464842, 'week': '2024-04-15 00:00:00.000 UTC'}, {'BUSD burns': 0, 'BUSD mints': 0, 'BUSD supply': 70511463.88999638, 'DAI burns': -13563152240.851034, 'DAI mints': 13595671783.811802, 'DAI supply': 3315115225.021531, 'FRAX burns': -27964.99136886948, 'FRAX mints': 0, 'FRAX supply': 649426169.8487698, 'LUSD burns': -5148570.856434211, 'LUSD mints': 1722663.3289037992, 'LUSD supply': 114151524.63568774, 'PYUSD burns': 0, 'PYUSD mints': 476281.32, 'PYUSD supply': 165190010.07999995, 'RLUSD burns': None, 'RLUSD mints': None, 'RLUSD supply': None, 'USDC burns': -3003176528.407079, 'USDC mints': 1883150267.807245, 'USDC supply': 25655172685.12097, 'USDS burns': None, 'USDS mints': None, 'USDS supply': None, 'sUSD burns': -12538395.099427218, 'sUSD mints': 12416663.62271361, 'sUSD supply': 40353312.70988905, 'week': '2024-04-08 00:00:00.000 UTC'}, {'BUSD burns': -14000000, 'BUSD mints': 0, 'BUSD supply': 70511463.88999638, 'DAI burns': -8943929022.398865, 'DAI mints': 8995186442.596716, 'DAI supply': 3282595682.060758, 'FRAX burns': -2000000, 'FRAX mints': 2000000, 'FRAX supply': 649454134.8401387, 'LUSD burns': -8552994.316510051, 'LUSD mints': 1715057.6254914964, 'LUSD supply': 117577432.16321816, 'PYUSD burns': 0, 'PYUSD mints': 3132810.79, 'PYUSD supply': 164713728.75999996, 'RLUSD burns': None, 'RLUSD mints': None, 'RLUSD supply': None, 'USDC burns': -2684648990.0397263, 'USDC mints': 2374730227.8788095, 'USDC supply': 26775198945.720806, 'USDS burns': None, 'USDS mints': None, 'USDS supply': None, 'sUSD burns': -8512181.149153475, 'sUSD mints': 6191165.960122316, 'sUSD supply': 40475044.18660265, 'week': '2024-04-01 00:00:00.000 UTC'}, {'BUSD burns': 0, 'BUSD mints': 0, 'BUSD supply': 84511463.88999638, 'DAI burns': -7991250734.931373, 'DAI mints': 7964392279.610965, 'DAI supply': 3231338261.8629036, 'FRAX burns': 0, 'FRAX mints': 0, 'FRAX supply': 649454134.8401387, 'LUSD burns': -9448755.313400004, 'LUSD mints': 9239933.231971141, 'LUSD supply': 124415368.8542367, 'PYUSD burns': 0, 'PYUSD mints': 0, 'PYUSD supply': 161580917.96999997, 'RLUSD burns': None, 'RLUSD mints': None, 'RLUSD supply': None, 'USDC burns': -2258153356.717072, 'USDC mints': 2217742746.4693727, 'USDC supply': 27085117707.88172, 'USDS burns': None, 'USDS mints': None, 'USDS supply': None, 'sUSD burns': -4831804.999299992, 'sUSD mints': 6290368.751232579, 'sUSD supply': 42796059.375633806, 'week': '2024-03-25 00:00:00.000 UTC'}, {'BUSD burns': 0, 'BUSD mints': 0, 'BUSD supply': 84511463.88999638, 'DAI burns': -11725004442.409712, 'DAI mints': 11761149039.73768, 'DAI supply': 3258196717.1833143, 'FRAX burns': 0, 'FRAX mints': 0, 'FRAX supply': 649454134.8401387, 'LUSD burns': -11041696.796271758, 'LUSD mints': 2772552.573980249, 'LUSD supply': 124624190.93566558, 'PYUSD burns': -1596274.13, 'PYUSD mints': 0, 'PYUSD supply': 161580917.96999997, 'RLUSD burns': None, 'RLUSD mints': None, 'RLUSD supply': None, 'USDC burns': -1809387501.6676497, 'USDC mints': 2523290959.62087, 'USDC supply': 27125528318.12942, 'USDS burns': None, 'USDS mints': None, 'USDS supply': None, 'sUSD burns': -5667230.777352507, 'sUSD mints': 2330570.574950487, 'sUSD supply': 41337495.623701215, 'week': '2024-03-18 00:00:00.000 UTC'}, {'BUSD burns': 0, 'BUSD mints': 0, 'BUSD supply': 84511463.88999638, 'DAI burns': -6840026485.468278, 'DAI mints': 6793911526.2584505, 'DAI supply': 3222052119.8553452, 'FRAX burns': 0, 'FRAX mints': 0, 'FRAX supply': 649454134.8401387, 'LUSD burns': -11014351.37138818, 'LUSD mints': 10284019.306629447, 'LUSD supply': 132893335.15795709, 'PYUSD burns': -34268408.3, 'PYUSD mints': 0, 'PYUSD supply': 163177192.09999996, 'RLUSD burns': None, 'RLUSD mints': None, 'RLUSD supply': None, 'USDC burns': -2053494457.5938976, 'USDC mints': 2477797022.0544133, 'USDC supply': 26411624860.1762, 'USDS burns': None, 'USDS mints': None, 'USDS supply': None, 'sUSD burns': -7712766.490704205, 'sUSD mints': 8773845.035294201, 'sUSD supply': 44674155.82610323, 'week': '2024-03-11 00:00:00.000 UTC'}, {'BUSD burns': 0, 'BUSD mints': 0, 'BUSD supply': 84511463.88999638, 'DAI burns': -6487520471.6476965, 'DAI mints': 6333739732.668752, 'DAI supply': 3268167079.06517, 'FRAX burns': 0, 'FRAX mints': 0, 'FRAX supply': 649454134.8401387, 'LUSD burns': -10648541.299342606, 'LUSD mints': 2675685.557787905, 'LUSD supply': 133623667.22271582, 'PYUSD burns': -40097624.04000001, 'PYUSD mints': 0, 'PYUSD supply': 197445600.39999998, 'RLUSD burns': None, 'RLUSD mints': None, 'RLUSD supply': None, 'USDC burns': -1526834835.7296808, 'USDC mints': 2423271759.2594852, 'USDC supply': 25987322295.715683, 'USDS burns': None, 'USDS mints': None, 'USDS supply': None, 'sUSD burns': -16130422.493795324, 'sUSD mints': 14708113.968562394, 'sUSD supply': 43613077.28151324, 'week': '2024-03-04 00:00:00.000 UTC'}, {'BUSD burns': 0, 'BUSD mints': 0, 'BUSD supply': 84511463.88999638, 'DAI burns': -9416899077.500921, 'DAI mints': 9141529505.131899, 'DAI supply': 3421947818.0441155, 'FRAX burns': 0, 'FRAX mints': 0, 'FRAX supply': 649454134.8401387, 'LUSD burns': -9890191.46985561, 'LUSD mints': 2817758.1752123553, 'LUSD supply': 141596522.96427053, 'PYUSD burns': -47969378.019999996, 'PYUSD mints': 7591030.03, 'PYUSD supply': 237543224.44, 'RLUSD burns': None, 'RLUSD mints': None, 'RLUSD supply': None, 'USDC burns': -1155157778.361627, 'USDC mints': 1729376038.1007051, 'USDC supply': 25090885372.18588, 'USDS burns': None, 'USDS mints': None, 'USDS supply': None, 'sUSD burns': -12055002.172761988, 'sUSD mints': 10909644.419824619, 'sUSD supply': 45035385.80674617, 'week': '2024-02-26 00:00:00.000 UTC'}, {'BUSD burns': 0, 'BUSD mints': 0, 'BUSD supply': 84511463.88999638, 'DAI burns': -6832177911.388837, 'DAI mints': 6843741579.9893465, 'DAI supply': 3697317390.4131374, 'FRAX burns': 0, 'FRAX mints': 0, 'FRAX supply': 649454134.8401387, 'LUSD burns': -7505536.3335102685, 'LUSD mints': 3529333.8574261507, 'LUSD supply': 148668956.2589138, 'PYUSD burns': 0, 'PYUSD mints': 0, 'PYUSD supply': 277921572.43, 'RLUSD burns': None, 'RLUSD mints': None, 'RLUSD supply': None, 'USDC burns': -836951638.723072, 'USDC mints': 977283837.860574, 'USDC supply': 24516667112.4468, 'USDS burns': None, 'USDS mints': None, 'USDS supply': None, 'sUSD burns': -4668684.59489239, 'sUSD mints': 3078204.746113557, 'sUSD supply': 46180743.55968354, 'week': '2024-02-19 00:00:00.000 UTC'}, {'BUSD burns': 0, 'BUSD mints': 0, 'BUSD supply': 84511463.88999638, 'DAI burns': -11355770072.563599, 'DAI mints': 11352388749.449537, 'DAI supply': 3685753721.81263, 'FRAX burns': 0, 'FRAX mints': 0, 'FRAX supply': 649454134.8401387, 'LUSD burns': -4177188.51671632, 'LUSD mints': 3389311.9346183958, 'LUSD supply': 152645158.7349979, 'PYUSD burns': -4058086.07, 'PYUSD mints': 7709422.76, 'PYUSD supply': 277921572.43, 'RLUSD burns': None, 'RLUSD mints': None, 'RLUSD supply': None, 'USDC burns': -1001031179.8933399, 'USDC mints': 937312381.950661, 'USDC supply': 24376334913.3093, 'USDS burns': None, 'USDS mints': None, 'USDS supply': None, 'sUSD burns': -7159553.8541956935, 'sUSD mints': 7336495.684276704, 'sUSD supply': 47771223.40846237, 'week': '2024-02-12 00:00:00.000 UTC'}, {'BUSD burns': -14919875.59, 'BUSD mints': 0, 'BUSD supply': 84511463.88999638, 'DAI burns': -6585434125.469156, 'DAI mints': 6614181370.9202175, 'DAI supply': 3689135044.926689, 'FRAX burns': 0, 'FRAX mints': 0, 'FRAX supply': 649454134.8401387, 'LUSD burns': -2408862.29444287, 'LUSD mints': 4276737.315384224, 'LUSD supply': 153433035.31709582, 'PYUSD burns': 0, 'PYUSD mints': 0, 'PYUSD supply': 274270235.74, 'RLUSD burns': None, 'RLUSD mints': None, 'RLUSD supply': None, 'USDC burns': -839833304.6184288, 'USDC mints': 1697110155.169407, 'USDC supply': 24440053711.25198, 'USDS burns': None, 'USDS mints': None, 'USDS supply': None, 'sUSD burns': -2225037.3870382304, 'sUSD mints': 1969197.725725825, 'sUSD supply': 47594281.57838136, 'week': '2024-02-05 00:00:00.000 UTC'}, {'BUSD burns': 0, 'BUSD mints': 0, 'BUSD supply': 99431339.47999638, 'DAI burns': -17096047836.456863, 'DAI mints': 17021004789.50955, 'DAI supply': 3660387799.4756293, 'FRAX burns': 0, 'FRAX mints': 0, 'FRAX supply': 649454134.8401387, 'LUSD burns': -843704.6176927614, 'LUSD mints': 6302927.076703159, 'LUSD supply': 151565160.29615447, 'PYUSD burns': 0, 'PYUSD mints': 0, 'PYUSD supply': 274270235.74, 'RLUSD burns': None, 'RLUSD mints': None, 'RLUSD supply': None, 'USDC burns': -1172803738.6560462, 'USDC mints': 1805830706.1159272, 'USDC supply': 23582776860.701, 'USDS burns': None, 'USDS mints': None, 'USDS supply': None, 'sUSD burns': -7520576.435719574, 'sUSD mints': 5115924.803681966, 'sUSD supply': 47850121.23969377, 'week': '2024-01-29 00:00:00.000 UTC'}, {'BUSD burns': 0, 'BUSD mints': 0, 'BUSD supply': 99431339.47999638, 'DAI burns': -16514886461.998312, 'DAI mints': 16560170188.195572, 'DAI supply': 3735430846.4229355, 'FRAX burns': 0, 'FRAX mints': 0, 'FRAX supply': 649454134.8401387, 'LUSD burns': -5692661.332330273, 'LUSD mints': 3614481.3504825654, 'LUSD supply': 146105937.83714408, 'PYUSD burns': 0, 'PYUSD mints': 0, 'PYUSD supply': 274270235.74, 'RLUSD burns': None, 'RLUSD mints': None, 'RLUSD supply': None, 'USDC burns': -1299191559.8856897, 'USDC mints': 1450542569.9125197, 'USDC supply': 22949749893.24112, 'USDS burns': None, 'USDS mints': None, 'USDS supply': None, 'sUSD burns': -9910615.07620242, 'sUSD mints': 7605621.1711343685, 'sUSD supply': 50254772.87173138, 'week': '2024-01-22 00:00:00.000 UTC'}, {'BUSD burns': -435630505.65999997, 'BUSD mints': 0, 'BUSD supply': 99431339.47999638, 'DAI burns': -6861904642.110932, 'DAI mints': 6855031773.890737, 'DAI supply': 3690147120.225674, 'FRAX burns': 0, 'FRAX mints': 0, 'FRAX supply': 649454134.8401387, 'LUSD burns': -3644071.045354464, 'LUSD mints': 3892048.704040243, 'LUSD supply': 148184117.81899178, 'PYUSD burns': -4562991.26, 'PYUSD mints': 10829505.24, 'PYUSD supply': 274270235.74, 'RLUSD burns': None, 'RLUSD mints': None, 'RLUSD supply': None, 'USDC burns': -1621379162.504153, 'USDC mints': 1762197971.8533902, 'USDC supply': 22798398883.21429, 'USDS burns': None, 'USDS mints': None, 'USDS supply': None, 'sUSD burns': -9667190.028433848, 'sUSD mints': 8884671.210491382, 'sUSD supply': 52559766.77679943, 'week': '2024-01-15 00:00:00.000 UTC'}, {'BUSD burns': -390310955.88000005, 'BUSD mints': 0, 'BUSD supply': 535061845.13999635, 'DAI burns': -11918138720.774006, 'DAI mints': 11848740687.581787, 'DAI supply': 3697019988.4458685, 'FRAX burns': 0, 'FRAX mints': 0, 'FRAX supply': 649454134.8401387, 'LUSD burns': -13185275.956918495, 'LUSD mints': 7737894.979631162, 'LUSD supply': 147936140.160306, 'PYUSD burns': 0, 'PYUSD mints': 20811250.53, 'PYUSD supply': 268003721.76, 'RLUSD burns': None, 'RLUSD mints': None, 'RLUSD supply': None, 'USDC burns': -1709263549.8298802, 'USDC mints': 1652031000.9708064, 'USDC supply': 22657580073.865055, 'USDS burns': None, 'USDS mints': None, 'USDS supply': None, 'sUSD burns': -7912721.848519518, 'sUSD mints': 8826886.18866242, 'sUSD supply': 53342285.594741896, 'week': '2024-01-08 00:00:00.000 UTC'}, {'BUSD burns': -85565181.77, 'BUSD mints': 0, 'BUSD supply': 925372801.0199964, 'DAI burns': -10251483332.71774, 'DAI mints': 10319297956.435308, 'DAI supply': 3766418021.638088, 'FRAX burns': 0, 'FRAX mints': 0, 'FRAX supply': 649454134.8401387, 'LUSD burns': -27650012.799947355, 'LUSD mints': 4002654.533658942, 'LUSD supply': 153383521.13759333, 'PYUSD burns': 0, 'PYUSD mints': 9565631.07, 'PYUSD supply': 247192471.23, 'RLUSD burns': None, 'RLUSD mints': None, 'RLUSD supply': None, 'USDC burns': -1329795274.7863882, 'USDC mints': 1879085413.295177, 'USDC supply': 22714812622.72413, 'USDS burns': None, 'USDS mints': None, 'USDS supply': None, 'sUSD burns': -4425041.100487328, 'sUSD mints': 4225104.256910076, 'sUSD supply': 52428121.254599, 'week': '2024-01-01 00:00:00.000 UTC'}, {'BUSD burns': -1482575.33, 'BUSD mints': 0, 'BUSD supply': 1010937982.7899964, 'DAI burns': -6726095392.964167, 'DAI mints': 6678396356.904398, 'DAI supply': 3698603397.9205213, 'FRAX burns': 0, 'FRAX mints': 0, 'FRAX supply': 649454134.8401387, 'LUSD burns': -7621951.478637478, 'LUSD mints': 3630920.8221813296, 'LUSD supply': 177030879.40388173, 'PYUSD burns': -3539647.4, 'PYUSD mints': 3547002, 'PYUSD supply': 237626840.16, 'RLUSD burns': None, 'RLUSD mints': None, 'RLUSD supply': None, 'USDC burns': -1661058376.0173123, 'USDC mints': 1187314349.4015334, 'USDC supply': 22165522484.21534, 'USDS burns': None, 'USDS mints': None, 'USDS supply': None, 'sUSD burns': -8922255.511802038, 'sUSD mints': 9663687.606018618, 'sUSD supply': 52628058.09817625, 'week': '2023-12-25 00:00:00.000 UTC'}, {'BUSD burns': -193242775.6, 'BUSD mints': 0, 'BUSD supply': 1012420558.1199964, 'DAI burns': -6691870364.812703, 'DAI mints': 6764957625.171756, 'DAI supply': 3746302433.98029, 'FRAX burns': 0, 'FRAX mints': 0, 'FRAX supply': 649454134.8401387, 'LUSD burns': -5369980.185037422, 'LUSD mints': 5424394.9594172165, 'LUSD supply': 181021910.06033787, 'PYUSD burns': 0, 'PYUSD mints': 33944075.04, 'PYUSD supply': 237619485.56, 'RLUSD burns': None, 'RLUSD mints': None, 'RLUSD supply': None, 'USDC burns': -1115379990.1772149, 'USDC mints': 1406934787.9291348, 'USDC supply': 22639266510.83112, 'USDS burns': None, 'USDS mints': None, 'USDS supply': None, 'sUSD burns': -17346907.651110716, 'sUSD mints': 17224152.249211915, 'sUSD supply': 51886626.00395967, 'week': '2023-12-18 00:00:00.000 UTC'}, {'BUSD burns': -300796972.65999997, 'BUSD mints': 0, 'BUSD supply': 1205663333.7199965, 'DAI burns': -6126280076.953105, 'DAI mints': 6124903938.96082, 'DAI supply': 3673215173.621238, 'FRAX burns': -193500, 'FRAX mints': 0, 'FRAX supply': 649454134.8401387, 'LUSD burns': -11187161.179086436, 'LUSD mints': 1559347.6942566694, 'LUSD supply': 180967495.28595808, 'PYUSD burns': 0, 'PYUSD mints': 62409430.559999995, 'PYUSD supply': 203675410.52, 'RLUSD burns': None, 'RLUSD mints': None, 'RLUSD supply': None, 'USDC burns': -1474510683.0486262, 'USDC mints': 1403918991.8990319, 'USDC supply': 22347711713.0792, 'USDS burns': None, 'USDS mints': None, 'USDS supply': None, 'sUSD burns': -12665010.178451408, 'sUSD mints': 17180415.600244608, 'sUSD supply': 52009381.405858465, 'week': '2023-12-11 00:00:00.000 UTC'}, {'BUSD burns': -146720933.64000002, 'BUSD mints': 0, 'BUSD supply': 1506460306.3799965, 'DAI burns': -4598430561.442826, 'DAI mints': 4597894466.516505, 'DAI supply': 3674591311.613522, 'FRAX burns': -20000000, 'FRAX mints': 0, 'FRAX supply': 649647634.8401387, 'LUSD burns': -7646324.094514905, 'LUSD mints': 4109925.907671021, 'LUSD supply': 190595308.77078786, 'PYUSD burns': 0, 'PYUSD mints': 11417917.26, 'PYUSD supply': 141265979.96, 'RLUSD burns': None, 'RLUSD mints': None, 'RLUSD supply': None, 'USDC burns': -1260289539.1552281, 'USDC mints': 1180320407.103619, 'USDC supply': 22418303404.228794, 'USDS burns': None, 'USDS mints': None, 'USDS supply': None, 'sUSD burns': -20709186.167020727, 'sUSD mints': 27553183.49567714, 'sUSD supply': 47493975.984065264, 'week': '2023-12-04 00:00:00.000 UTC'}, {'BUSD burns': -87231891.57000001, 'BUSD mints': 0, 'BUSD supply': 1653181240.0199966, 'DAI burns': -3149683894.295699, 'DAI mints': 3156181022.508781, 'DAI supply': 3675127406.5398426, 'FRAX burns': 0, 'FRAX mints': 0, 'FRAX supply': 669647634.8401387, 'LUSD burns': -11899373.75643744, 'LUSD mints': 1969011.0844243043, 'LUSD supply': 194131706.95763174, 'PYUSD burns': 0, 'PYUSD mints': 0, 'PYUSD supply': 129848062.7, 'RLUSD burns': None, 'RLUSD mints': None, 'RLUSD supply': None, 'USDC burns': -1144210348.059142, 'USDC mints': 996226506.246363, 'USDC supply': 22498272536.280403, 'USDS burns': None, 'USDS mints': None, 'USDS supply': None, 'sUSD burns': -6624144.2706072135, 'sUSD mints': 10116743.726257961, 'sUSD supply': 40649978.65540886, 'week': '2023-11-27 00:00:00.000 UTC'}, {'BUSD burns': -62488009.489999995, 'BUSD mints': 0, 'BUSD supply': 1740413131.5899966, 'DAI burns': -2831234746.2377653, 'DAI mints': 2860189273.404757, 'DAI supply': 3668630278.3267612, 'FRAX burns': -1018045.0489296719, 'FRAX mints': 0, 'FRAX supply': 669647634.8401387, 'LUSD burns': -13680029.87466574, 'LUSD mints': 2911570.0413254243, 'LUSD supply': 204062069.62964487, 'PYUSD burns': -2203869.09, 'PYUSD mints': 0, 'PYUSD supply': 129848062.7, 'RLUSD burns': None, 'RLUSD mints': None, 'RLUSD supply': None, 'USDC burns': -962377602.4779917, 'USDC mints': 1123347179.631354, 'USDC supply': 22646256378.09318, 'USDS burns': None, 'USDS mints': None, 'USDS supply': None, 'sUSD burns': -4783281.608087611, 'sUSD mints': 8503291.858356781, 'sUSD supply': 37157379.19975811, 'week': '2023-11-20 00:00:00.000 UTC'}, {'BUSD burns': -74331200.52, 'BUSD mints': 0, 'BUSD supply': 1802901141.0799966, 'DAI burns': -7609166469.401003, 'DAI mints': 7540728352.092625, 'DAI supply': 3639675751.159771, 'FRAX burns': -1050000, 'FRAX mints': 0, 'FRAX supply': 670665679.8890684, 'LUSD burns': -9902003.052472977, 'LUSD mints': 10386285.036825065, 'LUSD supply': 214830529.4629852, 'PYUSD burns': 0, 'PYUSD mints': 0, 'PYUSD supply': 132051931.79, 'RLUSD burns': None, 'RLUSD mints': None, 'RLUSD supply': None, 'USDC burns': -1200267473.9316711, 'USDC mints': 1432826963.844837, 'USDC supply': 22485286800.93982, 'USDS burns': None, 'USDS mints': None, 'USDS supply': None, 'sUSD burns': -11901150.965456747, 'sUSD mints': 16924939.47222364, 'sUSD supply': 33437368.949488945, 'week': '2023-11-13 00:00:00.000 UTC'}, {'BUSD burns': -19689212.669999998, 'BUSD mints': 0, 'BUSD supply': 1877232341.5999966, 'DAI burns': -9657221397.225082, 'DAI mints': 9642497690.508444, 'DAI supply': 3708113868.468148, 'FRAX burns': 0, 'FRAX mints': 0, 'FRAX supply': 671715679.8890684, 'LUSD burns': -9541891.81907418, 'LUSD mints': 8739082.218565717, 'LUSD supply': 214346247.4786331, 'PYUSD burns': 0, 'PYUSD mints': 0, 'PYUSD supply': 132051931.79, 'RLUSD burns': None, 'RLUSD mints': None, 'RLUSD supply': None, 'USDC burns': -1287697961.715271, 'USDC mints': 919980860.346742, 'USDC supply': 22252727311.026653, 'USDS burns': None, 'USDS mints': None, 'USDS supply': None, 'sUSD burns': -2598487.6898807744, 'sUSD mints': 4800233.063109746, 'sUSD supply': 28413580.442722056, 'week': '2023-11-06 00:00:00.000 UTC'}, {'BUSD burns': -157878645.11, 'BUSD mints': 0, 'BUSD supply': 1896921554.2699966, 'DAI burns': -10667088227.413443, 'DAI mints': 10638917238.69254, 'DAI supply': 3722837575.1847863, 'FRAX burns': 0, 'FRAX mints': 0, 'FRAX supply': 671715679.8890684, 'LUSD burns': -14608352.182335831, 'LUSD mints': 5059227.4821116645, 'LUSD supply': 215149057.07914156, 'PYUSD burns': 0, 'PYUSD mints': 10616000, 'PYUSD supply': 132051931.79, 'RLUSD burns': None, 'RLUSD mints': None, 'RLUSD supply': None, 'USDC burns': -1365867622.9595351, 'USDC mints': 921912588.8896751, 'USDC supply': 22620444412.395184, 'USDS burns': None, 'USDS mints': None, 'USDS supply': None, 'sUSD burns': -2127123.776602744, 'sUSD mints': 3234307.3574570343, 'sUSD supply': 26211835.06949308, 'week': '2023-10-30 00:00:00.000 UTC'}, {'BUSD burns': -39500900.9, 'BUSD mints': 0, 'BUSD supply': 2054800199.3799968, 'DAI burns': -8908493038.91012, 'DAI mints': 8854725107.065287, 'DAI supply': 3751008563.905689, 'FRAX burns': 0, 'FRAX mints': 0, 'FRAX supply': 671715679.8890684, 'LUSD burns': -17717653.726833213, 'LUSD mints': 8359326.862890773, 'LUSD supply': 224698181.77936572, 'PYUSD burns': 0, 'PYUSD mints': 17812396, 'PYUSD supply': 121435931.79, 'RLUSD burns': None, 'RLUSD mints': None, 'RLUSD supply': None, 'USDC burns': -1343198054.717793, 'USDC mints': 873859390.138677, 'USDC supply': 23064399446.465042, 'USDS burns': None, 'USDS mints': None, 'USDS supply': None, 'sUSD burns': -11166255.372280497, 'sUSD mints': 9633197.206033092, 'sUSD supply': 25104651.488638792, 'week': '2023-10-23 00:00:00.000 UTC'}, {'BUSD burns': -29391113.6, 'BUSD mints': 0, 'BUSD supply': 2094301100.2799969, 'DAI burns': -6603009230.129836, 'DAI mints': 6617091453.680585, 'DAI supply': 3804776495.7505207, 'FRAX burns': 0, 'FRAX mints': 0, 'FRAX supply': 671715679.8890684, 'LUSD burns': -9916777.812297696, 'LUSD mints': 4948395.410974455, 'LUSD supply': 234056508.64330816, 'PYUSD burns': 0, 'PYUSD mints': 10532001, 'PYUSD supply': 103623535.79, 'RLUSD burns': None, 'RLUSD mints': None, 'RLUSD supply': None, 'USDC burns': -874805214.3320935, 'USDC mints': 1137169582.051312, 'USDC supply': 23533738111.04416, 'USDS burns': None, 'USDS mints': None, 'USDS supply': None, 'sUSD burns': -5071836.413106576, 'sUSD mints': 4660123.477484673, 'sUSD supply': 26637709.654886194, 'week': '2023-10-16 00:00:00.000 UTC'}, {'BUSD burns': -90144083.27000001, 'BUSD mints': 0, 'BUSD supply': 2123692213.8799968, 'DAI burns': -1284278063.6984928, 'DAI mints': 1247949658.2574391, 'DAI supply': 3790694272.19977, 'FRAX burns': 0, 'FRAX mints': 0, 'FRAX supply': 671715679.8890684, 'LUSD burns': -8957873.798214493, 'LUSD mints': 4618265.058118509, 'LUSD supply': 239024891.0446314, 'PYUSD burns': 0, 'PYUSD mints': 10600000, 'PYUSD supply': 93091534.79, 'RLUSD burns': None, 'RLUSD mints': None, 'RLUSD supply': None, 'USDC burns': -807975074.282207, 'USDC mints': 471154616.00569093, 'USDC supply': 23271373743.32494, 'USDS burns': None, 'USDS mints': None, 'USDS supply': None, 'sUSD burns': -1688012.5079287952, 'sUSD mints': 569120.0568303096, 'sUSD supply': 27049422.590508096, 'week': '2023-10-09 00:00:00.000 UTC'}, {'BUSD burns': -45702223.019999996, 'BUSD mints': 0, 'BUSD supply': 2213836297.1499968, 'DAI burns': -2117262838.3352995, 'DAI mints': 2133528210.508175, 'DAI supply': 3827022677.6408234, 'FRAX burns': 0, 'FRAX mints': 0, 'FRAX supply': 671715679.8890684, 'LUSD burns': -14065770.776902214, 'LUSD mints': 4444524.667891762, 'LUSD supply': 243364499.78472736, 'PYUSD burns': 0, 'PYUSD mints': 15000000, 'PYUSD supply': 82491534.79, 'RLUSD burns': None, 'RLUSD mints': None, 'RLUSD supply': None, 'USDC burns': -789863870.819265, 'USDC mints': 1061341888.7185279, 'USDC supply': 23608194201.601456, 'USDS burns': None, 'USDS mints': None, 'USDS supply': None, 'sUSD burns': -2428779.000241094, 'sUSD mints': 2613193.0461404244, 'sUSD supply': 28168315.041606583, 'week': '2023-10-02 00:00:00.000 UTC'}, {'BUSD burns': -122136222.94999997, 'BUSD mints': 0, 'BUSD supply': 2259538520.1699967, 'DAI burns': -901156520.0668335, 'DAI mints': 871964632.1889311, 'DAI supply': 3810757305.467948, 'FRAX burns': 0, 'FRAX mints': 0, 'FRAX supply': 671715679.8890684, 'LUSD burns': -20286145.890272096, 'LUSD mints': 4612502.720985222, 'LUSD supply': 252985745.89373782, 'PYUSD burns': 0, 'PYUSD mints': 50020100, 'PYUSD supply': 67491534.79, 'RLUSD burns': None, 'RLUSD mints': None, 'RLUSD supply': None, 'USDC burns': -1265016005.5549467, 'USDC mints': 847487277.5151889, 'USDC supply': 23336716183.702194, 'USDS burns': None, 'USDS mints': None, 'USDS supply': None, 'sUSD burns': -930012.108843695, 'sUSD mints': 892620.6502183665, 'sUSD supply': 27983900.99570725, 'week': '2023-09-25 00:00:00.000 UTC'}, {'BUSD burns': -109679056.58000001, 'BUSD mints': 0, 'BUSD supply': 2381674743.1199965, 'DAI burns': -2158991280.7586274, 'DAI mints': 2139148843.8606834, 'DAI supply': 3839949193.3458505, 'FRAX burns': 0, 'FRAX mints': 0, 'FRAX supply': 671715679.8890684, 'LUSD burns': -15734191.914801255, 'LUSD mints': 2963513.231716833, 'LUSD supply': 268659389.0630247, 'PYUSD burns': 0, 'PYUSD mints': 0, 'PYUSD supply': 17471434.790000003, 'RLUSD burns': None, 'RLUSD mints': None, 'RLUSD supply': None, 'USDC burns': -915111383.4056201, 'USDC mints': 465769729.88908005, 'USDC supply': 23754244911.74195, 'USDS burns': None, 'USDS mints': None, 'USDS supply': None, 'sUSD burns': -2307443.131846284, 'sUSD mints': 802953.6925332623, 'sUSD supply': 28021292.45433258, 'week': '2023-09-18 00:00:00.000 UTC'}, {'BUSD burns': -92263204.22, 'BUSD mints': 0, 'BUSD supply': 2491353799.6999965, 'DAI burns': -2117289075.505886, 'DAI mints': 2146110099.5929859, 'DAI supply': 3859791630.243794, 'FRAX burns': 0, 'FRAX mints': 0, 'FRAX supply': 671715679.8890684, 'LUSD burns': -7525845.267847277, 'LUSD mints': 2189091.727346, 'LUSD supply': 281430067.7461091, 'PYUSD burns': 0, 'PYUSD mints': 0, 'PYUSD supply': 17471434.790000003, 'RLUSD burns': None, 'RLUSD mints': None, 'RLUSD supply': None, 'USDC burns': -880540061.106617, 'USDC mints': 905106137.83165, 'USDC supply': 24203586565.25849, 'USDS burns': None, 'USDS mints': None, 'USDS supply': None, 'sUSD burns': -1732337.0144510297, 'sUSD mints': 1234380.2144744154, 'sUSD supply': 29525781.8936456, 'week': '2023-09-11 00:00:00.000 UTC'}, {'BUSD burns': -260934219.88, 'BUSD mints': 0, 'BUSD supply': 2583617003.9199963, 'DAI burns': -2417718075.2938404, 'DAI mints': 2368337520.9127307, 'DAI supply': 3830970606.156694, 'FRAX burns': -135000000, 'FRAX mints': 0, 'FRAX supply': 671715679.8890684, 'LUSD burns': -8804810.538439408, 'LUSD mints': 5012371.157370583, 'LUSD supply': 286766821.2866104, 'PYUSD burns': 0, 'PYUSD mints': 0, 'PYUSD supply': 17471434.790000003, 'RLUSD burns': None, 'RLUSD mints': None, 'RLUSD supply': None, 'USDC burns': -815869415.4862013, 'USDC mints': 629043671.5968571, 'USDC supply': 24179020488.53346, 'USDS burns': None, 'USDS mints': None, 'USDS supply': None, 'sUSD burns': -1830213.5192899662, 'sUSD mints': 2807134.1130385045, 'sUSD supply': 30023738.693622213, 'week': '2023-09-04 00:00:00.000 UTC'}, {'BUSD burns': -301013238.04999995, 'BUSD mints': 0, 'BUSD supply': 2844551223.7999964, 'DAI burns': -1739096777.508065, 'DAI mints': 1724773543.466609, 'DAI supply': 3880351160.5378036, 'FRAX burns': 0, 'FRAX mints': 0, 'FRAX supply': 806715679.8890684, 'LUSD burns': -5652113.991395398, 'LUSD mints': 4802699.229795082, 'LUSD supply': 290559260.66767925, 'PYUSD burns': 0, 'PYUSD mints': 2077742.8599999999, 'PYUSD supply': 17471434.790000003, 'RLUSD burns': None, 'RLUSD mints': None, 'RLUSD supply': None, 'USDC burns': -740088530.971261, 'USDC mints': 889562693.1454732, 'USDC supply': 24365846232.422802, 'USDS burns': None, 'USDS mints': None, 'USDS supply': None, 'sUSD burns': -2497880.838436496, 'sUSD mints': 1426185.8581636678, 'sUSD supply': 29046818.099873677, 'week': '2023-08-28 00:00:00.000 UTC'}, {'BUSD burns': -96882416.2, 'BUSD mints': 0, 'BUSD supply': 3145564461.8499966, 'DAI burns': -876919527.0699557, 'DAI mints': 804521386.2880251, 'DAI supply': 3894674394.5792594, 'FRAX burns': 0, 'FRAX mints': 0, 'FRAX supply': 806715679.8890684, 'LUSD burns': -2802890.950699973, 'LUSD mints': 3289186.8896308765, 'LUSD supply': 291408675.42927957, 'PYUSD burns': 0, 'PYUSD mints': 11623356.670000002, 'PYUSD supply': 15393691.930000002, 'RLUSD burns': None, 'RLUSD mints': None, 'RLUSD supply': None, 'USDC burns': -740776372.2606632, 'USDC mints': 844871062.6879083, 'USDC supply': 24216372070.24859, 'USDS burns': None, 'USDS mints': None, 'USDS supply': None, 'sUSD burns': -3655629.9847847307, 'sUSD mints': 1149279.7738449047, 'sUSD supply': 30118513.080146506, 'week': '2023-08-21 00:00:00.000 UTC'}, {'BUSD burns': -129061408.82, 'BUSD mints': 0, 'BUSD supply': 3242446878.0499964, 'DAI burns': -1791067734.4260154, 'DAI mints': 1764487304.0945373, 'DAI supply': 3967072535.36119, 'FRAX burns': -5917628.849343494, 'FRAX mints': 0, 'FRAX supply': 806715679.8890684, 'LUSD burns': -11664434.377151815, 'LUSD mints': 5739207.398385207, 'LUSD supply': 290922379.49034864, 'PYUSD burns': -1, 'PYUSD mints': 3770335.26, 'PYUSD supply': 3770335.26, 'RLUSD burns': None, 'RLUSD mints': None, 'RLUSD supply': None, 'USDC burns': -1752484255.0196872, 'USDC mints': 1545345858.4300776, 'USDC supply': 24112277379.821342, 'USDS burns': None, 'USDS mints': None, 'USDS supply': None, 'sUSD burns': -4690757.12495205, 'sUSD mints': 3784003.50931754, 'sUSD supply': 32624863.29108633, 'week': '2023-08-14 00:00:00.000 UTC'}, {'BUSD burns': -45535586.4, 'BUSD mints': 0, 'BUSD supply': 3371508286.8699965, 'DAI burns': -2801545870.477293, 'DAI mints': 2762516933.400059, 'DAI supply': 3993652965.692668, 'FRAX burns': 0, 'FRAX mints': 0, 'FRAX supply': 812633308.7384119, 'LUSD burns': -5532808.473593992, 'LUSD mints': 5811578.796473446, 'LUSD supply': 296847606.46911526, 'PYUSD burns': -1, 'PYUSD mints': 2, 'PYUSD supply': 1, 'RLUSD burns': None, 'RLUSD mints': None, 'RLUSD supply': None, 'USDC burns': -1110796081.599914, 'USDC mints': 1266431900.082914, 'USDC supply': 24319415776.41095, 'USDS burns': None, 'USDS mints': None, 'USDS supply': None, 'sUSD burns': -3516618.889180404, 'sUSD mints': 4353915.235760915, 'sUSD supply': 33531616.906720843, 'week': '2023-08-07 00:00:00.000 UTC'}, {'BUSD burns': -287573871.42999995, 'BUSD mints': 0, 'BUSD supply': 3417043873.2699966, 'DAI burns': -3343475524.3745346, 'DAI mints': 3222974967.7082577, 'DAI supply': 4032681902.7699018, 'FRAX burns': 0, 'FRAX mints': 0, 'FRAX supply': 812633308.7384119, 'LUSD burns': -5139216.406210061, 'LUSD mints': 3370788.4826451545, 'LUSD supply': 296568836.1462358, 'PYUSD burns': None, 'PYUSD mints': None, 'PYUSD supply': None, 'RLUSD burns': None, 'RLUSD mints': None, 'RLUSD supply': None, 'USDC burns': -1379160913.2278779, 'USDC mints': 874173604.1607461, 'USDC supply': 24163779957.927948, 'USDS burns': None, 'USDS mints': None, 'USDS supply': None, 'sUSD burns': -10077100.50258979, 'sUSD mints': 3871310.9479012755, 'sUSD supply': 32694320.560140334, 'week': '2023-07-31 00:00:00.000 UTC'}, {'BUSD burns': -146916416.96, 'BUSD mints': 0, 'BUSD supply': 3704617744.6999965, 'DAI burns': -2259535785.500448, 'DAI mints': 2180253301.6204157, 'DAI supply': 4153182459.4361796, 'FRAX burns': -100000000, 'FRAX mints': 0, 'FRAX supply': 812633308.7384119, 'LUSD burns': -2528793.8711499902, 'LUSD mints': 5529727.7444926575, 'LUSD supply': 298337264.06980073, 'PYUSD burns': None, 'PYUSD mints': None, 'PYUSD supply': None, 'RLUSD burns': None, 'RLUSD mints': None, 'RLUSD supply': None, 'USDC burns': -1202105100.64691, 'USDC mints': 865255017.1259621, 'USDC supply': 24668767266.99508, 'USDS burns': None, 'USDS mints': None, 'USDS supply': None, 'sUSD burns': -4145236.1076566987, 'sUSD mints': 6826917.837544982, 'sUSD supply': 38900110.11482885, 'week': '2023-07-24 00:00:00.000 UTC'}, {'BUSD burns': -117532239.36000001, 'BUSD mints': 0, 'BUSD supply': 3851534161.6599965, 'DAI burns': -2148481450.745117, 'DAI mints': 2104643793.540631, 'DAI supply': 4232464943.316212, 'FRAX burns': -91500000, 'FRAX mints': 0, 'FRAX supply': 912633308.7384119, 'LUSD burns': -1793906.4870933746, 'LUSD mints': 3608854.680513509, 'LUSD supply': 295336330.19645804, 'PYUSD burns': None, 'PYUSD mints': None, 'PYUSD supply': None, 'RLUSD burns': None, 'RLUSD mints': None, 'RLUSD supply': None, 'USDC burns': -1529489792.142403, 'USDC mints': 1062763751.5592552, 'USDC supply': 25005617350.516026, 'USDS burns': None, 'USDS mints': None, 'USDS supply': None, 'sUSD burns': -6054151.9933533, 'sUSD mints': 4444410.056650921, 'sUSD supply': 36218428.384940565, 'week': '2023-07-17 00:00:00.000 UTC'}, {'BUSD burns': -76638385.57, 'BUSD mints': 0, 'BUSD supply': 3969066401.0199966, 'DAI burns': -1837999977.633351, 'DAI mints': 1820734214.3136096, 'DAI supply': 4276302600.5206985, 'FRAX burns': 0, 'FRAX mints': 0, 'FRAX supply': 1004133308.7384119, 'LUSD burns': -4435012.03461403, 'LUSD mints': 6224100.466413002, 'LUSD supply': 293521382.0030379, 'PYUSD burns': None, 'PYUSD mints': None, 'PYUSD supply': None, 'RLUSD burns': None, 'RLUSD mints': None, 'RLUSD supply': None, 'USDC burns': -1154323915.7907677, 'USDC mints': 1011943561.7881899, 'USDC supply': 25472343391.099174, 'USDS burns': None, 'USDS mints': None, 'USDS supply': None, 'sUSD burns': -9061172.562210497, 'sUSD mints': 9200830.36430553, 'sUSD supply': 37828170.32164294, 'week': '2023-07-10 00:00:00.000 UTC'}, {'BUSD burns': -87243181.49, 'BUSD mints': 0, 'BUSD supply': 4045704786.589997, 'DAI burns': -2323821460.6338563, 'DAI mints': 2278723159.3131547, 'DAI supply': 4293568363.8404408, 'FRAX burns': 0, 'FRAX mints': 0, 'FRAX supply': 1004133308.7384119, 'LUSD burns': -2715310.2982739257, 'LUSD mints': 11124587.99568078, 'LUSD supply': 291732293.57123893, 'PYUSD burns': None, 'PYUSD mints': None, 'PYUSD supply': None, 'RLUSD burns': None, 'RLUSD mints': None, 'RLUSD supply': None, 'USDC burns': -638026984.112298, 'USDC mints': 771145023.380298, 'USDC supply': 25614723745.101753, 'USDS burns': None, 'USDS mints': None, 'USDS supply': None, 'sUSD burns': -2903901.2382716527, 'sUSD mints': 1770169.3208587416, 'sUSD supply': 37688512.51954791, 'week': '2023-07-03 00:00:00.000 UTC'}, {'BUSD burns': -111656769.82999998, 'BUSD mints': 0, 'BUSD supply': 4132947968.0799966, 'DAI burns': -2042307730.0356069, 'DAI mints': 1931535868.6341705, 'DAI supply': 4338666665.161142, 'FRAX burns': 0, 'FRAX mints': 0, 'FRAX supply': 1004133308.7384119, 'LUSD burns': -7430152.628174533, 'LUSD mints': 6554551.5563688865, 'LUSD supply': 283323015.8738321, 'PYUSD burns': None, 'PYUSD mints': None, 'PYUSD supply': None, 'RLUSD burns': None, 'RLUSD mints': None, 'RLUSD supply': None, 'USDC burns': -1534680945.134735, 'USDC mints': 367869036.4773609, 'USDC supply': 25481605705.83375, 'USDS burns': None, 'USDS mints': None, 'USDS supply': None, 'sUSD burns': -1969350.1346660212, 'sUSD mints': 2592525.838486044, 'sUSD supply': 38822244.436960824, 'week': '2023-06-26 00:00:00.000 UTC'}, {'BUSD burns': -51265212.82, 'BUSD mints': 0, 'BUSD supply': 4244604737.9099965, 'DAI burns': -1816779269.5202255, 'DAI mints': 1839322253.660496, 'DAI supply': 4449438526.562579, 'FRAX burns': 0, 'FRAX mints': 0, 'FRAX supply': 1004133308.7384119, 'LUSD burns': -1573687.938147186, 'LUSD mints': 10113913.741204744, 'LUSD supply': 284198616.94563776, 'PYUSD burns': None, 'PYUSD mints': None, 'PYUSD supply': None, 'RLUSD burns': None, 'RLUSD mints': None, 'RLUSD supply': None, 'USDC burns': -656366343.531531, 'USDC mints': 736791650.9169607, 'USDC supply': 26648417614.491127, 'USDS burns': None, 'USDS mints': None, 'USDS supply': None, 'sUSD burns': -2775942.6726956964, 'sUSD mints': 4835656.232491312, 'sUSD supply': 38199068.733140804, 'week': '2023-06-19 00:00:00.000 UTC'}, {'BUSD burns': -484709262.38, 'BUSD mints': 0, 'BUSD supply': 4295869950.729997, 'DAI burns': -1441897983.0585854, 'DAI mints': 1326752227.6952405, 'DAI supply': 4426895542.422309, 'FRAX burns': 0, 'FRAX mints': 0, 'FRAX supply': 1004133308.7384119, 'LUSD burns': -7621548.252935358, 'LUSD mints': 3275254.175826122, 'LUSD supply': 275658391.1425802, 'PYUSD burns': None, 'PYUSD mints': None, 'PYUSD supply': None, 'RLUSD burns': None, 'RLUSD mints': None, 'RLUSD supply': None, 'USDC burns': -820886360.534852, 'USDC mints': 715598824.72276, 'USDC supply': 26567992307.105698, 'USDS burns': None, 'USDS mints': None, 'USDS supply': None, 'sUSD burns': -4621062.152559361, 'sUSD mints': 3875662.2746126195, 'sUSD supply': 36139355.173345186, 'week': '2023-06-12 00:00:00.000 UTC'}, {'BUSD burns': -368954951.5500001, 'BUSD mints': 0, 'BUSD supply': 4780579213.109997, 'DAI burns': -557618627.4287364, 'DAI mints': 509994724.0970672, 'DAI supply': 4542041297.785653, 'FRAX burns': -10000000, 'FRAX mints': 10000000, 'FRAX supply': 1004133308.7384119, 'LUSD burns': -3371232.2000596034, 'LUSD mints': 4118734.2123057437, 'LUSD supply': 280004685.2196894, 'PYUSD burns': None, 'PYUSD mints': None, 'PYUSD supply': None, 'RLUSD burns': None, 'RLUSD mints': None, 'RLUSD supply': None, 'USDC burns': -1147744775.126965, 'USDC mints': 569010972.5130008, 'USDC supply': 26673279842.91779, 'USDS burns': None, 'USDS mints': None, 'USDS supply': None, 'sUSD burns': -2677795.0940264044, 'sUSD mints': 222184.3016360234, 'sUSD supply': 36884755.05129193, 'week': '2023-06-05 00:00:00.000 UTC'}, {'BUSD burns': -126614870.49, 'BUSD mints': 0, 'BUSD supply': 5149534164.659997, 'DAI burns': -2484022719.194744, 'DAI mints': 2450576903.540382, 'DAI supply': 4589665201.117322, 'FRAX burns': 0, 'FRAX mints': 0, 'FRAX supply': 1004133308.7384119, 'LUSD burns': -2199535.5920397537, 'LUSD mints': 1279759.9459963096, 'LUSD supply': 279257183.2074433, 'PYUSD burns': None, 'PYUSD mints': None, 'PYUSD supply': None, 'RLUSD burns': None, 'RLUSD mints': None, 'RLUSD supply': None, 'USDC burns': -649075652.8085321, 'USDC mints': 520642835.257177, 'USDC supply': 27252013645.531754, 'USDS burns': None, 'USDS mints': None, 'USDS supply': None, 'sUSD burns': -1320692.1588928816, 'sUSD mints': 928160.9639274103, 'sUSD supply': 39340365.84368231, 'week': '2023-05-29 00:00:00.000 UTC'}, {'BUSD burns': -223652571.64999998, 'BUSD mints': 0, 'BUSD supply': 5276149035.149997, 'DAI burns': -820996413.5022228, 'DAI mints': 785547028.0798872, 'DAI supply': 4623111016.771684, 'FRAX burns': 0, 'FRAX mints': 0, 'FRAX supply': 1004133308.7384119, 'LUSD burns': -2527336.7323252037, 'LUSD mints': 2446352.6935974, 'LUSD supply': 280176958.8534867, 'PYUSD burns': None, 'PYUSD mints': None, 'PYUSD supply': None, 'RLUSD burns': None, 'RLUSD mints': None, 'RLUSD supply': None, 'USDC burns': -1418831023.7984662, 'USDC mints': 962697700.9246821, 'USDC supply': 27380446463.083107, 'USDS burns': None, 'USDS mints': None, 'USDS supply': None, 'sUSD burns': -2758527.6466292087, 'sUSD mints': 1052076.46643537, 'sUSD supply': 39732897.038647786, 'week': '2023-05-22 00:00:00.000 UTC'}, {'BUSD burns': -114632554.86, 'BUSD mints': 0, 'BUSD supply': 5499801606.799996, 'DAI burns': -592888078.8817726, 'DAI mints': 583764993.6370772, 'DAI supply': 4658560402.194019, 'FRAX burns': -10000000, 'FRAX mints': 10000000, 'FRAX supply': 1004133308.7384119, 'LUSD burns': -6936291.158611951, 'LUSD mints': 2535411.4705697885, 'LUSD supply': 280257942.89221454, 'PYUSD burns': None, 'PYUSD mints': None, 'PYUSD supply': None, 'RLUSD burns': None, 'RLUSD mints': None, 'RLUSD supply': None, 'USDC burns': -1197732449.486174, 'USDC mints': 783750342.9891889, 'USDC supply': 27836579785.95689, 'USDS burns': None, 'USDS mints': None, 'USDS supply': None, 'sUSD burns': -2117183.584651945, 'sUSD mints': 5386168.047430434, 'sUSD supply': 41439348.21884163, 'week': '2023-05-15 00:00:00.000 UTC'}, {'BUSD burns': -351180591.36, 'BUSD mints': 0, 'BUSD supply': 5614434161.659996, 'DAI burns': -360586310.37504447, 'DAI mints': 343099517.49381655, 'DAI supply': 4667683487.438715, 'FRAX burns': 0, 'FRAX mints': 0, 'FRAX supply': 1004133308.7384119, 'LUSD burns': -3510469.916205798, 'LUSD mints': 10877110.693887232, 'LUSD supply': 284658822.5802567, 'PYUSD burns': None, 'PYUSD mints': None, 'PYUSD supply': None, 'RLUSD burns': None, 'RLUSD mints': None, 'RLUSD supply': None, 'USDC burns': -941268140.494342, 'USDC mints': 483000080.55590606, 'USDC supply': 28250561892.453876, 'USDS burns': None, 'USDS mints': None, 'USDS supply': None, 'sUSD burns': -853436.2729703297, 'sUSD mints': 957781.3195056007, 'sUSD supply': 38170363.75606314, 'week': '2023-05-08 00:00:00.000 UTC'}, {'BUSD burns': -231465748.89, 'BUSD mints': 0, 'BUSD supply': 5965614753.019996, 'DAI burns': -237186444.06446275, 'DAI mints': 186612115.34779164, 'DAI supply': 4685170280.319942, 'FRAX burns': 0, 'FRAX mints': 0, 'FRAX supply': 1004133308.7384119, 'LUSD burns': -808762.9639026364, 'LUSD mints': 4045789.2561876494, 'LUSD supply': 277292181.8025753, 'PYUSD burns': None, 'PYUSD mints': None, 'PYUSD supply': None, 'RLUSD burns': None, 'RLUSD mints': None, 'RLUSD supply': None, 'USDC burns': -882457451.5652871, 'USDC mints': 702119782.254881, 'USDC supply': 28708829952.39231, 'USDS burns': None, 'USDS mints': None, 'USDS supply': None, 'sUSD burns': -1006582.911014701, 'sUSD mints': 684701.8352091603, 'sUSD supply': 38066018.70952787, 'week': '2023-05-01 00:00:00.000 UTC'}, {'BUSD burns': -248017140.76000005, 'BUSD mints': 0, 'BUSD supply': 6197080501.909996, 'DAI burns': -509036227.6883586, 'DAI mints': 465754958.35716933, 'DAI supply': 4735744609.036613, 'FRAX burns': -45000000, 'FRAX mints': 10000000, 'FRAX supply': 1004133308.7384119, 'LUSD burns': -4208088.487458053, 'LUSD mints': 10211933.348320223, 'LUSD supply': 274055155.51029027, 'PYUSD burns': None, 'PYUSD mints': None, 'PYUSD supply': None, 'RLUSD burns': None, 'RLUSD mints': None, 'RLUSD supply': None, 'USDC burns': -928503495.7750939, 'USDC mints': 571177751.128285, 'USDC supply': 28889167621.702717, 'USDS burns': None, 'USDS mints': None, 'USDS supply': None, 'sUSD burns': -3729529.028311673, 'sUSD mints': 1134653.6681072372, 'sUSD supply': 38387899.78533341, 'week': '2023-04-24 00:00:00.000 UTC'}, {'BUSD burns': -236022371.27, 'BUSD mints': 0, 'BUSD supply': 6445097642.669996, 'DAI burns': -917198586.354054, 'DAI mints': 681051092.0076414, 'DAI supply': 4779025878.367803, 'FRAX burns': -5711723.85, 'FRAX mints': 0, 'FRAX supply': 1039133308.7384119, 'LUSD burns': -13123782.317213979, 'LUSD mints': 7458533.668325903, 'LUSD supply': 268051310.6494281, 'PYUSD burns': None, 'PYUSD mints': None, 'PYUSD supply': None, 'RLUSD burns': None, 'RLUSD mints': None, 'RLUSD supply': None, 'USDC burns': -1413545500.250024, 'USDC mints': 408273757.09000295, 'USDC supply': 29246493366.349525, 'USDS burns': None, 'USDS mints': None, 'USDS supply': None, 'sUSD burns': -765634.9657885745, 'sUSD mints': 2734004.5590417664, 'sUSD supply': 40982775.145537846, 'week': '2023-04-17 00:00:00.000 UTC'}, {'BUSD burns': -389379350.28000003, 'BUSD mints': 0, 'BUSD supply': 6681120013.939997, 'DAI burns': -1452569835.091392, 'DAI mints': 1397503537.263731, 'DAI supply': 5015173372.714215, 'FRAX burns': -10000000, 'FRAX mints': 10000000, 'FRAX supply': 1044845032.5884119, 'LUSD burns': -8146105.736846274, 'LUSD mints': 10795948.52968152, 'LUSD supply': 273716559.2983162, 'PYUSD burns': None, 'PYUSD mints': None, 'PYUSD supply': None, 'RLUSD burns': None, 'RLUSD mints': None, 'RLUSD supply': None, 'USDC burns': -1190218724.9700003, 'USDC mints': 503930255.98, 'USDC supply': 30251765109.50955, 'USDS burns': None, 'USDS mints': None, 'USDS supply': None, 'sUSD burns': -1805431.7831095876, 'sUSD mints': 1916010.1043715859, 'sUSD supply': 39014405.55228465, 'week': '2023-04-10 00:00:00.000 UTC'}, {'BUSD burns': -486688166.08, 'BUSD mints': 0, 'BUSD supply': 7070499364.219996, 'DAI burns': -1678778064.258325, 'DAI mints': 1639273236.6226735, 'DAI supply': 5070239670.541876, 'FRAX burns': 0, 'FRAX mints': 0, 'FRAX supply': 1044845032.5884119, 'LUSD burns': -2972298.4077451522, 'LUSD mints': 5625629.678374484, 'LUSD supply': 271066716.50548095, 'PYUSD burns': None, 'PYUSD mints': None, 'PYUSD supply': None, 'RLUSD burns': None, 'RLUSD mints': None, 'RLUSD supply': None, 'USDC burns': -451184432.68999994, 'USDC mints': 601930369.2, 'USDC supply': 30938053578.49955, 'USDS burns': None, 'USDS mints': None, 'USDS supply': None, 'sUSD burns': -1034898.7424673307, 'sUSD mints': 5731563.117978735, 'sUSD supply': 38903827.23102265, 'week': '2023-04-03 00:00:00.000 UTC'}, {'BUSD burns': -467161293.44, 'BUSD mints': 0, 'BUSD supply': 7557187530.299996, 'DAI burns': -1136796882.7412095, 'DAI mints': 1011903221.6809049, 'DAI supply': 5109744498.177527, 'FRAX burns': 0, 'FRAX mints': 0, 'FRAX supply': 1044845032.5884119, 'LUSD burns': -2182772.0711594312, 'LUSD mints': 6058148.527268597, 'LUSD supply': 268413385.23485163, 'PYUSD burns': None, 'PYUSD mints': None, 'PYUSD supply': None, 'RLUSD burns': None, 'RLUSD mints': None, 'RLUSD supply': None, 'USDC burns': -1843377816.56, 'USDC mints': 511941874.83, 'USDC supply': 30787307641.98955, 'USDS burns': None, 'USDS mints': None, 'USDS supply': None, 'sUSD burns': -2252426.404875012, 'sUSD mints': 810422.399392007, 'sUSD supply': 34207162.85551124, 'week': '2023-03-27 00:00:00.000 UTC'}, {'BUSD burns': -200575174.9, 'BUSD mints': 0, 'BUSD supply': 8024348823.739996, 'DAI burns': -420675609.64339334, 'DAI mints': 245773191.46817088, 'DAI supply': 5234638159.237832, 'FRAX burns': 0, 'FRAX mints': 0, 'FRAX supply': 1044845032.5884119, 'LUSD burns': -3052819.2469309806, 'LUSD mints': 6850586.337396714, 'LUSD supply': 264538008.77874246, 'PYUSD burns': None, 'PYUSD mints': None, 'PYUSD supply': None, 'RLUSD burns': None, 'RLUSD mints': None, 'RLUSD supply': None, 'USDC burns': -2629118416.55, 'USDC mints': 239309711.36999997, 'USDC supply': 32118743583.71955, 'USDS burns': None, 'USDS mints': None, 'USDS supply': None, 'sUSD burns': -6290033.083339635, 'sUSD mints': 7742931.924357179, 'sUSD supply': 35649166.86099425, 'week': '2023-03-20 00:00:00.000 UTC'}, {'BUSD burns': -151000002, 'BUSD mints': 0, 'BUSD supply': 8224923998.639996, 'DAI burns': -1804890274.7865655, 'DAI mints': 856151252.1637024, 'DAI supply': 5409540577.413054, 'FRAX burns': -10000000, 'FRAX mints': 10000000, 'FRAX supply': 1044845032.5884119, 'LUSD burns': -4774416.367143659, 'LUSD mints': 18045520.433287792, 'LUSD supply': 260740241.68827674, 'PYUSD burns': None, 'PYUSD mints': None, 'PYUSD supply': None, 'RLUSD burns': None, 'RLUSD mints': None, 'RLUSD supply': None, 'USDC burns': -5030460841.76, 'USDC mints': 865206138.2700001, 'USDC supply': 34508552288.89955, 'USDS burns': None, 'USDS mints': None, 'USDS supply': None, 'sUSD burns': -19264845.796827883, 'sUSD mints': 16867859.21284414, 'sUSD supply': 34196268.019976705, 'week': '2023-03-13 00:00:00.000 UTC'}, {'BUSD burns': -313484012.32, 'BUSD mints': 0, 'BUSD supply': 8375924000.639996, 'DAI burns': -1367200461.9055681, 'DAI mints': 2715912075.0208807, 'DAI supply': 6358279600.035917, 'FRAX burns': 0, 'FRAX mints': 5000000, 'FRAX supply': 1044845032.5884119, 'LUSD burns': -14844937.061358154, 'LUSD mints': 30855604.37412747, 'LUSD supply': 247469137.6221326, 'PYUSD burns': None, 'PYUSD mints': None, 'PYUSD supply': None, 'RLUSD burns': None, 'RLUSD mints': None, 'RLUSD supply': None, 'USDC burns': -4900237518.030001, 'USDC mints': 2146603010.1599998, 'USDC supply': 38673806992.38955, 'USDS burns': None, 'USDS mints': None, 'USDS supply': None, 'sUSD burns': -26393843.033319853, 'sUSD mints': 21507388.623029508, 'sUSD supply': 36593254.60396045, 'week': '2023-03-06 00:00:00.000 UTC'}, {'BUSD burns': -2276836884.0400004, 'BUSD mints': 0, 'BUSD supply': 8689408012.959995, 'DAI burns': -325018279.5033029, 'DAI mints': 307469972.64817834, 'DAI supply': 5009567986.920605, 'FRAX burns': 0, 'FRAX mints': 0, 'FRAX supply': 1039845032.5884119, 'LUSD burns': -1362025.4695347927, 'LUSD mints': 2795683.7593347793, 'LUSD supply': 231458470.30936328, 'PYUSD burns': None, 'PYUSD mints': None, 'PYUSD supply': None, 'RLUSD burns': None, 'RLUSD mints': None, 'RLUSD supply': None, 'USDC burns': -2025861786.6200001, 'USDC mints': 3697756643.17, 'USDC supply': 41427441500.25955, 'USDS burns': None, 'USDS mints': None, 'USDS supply': None, 'sUSD burns': -5293943.848629963, 'sUSD mints': 3375624.5291011576, 'sUSD supply': 41479709.01425079, 'week': '2023-02-27 00:00:00.000 UTC'}, {'BUSD burns': -2272579221.7400002, 'BUSD mints': 0, 'BUSD supply': 10966244896.999996, 'DAI burns': -373223630.4396348, 'DAI mints': 316195284.3617097, 'DAI supply': 5027116293.775729, 'FRAX burns': 0, 'FRAX mints': 6500000, 'FRAX supply': 1039845032.5884119, 'LUSD burns': -1624854.8383237517, 'LUSD mints': 2826690.7933673616, 'LUSD supply': 230024812.0195633, 'PYUSD burns': None, 'PYUSD mints': None, 'PYUSD supply': None, 'RLUSD burns': None, 'RLUSD mints': None, 'RLUSD supply': None, 'USDC burns': -1130645738.61, 'USDC mints': 1875634854.0099998, 'USDC supply': 39755546643.70955, 'USDS burns': None, 'USDS mints': None, 'USDS supply': None, 'sUSD burns': -13078863.623818167, 'sUSD mints': 15195930.63299562, 'sUSD supply': 43398028.333779596, 'week': '2023-02-20 00:00:00.000 UTC'}, {'BUSD burns': -2910090739.98, 'BUSD mints': 0, 'BUSD supply': 13238824118.739996, 'DAI burns': -673587942.0005324, 'DAI mints': 676488210.9579132, 'DAI supply': 5084144639.853654, 'FRAX burns': 0, 'FRAX mints': 9000000, 'FRAX supply': 1033345032.5884119, 'LUSD burns': -2060534.999264438, 'LUSD mints': 5579072.63146517, 'LUSD supply': 228822976.06451967, 'PYUSD burns': None, 'PYUSD mints': None, 'PYUSD supply': None, 'RLUSD burns': None, 'RLUSD mints': None, 'RLUSD supply': None, 'USDC burns': -4171783181.680001, 'USDC mints': 4934043913.719999, 'USDC supply': 39010557528.30955, 'USDS burns': None, 'USDS mints': None, 'USDS supply': None, 'sUSD burns': -6128913.371438389, 'sUSD mints': 5174673.944390528, 'sUSD supply': 41280961.32460214, 'week': '2023-02-13 00:00:00.000 UTC'}, {'BUSD burns': -109356528.44, 'BUSD mints': 0, 'BUSD supply': 16148914858.719995, 'DAI burns': -271767578.6667764, 'DAI mints': 242767901.97878712, 'DAI supply': 5081244370.896273, 'FRAX burns': -40000, 'FRAX mints': 1000000, 'FRAX supply': 1024345032.5884119, 'LUSD burns': -2565881.893108187, 'LUSD mints': 2310609.2363504167, 'LUSD supply': 225304438.43231896, 'PYUSD burns': None, 'PYUSD mints': None, 'PYUSD supply': None, 'RLUSD burns': None, 'RLUSD mints': None, 'RLUSD supply': None, 'USDC burns': -6630730587.580002, 'USDC mints': 5905014121.92, 'USDC supply': 38248296796.26955, 'USDS burns': None, 'USDS mints': None, 'USDS supply': None, 'sUSD burns': -15481207.329535332, 'sUSD mints': 8727023.363113474, 'sUSD supply': 42235200.75165, 'week': '2023-02-06 00:00:00.000 UTC'}, {'BUSD burns': -675897441.72, 'BUSD mints': 1229785225.0000002, 'BUSD supply': 16258271387.159996, 'DAI burns': -228694522.44669458, 'DAI mints': 207002135.37999994, 'DAI supply': 5110244047.584262, 'FRAX burns': 0, 'FRAX mints': 5000000, 'FRAX supply': 1023385032.5884119, 'LUSD burns': -5233891.1163185295, 'LUSD mints': 4326292.718999021, 'LUSD supply': 225559711.08907673, 'PYUSD burns': None, 'PYUSD mints': None, 'PYUSD supply': None, 'RLUSD burns': None, 'RLUSD mints': None, 'RLUSD supply': None, 'USDC burns': -3649253144.229998, 'USDC mints': 2745185605.509999, 'USDC supply': 38974013261.92955, 'USDS burns': None, 'USDS mints': None, 'USDS supply': None, 'sUSD burns': -8772103.144027745, 'sUSD mints': 10244760.600008434, 'sUSD supply': 48989384.718071856, 'week': '2023-01-30 00:00:00.000 UTC'}, {'BUSD burns': -1446756467.6200004, 'BUSD mints': 1067852812.63, 'BUSD supply': 15704383603.879995, 'DAI burns': -241135557.00410378, 'DAI mints': 233724724.9745462, 'DAI supply': 5131936434.650956, 'FRAX burns': 0, 'FRAX mints': 0, 'FRAX supply': 1018385032.5884119, 'LUSD burns': -5241798.589953704, 'LUSD mints': 59603236.504870966, 'LUSD supply': 226467309.48639622, 'PYUSD burns': None, 'PYUSD mints': None, 'PYUSD supply': None, 'RLUSD burns': None, 'RLUSD mints': None, 'RLUSD supply': None, 'USDC burns': -4444613407.559999, 'USDC mints': 4074331117.74, 'USDC supply': 39878080800.64955, 'USDS burns': None, 'USDS mints': None, 'USDS supply': None, 'sUSD burns': -11319179.93061631, 'sUSD mints': 5250352.9854278155, 'sUSD supply': 47516727.26209117, 'week': '2023-01-23 00:00:00.000 UTC'}, {'BUSD burns': -1017572307.51, 'BUSD mints': 742305063.5600001, 'BUSD supply': 16083287258.869995, 'DAI burns': -211096322.2198077, 'DAI mints': 247356990.16193408, 'DAI supply': 5139347266.680513, 'FRAX burns': 0, 'FRAX mints': 0, 'FRAX supply': 1018385032.5884119, 'LUSD burns': -10984923.575894529, 'LUSD mints': 2765563.961028056, 'LUSD supply': 172105871.57147896, 'PYUSD burns': None, 'PYUSD mints': None, 'PYUSD supply': None, 'RLUSD burns': None, 'RLUSD mints': None, 'RLUSD supply': None, 'USDC burns': -5820585788.75, 'USDC mints': 5044991566.369999, 'USDC supply': 40248363090.46955, 'USDS burns': None, 'USDS mints': None, 'USDS supply': None, 'sUSD burns': -41092678.379301615, 'sUSD mints': 51173254.288222715, 'sUSD supply': 53585554.20727967, 'week': '2023-01-16 00:00:00.000 UTC'}, {'BUSD burns': -650091842.27, 'BUSD mints': 705249628.3299999, 'BUSD supply': 16358554502.819996, 'DAI burns': -245981767.80118784, 'DAI mints': 283016551.6227309, 'DAI supply': 5103086598.738387, 'FRAX burns': 0, 'FRAX mints': 0, 'FRAX supply': 1018385032.5884119, 'LUSD burns': -5175495.522087039, 'LUSD mints': 8287981.29149085, 'LUSD supply': 180325231.18634543, 'PYUSD burns': None, 'PYUSD mints': None, 'PYUSD supply': None, 'RLUSD burns': None, 'RLUSD mints': None, 'RLUSD supply': None, 'USDC burns': -8795930673.430002, 'USDC mints': 8890056956.01, 'USDC supply': 41023957312.84955, 'USDS burns': None, 'USDS mints': None, 'USDS supply': None, 'sUSD burns': -34440127.625758156, 'sUSD mints': 36278287.8775605, 'sUSD supply': 43504978.29835857, 'week': '2023-01-09 00:00:00.000 UTC'}, {'BUSD burns': -874718860.8299999, 'BUSD mints': 617680630.4200001, 'BUSD supply': 16303396716.759996, 'DAI burns': -278348774.83548063, 'DAI mints': 291350459.6232784, 'DAI supply': 5066051814.916844, 'FRAX burns': 0, 'FRAX mints': 0, 'FRAX supply': 1018385032.5884119, 'LUSD burns': -3409092.6727159284, 'LUSD mints': 2089337.8302262968, 'LUSD supply': 177212745.4169416, 'PYUSD burns': None, 'PYUSD mints': None, 'PYUSD supply': None, 'RLUSD burns': None, 'RLUSD mints': None, 'RLUSD supply': None, 'USDC burns': -3932597988.8699994, 'USDC mints': 3337138373.85, 'USDC supply': 40929831030.26955, 'USDS burns': None, 'USDS mints': None, 'USDS supply': None, 'sUSD burns': -12867968.165887903, 'sUSD mints': 14177434.058358792, 'sUSD supply': 41666818.04655623, 'week': '2023-01-02 00:00:00.000 UTC'}, {'BUSD burns': -835264403.22, 'BUSD mints': 6807362.2299999995, 'BUSD supply': 16560434947.169996, 'DAI burns': -284464391.17610085, 'DAI mints': 190191196.5368253, 'DAI supply': 5053050130.129046, 'FRAX burns': 0, 'FRAX mints': 0, 'FRAX supply': 1018385032.5884119, 'LUSD burns': -5256079.727833249, 'LUSD mints': 1432443.959741022, 'LUSD supply': 178532500.25943124, 'PYUSD burns': None, 'PYUSD mints': None, 'PYUSD supply': None, 'RLUSD burns': None, 'RLUSD mints': None, 'RLUSD supply': None, 'USDC burns': -3799831580.8, 'USDC mints': 4066241536.63, 'USDC supply': 41525290645.28954, 'USDS burns': None, 'USDS mints': None, 'USDS supply': None, 'sUSD burns': -16643341.707996191, 'sUSD mints': 14118384.657412298, 'sUSD supply': 40357352.15408534, 'week': '2022-12-26 00:00:00.000 UTC'}, {'BUSD burns': -1052763547.9999999, 'BUSD mints': 0, 'BUSD supply': 17388891988.159996, 'DAI burns': -216092175.05340263, 'DAI mints': 215607366.04962933, 'DAI supply': 5147323324.768322, 'FRAX burns': -4634000, 'FRAX mints': 0, 'FRAX supply': 1018385032.5884119, 'LUSD burns': -261489.95929280837, 'LUSD mints': 1363271.5076189926, 'LUSD supply': 182356136.02752346, 'PYUSD burns': None, 'PYUSD mints': None, 'PYUSD supply': None, 'RLUSD burns': None, 'RLUSD mints': None, 'RLUSD supply': None, 'USDC burns': -2574338414.0900006, 'USDC mints': 2146614295.5499997, 'USDC supply': 41258880689.45954, 'USDS burns': None, 'USDS mints': None, 'USDS supply': None, 'sUSD burns': -13298906.986261442, 'sUSD mints': 26850949.31211038, 'sUSD supply': 42882309.20466923, 'week': '2022-12-19 00:00:00.000 UTC'}, {'BUSD burns': -3963326345.5099993, 'BUSD mints': 304997839.44, 'BUSD supply': 18441655536.159996, 'DAI burns': -312594330.9448425, 'DAI mints': 284822918.88308156, 'DAI supply': 5147808133.772096, 'FRAX burns': 0, 'FRAX mints': 0, 'FRAX supply': 1023019032.5884119, 'LUSD burns': -3434555.2065699184, 'LUSD mints': 3972599.690766646, 'LUSD supply': 181254354.47919726, 'PYUSD burns': None, 'PYUSD mints': None, 'PYUSD supply': None, 'RLUSD burns': None, 'RLUSD mints': None, 'RLUSD supply': None, 'USDC burns': -4471032477.159999, 'USDC mints': 6780090134.789999, 'USDC supply': 41686604807.99954, 'USDS burns': None, 'USDS mints': None, 'USDS supply': None, 'sUSD burns': -31795051.01015337, 'sUSD mints': 16321985.856443884, 'sUSD supply': 29330266.878820293, 'week': '2022-12-12 00:00:00.000 UTC'}, {'BUSD burns': -143080003.84, 'BUSD mints': 104926979.91, 'BUSD supply': 22099984042.229996, 'DAI burns': -629956782.9682003, 'DAI mints': 585334381.2999346, 'DAI supply': 5175579545.833857, 'FRAX burns': -199999.99999999997, 'FRAX mints': 5000000, 'FRAX supply': 1023019032.5884119, 'LUSD burns': -1800844.8112110451, 'LUSD mints': 3019550.889696983, 'LUSD supply': 180716309.99500054, 'PYUSD burns': None, 'PYUSD mints': None, 'PYUSD supply': None, 'RLUSD burns': None, 'RLUSD mints': None, 'RLUSD supply': None, 'USDC burns': -2391663109.98, 'USDC mints': 1692263991.6199996, 'USDC supply': 39377547150.369545, 'USDS burns': None, 'USDS mints': None, 'USDS supply': None, 'sUSD burns': -11164902.041855955, 'sUSD mints': 15814003.776909152, 'sUSD supply': 44803332.032529786, 'week': '2022-12-05 00:00:00.000 UTC'}, {'BUSD burns': -554013262.51, 'BUSD mints': 290613126.24, 'BUSD supply': 22138137066.159996, 'DAI burns': -823076263.2806264, 'DAI mints': 853912463.0665702, 'DAI supply': 5220201947.502122, 'FRAX burns': -159600193.2720679, 'FRAX mints': 0, 'FRAX supply': 1018219032.5884119, 'LUSD burns': -2443561.8382956013, 'LUSD mints': 3967713.1870453837, 'LUSD supply': 179497603.9165146, 'PYUSD burns': None, 'PYUSD mints': None, 'PYUSD supply': None, 'RLUSD burns': None, 'RLUSD mints': None, 'RLUSD supply': None, 'USDC burns': -3331693041.899999, 'USDC mints': 2537864973.9500003, 'USDC supply': 40076946268.729546, 'USDS burns': None, 'USDS mints': None, 'USDS supply': None, 'sUSD burns': -21400580.346281797, 'sUSD mints': 22476644.86769564, 'sUSD supply': 40154230.29747659, 'week': '2022-11-28 00:00:00.000 UTC'}, {'BUSD burns': -612187293.34, 'BUSD mints': 141593272.21, 'BUSD supply': 22401537202.429996, 'DAI burns': -1826952298.4045835, 'DAI mints': 1608843619.0632668, 'DAI supply': 5189365747.716179, 'FRAX burns': 0, 'FRAX mints': 0, 'FRAX supply': 1177819225.8604798, 'LUSD burns': -14446625.7216954, 'LUSD mints': 2116938.464909247, 'LUSD supply': 177973452.56776482, 'PYUSD burns': None, 'PYUSD mints': None, 'PYUSD supply': None, 'RLUSD burns': None, 'RLUSD mints': None, 'RLUSD supply': None, 'USDC burns': -2873935660.5000005, 'USDC mints': 3192085402.84, 'USDC supply': 40870774336.67954, 'USDS burns': None, 'USDS mints': None, 'USDS supply': None, 'sUSD burns': -13079672.906263912, 'sUSD mints': 10478747.819006488, 'sUSD supply': 39078165.77606274, 'week': '2022-11-21 00:00:00.000 UTC'}, {'BUSD burns': -728980154.04, 'BUSD mints': 255497909.99, 'BUSD supply': 22872131223.559998, 'DAI burns': -698080157.491193, 'DAI mints': 668458922.9620193, 'DAI supply': 5407474427.057495, 'FRAX burns': -26325067.30630304, 'FRAX mints': 25000000, 'FRAX supply': 1177819225.8604798, 'LUSD burns': -1645280.7414525733, 'LUSD mints': 14011432.350068018, 'LUSD supply': 190303139.824551, 'PYUSD burns': None, 'PYUSD mints': None, 'PYUSD supply': None, 'RLUSD burns': None, 'RLUSD mints': None, 'RLUSD supply': None, 'USDC burns': -4514522169.7300005, 'USDC mints': 4950415783.580001, 'USDC supply': 40552624594.33955, 'USDS burns': None, 'USDS mints': None, 'USDS supply': None, 'sUSD burns': -18697416.68152507, 'sUSD mints': 16263449.897865208, 'sUSD supply': 41679090.863320164, 'week': '2022-11-14 00:00:00.000 UTC'}, {'BUSD burns': -406582093.14, 'BUSD mints': 1208017107.1399999, 'BUSD supply': 23345613467.609997, 'DAI burns': -1865259518.4276707, 'DAI mints': 1524280347.9142385, 'DAI supply': 5437095661.586669, 'FRAX burns': -45181503.73329784, 'FRAX mints': 0, 'FRAX supply': 1179144293.1667829, 'LUSD burns': -16124306.445404302, 'LUSD mints': 7833722.492619073, 'LUSD supply': 177936988.21593553, 'PYUSD burns': None, 'PYUSD mints': None, 'PYUSD supply': None, 'RLUSD burns': None, 'RLUSD mints': None, 'RLUSD supply': None, 'USDC burns': -5059692667.7699995, 'USDC mints': 7386269983.429999, 'USDC supply': 40116730980.48955, 'USDS burns': None, 'USDS mints': None, 'USDS supply': None, 'sUSD burns': -22245443.853793696, 'sUSD mints': 7945601.859672403, 'sUSD supply': 44113057.64698003, 'week': '2022-11-07 00:00:00.000 UTC'}, {'BUSD burns': -257708597.76999998, 'BUSD mints': 1407012436.8400002, 'BUSD supply': 22544178453.609997, 'DAI burns': -2229555071.460367, 'DAI mints': 2232669576.2063947, 'DAI supply': 5778074832.100101, 'FRAX burns': -4887965.55333381, 'FRAX mints': 12400000, 'FRAX supply': 1224325796.9000807, 'LUSD burns': -1057863.7619422288, 'LUSD mints': 5710735.516972181, 'LUSD supply': 186227572.16872075, 'PYUSD burns': None, 'PYUSD mints': None, 'PYUSD supply': None, 'RLUSD burns': None, 'RLUSD mints': None, 'RLUSD supply': None, 'USDC burns': -4914305024.54, 'USDC mints': 3422499470.2799997, 'USDC supply': 37790153664.82955, 'USDS burns': None, 'USDS mints': None, 'USDS supply': None, 'sUSD burns': -15549611.382958375, 'sUSD mints': 13484258.529831648, 'sUSD supply': 58412899.64110132, 'week': '2022-10-31 00:00:00.000 UTC'}, {'BUSD burns': -600518135.8499999, 'BUSD mints': 232153937.91000003, 'BUSD supply': 21394874614.539997, 'DAI burns': -1395936984.1371365, 'DAI mints': 1383784255.0091078, 'DAI supply': 5774960327.3540745, 'FRAX burns': -150286930.370268, 'FRAX mints': 1000000, 'FRAX supply': 1216813762.4534144, 'LUSD burns': -2053471.0234626774, 'LUSD mints': 9585249.928017648, 'LUSD supply': 181574700.4136908, 'PYUSD burns': None, 'PYUSD mints': None, 'PYUSD supply': None, 'RLUSD burns': None, 'RLUSD mints': None, 'RLUSD supply': None, 'USDC burns': -3073880015.02, 'USDC mints': 3025596138.4600005, 'USDC supply': 39281959219.089554, 'USDS burns': None, 'USDS mints': None, 'USDS supply': None, 'sUSD burns': -21677712.67716473, 'sUSD mints': 22365646.229592428, 'sUSD supply': 60478252.49422805, 'week': '2022-10-24 00:00:00.000 UTC'}, {'BUSD burns': -294521333.6, 'BUSD mints': 770343424.74, 'BUSD supply': 21763238812.479996, 'DAI burns': -725435537.656281, 'DAI mints': 491119937.7709195, 'DAI supply': 5787113056.482103, 'FRAX burns': 0, 'FRAX mints': 5500000, 'FRAX supply': 1366100692.8236825, 'LUSD burns': -436875.2297752172, 'LUSD mints': 4232432.044809169, 'LUSD supply': 174042921.50913584, 'PYUSD burns': None, 'PYUSD mints': None, 'PYUSD supply': None, 'RLUSD burns': None, 'RLUSD mints': None, 'RLUSD supply': None, 'USDC burns': -3082654166.57, 'USDC mints': 2272597328.39, 'USDC supply': 39330243095.64955, 'USDS burns': None, 'USDS mints': None, 'USDS supply': None, 'sUSD burns': -10045534.960327044, 'sUSD mints': 13683407.326088853, 'sUSD supply': 59790318.941800356, 'week': '2022-10-17 00:00:00.000 UTC'}, {'BUSD burns': -765363426.88, 'BUSD mints': 375842270.86, 'BUSD supply': 21287416721.339996, 'DAI burns': -1235087869.491085, 'DAI mints': 950304774.0140443, 'DAI supply': 6021428656.367465, 'FRAX burns': -49999.99999999999, 'FRAX mints': 0, 'FRAX supply': 1360600692.8236825, 'LUSD burns': -2883515.4459304414, 'LUSD mints': 4510298.863515282, 'LUSD supply': 170247364.6941019, 'PYUSD burns': None, 'PYUSD mints': None, 'PYUSD supply': None, 'RLUSD burns': None, 'RLUSD mints': None, 'RLUSD supply': None, 'USDC burns': -2068038679.14, 'USDC mints': 1614215538.9499996, 'USDC supply': 40140299933.82955, 'USDS burns': None, 'USDS mints': None, 'USDS supply': None, 'sUSD burns': -10714935.036320634, 'sUSD mints': 8661176.018217195, 'sUSD supply': 56152446.57603855, 'week': '2022-10-10 00:00:00.000 UTC'}, {'BUSD burns': -284531122.4800001, 'BUSD mints': 1070790643.94, 'BUSD supply': 21676937877.359997, 'DAI burns': -896078489.5965568, 'DAI mints': 827533555.3263438, 'DAI supply': 6306211751.844505, 'FRAX burns': -2406859.87724796, 'FRAX mints': 5000000, 'FRAX supply': 1360650692.8236825, 'LUSD burns': -10650348.614440566, 'LUSD mints': 10081023.76913365, 'LUSD supply': 168620581.27651706, 'PYUSD burns': None, 'PYUSD mints': None, 'PYUSD supply': None, 'RLUSD burns': None, 'RLUSD mints': None, 'RLUSD supply': None, 'USDC burns': -2257349205.4400005, 'USDC mints': 2193273936.68, 'USDC supply': 40594123074.019554, 'USDS burns': None, 'USDS mints': None, 'USDS supply': None, 'sUSD burns': -18224756.40566445, 'sUSD mints': 10993514.21595643, 'sUSD supply': 58206205.59414199, 'week': '2022-10-03 00:00:00.000 UTC'}, {'BUSD burns': -357896970.94, 'BUSD mints': 214235847.68, 'BUSD supply': 20890678355.899998, 'DAI burns': -382291251.09842503, 'DAI mints': 286581864.3819923, 'DAI supply': 6374756686.114718, 'FRAX burns': 0, 'FRAX mints': 2100000, 'FRAX supply': 1358057552.7009306, 'LUSD burns': -4940585.249414865, 'LUSD mints': 4679414.468022846, 'LUSD supply': 169189906.121824, 'PYUSD burns': None, 'PYUSD mints': None, 'PYUSD supply': None, 'RLUSD burns': None, 'RLUSD mints': None, 'RLUSD supply': None, 'USDC burns': -2518654200.2599998, 'USDC mints': 1376667715, 'USDC supply': 40658198342.77956, 'USDS burns': None, 'USDS mints': None, 'USDS supply': None, 'sUSD burns': -19822669.85861471, 'sUSD mints': 17279733.79679891, 'sUSD supply': 65437447.783850014, 'week': '2022-09-26 00:00:00.000 UTC'}, {'BUSD burns': -234465392.60999998, 'BUSD mints': 612333146.79, 'BUSD supply': 21034339479.159996, 'DAI burns': -676236117.41158, 'DAI mints': 723061421.3651555, 'DAI supply': 6470466072.831151, 'FRAX burns': -65756137.03893289, 'FRAX mints': 0, 'FRAX supply': 1355957552.7009306, 'LUSD burns': -4712152.947712954, 'LUSD mints': 7606264.823501368, 'LUSD supply': 169451076.903216, 'PYUSD burns': None, 'PYUSD mints': None, 'PYUSD supply': None, 'RLUSD burns': None, 'RLUSD mints': None, 'RLUSD supply': None, 'USDC burns': -1807825471.41, 'USDC mints': 1550760820.5399997, 'USDC supply': 41800184828.03956, 'USDS burns': None, 'USDS mints': None, 'USDS supply': None, 'sUSD burns': -15269284.587779095, 'sUSD mints': 14288367.819061182, 'sUSD supply': 67980383.84566581, 'week': '2022-09-19 00:00:00.000 UTC'}, {'BUSD burns': -120406793.84, 'BUSD mints': 773536101.9000001, 'BUSD supply': 20656471724.979996, 'DAI burns': -412399565.644389, 'DAI mints': 394660085.1434716, 'DAI supply': 6423640768.877575, 'FRAX burns': -46298737.332301326, 'FRAX mints': 0, 'FRAX supply': 1421713689.7398634, 'LUSD burns': -12214374.638263006, 'LUSD mints': 6178320.852028862, 'LUSD supply': 166556965.02742758, 'PYUSD burns': None, 'PYUSD mints': None, 'PYUSD supply': None, 'RLUSD burns': None, 'RLUSD mints': None, 'RLUSD supply': None, 'USDC burns': -3285011654.170001, 'USDC mints': 2276101252.5899997, 'USDC supply': 42057249478.90956, 'USDS burns': None, 'USDS mints': None, 'USDS supply': None, 'sUSD burns': -19692146.873149, 'sUSD mints': 13799849.674859755, 'sUSD supply': 68961300.61438373, 'week': '2022-09-12 00:00:00.000 UTC'}, {'BUSD burns': -41846624.04000001, 'BUSD mints': 611964855.43, 'BUSD supply': 20003342416.919994, 'DAI burns': -605792370.8353823, 'DAI mints': 599656016.691067, 'DAI supply': 6441380249.378492, 'FRAX burns': -23107659.62486496, 'FRAX mints': 0, 'FRAX supply': 1468012427.0721648, 'LUSD burns': -13852596.816634275, 'LUSD mints': 3107401.827054799, 'LUSD supply': 172593018.81366172, 'PYUSD burns': None, 'PYUSD mints': None, 'PYUSD supply': None, 'RLUSD burns': None, 'RLUSD mints': None, 'RLUSD supply': None, 'USDC burns': -2064051934.0599997, 'USDC mints': 1973220142.56, 'USDC supply': 43066159880.48956, 'USDS burns': None, 'USDS mints': None, 'USDS supply': None, 'sUSD burns': -171744526.01533118, 'sUSD mints': 164140591.6899474, 'sUSD supply': 74853597.81267297, 'week': '2022-09-05 00:00:00.000 UTC'}, {'BUSD burns': -233944351.81, 'BUSD mints': 524504344.93999994, 'BUSD supply': 19433224185.529995, 'DAI burns': -984412265.8274887, 'DAI mints': 957909366.8393712, 'DAI supply': 6447516603.522808, 'FRAX burns': -7642844, 'FRAX mints': 0, 'FRAX supply': 1491120086.6970298, 'LUSD burns': -5594294.737166271, 'LUSD mints': 6901753.809768603, 'LUSD supply': 183338213.8032412, 'PYUSD burns': None, 'PYUSD mints': None, 'PYUSD supply': None, 'RLUSD burns': None, 'RLUSD mints': None, 'RLUSD supply': None, 'USDC burns': -1632173824.1399999, 'USDC mints': 1560968741.8999999, 'USDC supply': 43156991671.98956, 'USDS burns': None, 'USDS mints': None, 'USDS supply': None, 'sUSD burns': -248900126.5910822, 'sUSD mints': 244434569.59538397, 'sUSD supply': 82457532.13805681, 'week': '2022-08-29 00:00:00.000 UTC'}, {'BUSD burns': -373423968.63, 'BUSD mints': 696986860.37, 'BUSD supply': 19142664192.399994, 'DAI burns': -653393165.6123627, 'DAI mints': 576693856.927745, 'DAI supply': 6474019502.510925, 'FRAX burns': -2924633.0540623204, 'FRAX mints': 55000000, 'FRAX supply': 1498762930.6970298, 'LUSD burns': -9192868.067645285, 'LUSD mints': 6888943.900075973, 'LUSD supply': 182030754.73063886, 'PYUSD burns': None, 'PYUSD mints': None, 'PYUSD supply': None, 'RLUSD burns': None, 'RLUSD mints': None, 'RLUSD supply': None, 'USDC burns': -1600876425.73, 'USDC mints': 1367935821.34, 'USDC supply': 43228196754.22956, 'USDS burns': None, 'USDS mints': None, 'USDS supply': None, 'sUSD burns': -202285351.8970103, 'sUSD mints': 198906270.13109067, 'sUSD supply': 86923089.13375501, 'week': '2022-08-22 00:00:00.000 UTC'}, {'BUSD burns': -30798271.669999998, 'BUSD mints': 1126349602.23, 'BUSD supply': 18819101300.659992, 'DAI burns': -1401758178.1617718, 'DAI mints': 1143431658.220922, 'DAI supply': 6550718811.195543, 'FRAX burns': 0, 'FRAX mints': 15000000, 'FRAX supply': 1446687563.7510922, 'LUSD burns': -9643031.094125258, 'LUSD mints': 9426108.768541647, 'LUSD supply': 184334678.89820817, 'PYUSD burns': None, 'PYUSD mints': None, 'PYUSD supply': None, 'RLUSD burns': None, 'RLUSD mints': None, 'RLUSD supply': None, 'USDC burns': -2850850416.17, 'USDC mints': 1444958626.5900002, 'USDC supply': 43461137358.61956, 'USDS burns': None, 'USDS mints': None, 'USDS supply': None, 'sUSD burns': -149602160.66031954, 'sUSD mints': 133756238.740666, 'sUSD supply': 90302170.8996747, 'week': '2022-08-15 00:00:00.000 UTC'}, {'BUSD burns': -505566963.15999997, 'BUSD mints': 307480872.91999996, 'BUSD supply': 17723549970.09999, 'DAI burns': -1782745424.2282674, 'DAI mints': 1584613001.0962915, 'DAI supply': 6809045331.136394, 'FRAX burns': -4300000, 'FRAX mints': 10000000, 'FRAX supply': 1431687563.7510922, 'LUSD burns': -14505156.869536925, 'LUSD mints': 23509164.228158493, 'LUSD supply': 184551601.22379178, 'PYUSD burns': None, 'PYUSD mints': None, 'PYUSD supply': None, 'RLUSD burns': None, 'RLUSD mints': None, 'RLUSD supply': None, 'USDC burns': -1493858633.4099996, 'USDC mints': 1017587112.5199999, 'USDC supply': 44867029148.19956, 'USDS burns': None, 'USDS mints': None, 'USDS supply': None, 'sUSD burns': -91790714.45741832, 'sUSD mints': 99063462.25955316, 'sUSD supply': 106148092.81932823, 'week': '2022-08-08 00:00:00.000 UTC'}, {'BUSD burns': -122968823.35000001, 'BUSD mints': 185981337.39000002, 'BUSD supply': 17921636060.339993, 'DAI burns': -1426740239.4329045, 'DAI mints': 1462963797.7930906, 'DAI supply': 7007177754.26837, 'FRAX burns': -40063262.28275079, 'FRAX mints': 0, 'FRAX supply': 1425987563.7510922, 'LUSD burns': -2660966.526182533, 'LUSD mints': 4860829.331429906, 'LUSD supply': 175547593.8651702, 'PYUSD burns': None, 'PYUSD mints': None, 'PYUSD supply': None, 'RLUSD burns': None, 'RLUSD mints': None, 'RLUSD supply': None, 'USDC burns': -1372529720.5700004, 'USDC mints': 1174028113.84, 'USDC supply': 45343300669.08956, 'USDS burns': None, 'USDS mints': None, 'USDS supply': None, 'sUSD burns': -72740167.88665451, 'sUSD mints': 52006408.2822295, 'sUSD supply': 98875345.0171934, 'week': '2022-08-01 00:00:00.000 UTC'}, {'BUSD burns': -205228322.75, 'BUSD mints': 177394809.94, 'BUSD supply': 17858623546.29999, 'DAI burns': -728289460.9747349, 'DAI mints': 786268474.1687555, 'DAI supply': 6970954195.908183, 'FRAX burns': 0, 'FRAX mints': 60000000, 'FRAX supply': 1466050826.033843, 'LUSD burns': -3240120.8545509772, 'LUSD mints': 5203404.973730277, 'LUSD supply': 173347731.05992284, 'PYUSD burns': None, 'PYUSD mints': None, 'PYUSD supply': None, 'RLUSD burns': None, 'RLUSD mints': None, 'RLUSD supply': None, 'USDC burns': -1596074078.04, 'USDC mints': 1435905861.5, 'USDC supply': 45541802275.819565, 'USDS burns': None, 'USDS mints': None, 'USDS supply': None, 'sUSD burns': -133313626.32624064, 'sUSD mints': 159747846.40396956, 'sUSD supply': 119609104.62161843, 'week': '2022-07-25 00:00:00.000 UTC'}, {'BUSD burns': -463602716.38, 'BUSD mints': 443811594.28, 'BUSD supply': 17886457059.109993, 'DAI burns': -774247337.8135257, 'DAI mints': 974096317.0658913, 'DAI supply': 6912975182.714163, 'FRAX burns': 0, 'FRAX mints': 40000000, 'FRAX supply': 1406050826.033843, 'LUSD burns': -12542997.857932582, 'LUSD mints': 10941724.825736908, 'LUSD supply': 171384446.94074354, 'PYUSD burns': None, 'PYUSD mints': None, 'PYUSD supply': None, 'RLUSD burns': None, 'RLUSD mints': None, 'RLUSD supply': None, 'USDC burns': -1651272214.3100002, 'USDC mints': 1893454362.68, 'USDC supply': 45701970492.359566, 'USDS burns': None, 'USDS mints': None, 'USDS supply': None, 'sUSD burns': -391735459.3159617, 'sUSD mints': 393154252.3475946, 'sUSD supply': 93174884.54388955, 'week': '2022-07-18 00:00:00.000 UTC'}, {'BUSD burns': -289563957.36, 'BUSD mints': 340222278.51, 'BUSD supply': 17906248181.20999, 'DAI burns': -675198256.4596336, 'DAI mints': 962755578.9130759, 'DAI supply': 6713126203.461798, 'FRAX burns': 0, 'FRAX mints': 0, 'FRAX supply': 1366050826.033843, 'LUSD burns': -3652337.9703183784, 'LUSD mints': 7666828.937189814, 'LUSD supply': 172985719.9729392, 'PYUSD burns': None, 'PYUSD mints': None, 'PYUSD supply': None, 'RLUSD burns': None, 'RLUSD mints': None, 'RLUSD supply': None, 'USDC burns': -2233851513.2000003, 'USDC mints': 1592889203.1399999, 'USDC supply': 45459788343.98956, 'USDS burns': None, 'USDS mints': None, 'USDS supply': None, 'sUSD burns': -194497925.8480085, 'sUSD mints': 197274821.3949483, 'sUSD supply': 91756091.51225668, 'week': '2022-07-11 00:00:00.000 UTC'}, {'BUSD burns': -126628921.80000001, 'BUSD mints': 200044039.26, 'BUSD supply': 17855589860.05999, 'DAI burns': -1299947988.6181135, 'DAI mints': 1294792477.7841852, 'DAI supply': 6425568881.008355, 'FRAX burns': -32528511.95411102, 'FRAX mints': 32000000, 'FRAX supply': 1366050826.033843, 'LUSD burns': -2421460.202034654, 'LUSD mints': 5347534.4948653, 'LUSD supply': 168971229.00606775, 'PYUSD burns': None, 'PYUSD mints': None, 'PYUSD supply': None, 'RLUSD burns': None, 'RLUSD mints': None, 'RLUSD supply': None, 'USDC burns': -2966376174.0100007, 'USDC mints': 2217324499.28, 'USDC supply': 46100750654.04956, 'USDS burns': None, 'USDS mints': None, 'USDS supply': None, 'sUSD burns': -158064502.00266984, 'sUSD mints': 157936368.6043993, 'sUSD supply': 88979195.96531695, 'week': '2022-07-04 00:00:00.000 UTC'}, {'BUSD burns': -180704149.25, 'BUSD mints': 600298184.32, 'BUSD supply': 17782174742.59999, 'DAI burns': -949910769.7102906, 'DAI mints': 1054050136.3899931, 'DAI supply': 6430724391.842283, 'FRAX burns': -30326750, 'FRAX mints': 0, 'FRAX supply': 1366579337.9879541, 'LUSD burns': -8804994.659431705, 'LUSD mints': 12000866.584382303, 'LUSD supply': 166045154.7132371, 'PYUSD burns': None, 'PYUSD mints': None, 'PYUSD supply': None, 'RLUSD burns': None, 'RLUSD mints': None, 'RLUSD supply': None, 'USDC burns': -1629260414.1899998, 'USDC mints': 1491031299.7199998, 'USDC supply': 46849802328.779564, 'USDS burns': None, 'USDS mints': None, 'USDS supply': None, 'sUSD burns': -296372064.7128053, 'sUSD mints': 289524058.96007115, 'sUSD supply': 89107329.36358756, 'week': '2022-06-27 00:00:00.000 UTC'}, {'BUSD burns': -295340045.09000003, 'BUSD mints': 473794433.94, 'BUSD supply': 17362580707.52999, 'DAI burns': -793895181.1443135, 'DAI mints': 837214146.9165927, 'DAI supply': 6326585025.1625805, 'FRAX burns': -30600000, 'FRAX mints': 199999.99999999997, 'FRAX supply': 1396906087.9879541, 'LUSD burns': -6629267.620095378, 'LUSD mints': 12512831.449613977, 'LUSD supply': 162849282.7882865, 'PYUSD burns': None, 'PYUSD mints': None, 'PYUSD supply': None, 'RLUSD burns': None, 'RLUSD mints': None, 'RLUSD supply': None, 'USDC burns': -1860747060.6300004, 'USDC mints': 1851751148.1399999, 'USDC supply': 46988031443.249565, 'USDS burns': None, 'USDS mints': None, 'USDS supply': None, 'sUSD burns': -456331020.63080937, 'sUSD mints': 476511657.406279, 'sUSD supply': 95955335.11632179, 'week': '2022-06-20 00:00:00.000 UTC'}, {'BUSD burns': -1320911441.05, 'BUSD mints': 762497869.23, 'BUSD supply': 17184126318.679993, 'DAI burns': -3265544258.574165, 'DAI mints': 2954884812.541158, 'DAI supply': 6283266059.390301, 'FRAX burns': -84491933.37137687, 'FRAX mints': 0, 'FRAX supply': 1427306087.9879541, 'LUSD burns': -183215048.75016963, 'LUSD mints': 41546379.67612841, 'LUSD supply': 156965718.95876792, 'PYUSD burns': None, 'PYUSD mints': None, 'PYUSD supply': None, 'RLUSD burns': None, 'RLUSD mints': None, 'RLUSD supply': None, 'USDC burns': -5022450026.139999, 'USDC mints': 6228841948.5199995, 'USDC supply': 46997027355.73956, 'USDS burns': None, 'USDS mints': None, 'USDS supply': None, 'sUSD burns': -410363589.9122089, 'sUSD mints': 406842873.8196317, 'sUSD supply': 75774698.34085205, 'week': '2022-06-13 00:00:00.000 UTC'}, {'BUSD burns': -781571600.56, 'BUSD mints': 474616730.28999996, 'BUSD supply': 17742539890.499992, 'DAI burns': -1120601657.4155157, 'DAI mints': 1282862548.017185, 'DAI supply': 6593925505.423308, 'FRAX burns': -5386500, 'FRAX mints': 40000000, 'FRAX supply': 1511798021.3593311, 'LUSD burns': -41231223.0121928, 'LUSD mints': 11049182.925823314, 'LUSD supply': 298634388.0328092, 'PYUSD burns': None, 'PYUSD mints': None, 'PYUSD supply': None, 'RLUSD burns': None, 'RLUSD mints': None, 'RLUSD supply': None, 'USDC burns': -2074031360.09, 'USDC mints': 2110658238.5200002, 'USDC supply': 45790635433.359566, 'USDS burns': None, 'USDS mints': None, 'USDS supply': None, 'sUSD burns': -113253222.3822463, 'sUSD mints': 110492859.37872607, 'sUSD supply': 79295414.43342929, 'week': '2022-06-06 00:00:00.000 UTC'}, {'BUSD burns': -204685918.43, 'BUSD mints': 283996169.46000004, 'BUSD supply': 18049494760.769993, 'DAI burns': -676725435.5765945, 'DAI mints': 867241071.6121536, 'DAI supply': 6431664614.821639, 'FRAX burns': 0, 'FRAX mints': 51000000, 'FRAX supply': 1477184521.3593311, 'LUSD burns': -4750884.086490337, 'LUSD mints': 9956108.253638906, 'LUSD supply': 328816428.1191787, 'PYUSD burns': None, 'PYUSD mints': None, 'PYUSD supply': None, 'RLUSD burns': None, 'RLUSD mints': None, 'RLUSD supply': None, 'USDC burns': -2065763245.5400004, 'USDC mints': 2228304593.9000006, 'USDC supply': 45754008554.929565, 'USDS burns': None, 'USDS mints': None, 'USDS supply': None, 'sUSD burns': -99301686.24818507, 'sUSD mints': 94569888.05524763, 'sUSD supply': 82055777.43694952, 'week': '2022-05-30 00:00:00.000 UTC'}, {'BUSD burns': -720975686.39, 'BUSD mints': 173430958.16, 'BUSD supply': 17970184509.739994, 'DAI burns': -1331913209.4217393, 'DAI mints': 1436849169.5431437, 'DAI supply': 6241148978.786079, 'FRAX burns': -1190750, 'FRAX mints': 15000000, 'FRAX supply': 1426184521.3593311, 'LUSD burns': -18553313.19623773, 'LUSD mints': 4088015.3786124573, 'LUSD supply': 323611203.9520301, 'PYUSD burns': None, 'PYUSD mints': None, 'PYUSD supply': None, 'RLUSD burns': None, 'RLUSD mints': None, 'RLUSD supply': None, 'USDC burns': -3300884866.6600013, 'USDC mints': 3857219871.19, 'USDC supply': 45591467206.569565, 'USDS burns': None, 'USDS mints': None, 'USDS supply': None, 'sUSD burns': -23809701.319258906, 'sUSD mints': 23334295.153322857, 'sUSD supply': 86787575.62988696, 'week': '2022-05-23 00:00:00.000 UTC'}, {'BUSD burns': -86635701.13, 'BUSD mints': 868947336.9599999, 'BUSD supply': 18517729237.969994, 'DAI burns': -1565485761.6886883, 'DAI mints': 1657624554.0849166, 'DAI supply': 6136213018.664675, 'FRAX burns': -87430568.3986326, 'FRAX mints': 15000000, 'FRAX supply': 1412375271.3593311, 'LUSD burns': -14009754.991826313, 'LUSD mints': 5331153.177488468, 'LUSD supply': 338076501.7696554, 'PYUSD burns': None, 'PYUSD mints': None, 'PYUSD supply': None, 'RLUSD burns': None, 'RLUSD mints': None, 'RLUSD supply': None, 'USDC burns': -4707228052.160001, 'USDC mints': 5829421980.419999, 'USDC supply': 45035132202.039566, 'USDS burns': None, 'USDS mints': None, 'USDS supply': None, 'sUSD burns': -30611295.117681995, 'sUSD mints': 34080769.27658224, 'sUSD supply': 87262981.79582301, 'week': '2022-05-16 00:00:00.000 UTC'}, {'BUSD burns': -943907387.74, 'BUSD mints': 1356004476.9799998, 'BUSD supply': 17735417602.13999, 'DAI burns': -3948894064.4829497, 'DAI mints': 2488658954.2427063, 'DAI supply': 6044074226.268447, 'FRAX burns': -1171905657.4117808, 'FRAX mints': 20000000, 'FRAX supply': 1484805839.7579637, 'LUSD burns': -129313515.51084167, 'LUSD mints': 9549263.65522579, 'LUSD supply': 346755103.58399326, 'PYUSD burns': None, 'PYUSD mints': None, 'PYUSD supply': None, 'RLUSD burns': None, 'RLUSD mints': None, 'RLUSD supply': None, 'USDC burns': -6166583491.2699995, 'USDC mints': 7450446211.889999, 'USDC supply': 43912938273.779564, 'USDS burns': None, 'USDS mints': None, 'USDS supply': None, 'sUSD burns': -111977065.76853938, 'sUSD mints': 78947789.0682156, 'sUSD supply': 83793507.63692276, 'week': '2022-05-09 00:00:00.000 UTC'}, {'BUSD burns': -648381929.31, 'BUSD mints': 282432536.38, 'BUSD supply': 17323320512.89999, 'DAI burns': -2223908710.860584, 'DAI mints': 1308874550.3907673, 'DAI supply': 7504309336.508691, 'FRAX burns': 0, 'FRAX mints': 0, 'FRAX supply': 2636711497.1697445, 'LUSD burns': -17229672.615584906, 'LUSD mints': 5113796.152330683, 'LUSD supply': 466519355.43960917, 'PYUSD burns': None, 'PYUSD mints': None, 'PYUSD supply': None, 'RLUSD burns': None, 'RLUSD mints': None, 'RLUSD supply': None, 'USDC burns': -3184033151.9700007, 'USDC mints': 2544856721.73, 'USDC supply': 42629075553.15956, 'USDS burns': None, 'USDS mints': None, 'USDS supply': None, 'sUSD burns': -27023693.809608918, 'sUSD mints': 26819384.07394868, 'sUSD supply': 116822784.33724657, 'week': '2022-05-02 00:00:00.000 UTC'}, {'BUSD burns': -351350335.46000004, 'BUSD mints': 481966175.22, 'BUSD supply': 17689269905.82999, 'DAI burns': -917043855.8966517, 'DAI mints': 628840222.257256, 'DAI supply': 8419343496.978509, 'FRAX burns': -60376000, 'FRAX mints': 0, 'FRAX supply': 2636711497.1697445, 'LUSD burns': -12009187.430437509, 'LUSD mints': 4152342.873647829, 'LUSD supply': 478635231.9028634, 'PYUSD burns': None, 'PYUSD mints': None, 'PYUSD supply': None, 'RLUSD burns': None, 'RLUSD mints': None, 'RLUSD supply': None, 'USDC burns': -2581031947.73, 'USDC mints': 2100587623.3300002, 'USDC supply': 43268251983.39956, 'USDS burns': None, 'USDS mints': None, 'USDS supply': None, 'sUSD burns': -34063770.893649645, 'sUSD mints': 26476389.651682742, 'sUSD supply': 117027094.07290679, 'week': '2022-04-25 00:00:00.000 UTC'}, {'BUSD burns': -315150401.74, 'BUSD mints': 420931172.25, 'BUSD supply': 17558654066.069992, 'DAI burns': -524940495.5640399, 'DAI mints': 490647753.4799847, 'DAI supply': 8707547130.617905, 'FRAX burns': 0, 'FRAX mints': 0, 'FRAX supply': 2697087497.1697445, 'LUSD burns': -7902482.9875542205, 'LUSD mints': 3286600.7866283194, 'LUSD supply': 486492076.4596531, 'PYUSD burns': None, 'PYUSD mints': None, 'PYUSD supply': None, 'RLUSD burns': None, 'RLUSD mints': None, 'RLUSD supply': None, 'USDC burns': -2433941043.34, 'USDC mints': 2020197266.3000002, 'USDC supply': 43748696307.79956, 'USDS burns': None, 'USDS mints': None, 'USDS supply': None, 'sUSD burns': -31275180.376966313, 'sUSD mints': 41373503.52829105, 'sUSD supply': 124614475.31487368, 'week': '2022-04-18 00:00:00.000 UTC'}, {'BUSD burns': -511397487.74999994, 'BUSD mints': 32668998.799999997, 'BUSD supply': 17452873295.559994, 'DAI burns': -753738255.4104555, 'DAI mints': 475058376.99239224, 'DAI supply': 8741839872.70196, 'FRAX burns': 0, 'FRAX mints': 0, 'FRAX supply': 2697087497.1697445, 'LUSD burns': -4881390.704994524, 'LUSD mints': 7966997.86752888, 'LUSD supply': 491107958.66057897, 'PYUSD burns': None, 'PYUSD mints': None, 'PYUSD supply': None, 'RLUSD burns': None, 'RLUSD mints': None, 'RLUSD supply': None, 'USDC burns': -3058761158.37, 'USDC mints': 2027154833.4500003, 'USDC supply': 44162440084.83956, 'USDS burns': None, 'USDS mints': None, 'USDS supply': None, 'sUSD burns': -73345283.28367276, 'sUSD mints': 76834805.67908445, 'sUSD supply': 114516152.16354895, 'week': '2022-04-11 00:00:00.000 UTC'}, {'BUSD burns': -322522499.12, 'BUSD mints': 463670572.28, 'BUSD supply': 17931601784.509995, 'DAI burns': -862293732.0215306, 'DAI mints': 795211625.1687001, 'DAI supply': 9020519751.120022, 'FRAX burns': -101000000, 'FRAX mints': 108000000, 'FRAX supply': 2697087497.1697445, 'LUSD burns': -2221546.7146136593, 'LUSD mints': 4983663.964226319, 'LUSD supply': 488022351.4980446, 'PYUSD burns': None, 'PYUSD mints': None, 'PYUSD supply': None, 'RLUSD burns': None, 'RLUSD mints': None, 'RLUSD supply': None, 'USDC burns': -3147226883.33, 'USDC mints': 2380418170.660001, 'USDC supply': 45194046409.75956, 'USDS burns': None, 'USDS mints': None, 'USDS supply': None, 'sUSD burns': -41399662.4080674, 'sUSD mints': 16112571.028504308, 'sUSD supply': 111026629.76813723, 'week': '2022-04-04 00:00:00.000 UTC'}, {'BUSD burns': -121745686.08999999, 'BUSD mints': 346187151.51000005, 'BUSD supply': 17790453711.349995, 'DAI burns': -1380269677.2448747, 'DAI mints': 1211546224.7196596, 'DAI supply': 9087601857.972853, 'FRAX burns': -101496006.16637588, 'FRAX mints': 0, 'FRAX supply': 2690087497.1697445, 'LUSD burns': -3352962.9088074425, 'LUSD mints': 15651385.942783335, 'LUSD supply': 485260234.2484319, 'PYUSD burns': None, 'PYUSD mints': None, 'PYUSD supply': None, 'RLUSD burns': None, 'RLUSD mints': None, 'RLUSD supply': None, 'USDC burns': -3349017706.899999, 'USDC mints': 2696342319.38, 'USDC supply': 45960855122.42956, 'USDS burns': None, 'USDS mints': None, 'USDS supply': None, 'sUSD burns': -25480736.418227743, 'sUSD mints': 64439232.6380151, 'sUSD supply': 136313721.1477003, 'week': '2022-03-28 00:00:00.000 UTC'}, {'BUSD burns': -265744233.89999998, 'BUSD mints': 25720719.27, 'BUSD supply': 17566012245.929996, 'DAI burns': -1074271272.716231, 'DAI mints': 791786815.5533453, 'DAI supply': 9256325310.498068, 'FRAX burns': -20494999.75, 'FRAX mints': 0, 'FRAX supply': 2791583503.3361206, 'LUSD burns': -5626183.862082529, 'LUSD mints': 7586645.801971193, 'LUSD supply': 472961811.214456, 'PYUSD burns': None, 'PYUSD mints': None, 'PYUSD supply': None, 'RLUSD burns': None, 'RLUSD mints': None, 'RLUSD supply': None, 'USDC burns': -3834964504.9599996, 'USDC mints': 2941871653.21, 'USDC supply': 46613530509.949554, 'USDS burns': None, 'USDS mints': None, 'USDS supply': None, 'sUSD burns': -28125185.14534521, 'sUSD mints': 32706617.70022662, 'sUSD supply': 97355224.92791297, 'week': '2022-03-21 00:00:00.000 UTC'}, {'BUSD burns': -277424582.21999997, 'BUSD mints': 75169556.97, 'BUSD supply': 17806035760.559998, 'DAI burns': -404136402.4205788, 'DAI mints': 546511701.4543573, 'DAI supply': 9538809767.660954, 'FRAX burns': -106155554.25001529, 'FRAX mints': 15000000, 'FRAX supply': 2812078503.0861206, 'LUSD burns': -8931635.60133838, 'LUSD mints': 12933239.926838584, 'LUSD supply': 471001349.27456737, 'PYUSD burns': None, 'PYUSD mints': None, 'PYUSD supply': None, 'RLUSD burns': None, 'RLUSD mints': None, 'RLUSD supply': None, 'USDC burns': -1535848091.6399996, 'USDC mints': 1984972985.9199998, 'USDC supply': 47506623361.699554, 'USDS burns': None, 'USDS mints': None, 'USDS supply': None, 'sUSD burns': -29504643.12729213, 'sUSD mints': 36725428.82578931, 'sUSD supply': 92773792.37303156, 'week': '2022-03-14 00:00:00.000 UTC'}, {'BUSD burns': -407730969.3, 'BUSD mints': 463855255.14, 'BUSD supply': 18008290785.809998, 'DAI burns': -420864787.1387096, 'DAI mints': 409741062.7469557, 'DAI supply': 9396434468.627174, 'FRAX burns': 0, 'FRAX mints': 0, 'FRAX supply': 2903234057.336136, 'LUSD burns': -3583409.2135671335, 'LUSD mints': 1776237.0449069296, 'LUSD supply': 466999744.9490672, 'PYUSD burns': None, 'PYUSD mints': None, 'PYUSD supply': None, 'RLUSD burns': None, 'RLUSD mints': None, 'RLUSD supply': None, 'USDC burns': -1960941849.6100001, 'USDC mints': 1854238136.9499996, 'USDC supply': 47057498467.419556, 'USDS burns': None, 'USDS mints': None, 'USDS supply': None, 'sUSD burns': -29644702.397423033, 'sUSD mints': 29826878.835342392, 'sUSD supply': 85553006.67453437, 'week': '2022-03-07 00:00:00.000 UTC'}, {'BUSD burns': -566136769.69, 'BUSD mints': 380054821.06, 'BUSD supply': 17952166499.969997, 'DAI burns': -990786497.5759909, 'DAI mints': 1180404873.7652156, 'DAI supply': 9407558193.018929, 'FRAX burns': 0, 'FRAX mints': 50000000, 'FRAX supply': 2903234057.336136, 'LUSD burns': -18659031.00592637, 'LUSD mints': 18357937.605829343, 'LUSD supply': 468806917.1177274, 'PYUSD burns': None, 'PYUSD mints': None, 'PYUSD supply': None, 'RLUSD burns': None, 'RLUSD mints': None, 'RLUSD supply': None, 'USDC burns': -2413075823.5299997, 'USDC mints': 1729637734.7600002, 'USDC supply': 47164202180.07956, 'USDS burns': None, 'USDS mints': None, 'USDS supply': None, 'sUSD burns': -85216561.81387538, 'sUSD mints': 57412469.778209865, 'sUSD supply': 85370830.236615, 'week': '2022-02-28 00:00:00.000 UTC'}, {'BUSD burns': -484133473.62, 'BUSD mints': 511959614.90999997, 'BUSD supply': 18138248448.6, 'DAI burns': -2035318273.3054214, 'DAI mints': 1498520081.2325404, 'DAI supply': 9217939816.829704, 'FRAX burns': 0, 'FRAX mints': 200000000, 'FRAX supply': 2853234057.336136, 'LUSD burns': -57209081.259839304, 'LUSD mints': 35454478.90222442, 'LUSD supply': 469108010.5178244, 'PYUSD burns': None, 'PYUSD mints': None, 'PYUSD supply': None, 'RLUSD burns': None, 'RLUSD mints': None, 'RLUSD supply': None, 'USDC burns': -1072596212.9699999, 'USDC mints': 1830103253.1999998, 'USDC supply': 47847640268.849556, 'USDS burns': None, 'USDS mints': None, 'USDS supply': None, 'sUSD burns': -23910140.067544565, 'sUSD mints': 41060395.22576807, 'sUSD supply': 113174922.27228051, 'week': '2022-02-21 00:00:00.000 UTC'}, {'BUSD burns': -300705618.52, 'BUSD mints': 818559257.3699999, 'BUSD supply': 18110422307.309998, 'DAI burns': -746465946.5011066, 'DAI mints': 683389180.2354541, 'DAI supply': 9754738008.902584, 'FRAX burns': 0, 'FRAX mints': 0, 'FRAX supply': 2653234057.336136, 'LUSD burns': -24583002.66019295, 'LUSD mints': 20780705.141390048, 'LUSD supply': 490862612.8754393, 'PYUSD burns': None, 'PYUSD mints': None, 'PYUSD supply': None, 'RLUSD burns': None, 'RLUSD mints': None, 'RLUSD supply': None, 'USDC burns': -901762090.6699998, 'USDC mints': 1096296244.96, 'USDC supply': 47090133228.61955, 'USDS burns': None, 'USDS mints': None, 'USDS supply': None, 'sUSD burns': -72746478.49379517, 'sUSD mints': 60080230.8358014, 'sUSD supply': 96024667.11405702, 'week': '2022-02-14 00:00:00.000 UTC'}, {'BUSD burns': -232325381.27, 'BUSD mints': 1302566540.74, 'BUSD supply': 17592568668.46, 'DAI burns': -381548024.07406944, 'DAI mints': 873541935.8803539, 'DAI supply': 9817814775.168236, 'FRAX burns': 0, 'FRAX mints': 0, 'FRAX supply': 2653234057.336136, 'LUSD burns': -15711026.144507082, 'LUSD mints': 11235535.430638408, 'LUSD supply': 494664910.39424217, 'PYUSD burns': None, 'PYUSD mints': None, 'PYUSD supply': None, 'RLUSD burns': None, 'RLUSD mints': None, 'RLUSD supply': None, 'USDC burns': -536224326.61, 'USDC mints': 1677668522.47, 'USDC supply': 46895599074.32955, 'USDS burns': None, 'USDS mints': None, 'USDS supply': None, 'sUSD burns': -46663641.56833009, 'sUSD mints': 65914973.71831795, 'sUSD supply': 108690914.77205078, 'week': '2022-02-07 00:00:00.000 UTC'}, {'BUSD burns': -100063248.00999999, 'BUSD mints': 1637817229.3799999, 'BUSD supply': 16522327508.989998, 'DAI burns': -1169325274.5107243, 'DAI mints': 1363515279.5228474, 'DAI supply': 9325820863.361952, 'FRAX burns': 0, 'FRAX mints': 14200000, 'FRAX supply': 2653234057.336136, 'LUSD burns': -20052359.66383099, 'LUSD mints': 36385607.683033794, 'LUSD supply': 499140401.10811085, 'PYUSD burns': None, 'PYUSD mints': None, 'PYUSD supply': None, 'RLUSD burns': None, 'RLUSD mints': None, 'RLUSD supply': None, 'USDC burns': -751266859.2400001, 'USDC mints': 1863267895.41, 'USDC supply': 45754154878.46955, 'USDS burns': None, 'USDS mints': None, 'USDS supply': None, 'sUSD burns': -65767741.789040975, 'sUSD mints': 70653862.52904342, 'sUSD supply': 89439582.62206292, 'week': '2022-01-31 00:00:00.000 UTC'}, {'BUSD burns': -333767914.76, 'BUSD mints': 1303694846.5700002, 'BUSD supply': 14984573527.619999, 'DAI burns': -1753743450.2269478, 'DAI mints': 1764498739.4632986, 'DAI supply': 9131630858.349829, 'FRAX burns': 0, 'FRAX mints': 11736755.462398998, 'FRAX supply': 2639034057.336136, 'LUSD burns': -100708445.46317197, 'LUSD mints': 50855710.58489441, 'LUSD supply': 482807153.0889081, 'PYUSD burns': None, 'PYUSD mints': None, 'PYUSD supply': None, 'RLUSD burns': None, 'RLUSD mints': None, 'RLUSD supply': None, 'USDC burns': -886587232.0099999, 'USDC mints': 3088911143.1800003, 'USDC supply': 44642153842.29955, 'USDS burns': None, 'USDS mints': None, 'USDS supply': None, 'sUSD burns': -100680118.92109393, 'sUSD mints': 88063179.66723377, 'sUSD supply': 84553461.88206047, 'week': '2022-01-24 00:00:00.000 UTC'}, {'BUSD burns': -881417676.2500001, 'BUSD mints': 448864486.51, 'BUSD supply': 14014646595.81, 'DAI burns': -2171212242.407713, 'DAI mints': 2038031850.714388, 'DAI supply': 9120875569.113478, 'FRAX burns': -100692921.52414572, 'FRAX mints': 567000000, 'FRAX supply': 2627297301.873737, 'LUSD burns': -323558261.9482585, 'LUSD mints': 57081991.81469057, 'LUSD supply': 532659887.9671856, 'PYUSD burns': None, 'PYUSD mints': None, 'PYUSD supply': None, 'RLUSD burns': None, 'RLUSD mints': None, 'RLUSD supply': None, 'USDC burns': -664359604.0699999, 'USDC mints': 2881120683.6000004, 'USDC supply': 42439829931.129555, 'USDS burns': None, 'USDS mints': None, 'USDS supply': None, 'sUSD burns': -67707588.03010902, 'sUSD mints': 50108122.18607155, 'sUSD supply': 97170401.13592063, 'week': '2022-01-17 00:00:00.000 UTC'}, {'BUSD burns': -14119618.469999999, 'BUSD mints': 436737869.40999997, 'BUSD supply': 14447199785.55, 'DAI burns': -591958271.0170157, 'DAI mints': 913781205.3478596, 'DAI supply': 9254055960.806803, 'FRAX burns': 0, 'FRAX mints': 235373029.78830138, 'FRAX supply': 2160990223.3978825, 'LUSD burns': -51939471.58586932, 'LUSD mints': 27330245.797676753, 'LUSD supply': 799136158.1007535, 'PYUSD burns': None, 'PYUSD mints': None, 'PYUSD supply': None, 'RLUSD burns': None, 'RLUSD mints': None, 'RLUSD supply': None, 'USDC burns': -866443561.87, 'USDC mints': 2382816119.8700004, 'USDC supply': 40223068851.599556, 'USDS burns': None, 'USDS mints': None, 'USDS supply': None, 'sUSD burns': -45650315.44345861, 'sUSD mints': 44200087.93326642, 'sUSD supply': 114769866.97995809, 'week': '2022-01-10 00:00:00.000 UTC'}, {'BUSD burns': -775912611.62, 'BUSD mints': 365502422.06, 'BUSD supply': 14024581534.609999, 'DAI burns': -913463169.3633443, 'DAI mints': 846799252.2943122, 'DAI supply': 8932233026.47596, 'FRAX burns': 0, 'FRAX mints': 80050612.3720716, 'FRAX supply': 1925617193.6095812, 'LUSD burns': -49574327.65905227, 'LUSD mints': 25196842.88080998, 'LUSD supply': 823745383.8889462, 'PYUSD burns': None, 'PYUSD mints': None, 'PYUSD supply': None, 'RLUSD burns': None, 'RLUSD mints': None, 'RLUSD supply': None, 'USDC burns': -1244343269.93, 'USDC mints': 1817565644.79, 'USDC supply': 38706696293.599556, 'USDS burns': None, 'USDS mints': None, 'USDS supply': None, 'sUSD burns': -58214372.98850146, 'sUSD mints': 52967717.364478774, 'sUSD supply': 116220094.49015026, 'week': '2022-01-03 00:00:00.000 UTC'}, {'BUSD burns': -668568319.01, 'BUSD mints': 247672350, 'BUSD supply': 14434991724.169998, 'DAI burns': -10125210615.33105, 'DAI mints': 10073791400.706694, 'DAI supply': 8998896943.544992, 'FRAX burns': 0, 'FRAX mints': 225000000, 'FRAX supply': 1845566581.2375097, 'LUSD burns': -37299619.16373997, 'LUSD mints': 15925578.987990966, 'LUSD supply': 848122868.6671884, 'PYUSD burns': None, 'PYUSD mints': None, 'PYUSD supply': None, 'RLUSD burns': None, 'RLUSD mints': None, 'RLUSD supply': None, 'USDC burns': -1775123162.0999994, 'USDC mints': 2174904389.3499994, 'USDC supply': 38133473918.739555, 'USDS burns': None, 'USDS mints': None, 'USDS supply': None, 'sUSD burns': -35213231.866712235, 'sUSD mints': 21245765.36479226, 'sUSD supply': 121466750.11417295, 'week': '2021-12-27 00:00:00.000 UTC'}, {'BUSD burns': -204000695.97, 'BUSD mints': 681899565.34, 'BUSD supply': 14855887693.179998, 'DAI burns': -15892887519.773026, 'DAI mints': 16020363198.693573, 'DAI supply': 9050316158.169348, 'FRAX burns': 0, 'FRAX mints': 115000000, 'FRAX supply': 1620566581.2375097, 'LUSD burns': -33974634.1066781, 'LUSD mints': 61289394.46091798, 'LUSD supply': 869496908.8429375, 'PYUSD burns': None, 'PYUSD mints': None, 'PYUSD supply': None, 'RLUSD burns': None, 'RLUSD mints': None, 'RLUSD supply': None, 'USDC burns': -1058453211.8700001, 'USDC mints': 1517812541.45, 'USDC supply': 37733692691.489555, 'USDS burns': None, 'USDS mints': None, 'USDS supply': None, 'sUSD burns': -22098600.967159677, 'sUSD mints': 56526758.04806151, 'sUSD supply': 135434216.61609292, 'week': '2021-12-20 00:00:00.000 UTC'}, {'BUSD burns': -185213279.01999998, 'BUSD mints': 677533523.1300001, 'BUSD supply': 14377988823.809998, 'DAI burns': -27105104975.591316, 'DAI mints': 27106675005.187027, 'DAI supply': 8922840479.248802, 'FRAX burns': 0, 'FRAX mints': 40000000, 'FRAX supply': 1505566581.2375097, 'LUSD burns': -94392892.46268247, 'LUSD mints': 44137918.38162679, 'LUSD supply': 842182148.4886976, 'PYUSD burns': None, 'PYUSD mints': None, 'PYUSD supply': None, 'RLUSD burns': None, 'RLUSD mints': None, 'RLUSD supply': None, 'USDC burns': -1160305306.5600002, 'USDC mints': 1585373501.2299998, 'USDC supply': 37274333361.90955, 'USDS burns': None, 'USDS mints': None, 'USDS supply': None, 'sUSD burns': -70230186.28776631, 'sUSD mints': 72238557.39743525, 'sUSD supply': 101006059.53519109, 'week': '2021-12-13 00:00:00.000 UTC'}, {'BUSD burns': -487874641.71, 'BUSD mints': 775077411.51, 'BUSD supply': 13885668579.699997, 'DAI burns': -13909866918.18672, 'DAI mints': 13835546767.06132, 'DAI supply': 8921270449.653095, 'FRAX burns': 0, 'FRAX mints': 206500000, 'FRAX supply': 1465566581.2375097, 'LUSD burns': -65840474.34664247, 'LUSD mints': 54990197.19278836, 'LUSD supply': 892437122.5697533, 'PYUSD burns': None, 'PYUSD mints': None, 'PYUSD supply': None, 'RLUSD burns': None, 'RLUSD mints': None, 'RLUSD supply': None, 'USDC burns': -1455991346.4699998, 'USDC mints': 2196791894.04, 'USDC supply': 36849265167.239555, 'USDS burns': None, 'USDS mints': None, 'USDS supply': None, 'sUSD burns': -88452739.15745603, 'sUSD mints': 92795554.96422662, 'sUSD supply': 98997688.42552213, 'week': '2021-12-06 00:00:00.000 UTC'}, {'BUSD burns': -305558716.01, 'BUSD mints': 933453238.1599998, 'BUSD supply': 13598465809.899998, 'DAI burns': -1012424621.5952457, 'DAI mints': 1302287725.4249156, 'DAI supply': 8995590600.778496, 'FRAX burns': 0, 'FRAX mints': 80000000, 'FRAX supply': 1259066581.2375097, 'LUSD burns': -58831727.488575086, 'LUSD mints': 34557391.971030764, 'LUSD supply': 903287399.7236074, 'PYUSD burns': None, 'PYUSD mints': None, 'PYUSD supply': None, 'RLUSD burns': None, 'RLUSD mints': None, 'RLUSD supply': None, 'USDC burns': -1713354960.8100004, 'USDC mints': 3364538366.9700003, 'USDC supply': 36108464619.669556, 'USDS burns': None, 'USDS mints': None, 'USDS supply': None, 'sUSD burns': -72489016.63641658, 'sUSD mints': 76097298.46928853, 'sUSD supply': 94654872.61875156, 'week': '2021-11-29 00:00:00.000 UTC'}, {'BUSD burns': -493022716.71000004, 'BUSD mints': 200608558.3, 'BUSD supply': 12970571287.749998, 'DAI burns': -1698121912.1947281, 'DAI mints': 1728443997.5312219, 'DAI supply': 8705727496.948826, 'FRAX burns': 0, 'FRAX mints': 75000000, 'FRAX supply': 1179066581.2375097, 'LUSD burns': -28073690.410006832, 'LUSD mints': 95396449.14073873, 'LUSD supply': 927561735.2411518, 'PYUSD burns': None, 'PYUSD mints': None, 'PYUSD supply': None, 'RLUSD burns': None, 'RLUSD mints': None, 'RLUSD supply': None, 'USDC burns': -936857718.6199999, 'USDC mints': 2757327159.7500005, 'USDC supply': 34457281213.50955, 'USDS burns': None, 'USDS mints': None, 'USDS supply': None, 'sUSD burns': -101137649.15709013, 'sUSD mints': 55160081.92728488, 'sUSD supply': 91046590.78587964, 'week': '2021-11-22 00:00:00.000 UTC'}, {'BUSD burns': -293022814.92999995, 'BUSD mints': 813519348.93, 'BUSD supply': 13262985446.159998, 'DAI burns': -2046065440.2211964, 'DAI mints': 2262092763.837164, 'DAI supply': 8675405411.612331, 'FRAX burns': 0, 'FRAX mints': 157750000, 'FRAX supply': 1104066581.2375097, 'LUSD burns': -27429875.10111825, 'LUSD mints': 125314400.36907578, 'LUSD supply': 860238976.51042, 'PYUSD burns': None, 'PYUSD mints': None, 'PYUSD supply': None, 'RLUSD burns': None, 'RLUSD mints': None, 'RLUSD supply': None, 'USDC burns': -1486549228.61, 'USDC mints': 2958930605.82, 'USDC supply': 32636811772.37955, 'USDS burns': None, 'USDS mints': None, 'USDS supply': None, 'sUSD burns': -74916515.9474479, 'sUSD mints': 94873604.33587618, 'sUSD supply': 137024158.01568487, 'week': '2021-11-15 00:00:00.000 UTC'}, {'BUSD burns': -1141369601.7599998, 'BUSD mints': 275127449.82, 'BUSD supply': 12742488912.159998, 'DAI burns': -982035348.7302618, 'DAI mints': 1308927423.9761934, 'DAI supply': 8459378087.996364, 'FRAX burns': 0, 'FRAX mints': 265000000, 'FRAX supply': 946316581.2375097, 'LUSD burns': -8827417.74441832, 'LUSD mints': 57976286.359278925, 'LUSD supply': 762354451.2424624, 'PYUSD burns': None, 'PYUSD mints': None, 'PYUSD supply': None, 'RLUSD burns': None, 'RLUSD mints': None, 'RLUSD supply': None, 'USDC burns': -1992905331.1700003, 'USDC mints': 2045401825.5299997, 'USDC supply': 31164430395.16955, 'USDS burns': None, 'USDS mints': None, 'USDS supply': None, 'sUSD burns': -95588158.9751102, 'sUSD mints': 90599274.74928671, 'sUSD supply': 117067069.62725654, 'week': '2021-11-08 00:00:00.000 UTC'}, {'BUSD burns': -702901555.03, 'BUSD mints': 691931292.0000001, 'BUSD supply': 13608731064.099998, 'DAI burns': -1326373177.793599, 'DAI mints': 1674024986.1974642, 'DAI supply': 8132486012.750432, 'FRAX burns': -9384143.946368, 'FRAX mints': 84384142.94636801, 'FRAX supply': 681316581.2375097, 'LUSD burns': -41324950.09149853, 'LUSD mints': 81945192.95395572, 'LUSD supply': 713205582.6276017, 'PYUSD burns': None, 'PYUSD mints': None, 'PYUSD supply': None, 'RLUSD burns': None, 'RLUSD mints': None, 'RLUSD supply': None, 'USDC burns': -1275688572, 'USDC mints': 2150519956.76, 'USDC supply': 31111933900.80955, 'USDS burns': None, 'USDS mints': None, 'USDS supply': None, 'sUSD burns': -55131343.70413625, 'sUSD mints': 79180533.95796359, 'sUSD supply': 122055953.85308, 'week': '2021-11-01 00:00:00.000 UTC'}, {'BUSD burns': -130568472.08000001, 'BUSD mints': 885501512.51, 'BUSD supply': 13619701327.13, 'DAI burns': -3034717839.5987015, 'DAI mints': 3504770529.069528, 'DAI supply': 7784834204.346566, 'FRAX burns': 0, 'FRAX mints': 120000000, 'FRAX supply': 606316582.2375097, 'LUSD burns': -106676357.53892252, 'LUSD mints': 171648232.2821281, 'LUSD supply': 672585339.7651446, 'PYUSD burns': None, 'PYUSD mints': None, 'PYUSD supply': None, 'RLUSD burns': None, 'RLUSD mints': None, 'RLUSD supply': None, 'USDC burns': -1445518612.0700002, 'USDC mints': 2094629223.57, 'USDC supply': 30237102516.049553, 'USDS burns': None, 'USDS mints': None, 'USDS supply': None, 'sUSD burns': -116425983.33274317, 'sUSD mints': 71007615.30527577, 'sUSD supply': 98006763.5992527, 'week': '2021-10-25 00:00:00.000 UTC'}, {'BUSD burns': -530357228.1, 'BUSD mints': 385633127.55999994, 'BUSD supply': 12864768286.699999, 'DAI burns': -421739935.0726333, 'DAI mints': 727315683.8923352, 'DAI supply': 7314781514.875738, 'FRAX burns': 0, 'FRAX mints': 35024684.46013614, 'FRAX supply': 486316582.2375098, 'LUSD burns': -39013000.29456814, 'LUSD mints': 45126255.998853005, 'LUSD supply': 607613465.021939, 'PYUSD burns': None, 'PYUSD mints': None, 'PYUSD supply': None, 'RLUSD burns': None, 'RLUSD mints': None, 'RLUSD supply': None, 'USDC burns': -1988965979.1299996, 'USDC mints': 1659449394.4199998, 'USDC supply': 29587991904.549553, 'USDS burns': None, 'USDS mints': None, 'USDS supply': None, 'sUSD burns': -33298317.070293292, 'sUSD mints': 46007914.90605179, 'sUSD supply': 143425131.62672007, 'week': '2021-10-18 00:00:00.000 UTC'}, {'BUSD burns': -459695619.15000004, 'BUSD mints': 286604231.65, 'BUSD supply': 13009492387.24, 'DAI burns': -98248980.51169169, 'DAI mints': 571496350.7715112, 'DAI supply': 7009205766.056036, 'FRAX burns': 0, 'FRAX mints': 57761065.11615561, 'FRAX supply': 451291897.7773737, 'LUSD burns': -84731984.25426903, 'LUSD mints': 57963740.76969786, 'LUSD supply': 601500209.3176541, 'PYUSD burns': None, 'PYUSD mints': None, 'PYUSD supply': None, 'RLUSD burns': None, 'RLUSD mints': None, 'RLUSD supply': None, 'USDC burns': -1182315797.53, 'USDC mints': 1080620211.82, 'USDC supply': 29917508489.259552, 'USDS burns': None, 'USDS mints': None, 'USDS supply': None, 'sUSD burns': -78367707.27375163, 'sUSD mints': 33201015.664599665, 'sUSD supply': 130715533.79096156, 'week': '2021-10-11 00:00:00.000 UTC'}, {'BUSD burns': -284941431.92, 'BUSD mints': 408032815.22, 'BUSD supply': 13182583774.74, 'DAI burns': -110191311.37745541, 'DAI mints': 400453840.68897235, 'DAI supply': 6535958395.796217, 'FRAX burns': -5000000, 'FRAX mints': 46621580.547112465, 'FRAX supply': 393530832.66121805, 'LUSD burns': -8016656.9949786095, 'LUSD mints': 31017931.430361394, 'LUSD supply': 628268452.8022254, 'PYUSD burns': None, 'PYUSD mints': None, 'PYUSD supply': None, 'RLUSD burns': None, 'RLUSD mints': None, 'RLUSD supply': None, 'USDC burns': -1062924403.5, 'USDC mints': 1820017225.5000002, 'USDC supply': 30019204074.96955, 'USDS burns': None, 'USDS mints': None, 'USDS supply': None, 'sUSD burns': -58960811.73029944, 'sUSD mints': 43285081.17777029, 'sUSD supply': 175882225.40011352, 'week': '2021-10-04 00:00:00.000 UTC'}, {'BUSD burns': -908779837.9599999, 'BUSD mints': 278946920.37, 'BUSD supply': 13059492391.44, 'DAI burns': -330638447.7985328, 'DAI mints': 524105633.70698345, 'DAI supply': 6245695866.4847, 'FRAX burns': 0, 'FRAX mints': 12449184.857695494, 'FRAX supply': 351909252.1141056, 'LUSD burns': -11306718.152114527, 'LUSD mints': 30742626.45474083, 'LUSD supply': 605267178.3668425, 'PYUSD burns': None, 'PYUSD mints': None, 'PYUSD supply': None, 'RLUSD burns': None, 'RLUSD mints': None, 'RLUSD supply': None, 'USDC burns': -973579651.8, 'USDC mints': 1898397128.6699998, 'USDC supply': 29262111252.96955, 'USDS burns': None, 'USDS mints': None, 'USDS supply': None, 'sUSD burns': -108413186.1788487, 'sUSD mints': 35957349.22913115, 'sUSD supply': 191557955.95264268, 'week': '2021-09-27 00:00:00.000 UTC'}, {'BUSD burns': -57200376.519999996, 'BUSD mints': 913081226.8500001, 'BUSD supply': 13689325309.03, 'DAI burns': -881804592.8021152, 'DAI mints': 624099681.819814, 'DAI supply': 6052228680.576249, 'FRAX burns': 0, 'FRAX mints': 506841.1508159483, 'FRAX supply': 339460067.25641006, 'LUSD burns': -66166863.23753297, 'LUSD mints': 97053216.56693174, 'LUSD supply': 585831270.0642163, 'PYUSD burns': None, 'PYUSD mints': None, 'PYUSD supply': None, 'RLUSD burns': None, 'RLUSD mints': None, 'RLUSD supply': None, 'USDC burns': -1126074724.1299999, 'USDC mints': 2599491631.8299994, 'USDC supply': 28337293776.099552, 'USDS burns': None, 'USDS mints': None, 'USDS supply': None, 'sUSD burns': -129347874.21860516, 'sUSD mints': 89422378.4812346, 'sUSD supply': 264013792.90236026, 'week': '2021-09-20 00:00:00.000 UTC'}, {'BUSD burns': -197356210.57999998, 'BUSD mints': 562708311.25, 'BUSD supply': 12833444458.7, 'DAI burns': -127681372.57361844, 'DAI mints': 153433323.96168622, 'DAI supply': 6309933591.55855, 'FRAX burns': -13224097, 'FRAX mints': 34674591.48312529, 'FRAX supply': 338953226.1055941, 'LUSD burns': -58088177.85829956, 'LUSD mints': 9110912.854839567, 'LUSD supply': 554944916.7348175, 'PYUSD burns': None, 'PYUSD mints': None, 'PYUSD supply': None, 'RLUSD burns': None, 'RLUSD mints': None, 'RLUSD supply': None, 'USDC burns': -1158734851.1399999, 'USDC mints': 1344068473.81, 'USDC supply': 26863876868.39955, 'USDS burns': None, 'USDS mints': None, 'USDS supply': None, 'sUSD burns': -218949020.01099408, 'sUSD mints': 277100283.4879891, 'sUSD supply': 303939288.6397308, 'week': '2021-09-13 00:00:00.000 UTC'}, {'BUSD burns': -507520226.43, 'BUSD mints': 432766648.86999995, 'BUSD supply': 12468092358.03, 'DAI burns': -165987033.84251976, 'DAI mints': 300582589.518472, 'DAI supply': 6284181640.170482, 'FRAX burns': -11308167.21034, 'FRAX mints': 14053910.76461595, 'FRAX supply': 317502731.6224688, 'LUSD burns': -46112101.060008, 'LUSD mints': 28999013.219181206, 'LUSD supply': 603922181.7382776, 'PYUSD burns': None, 'PYUSD mints': None, 'PYUSD supply': None, 'RLUSD burns': None, 'RLUSD mints': None, 'RLUSD supply': None, 'USDC burns': -1663232490.1, 'USDC mints': 1992316494.7500002, 'USDC supply': 26678543245.729553, 'USDS burns': None, 'USDS mints': None, 'USDS supply': None, 'sUSD burns': -87353390.80314825, 'sUSD mints': 67380525.4510995, 'sUSD supply': 245788025.16273573, 'week': '2021-09-06 00:00:00.000 UTC'}, {'BUSD burns': -123851138.91, 'BUSD mints': 403205390.62999994, 'BUSD supply': 12542845935.59, 'DAI burns': -80099647.46501575, 'DAI mints': 398171427.3036747, 'DAI supply': 6149586084.49453, 'FRAX burns': -6000000, 'FRAX mints': 9314698.795180723, 'FRAX supply': 314756988.0681929, 'LUSD burns': -3095437.5297759417, 'LUSD mints': 34882116.12967674, 'LUSD supply': 621035269.5791043, 'PYUSD burns': None, 'PYUSD mints': None, 'PYUSD supply': None, 'RLUSD burns': None, 'RLUSD mints': None, 'RLUSD supply': None, 'USDC burns': -1322383586.8700001, 'USDC mints': 1626134694.5399995, 'USDC supply': 26349459241.07955, 'USDS burns': None, 'USDS mints': None, 'USDS supply': None, 'sUSD burns': -101596488.98330508, 'sUSD mints': 66928145.25484076, 'sUSD supply': 265760890.5147845, 'week': '2021-08-30 00:00:00.000 UTC'}, {'BUSD burns': -280056079.64, 'BUSD mints': 257907211.92000002, 'BUSD supply': 12263491683.87, 'DAI burns': -50636393.78242488, 'DAI mints': 112714465.6121879, 'DAI supply': 5831514304.65587, 'FRAX burns': -1216684.3037616056, 'FRAX mints': 12549442.838667702, 'FRAX supply': 311442289.27301216, 'LUSD burns': -34747276.61853539, 'LUSD mints': 21990520.929982666, 'LUSD supply': 589248590.9792035, 'PYUSD burns': None, 'PYUSD mints': None, 'PYUSD supply': None, 'RLUSD burns': None, 'RLUSD mints': None, 'RLUSD supply': None, 'USDC burns': -1012800205.4800003, 'USDC mints': 1209971688.63, 'USDC supply': 26045708133.409554, 'USDS burns': None, 'USDS mints': None, 'USDS supply': None, 'sUSD burns': -80498745.06971493, 'sUSD mints': 95317679.70600139, 'sUSD supply': 300429234.2432488, 'week': '2021-08-23 00:00:00.000 UTC'}, {'BUSD burns': -219369471.57999998, 'BUSD mints': 457604084.18, 'BUSD supply': 12285640551.59, 'DAI burns': -83916624.46108659, 'DAI mints': 132798629.03184398, 'DAI supply': 5769436232.826107, 'FRAX burns': -6467865.863469999, 'FRAX mints': 34799343.67331894, 'FRAX supply': 300109530.7381061, 'LUSD burns': -9312557.340318758, 'LUSD mints': 33372577.039693378, 'LUSD supply': 602005346.6677562, 'PYUSD burns': None, 'PYUSD mints': None, 'PYUSD supply': None, 'RLUSD burns': None, 'RLUSD mints': None, 'RLUSD supply': None, 'USDC burns': -1828444106.0400002, 'USDC mints': 1147554417.02, 'USDC supply': 25848536650.259552, 'USDS burns': None, 'USDS mints': None, 'USDS supply': None, 'sUSD burns': -130382329.85801324, 'sUSD mints': 160465813.31478512, 'sUSD supply': 285610299.6069624, 'week': '2021-08-16 00:00:00.000 UTC'}, {'BUSD burns': -375151198.44, 'BUSD mints': 169798959.07999998, 'BUSD supply': 12047405938.99, 'DAI burns': -211612850.51376545, 'DAI mints': 391008412.0192336, 'DAI supply': 5720554228.25535, 'FRAX burns': -14217637.361208554, 'FRAX mints': 25978735.486246247, 'FRAX supply': 271778052.9282571, 'LUSD burns': -16433852.362414213, 'LUSD mints': 39929731.510166675, 'LUSD supply': 577945326.9683815, 'PYUSD burns': None, 'PYUSD mints': None, 'PYUSD supply': None, 'RLUSD burns': None, 'RLUSD mints': None, 'RLUSD supply': None, 'USDC burns': -1619424222.1000001, 'USDC mints': 1281672675.7900002, 'USDC supply': 26529426339.279552, 'USDS burns': None, 'USDS mints': None, 'USDS supply': None, 'sUSD burns': -122340001.9352642, 'sUSD mints': 150428072.35465693, 'sUSD supply': 255526816.1501905, 'week': '2021-08-09 00:00:00.000 UTC'}, {'BUSD burns': -326175078.06, 'BUSD mints': 353034982.62, 'BUSD supply': 12252758178.35, 'DAI burns': -68779813.52370709, 'DAI mints': 204823435.47724438, 'DAI supply': 5541158666.749882, 'FRAX burns': -30904496.348487698, 'FRAX mints': 31269716.986354627, 'FRAX supply': 260016954.8032194, 'LUSD burns': -7948879.039111595, 'LUSD mints': 66165521.054629736, 'LUSD supply': 554449447.820629, 'PYUSD burns': None, 'PYUSD mints': None, 'PYUSD supply': None, 'RLUSD burns': None, 'RLUSD mints': None, 'RLUSD supply': None, 'USDC burns': -1101646069.87, 'USDC mints': 1410344095.69, 'USDC supply': 26867177885.589554, 'USDS burns': None, 'USDS mints': None, 'USDS supply': None, 'sUSD burns': -202955075.43555167, 'sUSD mints': 221883116.29607964, 'sUSD supply': 227438745.7307978, 'week': '2021-08-02 00:00:00.000 UTC'}, {'BUSD burns': -134275852.95000002, 'BUSD mints': 571136916.49, 'BUSD supply': 12225898273.79, 'DAI burns': -116944959.39835069, 'DAI mints': 220131188.9226806, 'DAI supply': 5405115044.796345, 'FRAX burns': 0, 'FRAX mints': 15847961.107364291, 'FRAX supply': 259651734.16535246, 'LUSD burns': -5430423.85274239, 'LUSD mints': 31344859.591383565, 'LUSD supply': 496232805.8051109, 'PYUSD burns': None, 'PYUSD mints': None, 'PYUSD supply': None, 'RLUSD burns': None, 'RLUSD mints': None, 'RLUSD supply': None, 'USDC burns': -975717947.9800001, 'USDC mints': 1287393231.87, 'USDC supply': 26558479859.769554, 'USDS burns': None, 'USDS mints': None, 'USDS supply': None, 'sUSD burns': -233774582.80820072, 'sUSD mints': 233754729.18087816, 'sUSD supply': 208510704.87026978, 'week': '2021-07-26 00:00:00.000 UTC'}, {'BUSD burns': -132216031.07999998, 'BUSD mints': 723984221.8399999, 'BUSD supply': 11789037210.25, 'DAI burns': -157946754.15364075, 'DAI mints': 209842886.2642892, 'DAI supply': 5301928815.272015, 'FRAX burns': 0, 'FRAX mints': 7089000.167233755, 'FRAX supply': 243803773.05798817, 'LUSD burns': -39939572.81706778, 'LUSD mints': 33024271.285551034, 'LUSD supply': 470318370.06646967, 'PYUSD burns': None, 'PYUSD mints': None, 'PYUSD supply': None, 'RLUSD burns': None, 'RLUSD mints': None, 'RLUSD supply': None, 'USDC burns': -444245283.3, 'USDC mints': 867875376.82, 'USDC supply': 26246804575.879555, 'USDS burns': None, 'USDS mints': None, 'USDS supply': None, 'sUSD burns': -375286332.5931678, 'sUSD mints': 330399243.5168314, 'sUSD supply': 208530558.49759233, 'week': '2021-07-19 00:00:00.000 UTC'}, {'BUSD burns': -582187098.73, 'BUSD mints': 1083284670.6799998, 'BUSD supply': 11197269019.49, 'DAI burns': -99488319.58411084, 'DAI mints': 106521361.06256051, 'DAI supply': 5250032683.161366, 'FRAX burns': -3000000, 'FRAX mints': 9798861.431603327, 'FRAX supply': 236714772.8907544, 'LUSD burns': -282306768.35965407, 'LUSD mints': 6019192.128440229, 'LUSD supply': 477233671.5979864, 'PYUSD burns': None, 'PYUSD mints': None, 'PYUSD supply': None, 'RLUSD burns': None, 'RLUSD mints': None, 'RLUSD supply': None, 'USDC burns': -1046773235.25, 'USDC mints': 1593421853.02, 'USDC supply': 25823174482.359554, 'USDS burns': None, 'USDS mints': None, 'USDS supply': None, 'sUSD burns': -171720836.26696894, 'sUSD mints': 164138438.6684528, 'sUSD supply': 253417647.5739287, 'week': '2021-07-12 00:00:00.000 UTC'}, {'BUSD burns': -143817034.77999997, 'BUSD mints': 157007887.58, 'BUSD supply': 10696171447.539999, 'DAI burns': -86821428.52420041, 'DAI mints': 143172466.47347033, 'DAI supply': 5242999641.682917, 'FRAX burns': -402329.1806077563, 'FRAX mints': 18642209.95318405, 'FRAX supply': 229915911.45915106, 'LUSD burns': -14884878.0827592, 'LUSD mints': 12659755.154647537, 'LUSD supply': 753521247.8292003, 'PYUSD burns': None, 'PYUSD mints': None, 'PYUSD supply': None, 'RLUSD burns': None, 'RLUSD mints': None, 'RLUSD supply': None, 'USDC burns': -427493930.37999994, 'USDC mints': 1015045179.6800001, 'USDC supply': 25276525864.589554, 'USDS burns': None, 'USDS mints': None, 'USDS supply': None, 'sUSD burns': -207190796.00571233, 'sUSD mints': 312651252.4106847, 'sUSD supply': 261000045.17244497, 'week': '2021-07-05 00:00:00.000 UTC'}, {'BUSD burns': -54515100.300000004, 'BUSD mints': 791383412.97, 'BUSD supply': 10682980594.74, 'DAI burns': -82011869.15936372, 'DAI mints': 373473286.67170537, 'DAI supply': 5186648603.733646, 'FRAX burns': -27612365.759022724, 'FRAX mints': 95224469.62203145, 'FRAX supply': 211676030.68657476, 'LUSD burns': -1262330.6464613145, 'LUSD mints': 24853891.86826512, 'LUSD supply': 755746370.7573119, 'PYUSD burns': None, 'PYUSD mints': None, 'PYUSD supply': None, 'RLUSD burns': None, 'RLUSD mints': None, 'RLUSD supply': None, 'USDC burns': -1763761928.2900002, 'USDC mints': 1291571126.85, 'USDC supply': 24688974615.289555, 'USDS burns': None, 'USDS mints': None, 'USDS supply': None, 'sUSD burns': -236259923.02460247, 'sUSD mints': 253322262.68804985, 'sUSD supply': 155539588.76747257, 'week': '2021-06-28 00:00:00.000 UTC'}, {'BUSD burns': -599018555.52, 'BUSD mints': 891240578.3399999, 'BUSD supply': 9946112282.07, 'DAI burns': -477256146.99646205, 'DAI mints': 405203792.5814919, 'DAI supply': 4895187186.221305, 'FRAX burns': -21540352.835899822, 'FRAX mints': 34722751.63272106, 'FRAX supply': 144063926.82356605, 'LUSD burns': -69325213.58549944, 'LUSD mints': 21041852.16085268, 'LUSD supply': 732154809.5355082, 'PYUSD burns': None, 'PYUSD mints': None, 'PYUSD supply': None, 'RLUSD burns': None, 'RLUSD mints': None, 'RLUSD supply': None, 'USDC burns': -1027312031.7099999, 'USDC mints': 2468671160.44, 'USDC supply': 25161165416.729553, 'USDS burns': None, 'USDS mints': None, 'USDS supply': None, 'sUSD burns': -243430770.8515782, 'sUSD mints': 201697559.89481664, 'sUSD supply': 138477249.10402527, 'week': '2021-06-21 00:00:00.000 UTC'}, {'BUSD burns': -323393809.14000005, 'BUSD mints': 399300060.01, 'BUSD supply': 9653890259.25, 'DAI burns': -437477095.50359535, 'DAI mints': 424468856.92291945, 'DAI supply': 4967239540.636275, 'FRAX burns': -11764.7058824, 'FRAX mints': 14277641.289778933, 'FRAX supply': 130881528.02674481, 'LUSD burns': -25626751.267012674, 'LUSD mints': 26298946.14755424, 'LUSD supply': 780438170.9601549, 'PYUSD burns': None, 'PYUSD mints': None, 'PYUSD supply': None, 'RLUSD burns': None, 'RLUSD mints': None, 'RLUSD supply': None, 'USDC burns': -517376784.63000005, 'USDC mints': 1252276634.62, 'USDC supply': 23719806287.999554, 'USDS burns': None, 'USDS mints': None, 'USDS supply': None, 'sUSD burns': -105722536.59189562, 'sUSD mints': 89707421.60067683, 'sUSD supply': 180210460.06078675, 'week': '2021-06-14 00:00:00.000 UTC'}, {'BUSD burns': -692310165.3299999, 'BUSD mints': 622630959.64, 'BUSD supply': 9577984008.38, 'DAI burns': -260569027.55980295, 'DAI mints': 670654182.5582784, 'DAI supply': 4980247779.216951, 'FRAX burns': -4630789.681246737, 'FRAX mints': 245257.18688364173, 'FRAX supply': 116615651.44284828, 'LUSD burns': -9995203.26250619, 'LUSD mints': 23497623.435718693, 'LUSD supply': 779765976.0796133, 'PYUSD burns': None, 'PYUSD mints': None, 'PYUSD supply': None, 'RLUSD burns': None, 'RLUSD mints': None, 'RLUSD supply': None, 'USDC burns': -455249041.29999995, 'USDC mints': 1145338561.7800002, 'USDC supply': 22984906438.009552, 'USDS burns': None, 'USDS mints': None, 'USDS supply': None, 'sUSD burns': -246571633.73002878, 'sUSD mints': 191390600.70547724, 'sUSD supply': 196225575.05200553, 'week': '2021-06-07 00:00:00.000 UTC'}, {'BUSD burns': -76660886.16, 'BUSD mints': 1114629761.06, 'BUSD supply': 9647663214.07, 'DAI burns': -138997813.41390726, 'DAI mints': 277309465.30617213, 'DAI supply': 4570162624.218475, 'FRAX burns': -5902352.94118, 'FRAX mints': 11185427.43261213, 'FRAX supply': 121001183.93721138, 'LUSD burns': -6492999.632221677, 'LUSD mints': 56450467.63607063, 'LUSD supply': 766263555.9064008, 'PYUSD burns': None, 'PYUSD mints': None, 'PYUSD supply': None, 'RLUSD burns': None, 'RLUSD mints': None, 'RLUSD supply': None, 'USDC burns': -386332160.34, 'USDC mints': 876755375.9100001, 'USDC supply': 22294816917.529552, 'USDS burns': None, 'USDS mints': None, 'USDS supply': None, 'sUSD burns': -135393276.69992208, 'sUSD mints': 153288841.1842706, 'sUSD supply': 251406608.07655704, 'week': '2021-05-31 00:00:00.000 UTC'}, {'BUSD burns': -652640866.93, 'BUSD mints': 648032942.3000001, 'BUSD supply': 8609694339.17, 'DAI burns': -510602242.36338186, 'DAI mints': 904481452.8026806, 'DAI supply': 4431850972.326211, 'FRAX burns': -250000, 'FRAX mints': 4129268.691437762, 'FRAX supply': 115718109.44577925, 'LUSD burns': -36046569.32823887, 'LUSD mints': 265488870.6604063, 'LUSD supply': 716306087.9025519, 'PYUSD burns': None, 'PYUSD mints': None, 'PYUSD supply': None, 'RLUSD burns': None, 'RLUSD mints': None, 'RLUSD supply': None, 'USDC burns': -579161363.97, 'USDC mints': 2563821556.6299996, 'USDC supply': 21804393701.959553, 'USDS burns': None, 'USDS mints': None, 'USDS supply': None, 'sUSD burns': -126636445.3411256, 'sUSD mints': 108523715.29820536, 'sUSD supply': 233511043.59220847, 'week': '2021-05-24 00:00:00.000 UTC'}, {'BUSD burns': -874347184.87, 'BUSD mints': 1544829357.92, 'BUSD supply': 8614302263.8, 'DAI burns': -1951718302.3898761, 'DAI mints': 1305370647.5411003, 'DAI supply': 4037971761.8869123, 'FRAX burns': -33513556.569918502, 'FRAX mints': 16829345.381427776, 'FRAX supply': 111838840.75434148, 'LUSD burns': -1106632924.6674309, 'LUSD mints': 83725170.89448427, 'LUSD supply': 486863786.5703845, 'PYUSD burns': None, 'PYUSD mints': None, 'PYUSD supply': None, 'RLUSD burns': None, 'RLUSD mints': None, 'RLUSD supply': None, 'USDC burns': -400283494.86999995, 'USDC mints': 4348306861.31, 'USDC supply': 19819733509.299553, 'USDS burns': None, 'USDS mints': None, 'USDS supply': None, 'sUSD burns': -359442285.0960566, 'sUSD mints': 423574716.75111985, 'sUSD supply': 251623773.6351287, 'week': '2021-05-17 00:00:00.000 UTC'}, {'BUSD burns': -1157780305.0700002, 'BUSD mints': 1224389721.7699997, 'BUSD supply': 7943820090.749998, 'DAI burns': -572061398.7003804, 'DAI mints': 768811996.1624986, 'DAI supply': 4684319416.735688, 'FRAX burns': -37492852.169023514, 'FRAX mints': 31290787.96072017, 'FRAX supply': 128523051.94283222, 'LUSD burns': -105271570.56772554, 'LUSD mints': 66761903.06011515, 'LUSD supply': 1509771540.3433309, 'PYUSD burns': None, 'PYUSD mints': None, 'PYUSD supply': None, 'RLUSD burns': None, 'RLUSD mints': None, 'RLUSD supply': None, 'USDC burns': -878313980.7199999, 'USDC mints': 1665116751.7799995, 'USDC supply': 15871710142.859552, 'USDS burns': None, 'USDS mints': None, 'USDS supply': None, 'sUSD burns': -231049517.86746648, 'sUSD mints': 214979401.32531413, 'sUSD supply': 187491341.98006544, 'week': '2021-05-10 00:00:00.000 UTC'}, {'BUSD burns': -1045499946.52, 'BUSD mints': 1109664449.14, 'BUSD supply': 7877210674.049998, 'DAI burns': -272341216.4453965, 'DAI mints': 986785275.0535784, 'DAI supply': 4487568819.27357, 'FRAX burns': -6159951.416370001, 'FRAX mints': 14569132.87616706, 'FRAX supply': 134725116.15113556, 'LUSD burns': -57602269.32550343, 'LUSD mints': 138854849.2212996, 'LUSD supply': 1548281207.8509412, 'PYUSD burns': None, 'PYUSD mints': None, 'PYUSD supply': None, 'RLUSD burns': None, 'RLUSD mints': None, 'RLUSD supply': None, 'USDC burns': -841927577.53, 'USDC mints': 1885871154.97, 'USDC supply': 15084907371.799553, 'USDS burns': None, 'USDS mints': None, 'USDS supply': None, 'sUSD burns': -148558195.5379647, 'sUSD mints': 162575902.47583804, 'sUSD supply': 203561458.52221784, 'week': '2021-05-03 00:00:00.000 UTC'}, {'BUSD burns': -578621343.5799999, 'BUSD mints': 1281460893.6, 'BUSD supply': 7813046171.429998, 'DAI burns': -245671729.70383084, 'DAI mints': 560816244.3809335, 'DAI supply': 3773124760.6653876, 'FRAX burns': -34777232.149372935, 'FRAX mints': 45672983.356259115, 'FRAX supply': 126315934.69133851, 'LUSD burns': -71097465.90811174, 'LUSD mints': 83782815.16982488, 'LUSD supply': 1467028627.9551451, 'PYUSD burns': None, 'PYUSD mints': None, 'PYUSD supply': None, 'RLUSD burns': None, 'RLUSD mints': None, 'RLUSD supply': None, 'USDC burns': -773276149.5400001, 'USDC mints': 1155442898.8200002, 'USDC supply': 14040963794.359552, 'USDS burns': None, 'USDS mints': None, 'USDS supply': None, 'sUSD burns': -119423584.33761321, 'sUSD mints': 100991060.62044169, 'sUSD supply': 189543751.5843445, 'week': '2021-04-26 00:00:00.000 UTC'}, {'BUSD burns': -685874278.74, 'BUSD mints': 1368935269.5700002, 'BUSD supply': 7110206621.409999, 'DAI burns': -289339176.30868435, 'DAI mints': 319665402.094298, 'DAI supply': 3457980245.988285, 'FRAX burns': -5734145.831966984, 'FRAX mints': 6995064.044932095, 'FRAX supply': 115420183.48445234, 'LUSD burns': -88326978.9084313, 'LUSD mints': 316244765.81786317, 'LUSD supply': 1454343278.6934319, 'PYUSD burns': None, 'PYUSD mints': None, 'PYUSD supply': None, 'RLUSD burns': None, 'RLUSD mints': None, 'RLUSD supply': None, 'USDC burns': -766157120.8100001, 'USDC mints': 1761830383.2, 'USDC supply': 13658797045.079552, 'USDS burns': None, 'USDS mints': None, 'USDS supply': None, 'sUSD burns': -65432985.727605894, 'sUSD mints': 69768696.08344884, 'sUSD supply': 207976275.30151606, 'week': '2021-04-19 00:00:00.000 UTC'}, {'BUSD burns': -280661372.90999997, 'BUSD mints': 1688026005.6899998, 'BUSD supply': 6427145630.579999, 'DAI burns': -321304409.79397064, 'DAI mints': 611562994.914029, 'DAI supply': 3427654020.2026715, 'FRAX burns': -7066563.72327021, 'FRAX mints': 4731042.180905392, 'FRAX supply': 114159265.27148722, 'LUSD burns': -57236380.911, 'LUSD mints': 1007628824.3969998, 'LUSD supply': 1226425491.784, 'PYUSD burns': None, 'PYUSD mints': None, 'PYUSD supply': None, 'RLUSD burns': None, 'RLUSD mints': None, 'RLUSD supply': None, 'USDC burns': -786622508.62, 'USDC mints': 2187447681.8799996, 'USDC supply': 12663123782.689552, 'USDS burns': None, 'USDS mints': None, 'USDS supply': None, 'sUSD burns': -107419940.11273275, 'sUSD mints': 69138858.73589969, 'sUSD supply': 203640564.94567308, 'week': '2021-04-12 00:00:00.000 UTC'}, {'BUSD burns': -257119123.93, 'BUSD mints': 1253071143.1999998, 'BUSD supply': 5019780997.799999, 'DAI burns': -185863717.31183112, 'DAI mints': 264602973.00452414, 'DAI supply': 3137395435.0826135, 'FRAX burns': -6217274.8293429725, 'FRAX mints': 7046799.58766092, 'FRAX supply': 116494786.81385204, 'LUSD burns': -51658982.610999994, 'LUSD mints': 327692030.909, 'LUSD supply': 276033048.298, 'PYUSD burns': None, 'PYUSD mints': None, 'PYUSD supply': None, 'RLUSD burns': None, 'RLUSD mints': None, 'RLUSD supply': None, 'USDC burns': -770348815.88, 'USDC mints': 963297723.6000003, 'USDC supply': 11262298609.429552, 'USDS burns': None, 'USDS mints': None, 'USDS supply': None, 'sUSD burns': -42816782.02286849, 'sUSD mints': 62060753.79026122, 'sUSD supply': 241921646.32250616, 'week': '2021-04-05 00:00:00.000 UTC'}, {'BUSD burns': -224306503.57000002, 'BUSD mints': 764610762.99, 'BUSD supply': 4023828978.5299997, 'DAI burns': -208729372.52740625, 'DAI mints': 360329565.6002903, 'DAI supply': 3058656179.38992, 'FRAX burns': -5572422.43006688, 'FRAX mints': 15605851.879718278, 'FRAX supply': 115665262.0555341, 'LUSD burns': None, 'LUSD mints': None, 'LUSD supply': None, 'PYUSD burns': None, 'PYUSD mints': None, 'PYUSD supply': None, 'RLUSD burns': None, 'RLUSD mints': None, 'RLUSD supply': None, 'USDC burns': -801654137.2699999, 'USDC mints': 890520890.85, 'USDC supply': 11069349701.709553, 'USDS burns': None, 'USDS mints': None, 'USDS supply': None, 'sUSD burns': -75755135.07557388, 'sUSD mints': 91268203.14191712, 'sUSD supply': 222677674.5551134, 'week': '2021-03-29 00:00:00.000 UTC'}, {'BUSD burns': -203111980.93, 'BUSD mints': 459978288.61, 'BUSD supply': 3483524719.1099997, 'DAI burns': -194812425.8426215, 'DAI mints': 290176090.2970944, 'DAI supply': 2907055986.317036, 'FRAX burns': -7499411.536157357, 'FRAX mints': 2323942.368172414, 'FRAX supply': 105631832.6058827, 'LUSD burns': None, 'LUSD mints': None, 'LUSD supply': None, 'PYUSD burns': None, 'PYUSD mints': None, 'PYUSD supply': None, 'RLUSD burns': None, 'RLUSD mints': None, 'RLUSD supply': None, 'USDC burns': -224376689.98999998, 'USDC mints': 1024077629.75, 'USDC supply': 10980482948.129553, 'USDS burns': None, 'USDS mints': None, 'USDS supply': None, 'sUSD burns': -80190789.80073333, 'sUSD mints': 61926096.05201045, 'sUSD supply': 207164606.48877016, 'week': '2021-03-22 00:00:00.000 UTC'}, {'BUSD burns': -218349452.24, 'BUSD mints': 278504621.34000003, 'BUSD supply': 3226658411.43, 'DAI burns': -142092731.11818328, 'DAI mints': 263551623.64706302, 'DAI supply': 2811692321.862563, 'FRAX burns': -11573126.673708094, 'FRAX mints': 12920918.45424126, 'FRAX supply': 110807301.77386765, 'LUSD burns': None, 'LUSD mints': None, 'LUSD supply': None, 'PYUSD burns': None, 'PYUSD mints': None, 'PYUSD supply': None, 'RLUSD burns': None, 'RLUSD mints': None, 'RLUSD supply': None, 'USDC burns': -383276430.68000007, 'USDC mints': 1105494192.0299997, 'USDC supply': 10180782008.369553, 'USDS burns': None, 'USDS mints': None, 'USDS supply': None, 'sUSD burns': -98577933.93620956, 'sUSD mints': 58437788.17525472, 'sUSD supply': 225429300.23749304, 'week': '2021-03-15 00:00:00.000 UTC'}, {'BUSD burns': -376048968.54, 'BUSD mints': 409273782.62, 'BUSD supply': 3166503242.33, 'DAI burns': -103598301.22524141, 'DAI mints': 293345867.24500555, 'DAI supply': 2690233429.3336835, 'FRAX burns': -17862117.694324184, 'FRAX mints': 41819103.044315405, 'FRAX supply': 109459509.99333449, 'LUSD burns': None, 'LUSD mints': None, 'LUSD supply': None, 'PYUSD burns': None, 'PYUSD mints': None, 'PYUSD supply': None, 'RLUSD burns': None, 'RLUSD mints': None, 'RLUSD supply': None, 'USDC burns': -486823208.8900001, 'USDC mints': 792289345.4100001, 'USDC supply': 9458564247.019552, 'USDS burns': None, 'USDS mints': None, 'USDS supply': None, 'sUSD burns': -42782202.6756584, 'sUSD mints': 67434985.63614953, 'sUSD supply': 265569445.9984479, 'week': '2021-03-08 00:00:00.000 UTC'}, {'BUSD burns': -221692233.48000002, 'BUSD mints': 978599148.19, 'BUSD supply': 3133278428.25, 'DAI burns': -410205450.1040386, 'DAI mints': 594020034.6850387, 'DAI supply': 2500485863.313919, 'FRAX burns': -822285.1982481307, 'FRAX mints': 4667626.04152818, 'FRAX supply': 85502524.64334327, 'LUSD burns': None, 'LUSD mints': None, 'LUSD supply': None, 'PYUSD burns': None, 'PYUSD mints': None, 'PYUSD supply': None, 'RLUSD burns': None, 'RLUSD mints': None, 'RLUSD supply': None, 'USDC burns': -543147010.6399999, 'USDC mints': 655752819.17, 'USDC supply': 9153098110.499552, 'USDS burns': None, 'USDS mints': None, 'USDS supply': None, 'sUSD burns': -106626345.19085665, 'sUSD mints': 135233915.73470715, 'sUSD supply': 240916663.03795677, 'week': '2021-03-01 00:00:00.000 UTC'}, {'BUSD burns': -317775154.44, 'BUSD mints': 509218552.47, 'BUSD supply': 2376371513.54, 'DAI burns': -484590127.9661452, 'DAI mints': 456549125.6868024, 'DAI supply': 2316671278.7329187, 'FRAX burns': -19128586.925495386, 'FRAX mints': 8941281.025660608, 'FRAX supply': 81657183.80006322, 'LUSD burns': None, 'LUSD mints': None, 'LUSD supply': None, 'PYUSD burns': None, 'PYUSD mints': None, 'PYUSD supply': None, 'RLUSD burns': None, 'RLUSD mints': None, 'RLUSD supply': None, 'USDC burns': -444188907.5900001, 'USDC mints': 1644035360.15, 'USDC supply': 9040492301.969551, 'USDS burns': None, 'USDS mints': None, 'USDS supply': None, 'sUSD burns': -151597613.87302092, 'sUSD mints': 121555634.7779212, 'sUSD supply': 212309092.4941063, 'week': '2021-02-22 00:00:00.000 UTC'}, {'BUSD burns': -220039461.32999998, 'BUSD mints': 656995103.73, 'BUSD supply': 2184928115.5099998, 'DAI burns': -135221835.76420113, 'DAI mints': 435675572.4936862, 'DAI supply': 2344712281.012262, 'FRAX burns': -16756377.962931886, 'FRAX mints': 26508342.053380966, 'FRAX supply': 91844489.699898, 'LUSD burns': None, 'LUSD mints': None, 'LUSD supply': None, 'PYUSD burns': None, 'PYUSD mints': None, 'PYUSD supply': None, 'RLUSD burns': None, 'RLUSD mints': None, 'RLUSD supply': None, 'USDC burns': -712225217.2300001, 'USDC mints': 1093648914.1, 'USDC supply': 7840645849.409551, 'USDS burns': None, 'USDS mints': None, 'USDS supply': None, 'sUSD burns': -144457902.43254682, 'sUSD mints': 96674687.62905891, 'sUSD supply': 242351071.58920604, 'week': '2021-02-15 00:00:00.000 UTC'}, {'BUSD burns': -258715904.37, 'BUSD mints': 455266082.46000004, 'BUSD supply': 1747972473.1099997, 'DAI burns': -90651859.98685199, 'DAI mints': 353952889.6096924, 'DAI supply': 2044258544.2827766, 'FRAX burns': -29774609.534844458, 'FRAX mints': 32157516.015261203, 'FRAX supply': 82092525.60944892, 'LUSD burns': None, 'LUSD mints': None, 'LUSD supply': None, 'PYUSD burns': None, 'PYUSD mints': None, 'PYUSD supply': None, 'RLUSD burns': None, 'RLUSD mints': None, 'RLUSD supply': None, 'USDC burns': -314624663.7100001, 'USDC mints': 1279070251.32, 'USDC supply': 7459222152.539551, 'USDS burns': None, 'USDS mints': None, 'USDS supply': None, 'sUSD burns': -145673236.4563127, 'sUSD mints': 269434213.3687713, 'sUSD supply': 290134286.392694, 'week': '2021-02-08 00:00:00.000 UTC'}, {'BUSD burns': -182810946.76999998, 'BUSD mints': 255674186.95, 'BUSD supply': 1551422295.0199995, 'DAI burns': -143103324.37776953, 'DAI mints': 300589476.76332885, 'DAI supply': 1780957514.6599362, 'FRAX burns': -6342178.476407639, 'FRAX mints': 1085569.6919642934, 'FRAX supply': 79709619.12903218, 'LUSD burns': None, 'LUSD mints': None, 'LUSD supply': None, 'PYUSD burns': None, 'PYUSD mints': None, 'PYUSD supply': None, 'RLUSD burns': None, 'RLUSD mints': None, 'RLUSD supply': None, 'USDC burns': -368535089.64000005, 'USDC mints': 956391967.0999998, 'USDC supply': 6494776564.929551, 'USDS burns': None, 'USDS mints': None, 'USDS supply': None, 'sUSD burns': -195421491.6580757, 'sUSD mints': 202929553.96537676, 'sUSD supply': 166373309.48023546, 'week': '2021-02-01 00:00:00.000 UTC'}, {'BUSD burns': -160807550.65, 'BUSD mints': 415335769.77, 'BUSD supply': 1478559054.8399994, 'DAI burns': -164802699.60788104, 'DAI mints': 280631818.3728334, 'DAI supply': 1623471362.2743769, 'FRAX burns': -21086793.72422251, 'FRAX mints': 596949.8589684207, 'FRAX supply': 84966227.91347553, 'LUSD burns': None, 'LUSD mints': None, 'LUSD supply': None, 'PYUSD burns': None, 'PYUSD mints': None, 'PYUSD supply': None, 'RLUSD burns': None, 'RLUSD mints': None, 'RLUSD supply': None, 'USDC burns': -391517823.2700001, 'USDC mints': 700943556.9800001, 'USDC supply': 5906919687.469551, 'USDS burns': None, 'USDS mints': None, 'USDS supply': None, 'sUSD burns': -148259907.08861592, 'sUSD mints': 166452902.06151325, 'sUSD supply': 158865247.17293432, 'week': '2021-01-25 00:00:00.000 UTC'}, {'BUSD burns': -210019405.49, 'BUSD mints': 272028413.22, 'BUSD supply': 1224030835.7199996, 'DAI burns': -242074557.44444773, 'DAI mints': 388076659.9554348, 'DAI supply': 1507642243.5094247, 'FRAX burns': -34067972.57980482, 'FRAX mints': 15436697.675585445, 'FRAX supply': 105456071.77872962, 'LUSD burns': None, 'LUSD mints': None, 'LUSD supply': None, 'PYUSD burns': None, 'PYUSD mints': None, 'PYUSD supply': None, 'RLUSD burns': None, 'RLUSD mints': None, 'RLUSD supply': None, 'USDC burns': -129937054.938965, 'USDC mints': 648634403.9143169, 'USDC supply': 5597493953.759551, 'USDS burns': None, 'USDS mints': None, 'USDS supply': None, 'sUSD burns': -152109360.74306276, 'sUSD mints': 121818731.44396892, 'sUSD supply': 140672252.2000369, 'week': '2021-01-18 00:00:00.000 UTC'}, {'BUSD burns': -170911745.93000004, 'BUSD mints': 172059978.96999997, 'BUSD supply': 1162021827.9899995, 'DAI burns': -416709884.7594534, 'DAI mints': 371773864.8821354, 'DAI supply': 1361640140.9984376, 'FRAX burns': -1333486.699091437, 'FRAX mints': 35956570.77909527, 'FRAX supply': 124087346.682949, 'LUSD burns': None, 'LUSD mints': None, 'LUSD supply': None, 'PYUSD burns': None, 'PYUSD mints': None, 'PYUSD supply': None, 'RLUSD burns': None, 'RLUSD mints': None, 'RLUSD supply': None, 'USDC burns': -289562386.965698, 'USDC mints': 568045714.6059592, 'USDC supply': 5078796604.784199, 'USDS burns': None, 'USDS mints': None, 'USDS supply': None, 'sUSD burns': -168878764.68336585, 'sUSD mints': 194021473.63620076, 'sUSD supply': 170962881.49913073, 'week': '2021-01-11 00:00:00.000 UTC'}, {'BUSD burns': -250087295.20999998, 'BUSD mints': 239803554.32000002, 'BUSD supply': 1160873594.9499996, 'DAI burns': -230407541.67347997, 'DAI mints': 425401323.3275073, 'DAI supply': 1406576160.8757555, 'FRAX burns': -9866961.15874683, 'FRAX mints': 21130373.223286618, 'FRAX supply': 89464262.60294518, 'LUSD burns': None, 'LUSD mints': None, 'LUSD supply': None, 'PYUSD burns': None, 'PYUSD mints': None, 'PYUSD supply': None, 'RLUSD burns': None, 'RLUSD mints': None, 'RLUSD supply': None, 'USDC burns': -395300129.07990795, 'USDC mints': 972634673.625724, 'USDC supply': 4800313277.143938, 'USDS burns': None, 'USDS mints': None, 'USDS supply': None, 'sUSD burns': -246798733.91926512, 'sUSD mints': 256916362.59020156, 'sUSD supply': 145820172.54629582, 'week': '2021-01-04 00:00:00.000 UTC'}, {'BUSD burns': -104383125.02, 'BUSD mints': 461700530.62, 'BUSD supply': 1171157335.8399997, 'DAI burns': -247716171.2557858, 'DAI mints': 373452088.03623515, 'DAI supply': 1211582379.2217283, 'FRAX burns': -3001726.376348076, 'FRAX mints': 56185831.4845131, 'FRAX supply': 78200850.53840539, 'LUSD burns': None, 'LUSD mints': None, 'LUSD supply': None, 'PYUSD burns': None, 'PYUSD mints': None, 'PYUSD supply': None, 'RLUSD burns': None, 'RLUSD mints': None, 'RLUSD supply': None, 'USDC burns': -318771263.96994597, 'USDC mints': 919283553.963191, 'USDC supply': 4222978732.598122, 'USDS burns': None, 'USDS mints': None, 'USDS supply': None, 'sUSD burns': -156499014.68202266, 'sUSD mints': 191065615.06989753, 'sUSD supply': 135702543.87535948, 'week': '2020-12-28 00:00:00.000 UTC'}, {'BUSD burns': -96302673.63, 'BUSD mints': 82260271.24, 'BUSD supply': 813839930.2399998, 'DAI burns': -216104468.09459037, 'DAI mints': 431719367.4567832, 'DAI supply': 1085846462.4412792, 'FRAX burns': -10512998.749796031, 'FRAX mints': 35117453.39168905, 'FRAX supply': 25016745.43024036, 'LUSD burns': None, 'LUSD mints': None, 'LUSD supply': None, 'PYUSD burns': None, 'PYUSD mints': None, 'PYUSD supply': None, 'RLUSD burns': None, 'RLUSD mints': None, 'RLUSD supply': None, 'USDC burns': -117911530.47542702, 'USDC mints': 376026052.59496486, 'USDC supply': 3622466442.604877, 'USDS burns': None, 'USDS mints': None, 'USDS supply': None, 'sUSD burns': -102031842.99151295, 'sUSD mints': 146080131.3134734, 'sUSD supply': 101135943.48748451, 'week': '2020-12-21 00:00:00.000 UTC'}, {'BUSD burns': -66832934.410000004, 'BUSD mints': 204213105.44, 'BUSD supply': 827882332.6299998, 'DAI burns': -287019518.75624126, 'DAI mints': 364840495.52044994, 'DAI supply': 870231563.0790863, 'FRAX burns': -9.9995, 'FRAX mints': 412300.78784733976, 'FRAX supply': 412290.7883473397, 'LUSD burns': None, 'LUSD mints': None, 'LUSD supply': None, 'PYUSD burns': None, 'PYUSD mints': None, 'PYUSD supply': None, 'RLUSD burns': None, 'RLUSD mints': None, 'RLUSD supply': None, 'USDC burns': -206959501.17876506, 'USDC mints': 303036138.57858896, 'USDC supply': 3364351920.485339, 'USDS burns': None, 'USDS mints': None, 'USDS supply': None, 'sUSD burns': -56248719.042757936, 'sUSD mints': 62284385.34879954, 'sUSD supply': 57087655.16552408, 'week': '2020-12-14 00:00:00.000 UTC'}, {'BUSD burns': -82364713.79, 'BUSD mints': 69405909.89000002, 'BUSD supply': 690502161.5999998, 'DAI burns': -373597104.9355084, 'DAI mints': 416364889.8006826, 'DAI supply': 792410586.3148774, 'FRAX burns': None, 'FRAX mints': None, 'FRAX supply': None, 'LUSD burns': None, 'LUSD mints': None, 'LUSD supply': None, 'PYUSD burns': None, 'PYUSD mints': None, 'PYUSD supply': None, 'RLUSD burns': None, 'RLUSD mints': None, 'RLUSD supply': None, 'USDC burns': -90469843.45843598, 'USDC mints': 273496152.757579, 'USDC supply': 3268275283.085515, 'USDS burns': None, 'USDS mints': None, 'USDS supply': None, 'sUSD burns': -20783505.448989995, 'sUSD mints': 16061113.726251688, 'sUSD supply': 51051988.85948249, 'week': '2020-12-07 00:00:00.000 UTC'}, {'BUSD burns': -56711072.86, 'BUSD mints': 78105476.55, 'BUSD supply': 703460965.4999998, 'DAI burns': -1650976910.901625, 'DAI mints': 1731723990.4014666, 'DAI supply': 749642801.4497031, 'FRAX burns': None, 'FRAX mints': None, 'FRAX supply': None, 'LUSD burns': None, 'LUSD mints': None, 'LUSD supply': None, 'PYUSD burns': None, 'PYUSD mints': None, 'PYUSD supply': None, 'RLUSD burns': None, 'RLUSD mints': None, 'RLUSD supply': None, 'USDC burns': -98335986.02623099, 'USDC mints': 208850163.32357705, 'USDC supply': 3085248973.786372, 'USDS burns': None, 'USDS mints': None, 'USDS supply': None, 'sUSD burns': -24507414.81139094, 'sUSD mints': 33532549.014096435, 'sUSD supply': 55774380.58222079, 'week': '2020-11-30 00:00:00.000 UTC'}, {'BUSD burns': -69451219.5, 'BUSD mints': 96351286.40000002, 'BUSD supply': 682066561.8099997, 'DAI burns': -951331493.2302419, 'DAI mints': 945397698.8987206, 'DAI supply': 668895721.9498614, 'FRAX burns': None, 'FRAX mints': None, 'FRAX supply': None, 'LUSD burns': None, 'LUSD mints': None, 'LUSD supply': None, 'PYUSD burns': None, 'PYUSD mints': None, 'PYUSD supply': None, 'RLUSD burns': None, 'RLUSD mints': None, 'RLUSD supply': None, 'USDC burns': -86543027.380338, 'USDC mints': 173656697.60143802, 'USDC supply': 2974734796.489026, 'USDS burns': None, 'USDS mints': None, 'USDS supply': None, 'sUSD burns': -30497999.076249946, 'sUSD mints': 21678548.930700842, 'sUSD supply': 46749246.37951528, 'week': '2020-11-23 00:00:00.000 UTC'}, {'BUSD burns': -90019114.3, 'BUSD mints': 83781641.85, 'BUSD supply': 655166494.9099997, 'DAI burns': -740448427.2378043, 'DAI mints': 772662665.5428536, 'DAI supply': 674829516.2813826, 'FRAX burns': None, 'FRAX mints': None, 'FRAX supply': None, 'LUSD burns': None, 'LUSD mints': None, 'LUSD supply': None, 'PYUSD burns': None, 'PYUSD mints': None, 'PYUSD supply': None, 'RLUSD burns': None, 'RLUSD mints': None, 'RLUSD supply': None, 'USDC burns': -149761664.34380302, 'USDC mints': 210543545.796272, 'USDC supply': 2887621126.267926, 'USDS burns': None, 'USDS mints': None, 'USDS supply': None, 'sUSD burns': -18656360.190041013, 'sUSD mints': 23235034.901345957, 'sUSD supply': 55568696.525064394, 'week': '2020-11-16 00:00:00.000 UTC'}, {'BUSD burns': -57745522.92, 'BUSD mints': 83928966.72999999, 'BUSD supply': 661403967.3599998, 'DAI burns': -486493559.47461057, 'DAI mints': 478775275.001963, 'DAI supply': 642615277.9763333, 'FRAX burns': None, 'FRAX mints': None, 'FRAX supply': None, 'LUSD burns': None, 'LUSD mints': None, 'LUSD supply': None, 'PYUSD burns': None, 'PYUSD mints': None, 'PYUSD supply': None, 'RLUSD burns': None, 'RLUSD mints': None, 'RLUSD supply': None, 'USDC burns': -118698871.617982, 'USDC mints': 61632813.683297, 'USDC supply': 2826839244.8154573, 'USDS burns': None, 'USDS mints': None, 'USDS supply': None, 'sUSD burns': -28088816.11134168, 'sUSD mints': 30432281.833579727, 'sUSD supply': 50990021.81375945, 'week': '2020-11-09 00:00:00.000 UTC'}, {'BUSD burns': -101911609.75999999, 'BUSD mints': 27424402.259999994, 'BUSD supply': 635220523.5499998, 'DAI burns': -241645069.42507747, 'DAI mints': 244050796.48064274, 'DAI supply': 650333562.4489809, 'FRAX burns': None, 'FRAX mints': None, 'FRAX supply': None, 'LUSD burns': None, 'LUSD mints': None, 'LUSD supply': None, 'PYUSD burns': None, 'PYUSD mints': None, 'PYUSD supply': None, 'RLUSD burns': None, 'RLUSD mints': None, 'RLUSD supply': None, 'USDC burns': -144460423.069614, 'USDC mints': 86448831.367225, 'USDC supply': 2883905302.750142, 'USDS burns': None, 'USDS mints': None, 'USDS supply': None, 'sUSD burns': -21335867.79817025, 'sUSD mints': 21225991.94974884, 'sUSD supply': 48646556.09152142, 'week': '2020-11-02 00:00:00.000 UTC'}, {'BUSD burns': -65307515.57999999, 'BUSD mints': 18736198.490000002, 'BUSD supply': 709707731.0499998, 'DAI burns': -317749430.95819974, 'DAI mints': 375855772.96715724, 'DAI supply': 647927835.3934157, 'FRAX burns': None, 'FRAX mints': None, 'FRAX supply': None, 'LUSD burns': None, 'LUSD mints': None, 'LUSD supply': None, 'PYUSD burns': None, 'PYUSD mints': None, 'PYUSD supply': None, 'RLUSD burns': None, 'RLUSD mints': None, 'RLUSD supply': None, 'USDC burns': -104016119.025656, 'USDC mints': 230978459.62583196, 'USDC supply': 2941916894.452531, 'USDS burns': None, 'USDS mints': None, 'USDS supply': None, 'sUSD burns': -12980076.286801001, 'sUSD mints': 6223045.260934703, 'sUSD supply': 48756431.93994283, 'week': '2020-10-26 00:00:00.000 UTC'}, {'BUSD burns': -102323222.12, 'BUSD mints': 49096581.17999999, 'BUSD supply': 756279048.1399999, 'DAI burns': -430602488.68167746, 'DAI mints': 423418060.33115983, 'DAI supply': 589821493.3844581, 'FRAX burns': None, 'FRAX mints': None, 'FRAX supply': None, 'LUSD burns': None, 'LUSD mints': None, 'LUSD supply': None, 'PYUSD burns': None, 'PYUSD mints': None, 'PYUSD supply': None, 'RLUSD burns': None, 'RLUSD mints': None, 'RLUSD supply': None, 'USDC burns': -151389067.27396798, 'USDC mints': 233022195.68734598, 'USDC supply': 2814954553.852355, 'USDS burns': None, 'USDS mints': None, 'USDS supply': None, 'sUSD burns': -18556957.485448387, 'sUSD mints': 11816280.664387114, 'sUSD supply': 55513462.96580913, 'week': '2020-10-19 00:00:00.000 UTC'}, {'BUSD burns': -11378679.56, 'BUSD mints': 136439731.49, 'BUSD supply': 809505689.0799999, 'DAI burns': -480125520.51482683, 'DAI mints': 458497625.1218387, 'DAI supply': 597005921.7349758, 'FRAX burns': None, 'FRAX mints': None, 'FRAX supply': None, 'LUSD burns': None, 'LUSD mints': None, 'LUSD supply': None, 'PYUSD burns': None, 'PYUSD mints': None, 'PYUSD supply': None, 'RLUSD burns': None, 'RLUSD mints': None, 'RLUSD supply': None, 'USDC burns': -176704314.479615, 'USDC mints': 49829459.82223799, 'USDC supply': 2733321425.4389772, 'USDS burns': None, 'USDS mints': None, 'USDS supply': None, 'sUSD burns': -9391284.77032613, 'sUSD mints': 11725865.175149795, 'sUSD supply': 62254139.78687041, 'week': '2020-10-12 00:00:00.000 UTC'}, {'BUSD burns': -8099514.19, 'BUSD mints': 124952094.59999998, 'BUSD supply': 684444637.15, 'DAI burns': -243242039.09400696, 'DAI mints': 268380596.59266177, 'DAI supply': 618633817.1279639, 'FRAX burns': None, 'FRAX mints': None, 'FRAX supply': None, 'LUSD burns': None, 'LUSD mints': None, 'LUSD supply': None, 'PYUSD burns': None, 'PYUSD mints': None, 'PYUSD supply': None, 'RLUSD burns': None, 'RLUSD mints': None, 'RLUSD supply': None, 'USDC burns': -29466973.352068007, 'USDC mints': 243662691.37257302, 'USDC supply': 2860196280.096354, 'USDS burns': None, 'USDS mints': None, 'USDS supply': None, 'sUSD burns': -17744488.498037793, 'sUSD mints': 12277562.954375718, 'sUSD supply': 59919559.382046744, 'week': '2020-10-05 00:00:00.000 UTC'}, {'BUSD burns': -46280622.25, 'BUSD mints': 134979429.54, 'BUSD supply': 567592056.74, 'DAI burns': -330557035.9068257, 'DAI mints': 299759396.61409163, 'DAI supply': 593495259.629309, 'FRAX burns': None, 'FRAX mints': None, 'FRAX supply': None, 'LUSD burns': None, 'LUSD mints': None, 'LUSD supply': None, 'PYUSD burns': None, 'PYUSD mints': None, 'PYUSD supply': None, 'RLUSD burns': None, 'RLUSD mints': None, 'RLUSD supply': None, 'USDC burns': -109868222.351277, 'USDC mints': 155791294.488062, 'USDC supply': 2646000562.075849, 'USDS burns': None, 'USDS mints': None, 'USDS supply': None, 'sUSD burns': -19260852.28278998, 'sUSD mints': 24940714.956448812, 'sUSD supply': 65386484.925708815, 'week': '2020-09-28 00:00:00.000 UTC'}, {'BUSD burns': -17405198.47, 'BUSD mints': 88923880.97000001, 'BUSD supply': 478893249.45, 'DAI burns': -563626562.8707389, 'DAI mints': 605244869.9540504, 'DAI supply': 624292898.9220431, 'FRAX burns': None, 'FRAX mints': None, 'FRAX supply': None, 'LUSD burns': None, 'LUSD mints': None, 'LUSD supply': None, 'PYUSD burns': None, 'PYUSD mints': None, 'PYUSD supply': None, 'RLUSD burns': None, 'RLUSD mints': None, 'RLUSD supply': None, 'USDC burns': -22739514.257995002, 'USDC mints': 279050047.852813, 'USDC supply': 2600077489.939064, 'USDS burns': None, 'USDS mints': None, 'USDS supply': None, 'sUSD burns': -46322373.11372651, 'sUSD mints': 37181662.502110325, 'sUSD supply': 59706622.25204998, 'week': '2020-09-21 00:00:00.000 UTC'}, {'BUSD burns': -17936315.04, 'BUSD mints': 117317256.97, 'BUSD supply': 407374566.95, 'DAI burns': -819035856.9011014, 'DAI mints': 1087163068.5268743, 'DAI supply': 582674591.8387315, 'FRAX burns': None, 'FRAX mints': None, 'FRAX supply': None, 'LUSD burns': None, 'LUSD mints': None, 'LUSD supply': None, 'PYUSD burns': None, 'PYUSD mints': None, 'PYUSD supply': None, 'RLUSD burns': None, 'RLUSD mints': None, 'RLUSD supply': None, 'USDC burns': -23076996.603251997, 'USDC mints': 369645648.96749693, 'USDC supply': 2343766956.344246, 'USDS burns': None, 'USDS mints': None, 'USDS supply': None, 'sUSD burns': -41113625.45947081, 'sUSD mints': 21365278.409585092, 'sUSD supply': 68847332.86366618, 'week': '2020-09-14 00:00:00.000 UTC'}, {'BUSD burns': -23681444, 'BUSD mints': 133766078.64, 'BUSD supply': 307993625.02, 'DAI burns': -337943201.3638273, 'DAI mints': 369716711.8499517, 'DAI supply': 314547380.21295846, 'FRAX burns': None, 'FRAX mints': None, 'FRAX supply': None, 'LUSD burns': None, 'LUSD mints': None, 'LUSD supply': None, 'PYUSD burns': None, 'PYUSD mints': None, 'PYUSD supply': None, 'RLUSD burns': None, 'RLUSD mints': None, 'RLUSD supply': None, 'USDC burns': -35109618.51, 'USDC mints': 300229915.44, 'USDC supply': 1997198303.9800007, 'USDS burns': None, 'USDS mints': None, 'USDS supply': None, 'sUSD burns': -29644071.147815313, 'sUSD mints': 21882865.996037167, 'sUSD supply': 88595679.9135519, 'week': '2020-09-07 00:00:00.000 UTC'}, {'BUSD burns': -51346533.76, 'BUSD mints': 61664686.63000001, 'BUSD supply': 197908990.38, 'DAI burns': -662086328.7579918, 'DAI mints': 697681507.4627408, 'DAI supply': 282773869.7268339, 'FRAX burns': None, 'FRAX mints': None, 'FRAX supply': None, 'LUSD burns': None, 'LUSD mints': None, 'LUSD supply': None, 'PYUSD burns': None, 'PYUSD mints': None, 'PYUSD supply': None, 'RLUSD burns': None, 'RLUSD mints': None, 'RLUSD supply': None, 'USDC burns': -41030568.18000001, 'USDC mints': 300284979.58000004, 'USDC supply': 1732078007.0500007, 'USDS burns': None, 'USDS mints': None, 'USDS supply': None, 'sUSD burns': -39042528.56569426, 'sUSD mints': 58950333.74373372, 'sUSD supply': 96356885.06533004, 'week': '2020-08-31 00:00:00.000 UTC'}, {'BUSD burns': -69516609.76, 'BUSD mints': 44081507.31, 'BUSD supply': 187590837.51, 'DAI burns': -303216835.8219442, 'DAI mints': 332403414.2814928, 'DAI supply': 247178691.02208498, 'FRAX burns': None, 'FRAX mints': None, 'FRAX supply': None, 'LUSD burns': None, 'LUSD mints': None, 'LUSD supply': None, 'PYUSD burns': None, 'PYUSD mints': None, 'PYUSD supply': None, 'RLUSD burns': None, 'RLUSD mints': None, 'RLUSD supply': None, 'USDC burns': -51727403.330000006, 'USDC mints': 168019217.06, 'USDC supply': 1472823595.6500006, 'USDS burns': None, 'USDS mints': None, 'USDS supply': None, 'sUSD burns': -27901965.053875696, 'sUSD mints': 50331782.17484902, 'sUSD supply': 76449079.88729057, 'week': '2020-08-24 00:00:00.000 UTC'}, {'BUSD burns': -54064615.18, 'BUSD mints': 78349784.28, 'BUSD supply': 213025939.95999998, 'DAI burns': -271168660.9743321, 'DAI mints': 277757218.56843835, 'DAI supply': 217992112.56253636, 'FRAX burns': None, 'FRAX mints': None, 'FRAX supply': None, 'LUSD burns': None, 'LUSD mints': None, 'LUSD supply': None, 'PYUSD burns': None, 'PYUSD mints': None, 'PYUSD supply': None, 'RLUSD burns': None, 'RLUSD mints': None, 'RLUSD supply': None, 'USDC burns': -24355809.970000003, 'USDC mints': 178506927.62, 'USDC supply': 1356531781.9200006, 'USDS burns': None, 'USDS mints': None, 'USDS supply': None, 'sUSD burns': -44796567.06030547, 'sUSD mints': 30538034.870001696, 'sUSD supply': 54019262.76631725, 'week': '2020-08-17 00:00:00.000 UTC'}, {'BUSD burns': -34236196.93, 'BUSD mints': 42810875.72, 'BUSD supply': 188740770.85999998, 'DAI burns': -1525696035.1227727, 'DAI mints': 1580208509.1076646, 'DAI supply': 211403554.96843016, 'FRAX burns': None, 'FRAX mints': None, 'FRAX supply': None, 'LUSD burns': None, 'LUSD mints': None, 'LUSD supply': None, 'PYUSD burns': None, 'PYUSD mints': None, 'PYUSD supply': None, 'RLUSD burns': None, 'RLUSD mints': None, 'RLUSD supply': None, 'USDC burns': -56395621.16, 'USDC mints': 112255234.78999999, 'USDC supply': 1202380664.2700005, 'USDS burns': None, 'USDS mints': None, 'USDS supply': None, 'sUSD burns': -39903205.856937364, 'sUSD mints': 66062390.17472719, 'sUSD supply': 68277794.95662104, 'week': '2020-08-10 00:00:00.000 UTC'}, {'BUSD burns': -32113056.9, 'BUSD mints': 50639165.67, 'BUSD supply': 180166092.07, 'DAI burns': -1297724015.8152719, 'DAI mints': 1271592729.7054453, 'DAI supply': 156891080.98353818, 'FRAX burns': None, 'FRAX mints': None, 'FRAX supply': None, 'LUSD burns': None, 'LUSD mints': None, 'LUSD supply': None, 'PYUSD burns': None, 'PYUSD mints': None, 'PYUSD supply': None, 'RLUSD burns': None, 'RLUSD mints': None, 'RLUSD supply': None, 'USDC burns': -45029547.46000001, 'USDC mints': 91889215.96000001, 'USDC supply': 1146521050.6400003, 'USDS burns': None, 'USDS mints': None, 'USDS supply': None, 'sUSD burns': -31556103.780315325, 'sUSD mints': 43707612.78393368, 'sUSD supply': 42118610.63883122, 'week': '2020-08-03 00:00:00.000 UTC'}, {'BUSD burns': -115269204.54, 'BUSD mints': 104987012.37999998, 'BUSD supply': 161639983.29999998, 'DAI burns': -1865701709.1224756, 'DAI mints': 1919316344.982517, 'DAI supply': 183022367.09336463, 'FRAX burns': None, 'FRAX mints': None, 'FRAX supply': None, 'LUSD burns': None, 'LUSD mints': None, 'LUSD supply': None, 'PYUSD burns': None, 'PYUSD mints': None, 'PYUSD supply': None, 'RLUSD burns': None, 'RLUSD mints': None, 'RLUSD supply': None, 'USDC burns': -160266603.69, 'USDC mints': 92121100.78000002, 'USDC supply': 1099661382.1400003, 'USDS burns': None, 'USDS mints': None, 'USDS supply': None, 'sUSD burns': -31439256.366614647, 'sUSD mints': 23612227.989320364, 'sUSD supply': 29967101.635212857, 'week': '2020-07-27 00:00:00.000 UTC'}, {'BUSD burns': -42879271.43, 'BUSD mints': 29854677.590000004, 'BUSD supply': 171922175.45999998, 'DAI burns': -2037540829.839396, 'DAI mints': 2018916313.2273612, 'DAI supply': 129407731.23332328, 'FRAX burns': None, 'FRAX mints': None, 'FRAX supply': None, 'LUSD burns': None, 'LUSD mints': None, 'LUSD supply': None, 'PYUSD burns': None, 'PYUSD mints': None, 'PYUSD supply': None, 'RLUSD burns': None, 'RLUSD mints': None, 'RLUSD supply': None, 'USDC burns': -38203383.39999999, 'USDC mints': 81460388.67000002, 'USDC supply': 1167806885.0500004, 'USDS burns': None, 'USDS mints': None, 'USDS supply': None, 'sUSD burns': -24673776.14911645, 'sUSD mints': 36503346.498530865, 'sUSD supply': 37794130.01250713, 'week': '2020-07-20 00:00:00.000 UTC'}, {'BUSD burns': -15391428.56, 'BUSD mints': 26842019.409999996, 'BUSD supply': 184946769.29999998, 'DAI burns': -628974562.6024525, 'DAI mints': 668916983.96086, 'DAI supply': 148032247.84535846, 'FRAX burns': None, 'FRAX mints': None, 'FRAX supply': None, 'LUSD burns': None, 'LUSD mints': None, 'LUSD supply': None, 'PYUSD burns': None, 'PYUSD mints': None, 'PYUSD supply': None, 'RLUSD burns': None, 'RLUSD mints': None, 'RLUSD supply': None, 'USDC burns': -30251706.54, 'USDC mints': 45689768.98000001, 'USDC supply': 1124549879.7800004, 'USDS burns': None, 'USDS mints': None, 'USDS supply': None, 'sUSD burns': -19118945.697167818, 'sUSD mints': 19864921.11537083, 'sUSD supply': 25964559.6630927, 'week': '2020-07-13 00:00:00.000 UTC'}, {'BUSD burns': -37742691.160000004, 'BUSD mints': 37145136.33, 'BUSD supply': 173496178.45, 'DAI burns': -1040173581.4859748, 'DAI mints': 1034648261.5523494, 'DAI supply': 108089826.48695083, 'FRAX burns': None, 'FRAX mints': None, 'FRAX supply': None, 'LUSD burns': None, 'LUSD mints': None, 'LUSD supply': None, 'PYUSD burns': None, 'PYUSD mints': None, 'PYUSD supply': None, 'RLUSD burns': None, 'RLUSD mints': None, 'RLUSD supply': None, 'USDC burns': -17277568.85, 'USDC mints': 88224465.77000003, 'USDC supply': 1109111817.3400004, 'USDS burns': None, 'USDS mints': None, 'USDS supply': None, 'sUSD burns': -17739819.46856433, 'sUSD mints': 23554219.548942108, 'sUSD supply': 25218584.244889688, 'week': '2020-07-06 00:00:00.000 UTC'}, {'BUSD burns': -25880327.54, 'BUSD mints': 27264060.810000002, 'BUSD supply': 174093733.28, 'DAI burns': -792472554.0115836, 'DAI mints': 798585881.8654225, 'DAI supply': 113615146.42057607, 'FRAX burns': None, 'FRAX mints': None, 'FRAX supply': None, 'LUSD burns': None, 'LUSD mints': None, 'LUSD supply': None, 'PYUSD burns': None, 'PYUSD mints': None, 'PYUSD supply': None, 'RLUSD burns': None, 'RLUSD mints': None, 'RLUSD supply': None, 'USDC burns': -15673412.1, 'USDC mints': 71145309.47999999, 'USDC supply': 1038164920.4200004, 'USDS burns': None, 'USDS mints': None, 'USDS supply': None, 'sUSD burns': -12157561.735215934, 'sUSD mints': 17526376.635133646, 'sUSD supply': 19404184.16451192, 'week': '2020-06-29 00:00:00.000 UTC'}, {'BUSD burns': -33826894.83, 'BUSD mints': 50752848.330000006, 'BUSD supply': 172710000.01, 'DAI burns': -100440945.38156527, 'DAI mints': 103043217.73135234, 'DAI supply': 107501818.56673735, 'FRAX burns': None, 'FRAX mints': None, 'FRAX supply': None, 'LUSD burns': None, 'LUSD mints': None, 'LUSD supply': None, 'PYUSD burns': None, 'PYUSD mints': None, 'PYUSD supply': None, 'RLUSD burns': None, 'RLUSD mints': None, 'RLUSD supply': None, 'USDC burns': -25114448.509999998, 'USDC mints': 75196603.13, 'USDC supply': 982693023.0400004, 'USDS burns': None, 'USDS mints': None, 'USDS supply': None, 'sUSD burns': -10434289.288408466, 'sUSD mints': 18322428.12708355, 'sUSD supply': 14035369.264594197, 'week': '2020-06-22 00:00:00.000 UTC'}, {'BUSD burns': -56547084.800000004, 'BUSD mints': 34822821.18000001, 'BUSD supply': 155784046.51, 'DAI burns': -95657579.55916247, 'DAI mints': 94932453.91775058, 'DAI supply': 104899546.21695027, 'FRAX burns': None, 'FRAX mints': None, 'FRAX supply': None, 'LUSD burns': None, 'LUSD mints': None, 'LUSD supply': None, 'PYUSD burns': None, 'PYUSD mints': None, 'PYUSD supply': None, 'RLUSD burns': None, 'RLUSD mints': None, 'RLUSD supply': None, 'USDC burns': -5283803.12, 'USDC mints': 195641197.32999998, 'USDC supply': 932610868.4200004, 'USDS burns': None, 'USDS mints': None, 'USDS supply': None, 'sUSD burns': -7377610.802532765, 'sUSD mints': 11137469.149375083, 'sUSD supply': 6147230.425919121, 'week': '2020-06-15 00:00:00.000 UTC'}, {'BUSD burns': -34723357.65, 'BUSD mints': 45115536.5, 'BUSD supply': 177508310.13, 'DAI burns': -37827335.04333564, 'DAI mints': 29551270.28340129, 'DAI supply': 105624671.85836215, 'FRAX burns': None, 'FRAX mints': None, 'FRAX supply': None, 'LUSD burns': None, 'LUSD mints': None, 'LUSD supply': None, 'PYUSD burns': None, 'PYUSD mints': None, 'PYUSD supply': None, 'RLUSD burns': None, 'RLUSD mints': None, 'RLUSD supply': None, 'USDC burns': -19290786.18, 'USDC mints': 22071530.65, 'USDC supply': 742253474.2100004, 'USDS burns': None, 'USDS mints': None, 'USDS supply': None, 'sUSD burns': -3843347.378822481, 'sUSD mints': 5442257.373598578, 'sUSD supply': 2387372.079076804, 'week': '2020-06-08 00:00:00.000 UTC'}, {'BUSD burns': -38752381.43, 'BUSD mints': 34202571.88, 'BUSD supply': 167116131.28, 'DAI burns': -41972408.59924852, 'DAI mints': 37623717.49784256, 'DAI supply': 113900736.6182965, 'FRAX burns': None, 'FRAX mints': None, 'FRAX supply': None, 'LUSD burns': None, 'LUSD mints': None, 'LUSD supply': None, 'PYUSD burns': None, 'PYUSD mints': None, 'PYUSD supply': None, 'RLUSD burns': None, 'RLUSD mints': None, 'RLUSD supply': None, 'USDC burns': -17167412.880000003, 'USDC mints': 25720141.889999997, 'USDC supply': 739472729.7400004, 'USDS burns': None, 'USDS mints': None, 'USDS supply': None, 'sUSD burns': -4089197.031082243, 'sUSD mints': 4376994.6655838685, 'sUSD supply': 788462.0843007087, 'week': '2020-06-01 00:00:00.000 UTC'}, {'BUSD burns': -26999518.380000003, 'BUSD mints': 19988049.450000003, 'BUSD supply': 171665940.83, 'DAI burns': -11670653.563294068, 'DAI mints': 22575798.713603552, 'DAI supply': 118249427.71970248, 'FRAX burns': None, 'FRAX mints': None, 'FRAX supply': None, 'LUSD burns': None, 'LUSD mints': None, 'LUSD supply': None, 'PYUSD burns': None, 'PYUSD mints': None, 'PYUSD supply': None, 'RLUSD burns': None, 'RLUSD mints': None, 'RLUSD supply': None, 'USDC burns': -23377436.560000002, 'USDC mints': 22936290.8, 'USDC supply': 730920000.7300004, 'USDS burns': None, 'USDS mints': None, 'USDS supply': None, 'sUSD burns': -2761629.9222406303, 'sUSD mints': 3523748.344909932, 'sUSD supply': 500664.4497990836, 'week': '2020-05-25 00:00:00.000 UTC'}, {'BUSD burns': -22178145.150000002, 'BUSD mints': 21025871.55, 'BUSD supply': 178677409.76000002, 'DAI burns': -23165155.21215059, 'DAI mints': 33062263.155064825, 'DAI supply': 107344282.569393, 'FRAX burns': None, 'FRAX mints': None, 'FRAX supply': None, 'LUSD burns': None, 'LUSD mints': None, 'LUSD supply': None, 'PYUSD burns': None, 'PYUSD mints': None, 'PYUSD supply': None, 'RLUSD burns': None, 'RLUSD mints': None, 'RLUSD supply': None, 'USDC burns': -19731309.069999997, 'USDC mints': 24463955.01, 'USDC supply': 731361146.4900004, 'USDS burns': None, 'USDS mints': None, 'USDS supply': None, 'sUSD burns': -2369819.035264482, 'sUSD mints': 2378920.552109594, 'sUSD supply': -261453.9728702177, 'week': '2020-05-18 00:00:00.000 UTC'}, {'BUSD burns': -18668155.2, 'BUSD mints': 14721413.709999999, 'BUSD supply': 179829683.36, 'DAI burns': -9143739.654223861, 'DAI mints': 13474709.809268896, 'DAI supply': 97447174.62647875, 'FRAX burns': None, 'FRAX mints': None, 'FRAX supply': None, 'LUSD burns': None, 'LUSD mints': None, 'LUSD supply': None, 'PYUSD burns': None, 'PYUSD mints': None, 'PYUSD supply': None, 'RLUSD burns': None, 'RLUSD mints': None, 'RLUSD supply': None, 'USDC burns': -48311863.620000005, 'USDC mints': 28664865.970000003, 'USDC supply': 726628500.5500003, 'USDS burns': None, 'USDS mints': None, 'USDS supply': None, 'sUSD burns': -3078133.785572667, 'sUSD mints': 2807578.2958573382, 'sUSD supply': -270555.48971533164, 'week': '2020-05-11 00:00:00.000 UTC'}, {'BUSD burns': -34071044.41, 'BUSD mints': 37081986.160000004, 'BUSD supply': 183776424.85000002, 'DAI burns': -30642855.8319331, 'DAI mints': 30884556.07038247, 'DAI supply': 93116204.47143371, 'FRAX burns': None, 'FRAX mints': None, 'FRAX supply': None, 'LUSD burns': None, 'LUSD mints': None, 'LUSD supply': None, 'PYUSD burns': None, 'PYUSD mints': None, 'PYUSD supply': None, 'RLUSD burns': None, 'RLUSD mints': None, 'RLUSD supply': None, 'USDC burns': -1.01, 'USDC mints': 35478402.6, 'USDC supply': 746275498.2000003, 'USDS burns': None, 'USDS mints': None, 'USDS supply': None, 'sUSD burns': None, 'sUSD mints': None, 'sUSD supply': None, 'week': '2020-05-04 00:00:00.000 UTC'}, {'BUSD burns': -41328762.07, 'BUSD mints': 26839116.759999998, 'BUSD supply': 180765483.10000002, 'DAI burns': -32868604.796957828, 'DAI mints': 39153206.254925795, 'DAI supply': 92874504.23298435, 'FRAX burns': None, 'FRAX mints': None, 'FRAX supply': None, 'LUSD burns': None, 'LUSD mints': None, 'LUSD supply': None, 'PYUSD burns': None, 'PYUSD mints': None, 'PYUSD supply': None, 'RLUSD burns': None, 'RLUSD mints': None, 'RLUSD supply': None, 'USDC burns': -51292675.33, 'USDC mints': 7809826.57, 'USDC supply': 710797096.6100003, 'USDS burns': None, 'USDS mints': None, 'USDS supply': None, 'sUSD burns': None, 'sUSD mints': None, 'sUSD supply': None, 'week': '2020-04-27 00:00:00.000 UTC'}, {'BUSD burns': -25430203.839999996, 'BUSD mints': 16187278.300000003, 'BUSD supply': 195255128.41000003, 'DAI burns': -30618973.792546608, 'DAI mints': 41562717.117776625, 'DAI supply': 86589902.77501637, 'FRAX burns': None, 'FRAX mints': None, 'FRAX supply': None, 'LUSD burns': None, 'LUSD mints': None, 'LUSD supply': None, 'PYUSD burns': None, 'PYUSD mints': None, 'PYUSD supply': None, 'RLUSD burns': None, 'RLUSD mints': None, 'RLUSD supply': None, 'USDC burns': -24011663.430000003, 'USDC mints': 49798649.52, 'USDC supply': 754279945.3700002, 'USDS burns': None, 'USDS mints': None, 'USDS supply': None, 'sUSD burns': None, 'sUSD mints': None, 'sUSD supply': None, 'week': '2020-04-20 00:00:00.000 UTC'}, {'BUSD burns': -13092410.780000001, 'BUSD mints': 29134780.02, 'BUSD supply': 204498053.95000002, 'DAI burns': -15838362.181173164, 'DAI mints': 25838328.83634136, 'DAI supply': 75646159.44978634, 'FRAX burns': None, 'FRAX mints': None, 'FRAX supply': None, 'LUSD burns': None, 'LUSD mints': None, 'LUSD supply': None, 'PYUSD burns': None, 'PYUSD mints': None, 'PYUSD supply': None, 'RLUSD burns': None, 'RLUSD mints': None, 'RLUSD supply': None, 'USDC burns': -17308027.290000003, 'USDC mints': 28236155.599999994, 'USDC supply': 728492959.2800002, 'USDS burns': None, 'USDS mints': None, 'USDS supply': None, 'sUSD burns': None, 'sUSD mints': None, 'sUSD supply': None, 'week': '2020-04-13 00:00:00.000 UTC'}, {'BUSD burns': -26102659.5, 'BUSD mints': 16463123.309999999, 'BUSD supply': 188455684.71, 'DAI burns': -22244916.201556783, 'DAI mints': 28135055.950061407, 'DAI supply': 65646192.794618145, 'FRAX burns': None, 'FRAX mints': None, 'FRAX supply': None, 'LUSD burns': None, 'LUSD mints': None, 'LUSD supply': None, 'PYUSD burns': None, 'PYUSD mints': None, 'PYUSD supply': None, 'RLUSD burns': None, 'RLUSD mints': None, 'RLUSD supply': None, 'USDC burns': -29661327.779999997, 'USDC mints': 45836714.86, 'USDC supply': 717564830.9700001, 'USDS burns': None, 'USDS mints': None, 'USDS supply': None, 'sUSD burns': None, 'sUSD mints': None, 'sUSD supply': None, 'week': '2020-04-06 00:00:00.000 UTC'}, {'BUSD burns': -22805527.18, 'BUSD mints': 39411797.31, 'BUSD supply': 198095220.9, 'DAI burns': -15616700.054032693, 'DAI mints': 19215516.624234546, 'DAI supply': 59756053.04611351, 'FRAX burns': None, 'FRAX mints': None, 'FRAX supply': None, 'LUSD burns': None, 'LUSD mints': None, 'LUSD supply': None, 'PYUSD burns': None, 'PYUSD mints': None, 'PYUSD supply': None, 'RLUSD burns': None, 'RLUSD mints': None, 'RLUSD supply': None, 'USDC burns': -10931852.61, 'USDC mints': 17251769.94, 'USDC supply': 701389443.8900001, 'USDS burns': None, 'USDS mints': None, 'USDS supply': None, 'sUSD burns': None, 'sUSD mints': None, 'sUSD supply': None, 'week': '2020-03-30 00:00:00.000 UTC'}, {'BUSD burns': -15628884.089999998, 'BUSD mints': 23885962.63, 'BUSD supply': 181488950.77, 'DAI burns': -30004384.644310772, 'DAI mints': 35143325.53183274, 'DAI supply': 56157236.47591166, 'FRAX burns': None, 'FRAX mints': None, 'FRAX supply': None, 'LUSD burns': None, 'LUSD mints': None, 'LUSD supply': None, 'PYUSD burns': None, 'PYUSD mints': None, 'PYUSD supply': None, 'RLUSD burns': None, 'RLUSD mints': None, 'RLUSD supply': None, 'USDC burns': -23649152.580000002, 'USDC mints': 49185515.400000006, 'USDC supply': 695069526.5600001, 'USDS burns': None, 'USDS mints': None, 'USDS supply': None, 'sUSD burns': None, 'sUSD mints': None, 'sUSD supply': None, 'week': '2020-03-23 00:00:00.000 UTC'}, {'BUSD burns': -9359339.780000001, 'BUSD mints': 56443988.75000001, 'BUSD supply': 173231872.23000002, 'DAI burns': -76953163.6942889, 'DAI mints': 79472564.65934564, 'DAI supply': 51018295.588389695, 'FRAX burns': None, 'FRAX mints': None, 'FRAX supply': None, 'LUSD burns': None, 'LUSD mints': None, 'LUSD supply': None, 'PYUSD burns': None, 'PYUSD mints': None, 'PYUSD supply': None, 'RLUSD burns': None, 'RLUSD mints': None, 'RLUSD supply': None, 'USDC burns': -25734944.490000002, 'USDC mints': 93235906.21, 'USDC supply': 669533163.74, 'USDS burns': None, 'USDS mints': None, 'USDS supply': None, 'sUSD burns': None, 'sUSD mints': None, 'sUSD supply': None, 'week': '2020-03-16 00:00:00.000 UTC'}, {'BUSD burns': -17995830.22, 'BUSD mints': 53438835.15, 'BUSD supply': 126147223.26000002, 'DAI burns': -149750303.54758692, 'DAI mints': 148923666.18524957, 'DAI supply': 48498894.62333296, 'FRAX burns': None, 'FRAX mints': None, 'FRAX supply': None, 'LUSD burns': None, 'LUSD mints': None, 'LUSD supply': None, 'PYUSD burns': None, 'PYUSD mints': None, 'PYUSD supply': None, 'RLUSD burns': None, 'RLUSD mints': None, 'RLUSD supply': None, 'USDC burns': -23892072.71, 'USDC mints': 160863623.11, 'USDC supply': 602032202.02, 'USDS burns': None, 'USDS mints': None, 'USDS supply': None, 'sUSD burns': None, 'sUSD mints': None, 'sUSD supply': None, 'week': '2020-03-09 00:00:00.000 UTC'}, {'BUSD burns': -10767000.42, 'BUSD mints': 33194539.93, 'BUSD supply': 90704218.33000001, 'DAI burns': -42210789.90872404, 'DAI mints': 40258165.23868775, 'DAI supply': 49325531.985670485, 'FRAX burns': None, 'FRAX mints': None, 'FRAX supply': None, 'LUSD burns': None, 'LUSD mints': None, 'LUSD supply': None, 'PYUSD burns': None, 'PYUSD mints': None, 'PYUSD supply': None, 'RLUSD burns': None, 'RLUSD mints': None, 'RLUSD supply': None, 'USDC burns': -16638011.350000001, 'USDC mints': 36963301.690000005, 'USDC supply': 465060651.62, 'USDS burns': None, 'USDS mints': None, 'USDS supply': None, 'sUSD burns': None, 'sUSD mints': None, 'sUSD supply': None, 'week': '2020-03-02 00:00:00.000 UTC'}, {'BUSD burns': -13162283.34, 'BUSD mints': 21851807.08, 'BUSD supply': 68276678.82000001, 'DAI burns': -60761329.2158088, 'DAI mints': 61069512.16390242, 'DAI supply': 51278156.65570678, 'FRAX burns': None, 'FRAX mints': None, 'FRAX supply': None, 'LUSD burns': None, 'LUSD mints': None, 'LUSD supply': None, 'PYUSD burns': None, 'PYUSD mints': None, 'PYUSD supply': None, 'RLUSD burns': None, 'RLUSD mints': None, 'RLUSD supply': None, 'USDC burns': -9738695.28, 'USDC mints': 28581644.4, 'USDC supply': 444735361.28000003, 'USDS burns': None, 'USDS mints': None, 'USDS supply': None, 'sUSD burns': None, 'sUSD mints': None, 'sUSD supply': None, 'week': '2020-02-24 00:00:00.000 UTC'}, {'BUSD burns': -6604669.91, 'BUSD mints': 24965234.5, 'BUSD supply': 59587155.08000001, 'DAI burns': -54693772.720326215, 'DAI mints': 51962119.94782397, 'DAI supply': 50969973.70761323, 'FRAX burns': None, 'FRAX mints': None, 'FRAX supply': None, 'LUSD burns': None, 'LUSD mints': None, 'LUSD supply': None, 'PYUSD burns': None, 'PYUSD mints': None, 'PYUSD supply': None, 'RLUSD burns': None, 'RLUSD mints': None, 'RLUSD supply': None, 'USDC burns': -25573563.62, 'USDC mints': 21873086.459999997, 'USDC supply': 425892412.16, 'USDS burns': None, 'USDS mints': None, 'USDS supply': None, 'sUSD burns': None, 'sUSD mints': None, 'sUSD supply': None, 'week': '2020-02-17 00:00:00.000 UTC'}, {'BUSD burns': -16683457.7, 'BUSD mints': 14529038.049999997, 'BUSD supply': 41226590.49000001, 'DAI burns': -51650689.094432086, 'DAI mints': 53280741.71899992, 'DAI supply': 53701626.4801155, 'FRAX burns': None, 'FRAX mints': None, 'FRAX supply': None, 'LUSD burns': None, 'LUSD mints': None, 'LUSD supply': None, 'PYUSD burns': None, 'PYUSD mints': None, 'PYUSD supply': None, 'RLUSD burns': None, 'RLUSD mints': None, 'RLUSD supply': None, 'USDC burns': -18079358.25, 'USDC mints': 21666044.419999994, 'USDC supply': 429592889.32000005, 'USDS burns': None, 'USDS mints': None, 'USDS supply': None, 'sUSD burns': None, 'sUSD mints': None, 'sUSD supply': None, 'week': '2020-02-10 00:00:00.000 UTC'}, {'BUSD burns': -30666160.560000002, 'BUSD mints': 33484380.849999998, 'BUSD supply': 43381010.14000001, 'DAI burns': -69535513.96823347, 'DAI mints': 66932717.89839721, 'DAI supply': 52071573.855547644, 'FRAX burns': None, 'FRAX mints': None, 'FRAX supply': None, 'LUSD burns': None, 'LUSD mints': None, 'LUSD supply': None, 'PYUSD burns': None, 'PYUSD mints': None, 'PYUSD supply': None, 'RLUSD burns': None, 'RLUSD mints': None, 'RLUSD supply': None, 'USDC burns': -24520171.520000003, 'USDC mints': 13108805.590000002, 'USDC supply': 426006203.15000004, 'USDS burns': None, 'USDS mints': None, 'USDS supply': None, 'sUSD burns': None, 'sUSD mints': None, 'sUSD supply': None, 'week': '2020-02-03 00:00:00.000 UTC'}, {'BUSD burns': -7437525.45, 'BUSD mints': 483474.79000000004, 'BUSD supply': 40562789.85000001, 'DAI burns': -29018454.330642648, 'DAI mints': 25393091.771812003, 'DAI supply': 54674369.92538388, 'FRAX burns': None, 'FRAX mints': None, 'FRAX supply': None, 'LUSD burns': None, 'LUSD mints': None, 'LUSD supply': None, 'PYUSD burns': None, 'PYUSD mints': None, 'PYUSD supply': None, 'RLUSD burns': None, 'RLUSD mints': None, 'RLUSD supply': None, 'USDC burns': -18417802.269999996, 'USDC mints': 7668031.35, 'USDC supply': 437417569.08000004, 'USDS burns': None, 'USDS mints': None, 'USDS supply': None, 'sUSD burns': None, 'sUSD mints': None, 'sUSD supply': None, 'week': '2020-01-27 00:00:00.000 UTC'}, {'BUSD burns': -5039672.92, 'BUSD mints': 22313832.810000002, 'BUSD supply': 47516840.510000005, 'DAI burns': -20940271.074196666, 'DAI mints': 26276272.65779253, 'DAI supply': 58299732.484214514, 'FRAX burns': None, 'FRAX mints': None, 'FRAX supply': None, 'LUSD burns': None, 'LUSD mints': None, 'LUSD supply': None, 'PYUSD burns': None, 'PYUSD mints': None, 'PYUSD supply': None, 'RLUSD burns': None, 'RLUSD mints': None, 'RLUSD supply': None, 'USDC burns': -23425618.76, 'USDC mints': 27035136.990000002, 'USDC supply': 448167340.00000006, 'USDS burns': None, 'USDS mints': None, 'USDS supply': None, 'sUSD burns': None, 'sUSD mints': None, 'sUSD supply': None, 'week': '2020-01-20 00:00:00.000 UTC'}, {'BUSD burns': -12348093.680000002, 'BUSD mints': 15066366.299999999, 'BUSD supply': 30242680.62, 'DAI burns': -38375190.85589051, 'DAI mints': 45850214.76746796, 'DAI supply': 52963730.90061866, 'FRAX burns': None, 'FRAX mints': None, 'FRAX supply': None, 'LUSD burns': None, 'LUSD mints': None, 'LUSD supply': None, 'PYUSD burns': None, 'PYUSD mints': None, 'PYUSD supply': None, 'RLUSD burns': None, 'RLUSD mints': None, 'RLUSD supply': None, 'USDC burns': -34337391.08, 'USDC mints': 29713280.469999995, 'USDC supply': 444557821.77000004, 'USDS burns': None, 'USDS mints': None, 'USDS supply': None, 'sUSD burns': None, 'sUSD mints': None, 'sUSD supply': None, 'week': '2020-01-13 00:00:00.000 UTC'}, {'BUSD burns': -4372028.9799999995, 'BUSD mints': 1147415.2799999998, 'BUSD supply': 27524408.000000004, 'DAI burns': -22930013.57970071, 'DAI mints': 25658090.615785897, 'DAI supply': 45488706.98904122, 'FRAX burns': None, 'FRAX mints': None, 'FRAX supply': None, 'LUSD burns': None, 'LUSD mints': None, 'LUSD supply': None, 'PYUSD burns': None, 'PYUSD mints': None, 'PYUSD supply': None, 'RLUSD burns': None, 'RLUSD mints': None, 'RLUSD supply': None, 'USDC burns': -87474052.08000001, 'USDC mints': 18543804.32, 'USDC supply': 449181932.38000005, 'USDS burns': None, 'USDS mints': None, 'USDS supply': None, 'sUSD burns': None, 'sUSD mints': None, 'sUSD supply': None, 'week': '2020-01-06 00:00:00.000 UTC'}, {'BUSD burns': -1078937.9200000002, 'BUSD mints': 5195620.67, 'BUSD supply': 30749021.700000003, 'DAI burns': -14711182.842060894, 'DAI mints': 14606321.794639084, 'DAI supply': 42760629.952956036, 'FRAX burns': None, 'FRAX mints': None, 'FRAX supply': None, 'LUSD burns': None, 'LUSD mints': None, 'LUSD supply': None, 'PYUSD burns': None, 'PYUSD mints': None, 'PYUSD supply': None, 'RLUSD burns': None, 'RLUSD mints': None, 'RLUSD supply': None, 'USDC burns': -11449099.180000003, 'USDC mints': 7457116.989999999, 'USDC supply': 518112180.14000005, 'USDS burns': None, 'USDS mints': None, 'USDS supply': None, 'sUSD burns': None, 'sUSD mints': None, 'sUSD supply': None, 'week': '2019-12-30 00:00:00.000 UTC'}, {'BUSD burns': -4155995.2600000002, 'BUSD mints': 1329762.3599999999, 'BUSD supply': 26632338.950000003, 'DAI burns': -11574899.031921277, 'DAI mints': 10339441.894795736, 'DAI supply': 42865491.00037785, 'FRAX burns': None, 'FRAX mints': None, 'FRAX supply': None, 'LUSD burns': None, 'LUSD mints': None, 'LUSD supply': None, 'PYUSD burns': None, 'PYUSD mints': None, 'PYUSD supply': None, 'RLUSD burns': None, 'RLUSD mints': None, 'RLUSD supply': None, 'USDC burns': -12962932.649999999, 'USDC mints': 9986766.249999998, 'USDC supply': 522104162.33000004, 'USDS burns': None, 'USDS mints': None, 'USDS supply': None, 'sUSD burns': None, 'sUSD mints': None, 'sUSD supply': None, 'week': '2019-12-23 00:00:00.000 UTC'}, {'BUSD burns': -2230717.39, 'BUSD mints': 2252385.98, 'BUSD supply': 29458571.850000005, 'DAI burns': -24630844.57703882, 'DAI mints': 22236690.226383265, 'DAI supply': 44100948.137503386, 'FRAX burns': None, 'FRAX mints': None, 'FRAX supply': None, 'LUSD burns': None, 'LUSD mints': None, 'LUSD supply': None, 'PYUSD burns': None, 'PYUSD mints': None, 'PYUSD supply': None, 'RLUSD burns': None, 'RLUSD mints': None, 'RLUSD supply': None, 'USDC burns': -19406944.449999996, 'USDC mints': 67043365.629999995, 'USDC supply': 525080328.73, 'USDS burns': None, 'USDS mints': None, 'USDS supply': None, 'sUSD burns': None, 'sUSD mints': None, 'sUSD supply': None, 'week': '2019-12-16 00:00:00.000 UTC'}, {'BUSD burns': -2990501.21, 'BUSD mints': 5481071.67, 'BUSD supply': 29436903.260000005, 'DAI burns': -13455536.936756192, 'DAI mints': 14441325.630024375, 'DAI supply': 46495102.48815895, 'FRAX burns': None, 'FRAX mints': None, 'FRAX supply': None, 'LUSD burns': None, 'LUSD mints': None, 'LUSD supply': None, 'PYUSD burns': None, 'PYUSD mints': None, 'PYUSD supply': None, 'RLUSD burns': None, 'RLUSD mints': None, 'RLUSD supply': None, 'USDC burns': -23699906.7, 'USDC mints': 35642392.18, 'USDC supply': 477443907.55, 'USDS burns': None, 'USDS mints': None, 'USDS supply': None, 'sUSD burns': None, 'sUSD mints': None, 'sUSD supply': None, 'week': '2019-12-09 00:00:00.000 UTC'}, {'BUSD burns': -1566381.25, 'BUSD mints': 1982427.25, 'BUSD supply': 26946332.80000001, 'DAI burns': -33354966.32648962, 'DAI mints': 56969564.90555152, 'DAI supply': 45509313.79489076, 'FRAX burns': None, 'FRAX mints': None, 'FRAX supply': None, 'LUSD burns': None, 'LUSD mints': None, 'LUSD supply': None, 'PYUSD burns': None, 'PYUSD mints': None, 'PYUSD supply': None, 'RLUSD burns': None, 'RLUSD mints': None, 'RLUSD supply': None, 'USDC burns': -16915520.689999998, 'USDC mints': 23740228.929999996, 'USDC supply': 465501422.07, 'USDS burns': None, 'USDS mints': None, 'USDS supply': None, 'sUSD burns': None, 'sUSD mints': None, 'sUSD supply': None, 'week': '2019-12-02 00:00:00.000 UTC'}, {'BUSD burns': -2665648.08, 'BUSD mints': 4855091.11, 'BUSD supply': 26530286.80000001, 'DAI burns': -9554739.550859379, 'DAI mints': 16537799.538614873, 'DAI supply': 21894715.215828866, 'FRAX burns': None, 'FRAX mints': None, 'FRAX supply': None, 'LUSD burns': None, 'LUSD mints': None, 'LUSD supply': None, 'PYUSD burns': None, 'PYUSD mints': None, 'PYUSD supply': None, 'RLUSD burns': None, 'RLUSD mints': None, 'RLUSD supply': None, 'USDC burns': -23804458.049999997, 'USDC mints': 36785619.58, 'USDC supply': 458676713.83, 'USDS burns': None, 'USDS mints': None, 'USDS supply': None, 'sUSD burns': None, 'sUSD mints': None, 'sUSD supply': None, 'week': '2019-11-25 00:00:00.000 UTC'}, {'BUSD burns': -1492830.0899999999, 'BUSD mints': 3048373.88, 'BUSD supply': 24340843.770000007, 'DAI burns': -18261326.748760313, 'DAI mints': 33172981.976833683, 'DAI supply': 14911655.228073368, 'FRAX burns': None, 'FRAX mints': None, 'FRAX supply': None, 'LUSD burns': None, 'LUSD mints': None, 'LUSD supply': None, 'PYUSD burns': None, 'PYUSD mints': None, 'PYUSD supply': None, 'RLUSD burns': None, 'RLUSD mints': None, 'RLUSD supply': None, 'USDC burns': -19023748.609999996, 'USDC mints': 21010513.94, 'USDC supply': 445695552.3, 'USDS burns': None, 'USDS mints': None, 'USDS supply': None, 'sUSD burns': None, 'sUSD mints': None, 'sUSD supply': None, 'week': '2019-11-18 00:00:00.000 UTC'}, {'BUSD burns': -6643537.9, 'BUSD mints': 2148698.9, 'BUSD supply': 22785299.980000008, 'DAI burns': None, 'DAI mints': None, 'DAI supply': None, 'FRAX burns': None, 'FRAX mints': None, 'FRAX supply': None, 'LUSD burns': None, 'LUSD mints': None, 'LUSD supply': None, 'PYUSD burns': None, 'PYUSD mints': None, 'PYUSD supply': None, 'RLUSD burns': None, 'RLUSD mints': None, 'RLUSD supply': None, 'USDC burns': -18183555.55, 'USDC mints': 8080653.110000001, 'USDC supply': 443708786.97, 'USDS burns': None, 'USDS mints': None, 'USDS supply': None, 'sUSD burns': None, 'sUSD mints': None, 'sUSD supply': None, 'week': '2019-11-11 00:00:00.000 UTC'}, {'BUSD burns': -9506800.3, 'BUSD mints': 4979516.48, 'BUSD supply': 27280138.980000008, 'DAI burns': None, 'DAI mints': None, 'DAI supply': None, 'FRAX burns': None, 'FRAX mints': None, 'FRAX supply': None, 'LUSD burns': None, 'LUSD mints': None, 'LUSD supply': None, 'PYUSD burns': None, 'PYUSD mints': None, 'PYUSD supply': None, 'RLUSD burns': None, 'RLUSD mints': None, 'RLUSD supply': None, 'USDC burns': -48502516.49, 'USDC mints': 32798279.41, 'USDC supply': 453811689.41, 'USDS burns': None, 'USDS mints': None, 'USDS supply': None, 'sUSD burns': None, 'sUSD mints': None, 'sUSD supply': None, 'week': '2019-11-04 00:00:00.000 UTC'}, {'BUSD burns': -5622074.21, 'BUSD mints': 2013722.58, 'BUSD supply': 31807422.80000001, 'DAI burns': None, 'DAI mints': None, 'DAI supply': None, 'FRAX burns': None, 'FRAX mints': None, 'FRAX supply': None, 'LUSD burns': None, 'LUSD mints': None, 'LUSD supply': None, 'PYUSD burns': None, 'PYUSD mints': None, 'PYUSD supply': None, 'RLUSD burns': None, 'RLUSD mints': None, 'RLUSD supply': None, 'USDC burns': -29472902.36, 'USDC mints': 21578599.12, 'USDC supply': 469515926.49, 'USDS burns': None, 'USDS mints': None, 'USDS supply': None, 'sUSD burns': None, 'sUSD mints': None, 'sUSD supply': None, 'week': '2019-10-28 00:00:00.000 UTC'}, {'BUSD burns': -1781115.81, 'BUSD mints': 5431968.970000001, 'BUSD supply': 35415774.43000001, 'DAI burns': None, 'DAI mints': None, 'DAI supply': None, 'FRAX burns': None, 'FRAX mints': None, 'FRAX supply': None, 'LUSD burns': None, 'LUSD mints': None, 'LUSD supply': None, 'PYUSD burns': None, 'PYUSD mints': None, 'PYUSD supply': None, 'RLUSD burns': None, 'RLUSD mints': None, 'RLUSD supply': None, 'USDC burns': -30457361.69, 'USDC mints': 31492038.2, 'USDC supply': 477410229.73, 'USDS burns': None, 'USDS mints': None, 'USDS supply': None, 'sUSD burns': None, 'sUSD mints': None, 'sUSD supply': None, 'week': '2019-10-21 00:00:00.000 UTC'}, {'BUSD burns': 0, 'BUSD mints': 9189505.330000002, 'BUSD supply': 31764921.270000003, 'DAI burns': None, 'DAI mints': None, 'DAI supply': None, 'FRAX burns': None, 'FRAX mints': None, 'FRAX supply': None, 'LUSD burns': None, 'LUSD mints': None, 'LUSD supply': None, 'PYUSD burns': None, 'PYUSD mints': None, 'PYUSD supply': None, 'RLUSD burns': None, 'RLUSD mints': None, 'RLUSD supply': None, 'USDC burns': -6417278.180000001, 'USDC mints': 13183650.57, 'USDC supply': 476375553.22, 'USDS burns': None, 'USDS mints': None, 'USDS supply': None, 'sUSD burns': None, 'sUSD mints': None, 'sUSD supply': None, 'week': '2019-10-14 00:00:00.000 UTC'}, {'BUSD burns': -1283934.86, 'BUSD mints': 3078911.92, 'BUSD supply': 22575415.94, 'DAI burns': None, 'DAI mints': None, 'DAI supply': None, 'FRAX burns': None, 'FRAX mints': None, 'FRAX supply': None, 'LUSD burns': None, 'LUSD mints': None, 'LUSD supply': None, 'PYUSD burns': None, 'PYUSD mints': None, 'PYUSD supply': None, 'RLUSD burns': None, 'RLUSD mints': None, 'RLUSD supply': None, 'USDC burns': -25638952.28, 'USDC mints': 19131726.639999997, 'USDC supply': 469609180.83000004, 'USDS burns': None, 'USDS mints': None, 'USDS supply': None, 'sUSD burns': None, 'sUSD mints': None, 'sUSD supply': None, 'week': '2019-10-07 00:00:00.000 UTC'}, {'BUSD burns': 0, 'BUSD mints': 3017351.3200000003, 'BUSD supply': 20780438.880000003, 'DAI burns': None, 'DAI mints': None, 'DAI supply': None, 'FRAX burns': None, 'FRAX mints': None, 'FRAX supply': None, 'LUSD burns': None, 'LUSD mints': None, 'LUSD supply': None, 'PYUSD burns': None, 'PYUSD mints': None, 'PYUSD supply': None, 'RLUSD burns': None, 'RLUSD mints': None, 'RLUSD supply': None, 'USDC burns': -10524836.920000002, 'USDC mints': 57996635.599999994, 'USDC supply': 476116406.47, 'USDS burns': None, 'USDS mints': None, 'USDS supply': None, 'sUSD burns': None, 'sUSD mints': None, 'sUSD supply': None, 'week': '2019-09-30 00:00:00.000 UTC'}, {'BUSD burns': -1881106.16, 'BUSD mints': 11551823.89, 'BUSD supply': 17763087.560000002, 'DAI burns': None, 'DAI mints': None, 'DAI supply': None, 'FRAX burns': None, 'FRAX mints': None, 'FRAX supply': None, 'LUSD burns': None, 'LUSD mints': None, 'LUSD supply': None, 'PYUSD burns': None, 'PYUSD mints': None, 'PYUSD supply': None, 'RLUSD burns': None, 'RLUSD mints': None, 'RLUSD supply': None, 'USDC burns': -9524205.27, 'USDC mints': 44488332.13, 'USDC supply': 428644607.79, 'USDS burns': None, 'USDS mints': None, 'USDS supply': None, 'sUSD burns': None, 'sUSD mints': None, 'sUSD supply': None, 'week': '2019-09-23 00:00:00.000 UTC'}, {'BUSD burns': 0, 'BUSD mints': 2092221.2300000002, 'BUSD supply': 8092369.83, 'DAI burns': None, 'DAI mints': None, 'DAI supply': None, 'FRAX burns': None, 'FRAX mints': None, 'FRAX supply': None, 'LUSD burns': None, 'LUSD mints': None, 'LUSD supply': None, 'PYUSD burns': None, 'PYUSD mints': None, 'PYUSD supply': None, 'RLUSD burns': None, 'RLUSD mints': None, 'RLUSD supply': None, 'USDC burns': -39619763.68999999, 'USDC mints': 6554256.029999999, 'USDC supply': 393680480.93, 'USDS burns': None, 'USDS mints': None, 'USDS supply': None, 'sUSD burns': None, 'sUSD mints': None, 'sUSD supply': None, 'week': '2019-09-16 00:00:00.000 UTC'}, {'BUSD burns': -4, 'BUSD mints': 6000152.6, 'BUSD supply': 6000148.6, 'DAI burns': None, 'DAI mints': None, 'DAI supply': None, 'FRAX burns': None, 'FRAX mints': None, 'FRAX supply': None, 'LUSD burns': None, 'LUSD mints': None, 'LUSD supply': None, 'PYUSD burns': None, 'PYUSD mints': None, 'PYUSD supply': None, 'RLUSD burns': None, 'RLUSD mints': None, 'RLUSD supply': None, 'USDC burns': -18857917.939999998, 'USDC mints': 2039628.2200000004, 'USDC supply': 426745988.59000003, 'USDS burns': None, 'USDS mints': None, 'USDS supply': None, 'sUSD burns': None, 'sUSD mints': None, 'sUSD supply': None, 'week': '2019-09-09 00:00:00.000 UTC'}, {'BUSD burns': None, 'BUSD mints': None, 'BUSD supply': None, 'DAI burns': None, 'DAI mints': None, 'DAI supply': None, 'FRAX burns': None, 'FRAX mints': None, 'FRAX supply': None, 'LUSD burns': None, 'LUSD mints': None, 'LUSD supply': None, 'PYUSD burns': None, 'PYUSD mints': None, 'PYUSD supply': None, 'RLUSD burns': None, 'RLUSD mints': None, 'RLUSD supply': None, 'USDC burns': -41410795.260000005, 'USDC mints': 31189383.69999999, 'USDC supply': 443564278.31000006, 'USDS burns': None, 'USDS mints': None, 'USDS supply': None, 'sUSD burns': None, 'sUSD mints': None, 'sUSD supply': None, 'week': '2019-09-02 00:00:00.000 UTC'}, {'BUSD burns': None, 'BUSD mints': None, 'BUSD supply': None, 'DAI burns': None, 'DAI mints': None, 'DAI supply': None, 'FRAX burns': None, 'FRAX mints': None, 'FRAX supply': None, 'LUSD burns': None, 'LUSD mints': None, 'LUSD supply': None, 'PYUSD burns': None, 'PYUSD mints': None, 'PYUSD supply': None, 'RLUSD burns': None, 'RLUSD mints': None, 'RLUSD supply': None, 'USDC burns': -14187401.84, 'USDC mints': 30613764.77, 'USDC supply': 453785689.87000006, 'USDS burns': None, 'USDS mints': None, 'USDS supply': None, 'sUSD burns': None, 'sUSD mints': None, 'sUSD supply': None, 'week': '2019-08-26 00:00:00.000 UTC'}, {'BUSD burns': None, 'BUSD mints': None, 'BUSD supply': None, 'DAI burns': None, 'DAI mints': None, 'DAI supply': None, 'FRAX burns': None, 'FRAX mints': None, 'FRAX supply': None, 'LUSD burns': None, 'LUSD mints': None, 'LUSD supply': None, 'PYUSD burns': None, 'PYUSD mints': None, 'PYUSD supply': None, 'RLUSD burns': None, 'RLUSD mints': None, 'RLUSD supply': None, 'USDC burns': -10197927.11, 'USDC mints': 26460099.669999998, 'USDC supply': 437359326.94000006, 'USDS burns': None, 'USDS mints': None, 'USDS supply': None, 'sUSD burns': None, 'sUSD mints': None, 'sUSD supply': None, 'week': '2019-08-19 00:00:00.000 UTC'}, {'BUSD burns': None, 'BUSD mints': None, 'BUSD supply': None, 'DAI burns': None, 'DAI mints': None, 'DAI supply': None, 'FRAX burns': None, 'FRAX mints': None, 'FRAX supply': None, 'LUSD burns': None, 'LUSD mints': None, 'LUSD supply': None, 'PYUSD burns': None, 'PYUSD mints': None, 'PYUSD supply': None, 'RLUSD burns': None, 'RLUSD mints': None, 'RLUSD supply': None, 'USDC burns': -10157187.59, 'USDC mints': 7614292.17, 'USDC supply': 421097154.38000005, 'USDS burns': None, 'USDS mints': None, 'USDS supply': None, 'sUSD burns': None, 'sUSD mints': None, 'sUSD supply': None, 'week': '2019-08-12 00:00:00.000 UTC'}, {'BUSD burns': None, 'BUSD mints': None, 'BUSD supply': None, 'DAI burns': None, 'DAI mints': None, 'DAI supply': None, 'FRAX burns': None, 'FRAX mints': None, 'FRAX supply': None, 'LUSD burns': None, 'LUSD mints': None, 'LUSD supply': None, 'PYUSD burns': None, 'PYUSD mints': None, 'PYUSD supply': None, 'RLUSD burns': None, 'RLUSD mints': None, 'RLUSD supply': None, 'USDC burns': -26483068.38, 'USDC mints': 26335834.540000003, 'USDC supply': 423640049.8000001, 'USDS burns': None, 'USDS mints': None, 'USDS supply': None, 'sUSD burns': None, 'sUSD mints': None, 'sUSD supply': None, 'week': '2019-08-05 00:00:00.000 UTC'}, {'BUSD burns': None, 'BUSD mints': None, 'BUSD supply': None, 'DAI burns': None, 'DAI mints': None, 'DAI supply': None, 'FRAX burns': None, 'FRAX mints': None, 'FRAX supply': None, 'LUSD burns': None, 'LUSD mints': None, 'LUSD supply': None, 'PYUSD burns': None, 'PYUSD mints': None, 'PYUSD supply': None, 'RLUSD burns': None, 'RLUSD mints': None, 'RLUSD supply': None, 'USDC burns': -23715552.120000005, 'USDC mints': 23653330.13, 'USDC supply': 423787283.64000005, 'USDS burns': None, 'USDS mints': None, 'USDS supply': None, 'sUSD burns': None, 'sUSD mints': None, 'sUSD supply': None, 'week': '2019-07-29 00:00:00.000 UTC'}, {'BUSD burns': None, 'BUSD mints': None, 'BUSD supply': None, 'DAI burns': None, 'DAI mints': None, 'DAI supply': None, 'FRAX burns': None, 'FRAX mints': None, 'FRAX supply': None, 'LUSD burns': None, 'LUSD mints': None, 'LUSD supply': None, 'PYUSD burns': None, 'PYUSD mints': None, 'PYUSD supply': None, 'RLUSD burns': None, 'RLUSD mints': None, 'RLUSD supply': None, 'USDC burns': -4032754.0199999996, 'USDC mints': 22874921.25, 'USDC supply': 423849505.63000005, 'USDS burns': None, 'USDS mints': None, 'USDS supply': None, 'sUSD burns': None, 'sUSD mints': None, 'sUSD supply': None, 'week': '2019-07-22 00:00:00.000 UTC'}, {'BUSD burns': None, 'BUSD mints': None, 'BUSD supply': None, 'DAI burns': None, 'DAI mints': None, 'DAI supply': None, 'FRAX burns': None, 'FRAX mints': None, 'FRAX supply': None, 'LUSD burns': None, 'LUSD mints': None, 'LUSD supply': None, 'PYUSD burns': None, 'PYUSD mints': None, 'PYUSD supply': None, 'RLUSD burns': None, 'RLUSD mints': None, 'RLUSD supply': None, 'USDC burns': -22225501.92999999, 'USDC mints': 44575980.7, 'USDC supply': 405007338.40000004, 'USDS burns': None, 'USDS mints': None, 'USDS supply': None, 'sUSD burns': None, 'sUSD mints': None, 'sUSD supply': None, 'week': '2019-07-15 00:00:00.000 UTC'}, {'BUSD burns': None, 'BUSD mints': None, 'BUSD supply': None, 'DAI burns': None, 'DAI mints': None, 'DAI supply': None, 'FRAX burns': None, 'FRAX mints': None, 'FRAX supply': None, 'LUSD burns': None, 'LUSD mints': None, 'LUSD supply': None, 'PYUSD burns': None, 'PYUSD mints': None, 'PYUSD supply': None, 'RLUSD burns': None, 'RLUSD mints': None, 'RLUSD supply': None, 'USDC burns': -10058458.44, 'USDC mints': 22413817.1, 'USDC supply': 382656859.63000005, 'USDS burns': None, 'USDS mints': None, 'USDS supply': None, 'sUSD burns': None, 'sUSD mints': None, 'sUSD supply': None, 'week': '2019-07-08 00:00:00.000 UTC'}, {'BUSD burns': None, 'BUSD mints': None, 'BUSD supply': None, 'DAI burns': None, 'DAI mints': None, 'DAI supply': None, 'FRAX burns': None, 'FRAX mints': None, 'FRAX supply': None, 'LUSD burns': None, 'LUSD mints': None, 'LUSD supply': None, 'PYUSD burns': None, 'PYUSD mints': None, 'PYUSD supply': None, 'RLUSD burns': None, 'RLUSD mints': None, 'RLUSD supply': None, 'USDC burns': -13995296.62, 'USDC mints': 17661914.73, 'USDC supply': 370301500.97, 'USDS burns': None, 'USDS mints': None, 'USDS supply': None, 'sUSD burns': None, 'sUSD mints': None, 'sUSD supply': None, 'week': '2019-07-01 00:00:00.000 UTC'}, {'BUSD burns': None, 'BUSD mints': None, 'BUSD supply': None, 'DAI burns': None, 'DAI mints': None, 'DAI supply': None, 'FRAX burns': None, 'FRAX mints': None, 'FRAX supply': None, 'LUSD burns': None, 'LUSD mints': None, 'LUSD supply': None, 'PYUSD burns': None, 'PYUSD mints': None, 'PYUSD supply': None, 'RLUSD burns': None, 'RLUSD mints': None, 'RLUSD supply': None, 'USDC burns': -15246466.25, 'USDC mints': 36947869.62, 'USDC supply': 366634882.86, 'USDS burns': None, 'USDS mints': None, 'USDS supply': None, 'sUSD burns': None, 'sUSD mints': None, 'sUSD supply': None, 'week': '2019-06-24 00:00:00.000 UTC'}, {'BUSD burns': None, 'BUSD mints': None, 'BUSD supply': None, 'DAI burns': None, 'DAI mints': None, 'DAI supply': None, 'FRAX burns': None, 'FRAX mints': None, 'FRAX supply': None, 'LUSD burns': None, 'LUSD mints': None, 'LUSD supply': None, 'PYUSD burns': None, 'PYUSD mints': None, 'PYUSD supply': None, 'RLUSD burns': None, 'RLUSD mints': None, 'RLUSD supply': None, 'USDC burns': -15402478.310000002, 'USDC mints': 10862279.690000001, 'USDC supply': 344933479.49, 'USDS burns': None, 'USDS mints': None, 'USDS supply': None, 'sUSD burns': None, 'sUSD mints': None, 'sUSD supply': None, 'week': '2019-06-17 00:00:00.000 UTC'}, {'BUSD burns': None, 'BUSD mints': None, 'BUSD supply': None, 'DAI burns': None, 'DAI mints': None, 'DAI supply': None, 'FRAX burns': None, 'FRAX mints': None, 'FRAX supply': None, 'LUSD burns': None, 'LUSD mints': None, 'LUSD supply': None, 'PYUSD burns': None, 'PYUSD mints': None, 'PYUSD supply': None, 'RLUSD burns': None, 'RLUSD mints': None, 'RLUSD supply': None, 'USDC burns': -3720468.790000001, 'USDC mints': 14297790.630000003, 'USDC supply': 349473678.11, 'USDS burns': None, 'USDS mints': None, 'USDS supply': None, 'sUSD burns': None, 'sUSD mints': None, 'sUSD supply': None, 'week': '2019-06-10 00:00:00.000 UTC'}, {'BUSD burns': None, 'BUSD mints': None, 'BUSD supply': None, 'DAI burns': None, 'DAI mints': None, 'DAI supply': None, 'FRAX burns': None, 'FRAX mints': None, 'FRAX supply': None, 'LUSD burns': None, 'LUSD mints': None, 'LUSD supply': None, 'PYUSD burns': None, 'PYUSD mints': None, 'PYUSD supply': None, 'RLUSD burns': None, 'RLUSD mints': None, 'RLUSD supply': None, 'USDC burns': -1538181.23, 'USDC mints': 6058563.140000001, 'USDC supply': 338896356.27000004, 'USDS burns': None, 'USDS mints': None, 'USDS supply': None, 'sUSD burns': None, 'sUSD mints': None, 'sUSD supply': None, 'week': '2019-06-03 00:00:00.000 UTC'}, {'BUSD burns': None, 'BUSD mints': None, 'BUSD supply': None, 'DAI burns': None, 'DAI mints': None, 'DAI supply': None, 'FRAX burns': None, 'FRAX mints': None, 'FRAX supply': None, 'LUSD burns': None, 'LUSD mints': None, 'LUSD supply': None, 'PYUSD burns': None, 'PYUSD mints': None, 'PYUSD supply': None, 'RLUSD burns': None, 'RLUSD mints': None, 'RLUSD supply': None, 'USDC burns': -35987419.55, 'USDC mints': 7675381.42, 'USDC supply': 334375974.36, 'USDS burns': None, 'USDS mints': None, 'USDS supply': None, 'sUSD burns': None, 'sUSD mints': None, 'sUSD supply': None, 'week': '2019-05-27 00:00:00.000 UTC'}, {'BUSD burns': None, 'BUSD mints': None, 'BUSD supply': None, 'DAI burns': None, 'DAI mints': None, 'DAI supply': None, 'FRAX burns': None, 'FRAX mints': None, 'FRAX supply': None, 'LUSD burns': None, 'LUSD mints': None, 'LUSD supply': None, 'PYUSD burns': None, 'PYUSD mints': None, 'PYUSD supply': None, 'RLUSD burns': None, 'RLUSD mints': None, 'RLUSD supply': None, 'USDC burns': -1950022.6800000002, 'USDC mints': 5686806.49, 'USDC supply': 362688012.49, 'USDS burns': None, 'USDS mints': None, 'USDS supply': None, 'sUSD burns': None, 'sUSD mints': None, 'sUSD supply': None, 'week': '2019-05-20 00:00:00.000 UTC'}, {'BUSD burns': None, 'BUSD mints': None, 'BUSD supply': None, 'DAI burns': None, 'DAI mints': None, 'DAI supply': None, 'FRAX burns': None, 'FRAX mints': None, 'FRAX supply': None, 'LUSD burns': None, 'LUSD mints': None, 'LUSD supply': None, 'PYUSD burns': None, 'PYUSD mints': None, 'PYUSD supply': None, 'RLUSD burns': None, 'RLUSD mints': None, 'RLUSD supply': None, 'USDC burns': -3378222.58, 'USDC mints': 34521979.019999996, 'USDC supply': 358951228.68, 'USDS burns': None, 'USDS mints': None, 'USDS supply': None, 'sUSD burns': None, 'sUSD mints': None, 'sUSD supply': None, 'week': '2019-05-13 00:00:00.000 UTC'}, {'BUSD burns': None, 'BUSD mints': None, 'BUSD supply': None, 'DAI burns': None, 'DAI mints': None, 'DAI supply': None, 'FRAX burns': None, 'FRAX mints': None, 'FRAX supply': None, 'LUSD burns': None, 'LUSD mints': None, 'LUSD supply': None, 'PYUSD burns': None, 'PYUSD mints': None, 'PYUSD supply': None, 'RLUSD burns': None, 'RLUSD mints': None, 'RLUSD supply': None, 'USDC burns': -715543.91, 'USDC mints': 28488421.800000004, 'USDC supply': 327807472.24, 'USDS burns': None, 'USDS mints': None, 'USDS supply': None, 'sUSD burns': None, 'sUSD mints': None, 'sUSD supply': None, 'week': '2019-05-06 00:00:00.000 UTC'}, {'BUSD burns': None, 'BUSD mints': None, 'BUSD supply': None, 'DAI burns': None, 'DAI mints': None, 'DAI supply': None, 'FRAX burns': None, 'FRAX mints': None, 'FRAX supply': None, 'LUSD burns': None, 'LUSD mints': None, 'LUSD supply': None, 'PYUSD burns': None, 'PYUSD mints': None, 'PYUSD supply': None, 'RLUSD burns': None, 'RLUSD mints': None, 'RLUSD supply': None, 'USDC burns': -2685636.16, 'USDC mints': 10678006.430000003, 'USDC supply': 300034594.35, 'USDS burns': None, 'USDS mints': None, 'USDS supply': None, 'sUSD burns': None, 'sUSD mints': None, 'sUSD supply': None, 'week': '2019-04-29 00:00:00.000 UTC'}, {'BUSD burns': None, 'BUSD mints': None, 'BUSD supply': None, 'DAI burns': None, 'DAI mints': None, 'DAI supply': None, 'FRAX burns': None, 'FRAX mints': None, 'FRAX supply': None, 'LUSD burns': None, 'LUSD mints': None, 'LUSD supply': None, 'PYUSD burns': None, 'PYUSD mints': None, 'PYUSD supply': None, 'RLUSD burns': None, 'RLUSD mints': None, 'RLUSD supply': None, 'USDC burns': -4964494.64, 'USDC mints': 44711221.54, 'USDC supply': 292042224.08000004, 'USDS burns': None, 'USDS mints': None, 'USDS supply': None, 'sUSD burns': None, 'sUSD mints': None, 'sUSD supply': None, 'week': '2019-04-22 00:00:00.000 UTC'}, {'BUSD burns': None, 'BUSD mints': None, 'BUSD supply': None, 'DAI burns': None, 'DAI mints': None, 'DAI supply': None, 'FRAX burns': None, 'FRAX mints': None, 'FRAX supply': None, 'LUSD burns': None, 'LUSD mints': None, 'LUSD supply': None, 'PYUSD burns': None, 'PYUSD mints': None, 'PYUSD supply': None, 'RLUSD burns': None, 'RLUSD mints': None, 'RLUSD supply': None, 'USDC burns': -8990363, 'USDC mints': 1439583.99, 'USDC supply': 252295497.18000004, 'USDS burns': None, 'USDS mints': None, 'USDS supply': None, 'sUSD burns': None, 'sUSD mints': None, 'sUSD supply': None, 'week': '2019-04-15 00:00:00.000 UTC'}, {'BUSD burns': None, 'BUSD mints': None, 'BUSD supply': None, 'DAI burns': None, 'DAI mints': None, 'DAI supply': None, 'FRAX burns': None, 'FRAX mints': None, 'FRAX supply': None, 'LUSD burns': None, 'LUSD mints': None, 'LUSD supply': None, 'PYUSD burns': None, 'PYUSD mints': None, 'PYUSD supply': None, 'RLUSD burns': None, 'RLUSD mints': None, 'RLUSD supply': None, 'USDC burns': -8232814.58, 'USDC mints': 6988087.82, 'USDC supply': 259846276.19000003, 'USDS burns': None, 'USDS mints': None, 'USDS supply': None, 'sUSD burns': None, 'sUSD mints': None, 'sUSD supply': None, 'week': '2019-04-08 00:00:00.000 UTC'}, {'BUSD burns': None, 'BUSD mints': None, 'BUSD supply': None, 'DAI burns': None, 'DAI mints': None, 'DAI supply': None, 'FRAX burns': None, 'FRAX mints': None, 'FRAX supply': None, 'LUSD burns': None, 'LUSD mints': None, 'LUSD supply': None, 'PYUSD burns': None, 'PYUSD mints': None, 'PYUSD supply': None, 'RLUSD burns': None, 'RLUSD mints': None, 'RLUSD supply': None, 'USDC burns': -2511135.8499999996, 'USDC mints': 16907434.59, 'USDC supply': 261091002.95000002, 'USDS burns': None, 'USDS mints': None, 'USDS supply': None, 'sUSD burns': None, 'sUSD mints': None, 'sUSD supply': None, 'week': '2019-04-01 00:00:00.000 UTC'}, {'BUSD burns': None, 'BUSD mints': None, 'BUSD supply': None, 'DAI burns': None, 'DAI mints': None, 'DAI supply': None, 'FRAX burns': None, 'FRAX mints': None, 'FRAX supply': None, 'LUSD burns': None, 'LUSD mints': None, 'LUSD supply': None, 'PYUSD burns': None, 'PYUSD mints': None, 'PYUSD supply': None, 'RLUSD burns': None, 'RLUSD mints': None, 'RLUSD supply': None, 'USDC burns': -2585780.18, 'USDC mints': 3768896.45, 'USDC supply': 246694704.21, 'USDS burns': None, 'USDS mints': None, 'USDS supply': None, 'sUSD burns': None, 'sUSD mints': None, 'sUSD supply': None, 'week': '2019-03-25 00:00:00.000 UTC'}, {'BUSD burns': None, 'BUSD mints': None, 'BUSD supply': None, 'DAI burns': None, 'DAI mints': None, 'DAI supply': None, 'FRAX burns': None, 'FRAX mints': None, 'FRAX supply': None, 'LUSD burns': None, 'LUSD mints': None, 'LUSD supply': None, 'PYUSD burns': None, 'PYUSD mints': None, 'PYUSD supply': None, 'RLUSD burns': None, 'RLUSD mints': None, 'RLUSD supply': None, 'USDC burns': -790244.84, 'USDC mints': 6423611.28, 'USDC supply': 245511587.94, 'USDS burns': None, 'USDS mints': None, 'USDS supply': None, 'sUSD burns': None, 'sUSD mints': None, 'sUSD supply': None, 'week': '2019-03-18 00:00:00.000 UTC'}, {'BUSD burns': None, 'BUSD mints': None, 'BUSD supply': None, 'DAI burns': None, 'DAI mints': None, 'DAI supply': None, 'FRAX burns': None, 'FRAX mints': None, 'FRAX supply': None, 'LUSD burns': None, 'LUSD mints': None, 'LUSD supply': None, 'PYUSD burns': None, 'PYUSD mints': None, 'PYUSD supply': None, 'RLUSD burns': None, 'RLUSD mints': None, 'RLUSD supply': None, 'USDC burns': -5162462.18, 'USDC mints': 4731217.54, 'USDC supply': 239878221.5, 'USDS burns': None, 'USDS mints': None, 'USDS supply': None, 'sUSD burns': None, 'sUSD mints': None, 'sUSD supply': None, 'week': '2019-03-11 00:00:00.000 UTC'}, {'BUSD burns': None, 'BUSD mints': None, 'BUSD supply': None, 'DAI burns': None, 'DAI mints': None, 'DAI supply': None, 'FRAX burns': None, 'FRAX mints': None, 'FRAX supply': None, 'LUSD burns': None, 'LUSD mints': None, 'LUSD supply': None, 'PYUSD burns': None, 'PYUSD mints': None, 'PYUSD supply': None, 'RLUSD burns': None, 'RLUSD mints': None, 'RLUSD supply': None, 'USDC burns': -13019226.42, 'USDC mints': 13449838.890000002, 'USDC supply': 240309466.14000002, 'USDS burns': None, 'USDS mints': None, 'USDS supply': None, 'sUSD burns': None, 'sUSD mints': None, 'sUSD supply': None, 'week': '2019-03-04 00:00:00.000 UTC'}, {'BUSD burns': None, 'BUSD mints': None, 'BUSD supply': None, 'DAI burns': None, 'DAI mints': None, 'DAI supply': None, 'FRAX burns': None, 'FRAX mints': None, 'FRAX supply': None, 'LUSD burns': None, 'LUSD mints': None, 'LUSD supply': None, 'PYUSD burns': None, 'PYUSD mints': None, 'PYUSD supply': None, 'RLUSD burns': None, 'RLUSD mints': None, 'RLUSD supply': None, 'USDC burns': -3844915.81, 'USDC mints': 10456784.610000001, 'USDC supply': 239878853.67000002, 'USDS burns': None, 'USDS mints': None, 'USDS supply': None, 'sUSD burns': None, 'sUSD mints': None, 'sUSD supply': None, 'week': '2019-02-25 00:00:00.000 UTC'}, {'BUSD burns': None, 'BUSD mints': None, 'BUSD supply': None, 'DAI burns': None, 'DAI mints': None, 'DAI supply': None, 'FRAX burns': None, 'FRAX mints': None, 'FRAX supply': None, 'LUSD burns': None, 'LUSD mints': None, 'LUSD supply': None, 'PYUSD burns': None, 'PYUSD mints': None, 'PYUSD supply': None, 'RLUSD burns': None, 'RLUSD mints': None, 'RLUSD supply': None, 'USDC burns': -14063315.099999998, 'USDC mints': 2704386.7800000003, 'USDC supply': 233266984.87, 'USDS burns': None, 'USDS mints': None, 'USDS supply': None, 'sUSD burns': None, 'sUSD mints': None, 'sUSD supply': None, 'week': '2019-02-18 00:00:00.000 UTC'}, {'BUSD burns': None, 'BUSD mints': None, 'BUSD supply': None, 'DAI burns': None, 'DAI mints': None, 'DAI supply': None, 'FRAX burns': None, 'FRAX mints': None, 'FRAX supply': None, 'LUSD burns': None, 'LUSD mints': None, 'LUSD supply': None, 'PYUSD burns': None, 'PYUSD mints': None, 'PYUSD supply': None, 'RLUSD burns': None, 'RLUSD mints': None, 'RLUSD supply': None, 'USDC burns': -60543099.31, 'USDC mints': 17298740.3, 'USDC supply': 244625913.19, 'USDS burns': None, 'USDS mints': None, 'USDS supply': None, 'sUSD burns': None, 'sUSD mints': None, 'sUSD supply': None, 'week': '2019-02-11 00:00:00.000 UTC'}, {'BUSD burns': None, 'BUSD mints': None, 'BUSD supply': None, 'DAI burns': None, 'DAI mints': None, 'DAI supply': None, 'FRAX burns': None, 'FRAX mints': None, 'FRAX supply': None, 'LUSD burns': None, 'LUSD mints': None, 'LUSD supply': None, 'PYUSD burns': None, 'PYUSD mints': None, 'PYUSD supply': None, 'RLUSD burns': None, 'RLUSD mints': None, 'RLUSD supply': None, 'USDC burns': -21782458.310000002, 'USDC mints': 1455444.7599999998, 'USDC supply': 287870272.2, 'USDS burns': None, 'USDS mints': None, 'USDS supply': None, 'sUSD burns': None, 'sUSD mints': None, 'sUSD supply': None, 'week': '2019-02-04 00:00:00.000 UTC'}, {'BUSD burns': None, 'BUSD mints': None, 'BUSD supply': None, 'DAI burns': None, 'DAI mints': None, 'DAI supply': None, 'FRAX burns': None, 'FRAX mints': None, 'FRAX supply': None, 'LUSD burns': None, 'LUSD mints': None, 'LUSD supply': None, 'PYUSD burns': None, 'PYUSD mints': None, 'PYUSD supply': None, 'RLUSD burns': None, 'RLUSD mints': None, 'RLUSD supply': None, 'USDC burns': -45023758.51, 'USDC mints': 12056058.49, 'USDC supply': 308197285.75, 'USDS burns': None, 'USDS mints': None, 'USDS supply': None, 'sUSD burns': None, 'sUSD mints': None, 'sUSD supply': None, 'week': '2019-01-28 00:00:00.000 UTC'}, {'BUSD burns': None, 'BUSD mints': None, 'BUSD supply': None, 'DAI burns': None, 'DAI mints': None, 'DAI supply': None, 'FRAX burns': None, 'FRAX mints': None, 'FRAX supply': None, 'LUSD burns': None, 'LUSD mints': None, 'LUSD supply': None, 'PYUSD burns': None, 'PYUSD mints': None, 'PYUSD supply': None, 'RLUSD burns': None, 'RLUSD mints': None, 'RLUSD supply': None, 'USDC burns': -50694427.22, 'USDC mints': 43643265.410000004, 'USDC supply': 341164985.77, 'USDS burns': None, 'USDS mints': None, 'USDS supply': None, 'sUSD burns': None, 'sUSD mints': None, 'sUSD supply': None, 'week': '2019-01-21 00:00:00.000 UTC'}, {'BUSD burns': None, 'BUSD mints': None, 'BUSD supply': None, 'DAI burns': None, 'DAI mints': None, 'DAI supply': None, 'FRAX burns': None, 'FRAX mints': None, 'FRAX supply': None, 'LUSD burns': None, 'LUSD mints': None, 'LUSD supply': None, 'PYUSD burns': None, 'PYUSD mints': None, 'PYUSD supply': None, 'RLUSD burns': None, 'RLUSD mints': None, 'RLUSD supply': None, 'USDC burns': -121566338.75, 'USDC mints': 101163141.81000002, 'USDC supply': 348216147.58, 'USDS burns': None, 'USDS mints': None, 'USDS supply': None, 'sUSD burns': None, 'sUSD mints': None, 'sUSD supply': None, 'week': '2019-01-14 00:00:00.000 UTC'}, {'BUSD burns': None, 'BUSD mints': None, 'BUSD supply': None, 'DAI burns': None, 'DAI mints': None, 'DAI supply': None, 'FRAX burns': None, 'FRAX mints': None, 'FRAX supply': None, 'LUSD burns': None, 'LUSD mints': None, 'LUSD supply': None, 'PYUSD burns': None, 'PYUSD mints': None, 'PYUSD supply': None, 'RLUSD burns': None, 'RLUSD mints': None, 'RLUSD supply': None, 'USDC burns': -18568578.13, 'USDC mints': 84476359, 'USDC supply': 368619344.52, 'USDS burns': None, 'USDS mints': None, 'USDS supply': None, 'sUSD burns': None, 'sUSD mints': None, 'sUSD supply': None, 'week': '2019-01-07 00:00:00.000 UTC'}, {'BUSD burns': None, 'BUSD mints': None, 'BUSD supply': None, 'DAI burns': None, 'DAI mints': None, 'DAI supply': None, 'FRAX burns': None, 'FRAX mints': None, 'FRAX supply': None, 'LUSD burns': None, 'LUSD mints': None, 'LUSD supply': None, 'PYUSD burns': None, 'PYUSD mints': None, 'PYUSD supply': None, 'RLUSD burns': None, 'RLUSD mints': None, 'RLUSD supply': None, 'USDC burns': -12576977.53, 'USDC mints': 65839236.04, 'USDC supply': 302711563.65, 'USDS burns': None, 'USDS mints': None, 'USDS supply': None, 'sUSD burns': None, 'sUSD mints': None, 'sUSD supply': None, 'week': '2018-12-31 00:00:00.000 UTC'}, {'BUSD burns': None, 'BUSD mints': None, 'BUSD supply': None, 'DAI burns': None, 'DAI mints': None, 'DAI supply': None, 'FRAX burns': None, 'FRAX mints': None, 'FRAX supply': None, 'LUSD burns': None, 'LUSD mints': None, 'LUSD supply': None, 'PYUSD burns': None, 'PYUSD mints': None, 'PYUSD supply': None, 'RLUSD burns': None, 'RLUSD mints': None, 'RLUSD supply': None, 'USDC burns': -1152048.4200000002, 'USDC mints': 21850484.810000002, 'USDC supply': 249449305.14, 'USDS burns': None, 'USDS mints': None, 'USDS supply': None, 'sUSD burns': None, 'sUSD mints': None, 'sUSD supply': None, 'week': '2018-12-24 00:00:00.000 UTC'}, {'BUSD burns': None, 'BUSD mints': None, 'BUSD supply': None, 'DAI burns': None, 'DAI mints': None, 'DAI supply': None, 'FRAX burns': None, 'FRAX mints': None, 'FRAX supply': None, 'LUSD burns': None, 'LUSD mints': None, 'LUSD supply': None, 'PYUSD burns': None, 'PYUSD mints': None, 'PYUSD supply': None, 'RLUSD burns': None, 'RLUSD mints': None, 'RLUSD supply': None, 'USDC burns': -2609462.7099999995, 'USDC mints': 28398872.429999996, 'USDC supply': 228750868.74999997, 'USDS burns': None, 'USDS mints': None, 'USDS supply': None, 'sUSD burns': None, 'sUSD mints': None, 'sUSD supply': None, 'week': '2018-12-17 00:00:00.000 UTC'}, {'BUSD burns': None, 'BUSD mints': None, 'BUSD supply': None, 'DAI burns': None, 'DAI mints': None, 'DAI supply': None, 'FRAX burns': None, 'FRAX mints': None, 'FRAX supply': None, 'LUSD burns': None, 'LUSD mints': None, 'LUSD supply': None, 'PYUSD burns': None, 'PYUSD mints': None, 'PYUSD supply': None, 'RLUSD burns': None, 'RLUSD mints': None, 'RLUSD supply': None, 'USDC burns': -2566559.9599999995, 'USDC mints': 19890418.21, 'USDC supply': 202961459.02999997, 'USDS burns': None, 'USDS mints': None, 'USDS supply': None, 'sUSD burns': None, 'sUSD mints': None, 'sUSD supply': None, 'week': '2018-12-10 00:00:00.000 UTC'}, {'BUSD burns': None, 'BUSD mints': None, 'BUSD supply': None, 'DAI burns': None, 'DAI mints': None, 'DAI supply': None, 'FRAX burns': None, 'FRAX mints': None, 'FRAX supply': None, 'LUSD burns': None, 'LUSD mints': None, 'LUSD supply': None, 'PYUSD burns': None, 'PYUSD mints': None, 'PYUSD supply': None, 'RLUSD burns': None, 'RLUSD mints': None, 'RLUSD supply': None, 'USDC burns': -682952.6399999999, 'USDC mints': 9130264.81, 'USDC supply': 185637600.77999997, 'USDS burns': None, 'USDS mints': None, 'USDS supply': None, 'sUSD burns': None, 'sUSD mints': None, 'sUSD supply': None, 'week': '2018-12-03 00:00:00.000 UTC'}, {'BUSD burns': None, 'BUSD mints': None, 'BUSD supply': None, 'DAI burns': None, 'DAI mints': None, 'DAI supply': None, 'FRAX burns': None, 'FRAX mints': None, 'FRAX supply': None, 'LUSD burns': None, 'LUSD mints': None, 'LUSD supply': None, 'PYUSD burns': None, 'PYUSD mints': None, 'PYUSD supply': None, 'RLUSD burns': None, 'RLUSD mints': None, 'RLUSD supply': None, 'USDC burns': -653116.26, 'USDC mints': 11454885.06, 'USDC supply': 177190288.60999998, 'USDS burns': None, 'USDS mints': None, 'USDS supply': None, 'sUSD burns': None, 'sUSD mints': None, 'sUSD supply': None, 'week': '2018-11-26 00:00:00.000 UTC'}, {'BUSD burns': None, 'BUSD mints': None, 'BUSD supply': None, 'DAI burns': None, 'DAI mints': None, 'DAI supply': None, 'FRAX burns': None, 'FRAX mints': None, 'FRAX supply': None, 'LUSD burns': None, 'LUSD mints': None, 'LUSD supply': None, 'PYUSD burns': None, 'PYUSD mints': None, 'PYUSD supply': None, 'RLUSD burns': None, 'RLUSD mints': None, 'RLUSD supply': None, 'USDC burns': -833145.74, 'USDC mints': 24099256.75, 'USDC supply': 166388519.80999997, 'USDS burns': None, 'USDS mints': None, 'USDS supply': None, 'sUSD burns': None, 'sUSD mints': None, 'sUSD supply': None, 'week': '2018-11-19 00:00:00.000 UTC'}, {'BUSD burns': None, 'BUSD mints': None, 'BUSD supply': None, 'DAI burns': None, 'DAI mints': None, 'DAI supply': None, 'FRAX burns': None, 'FRAX mints': None, 'FRAX supply': None, 'LUSD burns': None, 'LUSD mints': None, 'LUSD supply': None, 'PYUSD burns': None, 'PYUSD mints': None, 'PYUSD supply': None, 'RLUSD burns': None, 'RLUSD mints': None, 'RLUSD supply': None, 'USDC burns': -844757.18, 'USDC mints': 9846406.799999999, 'USDC supply': 143122408.79999998, 'USDS burns': None, 'USDS mints': None, 'USDS supply': None, 'sUSD burns': None, 'sUSD mints': None, 'sUSD supply': None, 'week': '2018-11-12 00:00:00.000 UTC'}, {'BUSD burns': None, 'BUSD mints': None, 'BUSD supply': None, 'DAI burns': None, 'DAI mints': None, 'DAI supply': None, 'FRAX burns': None, 'FRAX mints': None, 'FRAX supply': None, 'LUSD burns': None, 'LUSD mints': None, 'LUSD supply': None, 'PYUSD burns': None, 'PYUSD mints': None, 'PYUSD supply': None, 'RLUSD burns': None, 'RLUSD mints': None, 'RLUSD supply': None, 'USDC burns': -435542.17, 'USDC mints': 2225239.1299999994, 'USDC supply': 134120759.17999999, 'USDS burns': None, 'USDS mints': None, 'USDS supply': None, 'sUSD burns': None, 'sUSD mints': None, 'sUSD supply': None, 'week': '2018-11-05 00:00:00.000 UTC'}, {'BUSD burns': None, 'BUSD mints': None, 'BUSD supply': None, 'DAI burns': None, 'DAI mints': None, 'DAI supply': None, 'FRAX burns': None, 'FRAX mints': None, 'FRAX supply': None, 'LUSD burns': None, 'LUSD mints': None, 'LUSD supply': None, 'PYUSD burns': None, 'PYUSD mints': None, 'PYUSD supply': None, 'RLUSD burns': None, 'RLUSD mints': None, 'RLUSD supply': None, 'USDC burns': -240661.18, 'USDC mints': 5092557.68, 'USDC supply': 132331062.22, 'USDS burns': None, 'USDS mints': None, 'USDS supply': None, 'sUSD burns': None, 'sUSD mints': None, 'sUSD supply': None, 'week': '2018-10-29 00:00:00.000 UTC'}, {'BUSD burns': None, 'BUSD mints': None, 'BUSD supply': None, 'DAI burns': None, 'DAI mints': None, 'DAI supply': None, 'FRAX burns': None, 'FRAX mints': None, 'FRAX supply': None, 'LUSD burns': None, 'LUSD mints': None, 'LUSD supply': None, 'PYUSD burns': None, 'PYUSD mints': None, 'PYUSD supply': None, 'RLUSD burns': None, 'RLUSD mints': None, 'RLUSD supply': None, 'USDC burns': -518911.19999999995, 'USDC mints': 94430183.14000002, 'USDC supply': 127479165.72, 'USDS burns': None, 'USDS mints': None, 'USDS supply': None, 'sUSD burns': None, 'sUSD mints': None, 'sUSD supply': None, 'week': '2018-10-22 00:00:00.000 UTC'}, {'BUSD burns': None, 'BUSD mints': None, 'BUSD supply': None, 'DAI burns': None, 'DAI mints': None, 'DAI supply': None, 'FRAX burns': None, 'FRAX mints': None, 'FRAX supply': None, 'LUSD burns': None, 'LUSD mints': None, 'LUSD supply': None, 'PYUSD burns': None, 'PYUSD mints': None, 'PYUSD supply': None, 'RLUSD burns': None, 'RLUSD mints': None, 'RLUSD supply': None, 'USDC burns': -205.53, 'USDC mints': 19982202.34, 'USDC supply': 33567893.78, 'USDS burns': None, 'USDS mints': None, 'USDS supply': None, 'sUSD burns': None, 'sUSD mints': None, 'sUSD supply': None, 'week': '2018-10-15 00:00:00.000 UTC'}, {'BUSD burns': None, 'BUSD mints': None, 'BUSD supply': None, 'DAI burns': None, 'DAI mints': None, 'DAI supply': None, 'FRAX burns': None, 'FRAX mints': None, 'FRAX supply': None, 'LUSD burns': None, 'LUSD mints': None, 'LUSD supply': None, 'PYUSD burns': None, 'PYUSD mints': None, 'PYUSD supply': None, 'RLUSD burns': None, 'RLUSD mints': None, 'RLUSD supply': None, 'USDC burns': 0, 'USDC mints': 836947.6299999999, 'USDC supply': 13585896.969999999, 'USDS burns': None, 'USDS mints': None, 'USDS supply': None, 'sUSD burns': None, 'sUSD mints': None, 'sUSD supply': None, 'week': '2018-10-08 00:00:00.000 UTC'}, {'BUSD burns': None, 'BUSD mints': None, 'BUSD supply': None, 'DAI burns': None, 'DAI mints': None, 'DAI supply': None, 'FRAX burns': None, 'FRAX mints': None, 'FRAX supply': None, 'LUSD burns': None, 'LUSD mints': None, 'LUSD supply': None, 'PYUSD burns': None, 'PYUSD mints': None, 'PYUSD supply': None, 'RLUSD burns': None, 'RLUSD mints': None, 'RLUSD supply': None, 'USDC burns': -0.6000000000000001, 'USDC mints': 5237223.640000001, 'USDC supply': 12748949.34, 'USDS burns': None, 'USDS mints': None, 'USDS supply': None, 'sUSD burns': None, 'sUSD mints': None, 'sUSD supply': None, 'week': '2018-10-01 00:00:00.000 UTC'}, {'BUSD burns': None, 'BUSD mints': None, 'BUSD supply': None, 'DAI burns': None, 'DAI mints': None, 'DAI supply': None, 'FRAX burns': None, 'FRAX mints': None, 'FRAX supply': None, 'LUSD burns': None, 'LUSD mints': None, 'LUSD supply': None, 'PYUSD burns': None, 'PYUSD mints': None, 'PYUSD supply': None, 'RLUSD burns': None, 'RLUSD mints': None, 'RLUSD supply': None, 'USDC burns': -103.59999999999998, 'USDC mints': 7511709.9, 'USDC supply': 7511726.3, 'USDS burns': None, 'USDS mints': None, 'USDS supply': None, 'sUSD burns': None, 'sUSD mints': None, 'sUSD supply': None, 'week': '2018-09-24 00:00:00.000 UTC'}, {'BUSD burns': None, 'BUSD mints': None, 'BUSD supply': None, 'DAI burns': None, 'DAI mints': None, 'DAI supply': None, 'FRAX burns': None, 'FRAX mints': None, 'FRAX supply': None, 'LUSD burns': None, 'LUSD mints': None, 'LUSD supply': None, 'PYUSD burns': None, 'PYUSD mints': None, 'PYUSD supply': None, 'RLUSD burns': None, 'RLUSD mints': None, 'RLUSD supply': None, 'USDC burns': 0, 'USDC mints': 100, 'USDC supply': 120, 'USDS burns': None, 'USDS mints': None, 'USDS supply': None, 'sUSD burns': None, 'sUSD mints': None, 'sUSD supply': None, 'week': '2018-09-17 00:00:00.000 UTC'}, {'BUSD burns': None, 'BUSD mints': None, 'BUSD supply': None, 'DAI burns': None, 'DAI mints': None, 'DAI supply': None, 'FRAX burns': None, 'FRAX mints': None, 'FRAX supply': None, 'LUSD burns': None, 'LUSD mints': None, 'LUSD supply': None, 'PYUSD burns': None, 'PYUSD mints': None, 'PYUSD supply': None, 'RLUSD burns': None, 'RLUSD mints': None, 'RLUSD supply': None, 'USDC burns': 0, 'USDC mints': 20, 'USDC supply': 20, 'USDS burns': None, 'USDS mints': None, 'USDS supply': None, 'sUSD burns': None, 'sUSD mints': None, 'sUSD supply': None, 'week': '2018-09-10 00:00:00.000 UTC'}], metadata=ResultMetadata(column_names=['week', 'USDC supply', 'USDC mints', 'USDC burns', 'DAI supply', 'DAI mints', 'DAI burns', 'LUSD supply', 'LUSD mints', 'LUSD burns', 'sUSD supply', 'sUSD mints', 'sUSD burns', 'PYUSD supply', 'PYUSD mints', 'PYUSD burns', 'RLUSD supply', 'RLUSD mints', 'RLUSD burns', 'USDS supply', 'USDS mints', 'USDS burns', 'BUSD supply', 'BUSD mints', 'BUSD burns', 'FRAX supply', 'FRAX mints', 'FRAX burns'], column_types=['timestamp(3) with time zone', 'double', 'double', 'double', 'double', 'double', 'double', 'double', 'double', 'double', 'double', 'double', 'double', 'double', 'double', 'double', 'double', 'double', 'double', 'double', 'double', 'double', 'double', 'double', 'double', 'double', 'double', 'double'], row_count=365, result_set_bytes=125063, total_row_count=365, total_result_set_bytes=125063, datapoint_count=10220, pending_time_millis=384, execution_time_millis=35569))\n"
     ]
    }
   ],
   "source": [
    "import os\n",
    "import pandas as pd\n",
    "from dotenv import load_dotenv\n",
    "load_dotenv()\n",
    "\n",
    "dune_api_key = os.getenv(\"DEFI_JOSH_DUNE_QUERY_API_KEY\")\n",
    "\n",
    "from dune_client.client import DuneClient\n",
    "dune = DuneClient(dune_api_key)\n",
    "query_result = dune.get_latest_result(5681885)\n",
    "\n",
    "print(query_result.result)"
   ]
  },
  {
   "cell_type": "code",
   "execution_count": 25,
   "id": "540d106b",
   "metadata": {},
   "outputs": [
    {
     "data": {
      "text/plain": [
       "(365, 28)"
      ]
     },
     "execution_count": 25,
     "metadata": {},
     "output_type": "execute_result"
    }
   ],
   "source": [
    "import pandas as pd\n",
    "\n",
    "rows = query_result.result.rows\n",
    "\n",
    "df = pd.DataFrame(rows)\n",
    "\n",
    "df.shape"
   ]
  },
  {
   "cell_type": "code",
   "execution_count": 26,
   "id": "f25a48fb",
   "metadata": {},
   "outputs": [
    {
     "data": {
      "text/html": [
       "<div>\n",
       "<style scoped>\n",
       "    .dataframe tbody tr th:only-of-type {\n",
       "        vertical-align: middle;\n",
       "    }\n",
       "\n",
       "    .dataframe tbody tr th {\n",
       "        vertical-align: top;\n",
       "    }\n",
       "\n",
       "    .dataframe thead th {\n",
       "        text-align: right;\n",
       "    }\n",
       "</style>\n",
       "<table border=\"1\" class=\"dataframe\">\n",
       "  <thead>\n",
       "    <tr style=\"text-align: right;\">\n",
       "      <th></th>\n",
       "      <th>BUSD burns</th>\n",
       "      <th>BUSD mints</th>\n",
       "      <th>BUSD supply</th>\n",
       "      <th>DAI burns</th>\n",
       "      <th>DAI mints</th>\n",
       "      <th>DAI supply</th>\n",
       "      <th>FRAX burns</th>\n",
       "      <th>FRAX mints</th>\n",
       "      <th>FRAX supply</th>\n",
       "      <th>LUSD burns</th>\n",
       "      <th>...</th>\n",
       "      <th>USDC burns</th>\n",
       "      <th>USDC mints</th>\n",
       "      <th>USDC supply</th>\n",
       "      <th>USDS burns</th>\n",
       "      <th>USDS mints</th>\n",
       "      <th>USDS supply</th>\n",
       "      <th>sUSD burns</th>\n",
       "      <th>sUSD mints</th>\n",
       "      <th>sUSD supply</th>\n",
       "      <th>week</th>\n",
       "    </tr>\n",
       "  </thead>\n",
       "  <tbody>\n",
       "    <tr>\n",
       "      <th>0</th>\n",
       "      <td>0.0</td>\n",
       "      <td>0.0</td>\n",
       "      <td>5.502624e+07</td>\n",
       "      <td>-1.013288e+09</td>\n",
       "      <td>1.056715e+09</td>\n",
       "      <td>4.615325e+09</td>\n",
       "      <td>0.000000e+00</td>\n",
       "      <td>0.0</td>\n",
       "      <td>2.969265e+08</td>\n",
       "      <td>-343830.032035</td>\n",
       "      <td>...</td>\n",
       "      <td>-6.622647e+08</td>\n",
       "      <td>7.016658e+08</td>\n",
       "      <td>4.716230e+10</td>\n",
       "      <td>-3.644220e+08</td>\n",
       "      <td>4.723128e+08</td>\n",
       "      <td>4.333692e+09</td>\n",
       "      <td>0.000000e+00</td>\n",
       "      <td>1.132499e+06</td>\n",
       "      <td>4.117224e+07</td>\n",
       "      <td>2025-09-01 00:00:00.000 UTC</td>\n",
       "    </tr>\n",
       "    <tr>\n",
       "      <th>1</th>\n",
       "      <td>0.0</td>\n",
       "      <td>0.0</td>\n",
       "      <td>5.502624e+07</td>\n",
       "      <td>-4.275120e+09</td>\n",
       "      <td>4.488411e+09</td>\n",
       "      <td>4.571898e+09</td>\n",
       "      <td>0.000000e+00</td>\n",
       "      <td>0.0</td>\n",
       "      <td>2.969265e+08</td>\n",
       "      <td>-479866.754522</td>\n",
       "      <td>...</td>\n",
       "      <td>-3.130862e+09</td>\n",
       "      <td>6.217926e+09</td>\n",
       "      <td>4.712290e+10</td>\n",
       "      <td>-2.862123e+09</td>\n",
       "      <td>2.923418e+09</td>\n",
       "      <td>4.225801e+09</td>\n",
       "      <td>-4.300000e+05</td>\n",
       "      <td>1.217965e+06</td>\n",
       "      <td>4.003974e+07</td>\n",
       "      <td>2025-08-25 00:00:00.000 UTC</td>\n",
       "    </tr>\n",
       "    <tr>\n",
       "      <th>2</th>\n",
       "      <td>0.0</td>\n",
       "      <td>0.0</td>\n",
       "      <td>5.502624e+07</td>\n",
       "      <td>-5.401021e+09</td>\n",
       "      <td>5.651767e+09</td>\n",
       "      <td>4.358607e+09</td>\n",
       "      <td>-4.119302e+04</td>\n",
       "      <td>0.0</td>\n",
       "      <td>2.969265e+08</td>\n",
       "      <td>-669031.325992</td>\n",
       "      <td>...</td>\n",
       "      <td>-3.956974e+09</td>\n",
       "      <td>2.929476e+09</td>\n",
       "      <td>4.403584e+10</td>\n",
       "      <td>-3.293347e+09</td>\n",
       "      <td>2.968563e+09</td>\n",
       "      <td>4.164507e+09</td>\n",
       "      <td>-1.801582e+05</td>\n",
       "      <td>2.501694e+06</td>\n",
       "      <td>3.925177e+07</td>\n",
       "      <td>2025-08-18 00:00:00.000 UTC</td>\n",
       "    </tr>\n",
       "    <tr>\n",
       "      <th>3</th>\n",
       "      <td>0.0</td>\n",
       "      <td>0.0</td>\n",
       "      <td>5.502624e+07</td>\n",
       "      <td>-6.077834e+09</td>\n",
       "      <td>6.361997e+09</td>\n",
       "      <td>4.107861e+09</td>\n",
       "      <td>-1.664812e+06</td>\n",
       "      <td>0.0</td>\n",
       "      <td>2.969677e+08</td>\n",
       "      <td>-620182.602544</td>\n",
       "      <td>...</td>\n",
       "      <td>-3.850290e+09</td>\n",
       "      <td>6.418029e+09</td>\n",
       "      <td>4.506333e+10</td>\n",
       "      <td>-4.841229e+09</td>\n",
       "      <td>4.518181e+09</td>\n",
       "      <td>4.489290e+09</td>\n",
       "      <td>-1.141180e+06</td>\n",
       "      <td>5.819456e+05</td>\n",
       "      <td>3.693024e+07</td>\n",
       "      <td>2025-08-11 00:00:00.000 UTC</td>\n",
       "    </tr>\n",
       "    <tr>\n",
       "      <th>4</th>\n",
       "      <td>0.0</td>\n",
       "      <td>0.0</td>\n",
       "      <td>5.502624e+07</td>\n",
       "      <td>-6.398433e+09</td>\n",
       "      <td>6.476942e+09</td>\n",
       "      <td>3.823699e+09</td>\n",
       "      <td>0.000000e+00</td>\n",
       "      <td>0.0</td>\n",
       "      <td>2.986325e+08</td>\n",
       "      <td>-875676.476450</td>\n",
       "      <td>...</td>\n",
       "      <td>-2.840476e+09</td>\n",
       "      <td>3.408760e+09</td>\n",
       "      <td>4.249560e+10</td>\n",
       "      <td>-2.568139e+09</td>\n",
       "      <td>2.896373e+09</td>\n",
       "      <td>4.812337e+09</td>\n",
       "      <td>-2.104048e+10</td>\n",
       "      <td>2.104115e+10</td>\n",
       "      <td>3.748947e+07</td>\n",
       "      <td>2025-08-04 00:00:00.000 UTC</td>\n",
       "    </tr>\n",
       "  </tbody>\n",
       "</table>\n",
       "<p>5 rows × 28 columns</p>\n",
       "</div>"
      ],
      "text/plain": [
       "   BUSD burns  BUSD mints   BUSD supply     DAI burns     DAI mints  \\\n",
       "0         0.0         0.0  5.502624e+07 -1.013288e+09  1.056715e+09   \n",
       "1         0.0         0.0  5.502624e+07 -4.275120e+09  4.488411e+09   \n",
       "2         0.0         0.0  5.502624e+07 -5.401021e+09  5.651767e+09   \n",
       "3         0.0         0.0  5.502624e+07 -6.077834e+09  6.361997e+09   \n",
       "4         0.0         0.0  5.502624e+07 -6.398433e+09  6.476942e+09   \n",
       "\n",
       "     DAI supply    FRAX burns  FRAX mints   FRAX supply     LUSD burns  ...  \\\n",
       "0  4.615325e+09  0.000000e+00         0.0  2.969265e+08 -343830.032035  ...   \n",
       "1  4.571898e+09  0.000000e+00         0.0  2.969265e+08 -479866.754522  ...   \n",
       "2  4.358607e+09 -4.119302e+04         0.0  2.969265e+08 -669031.325992  ...   \n",
       "3  4.107861e+09 -1.664812e+06         0.0  2.969677e+08 -620182.602544  ...   \n",
       "4  3.823699e+09  0.000000e+00         0.0  2.986325e+08 -875676.476450  ...   \n",
       "\n",
       "     USDC burns    USDC mints   USDC supply    USDS burns    USDS mints  \\\n",
       "0 -6.622647e+08  7.016658e+08  4.716230e+10 -3.644220e+08  4.723128e+08   \n",
       "1 -3.130862e+09  6.217926e+09  4.712290e+10 -2.862123e+09  2.923418e+09   \n",
       "2 -3.956974e+09  2.929476e+09  4.403584e+10 -3.293347e+09  2.968563e+09   \n",
       "3 -3.850290e+09  6.418029e+09  4.506333e+10 -4.841229e+09  4.518181e+09   \n",
       "4 -2.840476e+09  3.408760e+09  4.249560e+10 -2.568139e+09  2.896373e+09   \n",
       "\n",
       "    USDS supply    sUSD burns    sUSD mints   sUSD supply  \\\n",
       "0  4.333692e+09  0.000000e+00  1.132499e+06  4.117224e+07   \n",
       "1  4.225801e+09 -4.300000e+05  1.217965e+06  4.003974e+07   \n",
       "2  4.164507e+09 -1.801582e+05  2.501694e+06  3.925177e+07   \n",
       "3  4.489290e+09 -1.141180e+06  5.819456e+05  3.693024e+07   \n",
       "4  4.812337e+09 -2.104048e+10  2.104115e+10  3.748947e+07   \n",
       "\n",
       "                          week  \n",
       "0  2025-09-01 00:00:00.000 UTC  \n",
       "1  2025-08-25 00:00:00.000 UTC  \n",
       "2  2025-08-18 00:00:00.000 UTC  \n",
       "3  2025-08-11 00:00:00.000 UTC  \n",
       "4  2025-08-04 00:00:00.000 UTC  \n",
       "\n",
       "[5 rows x 28 columns]"
      ]
     },
     "execution_count": 26,
     "metadata": {},
     "output_type": "execute_result"
    }
   ],
   "source": [
    "df.head()"
   ]
  },
  {
   "cell_type": "code",
   "execution_count": 27,
   "id": "39391922",
   "metadata": {},
   "outputs": [
    {
     "data": {
      "text/html": [
       "<div>\n",
       "<style scoped>\n",
       "    .dataframe tbody tr th:only-of-type {\n",
       "        vertical-align: middle;\n",
       "    }\n",
       "\n",
       "    .dataframe tbody tr th {\n",
       "        vertical-align: top;\n",
       "    }\n",
       "\n",
       "    .dataframe thead th {\n",
       "        text-align: right;\n",
       "    }\n",
       "</style>\n",
       "<table border=\"1\" class=\"dataframe\">\n",
       "  <thead>\n",
       "    <tr style=\"text-align: right;\">\n",
       "      <th></th>\n",
       "      <th>BUSD burns</th>\n",
       "      <th>BUSD mints</th>\n",
       "      <th>BUSD supply</th>\n",
       "      <th>DAI burns</th>\n",
       "      <th>DAI mints</th>\n",
       "      <th>DAI supply</th>\n",
       "      <th>FRAX burns</th>\n",
       "      <th>FRAX mints</th>\n",
       "      <th>FRAX supply</th>\n",
       "      <th>LUSD burns</th>\n",
       "      <th>...</th>\n",
       "      <th>RLUSD supply</th>\n",
       "      <th>USDC burns</th>\n",
       "      <th>USDC mints</th>\n",
       "      <th>USDC supply</th>\n",
       "      <th>USDS burns</th>\n",
       "      <th>USDS mints</th>\n",
       "      <th>USDS supply</th>\n",
       "      <th>sUSD burns</th>\n",
       "      <th>sUSD mints</th>\n",
       "      <th>sUSD supply</th>\n",
       "    </tr>\n",
       "    <tr>\n",
       "      <th>week</th>\n",
       "      <th></th>\n",
       "      <th></th>\n",
       "      <th></th>\n",
       "      <th></th>\n",
       "      <th></th>\n",
       "      <th></th>\n",
       "      <th></th>\n",
       "      <th></th>\n",
       "      <th></th>\n",
       "      <th></th>\n",
       "      <th></th>\n",
       "      <th></th>\n",
       "      <th></th>\n",
       "      <th></th>\n",
       "      <th></th>\n",
       "      <th></th>\n",
       "      <th></th>\n",
       "      <th></th>\n",
       "      <th></th>\n",
       "      <th></th>\n",
       "      <th></th>\n",
       "    </tr>\n",
       "  </thead>\n",
       "  <tbody>\n",
       "    <tr>\n",
       "      <th>2025-09-01 00:00:00+00:00</th>\n",
       "      <td>0.0</td>\n",
       "      <td>0.0</td>\n",
       "      <td>5.502624e+07</td>\n",
       "      <td>-1.013288e+09</td>\n",
       "      <td>1.056715e+09</td>\n",
       "      <td>4.615325e+09</td>\n",
       "      <td>0.000000e+00</td>\n",
       "      <td>0.0</td>\n",
       "      <td>2.969265e+08</td>\n",
       "      <td>-343830.032035</td>\n",
       "      <td>...</td>\n",
       "      <td>6.160455e+08</td>\n",
       "      <td>-6.622647e+08</td>\n",
       "      <td>7.016658e+08</td>\n",
       "      <td>4.716230e+10</td>\n",
       "      <td>-3.644220e+08</td>\n",
       "      <td>4.723128e+08</td>\n",
       "      <td>4.333692e+09</td>\n",
       "      <td>0.000000e+00</td>\n",
       "      <td>1.132499e+06</td>\n",
       "      <td>4.117224e+07</td>\n",
       "    </tr>\n",
       "    <tr>\n",
       "      <th>2025-08-25 00:00:00+00:00</th>\n",
       "      <td>0.0</td>\n",
       "      <td>0.0</td>\n",
       "      <td>5.502624e+07</td>\n",
       "      <td>-4.275120e+09</td>\n",
       "      <td>4.488411e+09</td>\n",
       "      <td>4.571898e+09</td>\n",
       "      <td>0.000000e+00</td>\n",
       "      <td>0.0</td>\n",
       "      <td>2.969265e+08</td>\n",
       "      <td>-479866.754522</td>\n",
       "      <td>...</td>\n",
       "      <td>6.160455e+08</td>\n",
       "      <td>-3.130862e+09</td>\n",
       "      <td>6.217926e+09</td>\n",
       "      <td>4.712290e+10</td>\n",
       "      <td>-2.862123e+09</td>\n",
       "      <td>2.923418e+09</td>\n",
       "      <td>4.225801e+09</td>\n",
       "      <td>-4.300000e+05</td>\n",
       "      <td>1.217965e+06</td>\n",
       "      <td>4.003974e+07</td>\n",
       "    </tr>\n",
       "    <tr>\n",
       "      <th>2025-08-18 00:00:00+00:00</th>\n",
       "      <td>0.0</td>\n",
       "      <td>0.0</td>\n",
       "      <td>5.502624e+07</td>\n",
       "      <td>-5.401021e+09</td>\n",
       "      <td>5.651767e+09</td>\n",
       "      <td>4.358607e+09</td>\n",
       "      <td>-4.119302e+04</td>\n",
       "      <td>0.0</td>\n",
       "      <td>2.969265e+08</td>\n",
       "      <td>-669031.325992</td>\n",
       "      <td>...</td>\n",
       "      <td>6.008379e+08</td>\n",
       "      <td>-3.956974e+09</td>\n",
       "      <td>2.929476e+09</td>\n",
       "      <td>4.403584e+10</td>\n",
       "      <td>-3.293347e+09</td>\n",
       "      <td>2.968563e+09</td>\n",
       "      <td>4.164507e+09</td>\n",
       "      <td>-1.801582e+05</td>\n",
       "      <td>2.501694e+06</td>\n",
       "      <td>3.925177e+07</td>\n",
       "    </tr>\n",
       "    <tr>\n",
       "      <th>2025-08-11 00:00:00+00:00</th>\n",
       "      <td>0.0</td>\n",
       "      <td>0.0</td>\n",
       "      <td>5.502624e+07</td>\n",
       "      <td>-6.077834e+09</td>\n",
       "      <td>6.361997e+09</td>\n",
       "      <td>4.107861e+09</td>\n",
       "      <td>-1.664812e+06</td>\n",
       "      <td>0.0</td>\n",
       "      <td>2.969677e+08</td>\n",
       "      <td>-620182.602544</td>\n",
       "      <td>...</td>\n",
       "      <td>5.808381e+08</td>\n",
       "      <td>-3.850290e+09</td>\n",
       "      <td>6.418029e+09</td>\n",
       "      <td>4.506333e+10</td>\n",
       "      <td>-4.841229e+09</td>\n",
       "      <td>4.518181e+09</td>\n",
       "      <td>4.489290e+09</td>\n",
       "      <td>-1.141180e+06</td>\n",
       "      <td>5.819456e+05</td>\n",
       "      <td>3.693024e+07</td>\n",
       "    </tr>\n",
       "    <tr>\n",
       "      <th>2025-08-04 00:00:00+00:00</th>\n",
       "      <td>0.0</td>\n",
       "      <td>0.0</td>\n",
       "      <td>5.502624e+07</td>\n",
       "      <td>-6.398433e+09</td>\n",
       "      <td>6.476942e+09</td>\n",
       "      <td>3.823699e+09</td>\n",
       "      <td>0.000000e+00</td>\n",
       "      <td>0.0</td>\n",
       "      <td>2.986325e+08</td>\n",
       "      <td>-875676.476450</td>\n",
       "      <td>...</td>\n",
       "      <td>5.768381e+08</td>\n",
       "      <td>-2.840476e+09</td>\n",
       "      <td>3.408760e+09</td>\n",
       "      <td>4.249560e+10</td>\n",
       "      <td>-2.568139e+09</td>\n",
       "      <td>2.896373e+09</td>\n",
       "      <td>4.812337e+09</td>\n",
       "      <td>-2.104048e+10</td>\n",
       "      <td>2.104115e+10</td>\n",
       "      <td>3.748947e+07</td>\n",
       "    </tr>\n",
       "  </tbody>\n",
       "</table>\n",
       "<p>5 rows × 27 columns</p>\n",
       "</div>"
      ],
      "text/plain": [
       "                           BUSD burns  BUSD mints   BUSD supply     DAI burns  \\\n",
       "week                                                                            \n",
       "2025-09-01 00:00:00+00:00         0.0         0.0  5.502624e+07 -1.013288e+09   \n",
       "2025-08-25 00:00:00+00:00         0.0         0.0  5.502624e+07 -4.275120e+09   \n",
       "2025-08-18 00:00:00+00:00         0.0         0.0  5.502624e+07 -5.401021e+09   \n",
       "2025-08-11 00:00:00+00:00         0.0         0.0  5.502624e+07 -6.077834e+09   \n",
       "2025-08-04 00:00:00+00:00         0.0         0.0  5.502624e+07 -6.398433e+09   \n",
       "\n",
       "                              DAI mints    DAI supply    FRAX burns  \\\n",
       "week                                                                  \n",
       "2025-09-01 00:00:00+00:00  1.056715e+09  4.615325e+09  0.000000e+00   \n",
       "2025-08-25 00:00:00+00:00  4.488411e+09  4.571898e+09  0.000000e+00   \n",
       "2025-08-18 00:00:00+00:00  5.651767e+09  4.358607e+09 -4.119302e+04   \n",
       "2025-08-11 00:00:00+00:00  6.361997e+09  4.107861e+09 -1.664812e+06   \n",
       "2025-08-04 00:00:00+00:00  6.476942e+09  3.823699e+09  0.000000e+00   \n",
       "\n",
       "                           FRAX mints   FRAX supply     LUSD burns  ...  \\\n",
       "week                                                                ...   \n",
       "2025-09-01 00:00:00+00:00         0.0  2.969265e+08 -343830.032035  ...   \n",
       "2025-08-25 00:00:00+00:00         0.0  2.969265e+08 -479866.754522  ...   \n",
       "2025-08-18 00:00:00+00:00         0.0  2.969265e+08 -669031.325992  ...   \n",
       "2025-08-11 00:00:00+00:00         0.0  2.969677e+08 -620182.602544  ...   \n",
       "2025-08-04 00:00:00+00:00         0.0  2.986325e+08 -875676.476450  ...   \n",
       "\n",
       "                           RLUSD supply    USDC burns    USDC mints  \\\n",
       "week                                                                  \n",
       "2025-09-01 00:00:00+00:00  6.160455e+08 -6.622647e+08  7.016658e+08   \n",
       "2025-08-25 00:00:00+00:00  6.160455e+08 -3.130862e+09  6.217926e+09   \n",
       "2025-08-18 00:00:00+00:00  6.008379e+08 -3.956974e+09  2.929476e+09   \n",
       "2025-08-11 00:00:00+00:00  5.808381e+08 -3.850290e+09  6.418029e+09   \n",
       "2025-08-04 00:00:00+00:00  5.768381e+08 -2.840476e+09  3.408760e+09   \n",
       "\n",
       "                            USDC supply    USDS burns    USDS mints  \\\n",
       "week                                                                  \n",
       "2025-09-01 00:00:00+00:00  4.716230e+10 -3.644220e+08  4.723128e+08   \n",
       "2025-08-25 00:00:00+00:00  4.712290e+10 -2.862123e+09  2.923418e+09   \n",
       "2025-08-18 00:00:00+00:00  4.403584e+10 -3.293347e+09  2.968563e+09   \n",
       "2025-08-11 00:00:00+00:00  4.506333e+10 -4.841229e+09  4.518181e+09   \n",
       "2025-08-04 00:00:00+00:00  4.249560e+10 -2.568139e+09  2.896373e+09   \n",
       "\n",
       "                            USDS supply    sUSD burns    sUSD mints  \\\n",
       "week                                                                  \n",
       "2025-09-01 00:00:00+00:00  4.333692e+09  0.000000e+00  1.132499e+06   \n",
       "2025-08-25 00:00:00+00:00  4.225801e+09 -4.300000e+05  1.217965e+06   \n",
       "2025-08-18 00:00:00+00:00  4.164507e+09 -1.801582e+05  2.501694e+06   \n",
       "2025-08-11 00:00:00+00:00  4.489290e+09 -1.141180e+06  5.819456e+05   \n",
       "2025-08-04 00:00:00+00:00  4.812337e+09 -2.104048e+10  2.104115e+10   \n",
       "\n",
       "                            sUSD supply  \n",
       "week                                     \n",
       "2025-09-01 00:00:00+00:00  4.117224e+07  \n",
       "2025-08-25 00:00:00+00:00  4.003974e+07  \n",
       "2025-08-18 00:00:00+00:00  3.925177e+07  \n",
       "2025-08-11 00:00:00+00:00  3.693024e+07  \n",
       "2025-08-04 00:00:00+00:00  3.748947e+07  \n",
       "\n",
       "[5 rows x 27 columns]"
      ]
     },
     "execution_count": 27,
     "metadata": {},
     "output_type": "execute_result"
    }
   ],
   "source": [
    "df['week'] = pd.to_datetime(df['week'])\n",
    "df_week = df.set_index('week')\n",
    "\n",
    "\n",
    "df_week.head()"
   ]
  },
  {
   "cell_type": "code",
   "execution_count": 28,
   "id": "2df81890",
   "metadata": {},
   "outputs": [
    {
     "data": {
      "text/html": [
       "<div>\n",
       "<style scoped>\n",
       "    .dataframe tbody tr th:only-of-type {\n",
       "        vertical-align: middle;\n",
       "    }\n",
       "\n",
       "    .dataframe tbody tr th {\n",
       "        vertical-align: top;\n",
       "    }\n",
       "\n",
       "    .dataframe thead th {\n",
       "        text-align: right;\n",
       "    }\n",
       "</style>\n",
       "<table border=\"1\" class=\"dataframe\">\n",
       "  <thead>\n",
       "    <tr style=\"text-align: right;\">\n",
       "      <th></th>\n",
       "      <th>week</th>\n",
       "      <th>USDC supply</th>\n",
       "      <th>DAI supply</th>\n",
       "      <th>LUSD supply</th>\n",
       "      <th>sUSD supply</th>\n",
       "      <th>PYUSD supply</th>\n",
       "      <th>RLUSD supply</th>\n",
       "      <th>USDS supply</th>\n",
       "      <th>BUSD supply</th>\n",
       "      <th>FRAX supply</th>\n",
       "    </tr>\n",
       "  </thead>\n",
       "  <tbody>\n",
       "    <tr>\n",
       "      <th>0</th>\n",
       "      <td>2025-09-01 00:00:00+00:00</td>\n",
       "      <td>4.716230e+10</td>\n",
       "      <td>4.615325e+09</td>\n",
       "      <td>3.812353e+07</td>\n",
       "      <td>4.117224e+07</td>\n",
       "      <td>9.280198e+08</td>\n",
       "      <td>6.160455e+08</td>\n",
       "      <td>4.333692e+09</td>\n",
       "      <td>5.502624e+07</td>\n",
       "      <td>2.969265e+08</td>\n",
       "    </tr>\n",
       "    <tr>\n",
       "      <th>1</th>\n",
       "      <td>2025-08-25 00:00:00+00:00</td>\n",
       "      <td>4.712290e+10</td>\n",
       "      <td>4.571898e+09</td>\n",
       "      <td>3.841403e+07</td>\n",
       "      <td>4.003974e+07</td>\n",
       "      <td>9.224333e+08</td>\n",
       "      <td>6.160455e+08</td>\n",
       "      <td>4.225801e+09</td>\n",
       "      <td>5.502624e+07</td>\n",
       "      <td>2.969265e+08</td>\n",
       "    </tr>\n",
       "    <tr>\n",
       "      <th>2</th>\n",
       "      <td>2025-08-18 00:00:00+00:00</td>\n",
       "      <td>4.403584e+10</td>\n",
       "      <td>4.358607e+09</td>\n",
       "      <td>3.865370e+07</td>\n",
       "      <td>3.925177e+07</td>\n",
       "      <td>9.314137e+08</td>\n",
       "      <td>6.008379e+08</td>\n",
       "      <td>4.164507e+09</td>\n",
       "      <td>5.502624e+07</td>\n",
       "      <td>2.969265e+08</td>\n",
       "    </tr>\n",
       "    <tr>\n",
       "      <th>3</th>\n",
       "      <td>2025-08-11 00:00:00+00:00</td>\n",
       "      <td>4.506333e+10</td>\n",
       "      <td>4.107861e+09</td>\n",
       "      <td>3.928036e+07</td>\n",
       "      <td>3.693024e+07</td>\n",
       "      <td>9.280479e+08</td>\n",
       "      <td>5.808381e+08</td>\n",
       "      <td>4.489290e+09</td>\n",
       "      <td>5.502624e+07</td>\n",
       "      <td>2.969677e+08</td>\n",
       "    </tr>\n",
       "    <tr>\n",
       "      <th>4</th>\n",
       "      <td>2025-08-04 00:00:00+00:00</td>\n",
       "      <td>4.249560e+10</td>\n",
       "      <td>3.823699e+09</td>\n",
       "      <td>3.963112e+07</td>\n",
       "      <td>3.748947e+07</td>\n",
       "      <td>7.883588e+08</td>\n",
       "      <td>5.768381e+08</td>\n",
       "      <td>4.812337e+09</td>\n",
       "      <td>5.502624e+07</td>\n",
       "      <td>2.986325e+08</td>\n",
       "    </tr>\n",
       "  </tbody>\n",
       "</table>\n",
       "</div>"
      ],
      "text/plain": [
       "                       week   USDC supply    DAI supply   LUSD supply  \\\n",
       "0 2025-09-01 00:00:00+00:00  4.716230e+10  4.615325e+09  3.812353e+07   \n",
       "1 2025-08-25 00:00:00+00:00  4.712290e+10  4.571898e+09  3.841403e+07   \n",
       "2 2025-08-18 00:00:00+00:00  4.403584e+10  4.358607e+09  3.865370e+07   \n",
       "3 2025-08-11 00:00:00+00:00  4.506333e+10  4.107861e+09  3.928036e+07   \n",
       "4 2025-08-04 00:00:00+00:00  4.249560e+10  3.823699e+09  3.963112e+07   \n",
       "\n",
       "    sUSD supply  PYUSD supply  RLUSD supply   USDS supply   BUSD supply  \\\n",
       "0  4.117224e+07  9.280198e+08  6.160455e+08  4.333692e+09  5.502624e+07   \n",
       "1  4.003974e+07  9.224333e+08  6.160455e+08  4.225801e+09  5.502624e+07   \n",
       "2  3.925177e+07  9.314137e+08  6.008379e+08  4.164507e+09  5.502624e+07   \n",
       "3  3.693024e+07  9.280479e+08  5.808381e+08  4.489290e+09  5.502624e+07   \n",
       "4  3.748947e+07  7.883588e+08  5.768381e+08  4.812337e+09  5.502624e+07   \n",
       "\n",
       "    FRAX supply  \n",
       "0  2.969265e+08  \n",
       "1  2.969265e+08  \n",
       "2  2.969265e+08  \n",
       "3  2.969677e+08  \n",
       "4  2.986325e+08  "
      ]
     },
     "execution_count": 28,
     "metadata": {},
     "output_type": "execute_result"
    }
   ],
   "source": [
    "supply_df = df[['week', 'USDC supply', 'DAI supply', 'LUSD supply', 'sUSD supply', 'PYUSD supply', 'RLUSD supply', 'USDS supply', 'BUSD supply', 'FRAX supply']]\n",
    "\n",
    "supply_df.head()"
   ]
  },
  {
   "cell_type": "code",
   "execution_count": 31,
   "id": "0f16ed9c",
   "metadata": {},
   "outputs": [
    {
     "data": {
      "text/plain": [
       "week            2025-09-01 00:00:00+00:00\n",
       "USDC supply            47162302241.040794\n",
       "DAI supply              4615325447.125135\n",
       "LUSD supply               38123526.771699\n",
       "sUSD supply               41172237.589331\n",
       "PYUSD supply             928019833.041332\n",
       "RLUSD supply                 616045484.55\n",
       "USDS supply             4333691531.468174\n",
       "BUSD supply               55026240.205942\n",
       "FRAX supply              296926532.506829\n",
       "Name: 0, dtype: object"
      ]
     },
     "execution_count": 31,
     "metadata": {},
     "output_type": "execute_result"
    }
   ],
   "source": [
    "current_week_supply = supply_df.loc[0]\n",
    "\n",
    "current_week_supply"
   ]
  },
  {
   "cell_type": "code",
   "execution_count": 32,
   "id": "65f2239c",
   "metadata": {},
   "outputs": [
    {
     "data": {
      "text/plain": [
       "USDC supply     47162302241.040794\n",
       "DAI supply       4615325447.125135\n",
       "LUSD supply        38123526.771699\n",
       "sUSD supply        41172237.589331\n",
       "PYUSD supply      928019833.041332\n",
       "RLUSD supply          616045484.55\n",
       "USDS supply      4333691531.468174\n",
       "BUSD supply        55026240.205942\n",
       "FRAX supply       296926532.506829\n",
       "Name: 0, dtype: object"
      ]
     },
     "execution_count": 32,
     "metadata": {},
     "output_type": "execute_result"
    }
   ],
   "source": [
    "current_supply = current_week_supply[1:]\n",
    "\n",
    "current_supply"
   ]
  }
 ],
 "metadata": {
  "kernelspec": {
   "display_name": "venv",
   "language": "python",
   "name": "python3"
  },
  "language_info": {
   "codemirror_mode": {
    "name": "ipython",
    "version": 3
   },
   "file_extension": ".py",
   "mimetype": "text/x-python",
   "name": "python",
   "nbconvert_exporter": "python",
   "pygments_lexer": "ipython3",
   "version": "3.11.9"
  }
 },
 "nbformat": 4,
 "nbformat_minor": 5
}
